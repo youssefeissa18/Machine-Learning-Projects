{
 "cells": [
  {
   "cell_type": "markdown",
   "id": "d0029055",
   "metadata": {
    "papermill": {
     "duration": 0.014514,
     "end_time": "2024-03-11T20:43:48.869326",
     "exception": false,
     "start_time": "2024-03-11T20:43:48.854812",
     "status": "completed"
    },
    "tags": []
   },
   "source": [
    "# Iris Species Classification Using KNN"
   ]
  },
  {
   "cell_type": "markdown",
   "id": "6150d8a3",
   "metadata": {
    "papermill": {
     "duration": 0.013326,
     "end_time": "2024-03-11T20:43:48.896471",
     "exception": false,
     "start_time": "2024-03-11T20:43:48.883145",
     "status": "completed"
    },
    "tags": []
   },
   "source": [
    "import necessery library"
   ]
  },
  {
   "cell_type": "code",
   "execution_count": 1,
   "id": "1fce03d9",
   "metadata": {
    "execution": {
     "iopub.execute_input": "2024-03-11T20:43:48.925780Z",
     "iopub.status.busy": "2024-03-11T20:43:48.925038Z",
     "iopub.status.idle": "2024-03-11T20:43:51.143634Z",
     "shell.execute_reply": "2024-03-11T20:43:51.142604Z"
    },
    "papermill": {
     "duration": 2.236167,
     "end_time": "2024-03-11T20:43:51.146247",
     "exception": false,
     "start_time": "2024-03-11T20:43:48.910080",
     "status": "completed"
    },
    "tags": []
   },
   "outputs": [],
   "source": [
    "import numpy as np\n",
    "import pandas as pd\n",
    "import matplotlib.pyplot as plt\n",
    "import seaborn as sns"
   ]
  },
  {
   "cell_type": "markdown",
   "id": "62a8961f",
   "metadata": {
    "papermill": {
     "duration": 0.01471,
     "end_time": "2024-03-11T20:43:51.174855",
     "exception": false,
     "start_time": "2024-03-11T20:43:51.160145",
     "status": "completed"
    },
    "tags": []
   },
   "source": [
    "First load the data"
   ]
  },
  {
   "cell_type": "code",
   "execution_count": 2,
   "id": "443722d1",
   "metadata": {
    "execution": {
     "iopub.execute_input": "2024-03-11T20:43:51.204476Z",
     "iopub.status.busy": "2024-03-11T20:43:51.203649Z",
     "iopub.status.idle": "2024-03-11T20:43:51.226084Z",
     "shell.execute_reply": "2024-03-11T20:43:51.224875Z"
    },
    "papermill": {
     "duration": 0.040217,
     "end_time": "2024-03-11T20:43:51.228753",
     "exception": false,
     "start_time": "2024-03-11T20:43:51.188536",
     "status": "completed"
    },
    "tags": []
   },
   "outputs": [],
   "source": [
    "df = pd.read_csv('/kaggle/input/iris/Iris.csv')"
   ]
  },
  {
   "cell_type": "code",
   "execution_count": 3,
   "id": "0b6a42ef",
   "metadata": {
    "execution": {
     "iopub.execute_input": "2024-03-11T20:43:51.258091Z",
     "iopub.status.busy": "2024-03-11T20:43:51.257685Z",
     "iopub.status.idle": "2024-03-11T20:43:51.266099Z",
     "shell.execute_reply": "2024-03-11T20:43:51.264697Z"
    },
    "papermill": {
     "duration": 0.02593,
     "end_time": "2024-03-11T20:43:51.268441",
     "exception": false,
     "start_time": "2024-03-11T20:43:51.242511",
     "status": "completed"
    },
    "tags": []
   },
   "outputs": [
    {
     "data": {
      "text/plain": [
       "(150, 6)"
      ]
     },
     "execution_count": 3,
     "metadata": {},
     "output_type": "execute_result"
    }
   ],
   "source": [
    "df.shape"
   ]
  },
  {
   "cell_type": "code",
   "execution_count": 4,
   "id": "c1269fee",
   "metadata": {
    "execution": {
     "iopub.execute_input": "2024-03-11T20:43:51.297815Z",
     "iopub.status.busy": "2024-03-11T20:43:51.297403Z",
     "iopub.status.idle": "2024-03-11T20:43:51.319041Z",
     "shell.execute_reply": "2024-03-11T20:43:51.317920Z"
    },
    "papermill": {
     "duration": 0.03898,
     "end_time": "2024-03-11T20:43:51.321334",
     "exception": false,
     "start_time": "2024-03-11T20:43:51.282354",
     "status": "completed"
    },
    "tags": []
   },
   "outputs": [
    {
     "data": {
      "text/html": [
       "<div>\n",
       "<style scoped>\n",
       "    .dataframe tbody tr th:only-of-type {\n",
       "        vertical-align: middle;\n",
       "    }\n",
       "\n",
       "    .dataframe tbody tr th {\n",
       "        vertical-align: top;\n",
       "    }\n",
       "\n",
       "    .dataframe thead th {\n",
       "        text-align: right;\n",
       "    }\n",
       "</style>\n",
       "<table border=\"1\" class=\"dataframe\">\n",
       "  <thead>\n",
       "    <tr style=\"text-align: right;\">\n",
       "      <th></th>\n",
       "      <th>Id</th>\n",
       "      <th>SepalLengthCm</th>\n",
       "      <th>SepalWidthCm</th>\n",
       "      <th>PetalLengthCm</th>\n",
       "      <th>PetalWidthCm</th>\n",
       "      <th>Species</th>\n",
       "    </tr>\n",
       "  </thead>\n",
       "  <tbody>\n",
       "    <tr>\n",
       "      <th>0</th>\n",
       "      <td>1</td>\n",
       "      <td>5.1</td>\n",
       "      <td>3.5</td>\n",
       "      <td>1.4</td>\n",
       "      <td>0.2</td>\n",
       "      <td>Iris-setosa</td>\n",
       "    </tr>\n",
       "    <tr>\n",
       "      <th>1</th>\n",
       "      <td>2</td>\n",
       "      <td>4.9</td>\n",
       "      <td>3.0</td>\n",
       "      <td>1.4</td>\n",
       "      <td>0.2</td>\n",
       "      <td>Iris-setosa</td>\n",
       "    </tr>\n",
       "    <tr>\n",
       "      <th>2</th>\n",
       "      <td>3</td>\n",
       "      <td>4.7</td>\n",
       "      <td>3.2</td>\n",
       "      <td>1.3</td>\n",
       "      <td>0.2</td>\n",
       "      <td>Iris-setosa</td>\n",
       "    </tr>\n",
       "    <tr>\n",
       "      <th>3</th>\n",
       "      <td>4</td>\n",
       "      <td>4.6</td>\n",
       "      <td>3.1</td>\n",
       "      <td>1.5</td>\n",
       "      <td>0.2</td>\n",
       "      <td>Iris-setosa</td>\n",
       "    </tr>\n",
       "    <tr>\n",
       "      <th>4</th>\n",
       "      <td>5</td>\n",
       "      <td>5.0</td>\n",
       "      <td>3.6</td>\n",
       "      <td>1.4</td>\n",
       "      <td>0.2</td>\n",
       "      <td>Iris-setosa</td>\n",
       "    </tr>\n",
       "  </tbody>\n",
       "</table>\n",
       "</div>"
      ],
      "text/plain": [
       "   Id  SepalLengthCm  SepalWidthCm  PetalLengthCm  PetalWidthCm      Species\n",
       "0   1            5.1           3.5            1.4           0.2  Iris-setosa\n",
       "1   2            4.9           3.0            1.4           0.2  Iris-setosa\n",
       "2   3            4.7           3.2            1.3           0.2  Iris-setosa\n",
       "3   4            4.6           3.1            1.5           0.2  Iris-setosa\n",
       "4   5            5.0           3.6            1.4           0.2  Iris-setosa"
      ]
     },
     "execution_count": 4,
     "metadata": {},
     "output_type": "execute_result"
    }
   ],
   "source": [
    "df.head()"
   ]
  },
  {
   "cell_type": "code",
   "execution_count": 5,
   "id": "174bb43b",
   "metadata": {
    "execution": {
     "iopub.execute_input": "2024-03-11T20:43:51.351217Z",
     "iopub.status.busy": "2024-03-11T20:43:51.350793Z",
     "iopub.status.idle": "2024-03-11T20:43:51.365927Z",
     "shell.execute_reply": "2024-03-11T20:43:51.365137Z"
    },
    "papermill": {
     "duration": 0.03257,
     "end_time": "2024-03-11T20:43:51.368063",
     "exception": false,
     "start_time": "2024-03-11T20:43:51.335493",
     "status": "completed"
    },
    "tags": []
   },
   "outputs": [
    {
     "data": {
      "text/html": [
       "<div>\n",
       "<style scoped>\n",
       "    .dataframe tbody tr th:only-of-type {\n",
       "        vertical-align: middle;\n",
       "    }\n",
       "\n",
       "    .dataframe tbody tr th {\n",
       "        vertical-align: top;\n",
       "    }\n",
       "\n",
       "    .dataframe thead th {\n",
       "        text-align: right;\n",
       "    }\n",
       "</style>\n",
       "<table border=\"1\" class=\"dataframe\">\n",
       "  <thead>\n",
       "    <tr style=\"text-align: right;\">\n",
       "      <th></th>\n",
       "      <th>Id</th>\n",
       "      <th>SepalLengthCm</th>\n",
       "      <th>SepalWidthCm</th>\n",
       "      <th>PetalLengthCm</th>\n",
       "      <th>PetalWidthCm</th>\n",
       "      <th>Species</th>\n",
       "    </tr>\n",
       "  </thead>\n",
       "  <tbody>\n",
       "    <tr>\n",
       "      <th>145</th>\n",
       "      <td>146</td>\n",
       "      <td>6.7</td>\n",
       "      <td>3.0</td>\n",
       "      <td>5.2</td>\n",
       "      <td>2.3</td>\n",
       "      <td>Iris-virginica</td>\n",
       "    </tr>\n",
       "    <tr>\n",
       "      <th>146</th>\n",
       "      <td>147</td>\n",
       "      <td>6.3</td>\n",
       "      <td>2.5</td>\n",
       "      <td>5.0</td>\n",
       "      <td>1.9</td>\n",
       "      <td>Iris-virginica</td>\n",
       "    </tr>\n",
       "    <tr>\n",
       "      <th>147</th>\n",
       "      <td>148</td>\n",
       "      <td>6.5</td>\n",
       "      <td>3.0</td>\n",
       "      <td>5.2</td>\n",
       "      <td>2.0</td>\n",
       "      <td>Iris-virginica</td>\n",
       "    </tr>\n",
       "    <tr>\n",
       "      <th>148</th>\n",
       "      <td>149</td>\n",
       "      <td>6.2</td>\n",
       "      <td>3.4</td>\n",
       "      <td>5.4</td>\n",
       "      <td>2.3</td>\n",
       "      <td>Iris-virginica</td>\n",
       "    </tr>\n",
       "    <tr>\n",
       "      <th>149</th>\n",
       "      <td>150</td>\n",
       "      <td>5.9</td>\n",
       "      <td>3.0</td>\n",
       "      <td>5.1</td>\n",
       "      <td>1.8</td>\n",
       "      <td>Iris-virginica</td>\n",
       "    </tr>\n",
       "  </tbody>\n",
       "</table>\n",
       "</div>"
      ],
      "text/plain": [
       "      Id  SepalLengthCm  SepalWidthCm  PetalLengthCm  PetalWidthCm  \\\n",
       "145  146            6.7           3.0            5.2           2.3   \n",
       "146  147            6.3           2.5            5.0           1.9   \n",
       "147  148            6.5           3.0            5.2           2.0   \n",
       "148  149            6.2           3.4            5.4           2.3   \n",
       "149  150            5.9           3.0            5.1           1.8   \n",
       "\n",
       "            Species  \n",
       "145  Iris-virginica  \n",
       "146  Iris-virginica  \n",
       "147  Iris-virginica  \n",
       "148  Iris-virginica  \n",
       "149  Iris-virginica  "
      ]
     },
     "execution_count": 5,
     "metadata": {},
     "output_type": "execute_result"
    }
   ],
   "source": [
    "df.tail()"
   ]
  },
  {
   "cell_type": "markdown",
   "id": "f1cdf59f",
   "metadata": {
    "papermill": {
     "duration": 0.014365,
     "end_time": "2024-03-11T20:43:51.396904",
     "exception": false,
     "start_time": "2024-03-11T20:43:51.382539",
     "status": "completed"
    },
    "tags": []
   },
   "source": [
    "# Preprocessing the Data"
   ]
  },
  {
   "cell_type": "code",
   "execution_count": 6,
   "id": "3a4bb644",
   "metadata": {
    "execution": {
     "iopub.execute_input": "2024-03-11T20:43:51.427512Z",
     "iopub.status.busy": "2024-03-11T20:43:51.427145Z",
     "iopub.status.idle": "2024-03-11T20:43:51.456815Z",
     "shell.execute_reply": "2024-03-11T20:43:51.454871Z"
    },
    "papermill": {
     "duration": 0.047992,
     "end_time": "2024-03-11T20:43:51.459319",
     "exception": false,
     "start_time": "2024-03-11T20:43:51.411327",
     "status": "completed"
    },
    "tags": []
   },
   "outputs": [
    {
     "name": "stdout",
     "output_type": "stream",
     "text": [
      "<class 'pandas.core.frame.DataFrame'>\n",
      "RangeIndex: 150 entries, 0 to 149\n",
      "Data columns (total 6 columns):\n",
      " #   Column         Non-Null Count  Dtype  \n",
      "---  ------         --------------  -----  \n",
      " 0   Id             150 non-null    int64  \n",
      " 1   SepalLengthCm  150 non-null    float64\n",
      " 2   SepalWidthCm   150 non-null    float64\n",
      " 3   PetalLengthCm  150 non-null    float64\n",
      " 4   PetalWidthCm   150 non-null    float64\n",
      " 5   Species        150 non-null    object \n",
      "dtypes: float64(4), int64(1), object(1)\n",
      "memory usage: 7.2+ KB\n"
     ]
    }
   ],
   "source": [
    "df.info()"
   ]
  },
  {
   "cell_type": "code",
   "execution_count": 7,
   "id": "a93219ed",
   "metadata": {
    "execution": {
     "iopub.execute_input": "2024-03-11T20:43:51.492938Z",
     "iopub.status.busy": "2024-03-11T20:43:51.492584Z",
     "iopub.status.idle": "2024-03-11T20:43:51.501756Z",
     "shell.execute_reply": "2024-03-11T20:43:51.500517Z"
    },
    "papermill": {
     "duration": 0.028554,
     "end_time": "2024-03-11T20:43:51.504263",
     "exception": false,
     "start_time": "2024-03-11T20:43:51.475709",
     "status": "completed"
    },
    "tags": []
   },
   "outputs": [
    {
     "data": {
      "text/plain": [
       "Id               0\n",
       "SepalLengthCm    0\n",
       "SepalWidthCm     0\n",
       "PetalLengthCm    0\n",
       "PetalWidthCm     0\n",
       "Species          0\n",
       "dtype: int64"
      ]
     },
     "execution_count": 7,
     "metadata": {},
     "output_type": "execute_result"
    }
   ],
   "source": [
    "df.isna().sum()"
   ]
  },
  {
   "cell_type": "code",
   "execution_count": 8,
   "id": "32104c0c",
   "metadata": {
    "execution": {
     "iopub.execute_input": "2024-03-11T20:43:51.535231Z",
     "iopub.status.busy": "2024-03-11T20:43:51.534845Z",
     "iopub.status.idle": "2024-03-11T20:43:51.543100Z",
     "shell.execute_reply": "2024-03-11T20:43:51.542001Z"
    },
    "papermill": {
     "duration": 0.026613,
     "end_time": "2024-03-11T20:43:51.545650",
     "exception": false,
     "start_time": "2024-03-11T20:43:51.519037",
     "status": "completed"
    },
    "tags": []
   },
   "outputs": [
    {
     "data": {
      "text/plain": [
       "0"
      ]
     },
     "execution_count": 8,
     "metadata": {},
     "output_type": "execute_result"
    }
   ],
   "source": [
    "df.duplicated().sum()"
   ]
  },
  {
   "cell_type": "code",
   "execution_count": 9,
   "id": "e7f3d1fa",
   "metadata": {
    "execution": {
     "iopub.execute_input": "2024-03-11T20:43:51.577407Z",
     "iopub.status.busy": "2024-03-11T20:43:51.576998Z",
     "iopub.status.idle": "2024-03-11T20:43:51.606913Z",
     "shell.execute_reply": "2024-03-11T20:43:51.605614Z"
    },
    "papermill": {
     "duration": 0.048777,
     "end_time": "2024-03-11T20:43:51.609484",
     "exception": false,
     "start_time": "2024-03-11T20:43:51.560707",
     "status": "completed"
    },
    "tags": []
   },
   "outputs": [
    {
     "data": {
      "text/html": [
       "<div>\n",
       "<style scoped>\n",
       "    .dataframe tbody tr th:only-of-type {\n",
       "        vertical-align: middle;\n",
       "    }\n",
       "\n",
       "    .dataframe tbody tr th {\n",
       "        vertical-align: top;\n",
       "    }\n",
       "\n",
       "    .dataframe thead th {\n",
       "        text-align: right;\n",
       "    }\n",
       "</style>\n",
       "<table border=\"1\" class=\"dataframe\">\n",
       "  <thead>\n",
       "    <tr style=\"text-align: right;\">\n",
       "      <th></th>\n",
       "      <th>Id</th>\n",
       "      <th>SepalLengthCm</th>\n",
       "      <th>SepalWidthCm</th>\n",
       "      <th>PetalLengthCm</th>\n",
       "      <th>PetalWidthCm</th>\n",
       "    </tr>\n",
       "  </thead>\n",
       "  <tbody>\n",
       "    <tr>\n",
       "      <th>count</th>\n",
       "      <td>150.000000</td>\n",
       "      <td>150.000000</td>\n",
       "      <td>150.000000</td>\n",
       "      <td>150.000000</td>\n",
       "      <td>150.000000</td>\n",
       "    </tr>\n",
       "    <tr>\n",
       "      <th>mean</th>\n",
       "      <td>75.500000</td>\n",
       "      <td>5.843333</td>\n",
       "      <td>3.054000</td>\n",
       "      <td>3.758667</td>\n",
       "      <td>1.198667</td>\n",
       "    </tr>\n",
       "    <tr>\n",
       "      <th>std</th>\n",
       "      <td>43.445368</td>\n",
       "      <td>0.828066</td>\n",
       "      <td>0.433594</td>\n",
       "      <td>1.764420</td>\n",
       "      <td>0.763161</td>\n",
       "    </tr>\n",
       "    <tr>\n",
       "      <th>min</th>\n",
       "      <td>1.000000</td>\n",
       "      <td>4.300000</td>\n",
       "      <td>2.000000</td>\n",
       "      <td>1.000000</td>\n",
       "      <td>0.100000</td>\n",
       "    </tr>\n",
       "    <tr>\n",
       "      <th>25%</th>\n",
       "      <td>38.250000</td>\n",
       "      <td>5.100000</td>\n",
       "      <td>2.800000</td>\n",
       "      <td>1.600000</td>\n",
       "      <td>0.300000</td>\n",
       "    </tr>\n",
       "    <tr>\n",
       "      <th>50%</th>\n",
       "      <td>75.500000</td>\n",
       "      <td>5.800000</td>\n",
       "      <td>3.000000</td>\n",
       "      <td>4.350000</td>\n",
       "      <td>1.300000</td>\n",
       "    </tr>\n",
       "    <tr>\n",
       "      <th>75%</th>\n",
       "      <td>112.750000</td>\n",
       "      <td>6.400000</td>\n",
       "      <td>3.300000</td>\n",
       "      <td>5.100000</td>\n",
       "      <td>1.800000</td>\n",
       "    </tr>\n",
       "    <tr>\n",
       "      <th>max</th>\n",
       "      <td>150.000000</td>\n",
       "      <td>7.900000</td>\n",
       "      <td>4.400000</td>\n",
       "      <td>6.900000</td>\n",
       "      <td>2.500000</td>\n",
       "    </tr>\n",
       "  </tbody>\n",
       "</table>\n",
       "</div>"
      ],
      "text/plain": [
       "               Id  SepalLengthCm  SepalWidthCm  PetalLengthCm  PetalWidthCm\n",
       "count  150.000000     150.000000    150.000000     150.000000    150.000000\n",
       "mean    75.500000       5.843333      3.054000       3.758667      1.198667\n",
       "std     43.445368       0.828066      0.433594       1.764420      0.763161\n",
       "min      1.000000       4.300000      2.000000       1.000000      0.100000\n",
       "25%     38.250000       5.100000      2.800000       1.600000      0.300000\n",
       "50%     75.500000       5.800000      3.000000       4.350000      1.300000\n",
       "75%    112.750000       6.400000      3.300000       5.100000      1.800000\n",
       "max    150.000000       7.900000      4.400000       6.900000      2.500000"
      ]
     },
     "execution_count": 9,
     "metadata": {},
     "output_type": "execute_result"
    }
   ],
   "source": [
    "df.describe()"
   ]
  },
  {
   "cell_type": "markdown",
   "id": "4f15050f",
   "metadata": {
    "papermill": {
     "duration": 0.014921,
     "end_time": "2024-03-11T20:43:51.639578",
     "exception": false,
     "start_time": "2024-03-11T20:43:51.624657",
     "status": "completed"
    },
    "tags": []
   },
   "source": [
    "when decribe the data we found the big differnce between min and max and mean and this cause outlier"
   ]
  },
  {
   "cell_type": "markdown",
   "id": "ece77684",
   "metadata": {
    "papermill": {
     "duration": 0.014884,
     "end_time": "2024-03-11T20:43:51.669672",
     "exception": false,
     "start_time": "2024-03-11T20:43:51.654788",
     "status": "completed"
    },
    "tags": []
   },
   "source": [
    "# Cleaninig the Data"
   ]
  },
  {
   "cell_type": "code",
   "execution_count": 10,
   "id": "5fe5260f",
   "metadata": {
    "execution": {
     "iopub.execute_input": "2024-03-11T20:43:51.702328Z",
     "iopub.status.busy": "2024-03-11T20:43:51.701901Z",
     "iopub.status.idle": "2024-03-11T20:43:51.709458Z",
     "shell.execute_reply": "2024-03-11T20:43:51.708188Z"
    },
    "papermill": {
     "duration": 0.026852,
     "end_time": "2024-03-11T20:43:51.711740",
     "exception": false,
     "start_time": "2024-03-11T20:43:51.684888",
     "status": "completed"
    },
    "tags": []
   },
   "outputs": [
    {
     "data": {
      "text/plain": [
       "Index(['Id', 'SepalLengthCm', 'SepalWidthCm', 'PetalLengthCm', 'PetalWidthCm',\n",
       "       'Species'],\n",
       "      dtype='object')"
      ]
     },
     "execution_count": 10,
     "metadata": {},
     "output_type": "execute_result"
    }
   ],
   "source": [
    "df.columns"
   ]
  },
  {
   "cell_type": "code",
   "execution_count": 11,
   "id": "1f82c8c1",
   "metadata": {
    "execution": {
     "iopub.execute_input": "2024-03-11T20:43:51.743834Z",
     "iopub.status.busy": "2024-03-11T20:43:51.743453Z",
     "iopub.status.idle": "2024-03-11T20:43:51.751808Z",
     "shell.execute_reply": "2024-03-11T20:43:51.750613Z"
    },
    "papermill": {
     "duration": 0.027459,
     "end_time": "2024-03-11T20:43:51.754415",
     "exception": false,
     "start_time": "2024-03-11T20:43:51.726956",
     "status": "completed"
    },
    "tags": []
   },
   "outputs": [],
   "source": [
    "df.drop(columns='Id',axis=1,inplace=True)"
   ]
  },
  {
   "cell_type": "markdown",
   "id": "8220c0d0",
   "metadata": {
    "papermill": {
     "duration": 0.015102,
     "end_time": "2024-03-11T20:43:51.784887",
     "exception": false,
     "start_time": "2024-03-11T20:43:51.769785",
     "status": "completed"
    },
    "tags": []
   },
   "source": [
    "Drop column Id becouse i don't use it"
   ]
  },
  {
   "cell_type": "code",
   "execution_count": 12,
   "id": "9df0369c",
   "metadata": {
    "execution": {
     "iopub.execute_input": "2024-03-11T20:43:51.817539Z",
     "iopub.status.busy": "2024-03-11T20:43:51.817129Z",
     "iopub.status.idle": "2024-03-11T20:43:51.831952Z",
     "shell.execute_reply": "2024-03-11T20:43:51.830832Z"
    },
    "papermill": {
     "duration": 0.033928,
     "end_time": "2024-03-11T20:43:51.834320",
     "exception": false,
     "start_time": "2024-03-11T20:43:51.800392",
     "status": "completed"
    },
    "tags": []
   },
   "outputs": [
    {
     "data": {
      "text/html": [
       "<div>\n",
       "<style scoped>\n",
       "    .dataframe tbody tr th:only-of-type {\n",
       "        vertical-align: middle;\n",
       "    }\n",
       "\n",
       "    .dataframe tbody tr th {\n",
       "        vertical-align: top;\n",
       "    }\n",
       "\n",
       "    .dataframe thead th {\n",
       "        text-align: right;\n",
       "    }\n",
       "</style>\n",
       "<table border=\"1\" class=\"dataframe\">\n",
       "  <thead>\n",
       "    <tr style=\"text-align: right;\">\n",
       "      <th></th>\n",
       "      <th>SepalLengthCm</th>\n",
       "      <th>SepalWidthCm</th>\n",
       "      <th>PetalLengthCm</th>\n",
       "      <th>PetalWidthCm</th>\n",
       "      <th>Species</th>\n",
       "    </tr>\n",
       "  </thead>\n",
       "  <tbody>\n",
       "    <tr>\n",
       "      <th>0</th>\n",
       "      <td>5.1</td>\n",
       "      <td>3.5</td>\n",
       "      <td>1.4</td>\n",
       "      <td>0.2</td>\n",
       "      <td>Iris-setosa</td>\n",
       "    </tr>\n",
       "    <tr>\n",
       "      <th>1</th>\n",
       "      <td>4.9</td>\n",
       "      <td>3.0</td>\n",
       "      <td>1.4</td>\n",
       "      <td>0.2</td>\n",
       "      <td>Iris-setosa</td>\n",
       "    </tr>\n",
       "    <tr>\n",
       "      <th>2</th>\n",
       "      <td>4.7</td>\n",
       "      <td>3.2</td>\n",
       "      <td>1.3</td>\n",
       "      <td>0.2</td>\n",
       "      <td>Iris-setosa</td>\n",
       "    </tr>\n",
       "    <tr>\n",
       "      <th>3</th>\n",
       "      <td>4.6</td>\n",
       "      <td>3.1</td>\n",
       "      <td>1.5</td>\n",
       "      <td>0.2</td>\n",
       "      <td>Iris-setosa</td>\n",
       "    </tr>\n",
       "    <tr>\n",
       "      <th>4</th>\n",
       "      <td>5.0</td>\n",
       "      <td>3.6</td>\n",
       "      <td>1.4</td>\n",
       "      <td>0.2</td>\n",
       "      <td>Iris-setosa</td>\n",
       "    </tr>\n",
       "  </tbody>\n",
       "</table>\n",
       "</div>"
      ],
      "text/plain": [
       "   SepalLengthCm  SepalWidthCm  PetalLengthCm  PetalWidthCm      Species\n",
       "0            5.1           3.5            1.4           0.2  Iris-setosa\n",
       "1            4.9           3.0            1.4           0.2  Iris-setosa\n",
       "2            4.7           3.2            1.3           0.2  Iris-setosa\n",
       "3            4.6           3.1            1.5           0.2  Iris-setosa\n",
       "4            5.0           3.6            1.4           0.2  Iris-setosa"
      ]
     },
     "execution_count": 12,
     "metadata": {},
     "output_type": "execute_result"
    }
   ],
   "source": [
    "df.head()"
   ]
  },
  {
   "cell_type": "markdown",
   "id": "bf0722ad",
   "metadata": {
    "papermill": {
     "duration": 0.015449,
     "end_time": "2024-03-11T20:43:51.865686",
     "exception": false,
     "start_time": "2024-03-11T20:43:51.850237",
     "status": "completed"
    },
    "tags": []
   },
   "source": [
    "# Visualization"
   ]
  },
  {
   "cell_type": "code",
   "execution_count": 13,
   "id": "0f817123",
   "metadata": {
    "execution": {
     "iopub.execute_input": "2024-03-11T20:43:51.898918Z",
     "iopub.status.busy": "2024-03-11T20:43:51.897867Z",
     "iopub.status.idle": "2024-03-11T20:43:51.909866Z",
     "shell.execute_reply": "2024-03-11T20:43:51.908745Z"
    },
    "papermill": {
     "duration": 0.031086,
     "end_time": "2024-03-11T20:43:51.912230",
     "exception": false,
     "start_time": "2024-03-11T20:43:51.881144",
     "status": "completed"
    },
    "tags": []
   },
   "outputs": [
    {
     "data": {
      "text/html": [
       "<div>\n",
       "<style scoped>\n",
       "    .dataframe tbody tr th:only-of-type {\n",
       "        vertical-align: middle;\n",
       "    }\n",
       "\n",
       "    .dataframe tbody tr th {\n",
       "        vertical-align: top;\n",
       "    }\n",
       "\n",
       "    .dataframe thead th {\n",
       "        text-align: right;\n",
       "    }\n",
       "</style>\n",
       "<table border=\"1\" class=\"dataframe\">\n",
       "  <thead>\n",
       "    <tr style=\"text-align: right;\">\n",
       "      <th></th>\n",
       "      <th>Species</th>\n",
       "      <th>count</th>\n",
       "    </tr>\n",
       "  </thead>\n",
       "  <tbody>\n",
       "    <tr>\n",
       "      <th>0</th>\n",
       "      <td>Iris-setosa</td>\n",
       "      <td>50</td>\n",
       "    </tr>\n",
       "    <tr>\n",
       "      <th>1</th>\n",
       "      <td>Iris-versicolor</td>\n",
       "      <td>50</td>\n",
       "    </tr>\n",
       "    <tr>\n",
       "      <th>2</th>\n",
       "      <td>Iris-virginica</td>\n",
       "      <td>50</td>\n",
       "    </tr>\n",
       "  </tbody>\n",
       "</table>\n",
       "</div>"
      ],
      "text/plain": [
       "           Species  count\n",
       "0      Iris-setosa     50\n",
       "1  Iris-versicolor     50\n",
       "2   Iris-virginica     50"
      ]
     },
     "execution_count": 13,
     "metadata": {},
     "output_type": "execute_result"
    }
   ],
   "source": [
    "Species = df['Species'].value_counts().reset_index()\n",
    "Species"
   ]
  },
  {
   "cell_type": "markdown",
   "id": "c1c43f81",
   "metadata": {
    "papermill": {
     "duration": 0.015413,
     "end_time": "2024-03-11T20:43:51.943448",
     "exception": false,
     "start_time": "2024-03-11T20:43:51.928035",
     "status": "completed"
    },
    "tags": []
   },
   "source": [
    "there is the 3 types are equal"
   ]
  },
  {
   "cell_type": "code",
   "execution_count": 14,
   "id": "a308bb8e",
   "metadata": {
    "execution": {
     "iopub.execute_input": "2024-03-11T20:43:51.977508Z",
     "iopub.status.busy": "2024-03-11T20:43:51.976548Z",
     "iopub.status.idle": "2024-03-11T20:43:52.200034Z",
     "shell.execute_reply": "2024-03-11T20:43:52.198414Z"
    },
    "papermill": {
     "duration": 0.24543,
     "end_time": "2024-03-11T20:43:52.204467",
     "exception": false,
     "start_time": "2024-03-11T20:43:51.959037",
     "status": "completed"
    },
    "tags": []
   },
   "outputs": [
    {
     "data": {
      "image/png": "[encoded data removed]",
      "text/plain": [
       "<Figure size 800x800 with 1 Axes>"
      ]
     },
     "metadata": {},
     "output_type": "display_data"
    }
   ],
   "source": [
    "plt.figure(figsize=(8,8))\n",
    "plt.pie(Species['count'],labels=['Iris-setosa','Iris-versicolor','Iris-virginica'],autopct='%1.3f%%',explode=[0,0,0])\n",
    "plt.legend(loc='upper left')\n",
    "plt.show()"
   ]
  },
  {
   "cell_type": "code",
   "execution_count": 15,
   "id": "cb35943e",
   "metadata": {
    "execution": {
     "iopub.execute_input": "2024-03-11T20:43:52.305398Z",
     "iopub.status.busy": "2024-03-11T20:43:52.304628Z",
     "iopub.status.idle": "2024-03-11T20:43:52.318924Z",
     "shell.execute_reply": "2024-03-11T20:43:52.317684Z"
    },
    "papermill": {
     "duration": 0.034647,
     "end_time": "2024-03-11T20:43:52.321499",
     "exception": false,
     "start_time": "2024-03-11T20:43:52.286852",
     "status": "completed"
    },
    "tags": []
   },
   "outputs": [
    {
     "data": {
      "text/html": [
       "<div>\n",
       "<style scoped>\n",
       "    .dataframe tbody tr th:only-of-type {\n",
       "        vertical-align: middle;\n",
       "    }\n",
       "\n",
       "    .dataframe tbody tr th {\n",
       "        vertical-align: top;\n",
       "    }\n",
       "\n",
       "    .dataframe thead th {\n",
       "        text-align: right;\n",
       "    }\n",
       "</style>\n",
       "<table border=\"1\" class=\"dataframe\">\n",
       "  <thead>\n",
       "    <tr style=\"text-align: right;\">\n",
       "      <th></th>\n",
       "      <th>SepalLengthCm</th>\n",
       "      <th>SepalWidthCm</th>\n",
       "      <th>PetalLengthCm</th>\n",
       "      <th>PetalWidthCm</th>\n",
       "      <th>Species</th>\n",
       "    </tr>\n",
       "  </thead>\n",
       "  <tbody>\n",
       "    <tr>\n",
       "      <th>0</th>\n",
       "      <td>5.1</td>\n",
       "      <td>3.5</td>\n",
       "      <td>1.4</td>\n",
       "      <td>0.2</td>\n",
       "      <td>Iris-setosa</td>\n",
       "    </tr>\n",
       "    <tr>\n",
       "      <th>1</th>\n",
       "      <td>4.9</td>\n",
       "      <td>3.0</td>\n",
       "      <td>1.4</td>\n",
       "      <td>0.2</td>\n",
       "      <td>Iris-setosa</td>\n",
       "    </tr>\n",
       "    <tr>\n",
       "      <th>2</th>\n",
       "      <td>4.7</td>\n",
       "      <td>3.2</td>\n",
       "      <td>1.3</td>\n",
       "      <td>0.2</td>\n",
       "      <td>Iris-setosa</td>\n",
       "    </tr>\n",
       "    <tr>\n",
       "      <th>3</th>\n",
       "      <td>4.6</td>\n",
       "      <td>3.1</td>\n",
       "      <td>1.5</td>\n",
       "      <td>0.2</td>\n",
       "      <td>Iris-setosa</td>\n",
       "    </tr>\n",
       "    <tr>\n",
       "      <th>4</th>\n",
       "      <td>5.0</td>\n",
       "      <td>3.6</td>\n",
       "      <td>1.4</td>\n",
       "      <td>0.2</td>\n",
       "      <td>Iris-setosa</td>\n",
       "    </tr>\n",
       "  </tbody>\n",
       "</table>\n",
       "</div>"
      ],
      "text/plain": [
       "   SepalLengthCm  SepalWidthCm  PetalLengthCm  PetalWidthCm      Species\n",
       "0            5.1           3.5            1.4           0.2  Iris-setosa\n",
       "1            4.9           3.0            1.4           0.2  Iris-setosa\n",
       "2            4.7           3.2            1.3           0.2  Iris-setosa\n",
       "3            4.6           3.1            1.5           0.2  Iris-setosa\n",
       "4            5.0           3.6            1.4           0.2  Iris-setosa"
      ]
     },
     "execution_count": 15,
     "metadata": {},
     "output_type": "execute_result"
    }
   ],
   "source": [
    "df.head()"
   ]
  },
  {
   "cell_type": "markdown",
   "id": "51b25db5",
   "metadata": {
    "papermill": {
     "duration": 0.01631,
     "end_time": "2024-03-11T20:43:52.354571",
     "exception": false,
     "start_time": "2024-03-11T20:43:52.338261",
     "status": "completed"
    },
    "tags": []
   },
   "source": [
    "relation between the SepalLengthCm and SepalWidthCm"
   ]
  },
  {
   "cell_type": "code",
   "execution_count": 16,
   "id": "5cbc38fa",
   "metadata": {
    "execution": {
     "iopub.execute_input": "2024-03-11T20:43:52.389633Z",
     "iopub.status.busy": "2024-03-11T20:43:52.389224Z",
     "iopub.status.idle": "2024-03-11T20:43:52.885994Z",
     "shell.execute_reply": "2024-03-11T20:43:52.884912Z"
    },
    "papermill": {
     "duration": 0.51743,
     "end_time": "2024-03-11T20:43:52.888720",
     "exception": false,
     "start_time": "2024-03-11T20:43:52.371290",
     "status": "completed"
    },
    "tags": []
   },
   "outputs": [
    {
     "data": {
      "image/png": "[encoded data removed]",
      "text/plain": [
       "<Figure size 640x480 with 1 Axes>"
      ]
     },
     "metadata": {},
     "output_type": "display_data"
    }
   ],
   "source": [
    "sns.scatterplot(x='SepalLengthCm', y='SepalWidthCm', data=df, hue='Species')\n",
    "plt.title('Sepal Width vs Sepal Length')\n",
    "plt.show()"
   ]
  },
  {
   "cell_type": "code",
   "execution_count": 17,
   "id": "4004f934",
   "metadata": {
    "execution": {
     "iopub.execute_input": "2024-03-11T20:43:52.925504Z",
     "iopub.status.busy": "2024-03-11T20:43:52.925135Z",
     "iopub.status.idle": "2024-03-11T20:43:53.938521Z",
     "shell.execute_reply": "2024-03-11T20:43:53.937318Z"
    },
    "papermill": {
     "duration": 1.035785,
     "end_time": "2024-03-11T20:43:53.942013",
     "exception": false,
     "start_time": "2024-03-11T20:43:52.906228",
     "status": "completed"
    },
    "tags": []
   },
   "outputs": [
    {
     "data": {
      "image/png": "[encoded data removed]",
      "text/plain": [
       "<Figure size 643x500 with 1 Axes>"
      ]
     },
     "metadata": {},
     "output_type": "display_data"
    }
   ],
   "source": [
    "sns.lmplot(\n",
    "    x=\"SepalLengthCm\",\n",
    "    y=\"SepalWidthCm\",\n",
    "    hue=\"Species\",\n",
    "    palette=\"bright\",\n",
    "    data=df\n",
    ")\n",
    "\n",
    "plt.title(\"Sepal Length VS Sepal Width\")\n",
    "plt.show()"
   ]
  },
  {
   "cell_type": "markdown",
   "id": "8d287754",
   "metadata": {
    "papermill": {
     "duration": 0.019561,
     "end_time": "2024-03-11T20:43:53.980528",
     "exception": false,
     "start_time": "2024-03-11T20:43:53.960967",
     "status": "completed"
    },
    "tags": []
   },
   "source": [
    "relation between the PetalLengthCm and PetalWidthCm"
   ]
  },
  {
   "cell_type": "code",
   "execution_count": 18,
   "id": "75e006fb",
   "metadata": {
    "execution": {
     "iopub.execute_input": "2024-03-11T20:43:54.020909Z",
     "iopub.status.busy": "2024-03-11T20:43:54.020527Z",
     "iopub.status.idle": "2024-03-11T20:43:54.418996Z",
     "shell.execute_reply": "2024-03-11T20:43:54.417753Z"
    },
    "papermill": {
     "duration": 0.422215,
     "end_time": "2024-03-11T20:43:54.421865",
     "exception": false,
     "start_time": "2024-03-11T20:43:53.999650",
     "status": "completed"
    },
    "tags": []
   },
   "outputs": [
    {
     "data": {
      "image/png": "[encoded data removed]",
      "text/plain": [
       "<Figure size 640x480 with 1 Axes>"
      ]
     },
     "metadata": {},
     "output_type": "display_data"
    }
   ],
   "source": [
    "sns.scatterplot(x='PetalLengthCm', y='PetalWidthCm', data=df, hue='Species')\n",
    "plt.title('Petal Width vs Petal Length')\n",
    "plt.show()"
   ]
  },
  {
   "cell_type": "code",
   "execution_count": 19,
   "id": "f0b589f4",
   "metadata": {
    "execution": {
     "iopub.execute_input": "2024-03-11T20:43:54.463097Z",
     "iopub.status.busy": "2024-03-11T20:43:54.461789Z",
     "iopub.status.idle": "2024-03-11T20:43:55.498397Z",
     "shell.execute_reply": "2024-03-11T20:43:55.497174Z"
    },
    "papermill": {
     "duration": 1.060028,
     "end_time": "2024-03-11T20:43:55.501251",
     "exception": false,
     "start_time": "2024-03-11T20:43:54.441223",
     "status": "completed"
    },
    "tags": []
   },
   "outputs": [
    {
     "data": {
      "image/png": "[encoded data removed]",
      "text/plain": [
       "<Figure size 643x500 with 1 Axes>"
      ]
     },
     "metadata": {},
     "output_type": "display_data"
    }
   ],
   "source": [
    "sns.lmplot(\n",
    "    x=\"PetalLengthCm\",\n",
    "    y=\"PetalWidthCm\",\n",
    "    hue=\"Species\",\n",
    "    palette=\"bright\",\n",
    "    data=df\n",
    ")\n",
    "\n",
    "plt.title(\"Petal Length VS Petal Width\")\n",
    "plt.show()"
   ]
  },
  {
   "cell_type": "code",
   "execution_count": 20,
   "id": "3f68a3d0",
   "metadata": {
    "execution": {
     "iopub.execute_input": "2024-03-11T20:43:55.554302Z",
     "iopub.status.busy": "2024-03-11T20:43:55.553037Z",
     "iopub.status.idle": "2024-03-11T20:43:55.560787Z",
     "shell.execute_reply": "2024-03-11T20:43:55.558963Z"
    },
    "papermill": {
     "duration": 0.037085,
     "end_time": "2024-03-11T20:43:55.564755",
     "exception": false,
     "start_time": "2024-03-11T20:43:55.527670",
     "status": "completed"
    },
    "tags": []
   },
   "outputs": [],
   "source": [
    "newdf = df.drop(columns='Species',axis=1)"
   ]
  },
  {
   "cell_type": "code",
   "execution_count": 21,
   "id": "afdf5eae",
   "metadata": {
    "execution": {
     "iopub.execute_input": "2024-03-11T20:43:55.608918Z",
     "iopub.status.busy": "2024-03-11T20:43:55.607868Z",
     "iopub.status.idle": "2024-03-11T20:43:55.622079Z",
     "shell.execute_reply": "2024-03-11T20:43:55.620980Z"
    },
    "papermill": {
     "duration": 0.038662,
     "end_time": "2024-03-11T20:43:55.624642",
     "exception": false,
     "start_time": "2024-03-11T20:43:55.585980",
     "status": "completed"
    },
    "tags": []
   },
   "outputs": [
    {
     "data": {
      "text/html": [
       "<div>\n",
       "<style scoped>\n",
       "    .dataframe tbody tr th:only-of-type {\n",
       "        vertical-align: middle;\n",
       "    }\n",
       "\n",
       "    .dataframe tbody tr th {\n",
       "        vertical-align: top;\n",
       "    }\n",
       "\n",
       "    .dataframe thead th {\n",
       "        text-align: right;\n",
       "    }\n",
       "</style>\n",
       "<table border=\"1\" class=\"dataframe\">\n",
       "  <thead>\n",
       "    <tr style=\"text-align: right;\">\n",
       "      <th></th>\n",
       "      <th>SepalLengthCm</th>\n",
       "      <th>SepalWidthCm</th>\n",
       "      <th>PetalLengthCm</th>\n",
       "      <th>PetalWidthCm</th>\n",
       "    </tr>\n",
       "  </thead>\n",
       "  <tbody>\n",
       "    <tr>\n",
       "      <th>SepalLengthCm</th>\n",
       "      <td>1.000000</td>\n",
       "      <td>-0.109369</td>\n",
       "      <td>0.871754</td>\n",
       "      <td>0.817954</td>\n",
       "    </tr>\n",
       "    <tr>\n",
       "      <th>SepalWidthCm</th>\n",
       "      <td>-0.109369</td>\n",
       "      <td>1.000000</td>\n",
       "      <td>-0.420516</td>\n",
       "      <td>-0.356544</td>\n",
       "    </tr>\n",
       "    <tr>\n",
       "      <th>PetalLengthCm</th>\n",
       "      <td>0.871754</td>\n",
       "      <td>-0.420516</td>\n",
       "      <td>1.000000</td>\n",
       "      <td>0.962757</td>\n",
       "    </tr>\n",
       "    <tr>\n",
       "      <th>PetalWidthCm</th>\n",
       "      <td>0.817954</td>\n",
       "      <td>-0.356544</td>\n",
       "      <td>0.962757</td>\n",
       "      <td>1.000000</td>\n",
       "    </tr>\n",
       "  </tbody>\n",
       "</table>\n",
       "</div>"
      ],
      "text/plain": [
       "               SepalLengthCm  SepalWidthCm  PetalLengthCm  PetalWidthCm\n",
       "SepalLengthCm       1.000000     -0.109369       0.871754      0.817954\n",
       "SepalWidthCm       -0.109369      1.000000      -0.420516     -0.356544\n",
       "PetalLengthCm       0.871754     -0.420516       1.000000      0.962757\n",
       "PetalWidthCm        0.817954     -0.356544       0.962757      1.000000"
      ]
     },
     "execution_count": 21,
     "metadata": {},
     "output_type": "execute_result"
    }
   ],
   "source": [
    "newdf.corr()"
   ]
  },
  {
   "cell_type": "code",
   "execution_count": 22,
   "id": "5205cd81",
   "metadata": {
    "execution": {
     "iopub.execute_input": "2024-03-11T20:43:55.668343Z",
     "iopub.status.busy": "2024-03-11T20:43:55.667361Z",
     "iopub.status.idle": "2024-03-11T20:43:56.093096Z",
     "shell.execute_reply": "2024-03-11T20:43:56.091935Z"
    },
    "papermill": {
     "duration": 0.45036,
     "end_time": "2024-03-11T20:43:56.095707",
     "exception": false,
     "start_time": "2024-03-11T20:43:55.645347",
     "status": "completed"
    },
    "tags": []
   },
   "outputs": [
    {
     "data": {
      "text/plain": [
       "<Axes: >"
      ]
     },
     "execution_count": 22,
     "metadata": {},
     "output_type": "execute_result"
    },
    {
     "data": {
      "image/png": "[encoded data removed]",
      "text/plain": [
       "<Figure size 640x480 with 2 Axes>"
      ]
     },
     "metadata": {},
     "output_type": "display_data"
    }
   ],
   "source": [
    "sns.heatmap(newdf.corr(), annot=True)"
   ]
  },
  {
   "cell_type": "markdown",
   "id": "702d4dc8",
   "metadata": {
    "papermill": {
     "duration": 0.020747,
     "end_time": "2024-03-11T20:43:56.137725",
     "exception": false,
     "start_time": "2024-03-11T20:43:56.116978",
     "status": "completed"
    },
    "tags": []
   },
   "source": [
    "# Train test split"
   ]
  },
  {
   "cell_type": "code",
   "execution_count": 23,
   "id": "081caea6",
   "metadata": {
    "execution": {
     "iopub.execute_input": "2024-03-11T20:43:56.183651Z",
     "iopub.status.busy": "2024-03-11T20:43:56.183279Z",
     "iopub.status.idle": "2024-03-11T20:43:56.416003Z",
     "shell.execute_reply": "2024-03-11T20:43:56.414821Z"
    },
    "papermill": {
     "duration": 0.25834,
     "end_time": "2024-03-11T20:43:56.418683",
     "exception": false,
     "start_time": "2024-03-11T20:43:56.160343",
     "status": "completed"
    },
    "tags": []
   },
   "outputs": [],
   "source": [
    "from sklearn.model_selection import train_test_split\n",
    "from sklearn.preprocessing import LabelEncoder"
   ]
  },
  {
   "cell_type": "code",
   "execution_count": 24,
   "id": "dd312534",
   "metadata": {
    "execution": {
     "iopub.execute_input": "2024-03-11T20:43:56.462850Z",
     "iopub.status.busy": "2024-03-11T20:43:56.462470Z",
     "iopub.status.idle": "2024-03-11T20:43:56.468201Z",
     "shell.execute_reply": "2024-03-11T20:43:56.467019Z"
    },
    "papermill": {
     "duration": 0.030653,
     "end_time": "2024-03-11T20:43:56.470553",
     "exception": false,
     "start_time": "2024-03-11T20:43:56.439900",
     "status": "completed"
    },
    "tags": []
   },
   "outputs": [],
   "source": [
    "label_encoder = LabelEncoder()\n",
    "df['Species'] = label_encoder.fit_transform(df['Species'])"
   ]
  },
  {
   "cell_type": "code",
   "execution_count": 25,
   "id": "2352f988",
   "metadata": {
    "execution": {
     "iopub.execute_input": "2024-03-11T20:43:56.515437Z",
     "iopub.status.busy": "2024-03-11T20:43:56.514225Z",
     "iopub.status.idle": "2024-03-11T20:43:56.529394Z",
     "shell.execute_reply": "2024-03-11T20:43:56.528204Z"
    },
    "papermill": {
     "duration": 0.04009,
     "end_time": "2024-03-11T20:43:56.531924",
     "exception": false,
     "start_time": "2024-03-11T20:43:56.491834",
     "status": "completed"
    },
    "tags": []
   },
   "outputs": [
    {
     "data": {
      "text/html": [
       "<div>\n",
       "<style scoped>\n",
       "    .dataframe tbody tr th:only-of-type {\n",
       "        vertical-align: middle;\n",
       "    }\n",
       "\n",
       "    .dataframe tbody tr th {\n",
       "        vertical-align: top;\n",
       "    }\n",
       "\n",
       "    .dataframe thead th {\n",
       "        text-align: right;\n",
       "    }\n",
       "</style>\n",
       "<table border=\"1\" class=\"dataframe\">\n",
       "  <thead>\n",
       "    <tr style=\"text-align: right;\">\n",
       "      <th></th>\n",
       "      <th>SepalLengthCm</th>\n",
       "      <th>SepalWidthCm</th>\n",
       "      <th>PetalLengthCm</th>\n",
       "      <th>PetalWidthCm</th>\n",
       "      <th>Species</th>\n",
       "    </tr>\n",
       "  </thead>\n",
       "  <tbody>\n",
       "    <tr>\n",
       "      <th>0</th>\n",
       "      <td>5.1</td>\n",
       "      <td>3.5</td>\n",
       "      <td>1.4</td>\n",
       "      <td>0.2</td>\n",
       "      <td>0</td>\n",
       "    </tr>\n",
       "    <tr>\n",
       "      <th>1</th>\n",
       "      <td>4.9</td>\n",
       "      <td>3.0</td>\n",
       "      <td>1.4</td>\n",
       "      <td>0.2</td>\n",
       "      <td>0</td>\n",
       "    </tr>\n",
       "    <tr>\n",
       "      <th>2</th>\n",
       "      <td>4.7</td>\n",
       "      <td>3.2</td>\n",
       "      <td>1.3</td>\n",
       "      <td>0.2</td>\n",
       "      <td>0</td>\n",
       "    </tr>\n",
       "    <tr>\n",
       "      <th>3</th>\n",
       "      <td>4.6</td>\n",
       "      <td>3.1</td>\n",
       "      <td>1.5</td>\n",
       "      <td>0.2</td>\n",
       "      <td>0</td>\n",
       "    </tr>\n",
       "    <tr>\n",
       "      <th>4</th>\n",
       "      <td>5.0</td>\n",
       "      <td>3.6</td>\n",
       "      <td>1.4</td>\n",
       "      <td>0.2</td>\n",
       "      <td>0</td>\n",
       "    </tr>\n",
       "  </tbody>\n",
       "</table>\n",
       "</div>"
      ],
      "text/plain": [
       "   SepalLengthCm  SepalWidthCm  PetalLengthCm  PetalWidthCm  Species\n",
       "0            5.1           3.5            1.4           0.2        0\n",
       "1            4.9           3.0            1.4           0.2        0\n",
       "2            4.7           3.2            1.3           0.2        0\n",
       "3            4.6           3.1            1.5           0.2        0\n",
       "4            5.0           3.6            1.4           0.2        0"
      ]
     },
     "execution_count": 25,
     "metadata": {},
     "output_type": "execute_result"
    }
   ],
   "source": [
    "df.head()"
   ]
  },
  {
   "cell_type": "code",
   "execution_count": 26,
   "id": "367661b9",
   "metadata": {
    "execution": {
     "iopub.execute_input": "2024-03-11T20:43:56.576754Z",
     "iopub.status.busy": "2024-03-11T20:43:56.575947Z",
     "iopub.status.idle": "2024-03-11T20:43:56.581949Z",
     "shell.execute_reply": "2024-03-11T20:43:56.581180Z"
    },
    "papermill": {
     "duration": 0.031234,
     "end_time": "2024-03-11T20:43:56.584318",
     "exception": false,
     "start_time": "2024-03-11T20:43:56.553084",
     "status": "completed"
    },
    "tags": []
   },
   "outputs": [],
   "source": [
    "X = df.drop(['Species'], axis=1)\n",
    "y = df['Species']"
   ]
  },
  {
   "cell_type": "code",
   "execution_count": 27,
   "id": "18273389",
   "metadata": {
    "execution": {
     "iopub.execute_input": "2024-03-11T20:43:56.629315Z",
     "iopub.status.busy": "2024-03-11T20:43:56.628543Z",
     "iopub.status.idle": "2024-03-11T20:43:56.636573Z",
     "shell.execute_reply": "2024-03-11T20:43:56.635798Z"
    },
    "papermill": {
     "duration": 0.033276,
     "end_time": "2024-03-11T20:43:56.638909",
     "exception": false,
     "start_time": "2024-03-11T20:43:56.605633",
     "status": "completed"
    },
    "tags": []
   },
   "outputs": [],
   "source": [
    "X_train, X_test, y_train, y_test = train_test_split(X, y, test_size=0.2, random_state=43)"
   ]
  },
  {
   "cell_type": "code",
   "execution_count": 28,
   "id": "230b975d",
   "metadata": {
    "execution": {
     "iopub.execute_input": "2024-03-11T20:43:56.684189Z",
     "iopub.status.busy": "2024-03-11T20:43:56.683380Z",
     "iopub.status.idle": "2024-03-11T20:43:56.690315Z",
     "shell.execute_reply": "2024-03-11T20:43:56.689282Z"
    },
    "papermill": {
     "duration": 0.032465,
     "end_time": "2024-03-11T20:43:56.692604",
     "exception": false,
     "start_time": "2024-03-11T20:43:56.660139",
     "status": "completed"
    },
    "tags": []
   },
   "outputs": [
    {
     "data": {
      "text/plain": [
       "120"
      ]
     },
     "execution_count": 28,
     "metadata": {},
     "output_type": "execute_result"
    }
   ],
   "source": [
    "len(X_train)"
   ]
  },
  {
   "cell_type": "code",
   "execution_count": 29,
   "id": "e8c1f2b1",
   "metadata": {
    "execution": {
     "iopub.execute_input": "2024-03-11T20:43:56.737766Z",
     "iopub.status.busy": "2024-03-11T20:43:56.736978Z",
     "iopub.status.idle": "2024-03-11T20:43:56.743762Z",
     "shell.execute_reply": "2024-03-11T20:43:56.742807Z"
    },
    "papermill": {
     "duration": 0.031994,
     "end_time": "2024-03-11T20:43:56.745989",
     "exception": false,
     "start_time": "2024-03-11T20:43:56.713995",
     "status": "completed"
    },
    "tags": []
   },
   "outputs": [
    {
     "data": {
      "text/plain": [
       "30"
      ]
     },
     "execution_count": 29,
     "metadata": {},
     "output_type": "execute_result"
    }
   ],
   "source": [
    "len(X_test)"
   ]
  },
  {
   "cell_type": "markdown",
   "id": "69d2ad43",
   "metadata": {
    "papermill": {
     "duration": 0.02131,
     "end_time": "2024-03-11T20:43:56.788816",
     "exception": false,
     "start_time": "2024-03-11T20:43:56.767506",
     "status": "completed"
    },
    "tags": []
   },
   "source": [
    "# KNN Model"
   ]
  },
  {
   "cell_type": "code",
   "execution_count": 30,
   "id": "3df35dbd",
   "metadata": {
    "execution": {
     "iopub.execute_input": "2024-03-11T20:43:56.834311Z",
     "iopub.status.busy": "2024-03-11T20:43:56.833863Z",
     "iopub.status.idle": "2024-03-11T20:43:56.975727Z",
     "shell.execute_reply": "2024-03-11T20:43:56.974502Z"
    },
    "papermill": {
     "duration": 0.168073,
     "end_time": "2024-03-11T20:43:56.978610",
     "exception": false,
     "start_time": "2024-03-11T20:43:56.810537",
     "status": "completed"
    },
    "tags": []
   },
   "outputs": [],
   "source": [
    "from sklearn.neighbors import KNeighborsClassifier"
   ]
  },
  {
   "cell_type": "code",
   "execution_count": 31,
   "id": "440ccf94",
   "metadata": {
    "execution": {
     "iopub.execute_input": "2024-03-11T20:43:57.024875Z",
     "iopub.status.busy": "2024-03-11T20:43:57.024213Z",
     "iopub.status.idle": "2024-03-11T20:43:57.028942Z",
     "shell.execute_reply": "2024-03-11T20:43:57.028180Z"
    },
    "papermill": {
     "duration": 0.030331,
     "end_time": "2024-03-11T20:43:57.031076",
     "exception": false,
     "start_time": "2024-03-11T20:43:57.000745",
     "status": "completed"
    },
    "tags": []
   },
   "outputs": [],
   "source": [
    "knn = KNeighborsClassifier(n_neighbors=5)"
   ]
  },
  {
   "cell_type": "code",
   "execution_count": 32,
   "id": "cbb41255",
   "metadata": {
    "execution": {
     "iopub.execute_input": "2024-03-11T20:43:57.076881Z",
     "iopub.status.busy": "2024-03-11T20:43:57.076216Z",
     "iopub.status.idle": "2024-03-11T20:43:57.088415Z",
     "shell.execute_reply": "2024-03-11T20:43:57.087291Z"
    },
    "papermill": {
     "duration": 0.038027,
     "end_time": "2024-03-11T20:43:57.090869",
     "exception": false,
     "start_time": "2024-03-11T20:43:57.052842",
     "status": "completed"
    },
    "tags": []
   },
   "outputs": [
    {
     "data": {
      "text/html": [
       "<style>#sk-container-id-1 {color: black;background-color: white;}#sk-container-id-1 pre{padding: 0;}#sk-container-id-1 div.sk-toggleable {background-color: white;}#sk-container-id-1 label.sk-toggleable__label {cursor: pointer;display: block;width: 100%;margin-bottom: 0;padding: 0.3em;box-sizing: border-box;text-align: center;}#sk-container-id-1 label.sk-toggleable__label-arrow:before {content: \"▸\";float: left;margin-right: 0.25em;color: #696969;}#sk-container-id-1 label.sk-toggleable__label-arrow:hover:before {color: black;}#sk-container-id-1 div.sk-estimator:hover label.sk-toggleable__label-arrow:before {color: black;}#sk-container-id-1 div.sk-toggleable__content {max-height: 0;max-width: 0;overflow: hidden;text-align: left;background-color: #f0f8ff;}#sk-container-id-1 div.sk-toggleable__content pre {margin: 0.2em;color: black;border-radius: 0.25em;background-color: #f0f8ff;}#sk-container-id-1 input.sk-toggleable__control:checked~div.sk-toggleable__content {max-height: 200px;max-width: 100%;overflow: auto;}#sk-container-id-1 input.sk-toggleable__control:checked~label.sk-toggleable__label-arrow:before {content: \"▾\";}#sk-container-id-1 div.sk-estimator input.sk-toggleable__control:checked~label.sk-toggleable__label {background-color: #d4ebff;}#sk-container-id-1 div.sk-label input.sk-toggleable__control:checked~label.sk-toggleable__label {background-color: #d4ebff;}#sk-container-id-1 input.sk-hidden--visually {border: 0;clip: rect(1px 1px 1px 1px);clip: rect(1px, 1px, 1px, 1px);height: 1px;margin: -1px;overflow: hidden;padding: 0;position: absolute;width: 1px;}#sk-container-id-1 div.sk-estimator {font-family: monospace;background-color: #f0f8ff;border: 1px dotted black;border-radius: 0.25em;box-sizing: border-box;margin-bottom: 0.5em;}#sk-container-id-1 div.sk-estimator:hover {background-color: #d4ebff;}#sk-container-id-1 div.sk-parallel-item::after {content: \"\";width: 100%;border-bottom: 1px solid gray;flex-grow: 1;}#sk-container-id-1 div.sk-label:hover label.sk-toggleable__label {background-color: #d4ebff;}#sk-container-id-1 div.sk-serial::before {content: \"\";position: absolute;border-left: 1px solid gray;box-sizing: border-box;top: 0;bottom: 0;left: 50%;z-index: 0;}#sk-container-id-1 div.sk-serial {display: flex;flex-direction: column;align-items: center;background-color: white;padding-right: 0.2em;padding-left: 0.2em;position: relative;}#sk-container-id-1 div.sk-item {position: relative;z-index: 1;}#sk-container-id-1 div.sk-parallel {display: flex;align-items: stretch;justify-content: center;background-color: white;position: relative;}#sk-container-id-1 div.sk-item::before, #sk-container-id-1 div.sk-parallel-item::before {content: \"\";position: absolute;border-left: 1px solid gray;box-sizing: border-box;top: 0;bottom: 0;left: 50%;z-index: -1;}#sk-container-id-1 div.sk-parallel-item {display: flex;flex-direction: column;z-index: 1;position: relative;background-color: white;}#sk-container-id-1 div.sk-parallel-item:first-child::after {align-self: flex-end;width: 50%;}#sk-container-id-1 div.sk-parallel-item:last-child::after {align-self: flex-start;width: 50%;}#sk-container-id-1 div.sk-parallel-item:only-child::after {width: 0;}#sk-container-id-1 div.sk-dashed-wrapped {border: 1px dashed gray;margin: 0 0.4em 0.5em 0.4em;box-sizing: border-box;padding-bottom: 0.4em;background-color: white;}#sk-container-id-1 div.sk-label label {font-family: monospace;font-weight: bold;display: inline-block;line-height: 1.2em;}#sk-container-id-1 div.sk-label-container {text-align: center;}#sk-container-id-1 div.sk-container {/* jupyter's `normalize.less` sets `[hidden] { display: none; }` but bootstrap.min.css set `[hidden] { display: none !important; }` so we also need the `!important` here to be able to override the default hidden behavior on the sphinx rendered scikit-learn.org. See: https://github.com/scikit-learn/scikit-learn/issues/21755 */display: inline-block !important;position: relative;}#sk-container-id-1 div.sk-text-repr-fallback {display: none;}</style><div id=\"sk-container-id-1\" class=\"sk-top-container\"><div class=\"sk-text-repr-fallback\"><pre>KNeighborsClassifier()</pre><b>In a Jupyter environment, please rerun this cell to show the HTML representation or trust the notebook. <br />On GitHub, the HTML representation is unable to render, please try loading this page with nbviewer.org.</b></div><div class=\"sk-container\" hidden><div class=\"sk-item\"><div class=\"sk-estimator sk-toggleable\"><input class=\"sk-toggleable__control sk-hidden--visually\" id=\"sk-estimator-id-1\" type=\"checkbox\" checked><label for=\"sk-estimator-id-1\" class=\"sk-toggleable__label sk-toggleable__label-arrow\">KNeighborsClassifier</label><div class=\"sk-toggleable__content\"><pre>KNeighborsClassifier()</pre></div></div></div></div></div>"
      ],
      "text/plain": [
       "KNeighborsClassifier()"
      ]
     },
     "execution_count": 32,
     "metadata": {},
     "output_type": "execute_result"
    }
   ],
   "source": [
    "knn.fit(X_train, y_train)"
   ]
  },
  {
   "cell_type": "code",
   "execution_count": 33,
   "id": "cb3fb5e9",
   "metadata": {
    "execution": {
     "iopub.execute_input": "2024-03-11T20:43:57.137860Z",
     "iopub.status.busy": "2024-03-11T20:43:57.137488Z",
     "iopub.status.idle": "2024-03-11T20:43:57.151125Z",
     "shell.execute_reply": "2024-03-11T20:43:57.150024Z"
    },
    "papermill": {
     "duration": 0.040277,
     "end_time": "2024-03-11T20:43:57.153551",
     "exception": false,
     "start_time": "2024-03-11T20:43:57.113274",
     "status": "completed"
    },
    "tags": []
   },
   "outputs": [
    {
     "data": {
      "text/plain": [
       "1.0"
      ]
     },
     "execution_count": 33,
     "metadata": {},
     "output_type": "execute_result"
    }
   ],
   "source": [
    "knn.score(X_test, y_test)"
   ]
  },
  {
   "cell_type": "code",
   "execution_count": 34,
   "id": "51deac37",
   "metadata": {
    "execution": {
     "iopub.execute_input": "2024-03-11T20:43:57.203212Z",
     "iopub.status.busy": "2024-03-11T20:43:57.202808Z",
     "iopub.status.idle": "2024-03-11T20:43:57.214446Z",
     "shell.execute_reply": "2024-03-11T20:43:57.213475Z"
    },
    "papermill": {
     "duration": 0.038538,
     "end_time": "2024-03-11T20:43:57.216623",
     "exception": false,
     "start_time": "2024-03-11T20:43:57.178085",
     "status": "completed"
    },
    "tags": []
   },
   "outputs": [
    {
     "data": {
      "text/plain": [
       "array([0, 0, 2, 1, 2, 0, 2, 1, 1, 1, 0, 1, 2, 0, 1, 1, 0, 0, 2, 2, 0, 0,\n",
       "       0, 2, 2, 2, 0, 1, 0, 0])"
      ]
     },
     "execution_count": 34,
     "metadata": {},
     "output_type": "execute_result"
    }
   ],
   "source": [
    "knn.predict(X_test)"
   ]
  },
  {
   "cell_type": "code",
   "execution_count": 35,
   "id": "7224dab9",
   "metadata": {
    "execution": {
     "iopub.execute_input": "2024-03-11T20:43:57.264740Z",
     "iopub.status.busy": "2024-03-11T20:43:57.263679Z",
     "iopub.status.idle": "2024-03-11T20:43:57.293708Z",
     "shell.execute_reply": "2024-03-11T20:43:57.292361Z"
    },
    "papermill": {
     "duration": 0.056712,
     "end_time": "2024-03-11T20:43:57.296174",
     "exception": false,
     "start_time": "2024-03-11T20:43:57.239462",
     "status": "completed"
    },
    "tags": []
   },
   "outputs": [
    {
     "name": "stdout",
     "output_type": "stream",
     "text": [
      "The accuracy of the knn classifier is 0.97 out of 1 on training data\n",
      "The accuracy of the knn classifier is 1.00 out of 1 on test data\n"
     ]
    }
   ],
   "source": [
    "print('The accuracy of the knn classifier is {:.2f} out of 1 on training data'.format(knn.score(X_train, y_train)))\n",
    "print('The accuracy of the knn classifier is {:.2f} out of 1 on test data'.format(knn.score(X_test, y_test)))"
   ]
  }
 ],
 "metadata": {
  "kaggle": {
   "accelerator": "none",
   "dataSources": [
    {
     "datasetId": 19,
     "sourceId": 420,
     "sourceType": "datasetVersion"
    }
   ],
   "dockerImageVersionId": 30664,
   "isGpuEnabled": false,
   "isInternetEnabled": true,
   "language": "python",
   "sourceType": "notebook"
  },
  "kernelspec": {
   "display_name": "Python 3",
   "language": "python",
   "name": "python3"
  },
  "language_info": {
   "codemirror_mode": {
    "name": "ipython",
    "version": 3
   },
   "file_extension": ".py",
   "mimetype": "text/x-python",
   "name": "python",
   "nbconvert_exporter": "python",
   "pygments_lexer": "ipython3",
   "version": "3.10.13"
  },
  "papermill": {
   "default_parameters": {},
   "duration": 12.195592,
   "end_time": "2024-03-11T20:43:58.040726",
   "environment_variables": {},
   "exception": null,
   "input_path": "__notebook__.ipynb",
   "output_path": "__notebook__.ipynb",
   "parameters": {},
   "start_time": "2024-03-11T20:43:45.845134",
   "version": "2.5.0"
  }
 },
 "nbformat": 4,
 "nbformat_minor": 5
}
