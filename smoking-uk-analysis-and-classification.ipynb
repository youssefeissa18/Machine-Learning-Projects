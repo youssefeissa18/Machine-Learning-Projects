{
 "cells": [
  {
   "cell_type": "markdown",
   "id": "ac48dd78",
   "metadata": {
    "_cell_guid": "b1076dfc-b9ad-4769-8c92-a6c4dae69d19",
    "_uuid": "8f2839f25d086af736a60e9eeb907d3b93b6e0e5",
    "papermill": {
     "duration": 0.021505,
     "end_time": "2024-05-04T21:04:03.785204",
     "exception": false,
     "start_time": "2024-05-04T21:04:03.763699",
     "status": "completed"
    },
    "tags": []
   },
   "source": [
    "# Import Necessary Library"
   ]
  },
  {
   "cell_type": "code",
   "execution_count": 1,
   "id": "8fc179e4",
   "metadata": {
    "execution": {
     "iopub.execute_input": "2024-05-04T21:04:03.832942Z",
     "iopub.status.busy": "2024-05-04T21:04:03.832165Z",
     "iopub.status.idle": "2024-05-04T21:04:07.151809Z",
     "shell.execute_reply": "2024-05-04T21:04:07.150540Z"
    },
    "papermill": {
     "duration": 3.345808,
     "end_time": "2024-05-04T21:04:07.154446",
     "exception": false,
     "start_time": "2024-05-04T21:04:03.808638",
     "status": "completed"
    },
    "tags": []
   },
   "outputs": [],
   "source": [
    "import numpy as np\n",
    "import pandas as pd \n",
    "import matplotlib.pyplot as plt\n",
    "import seaborn as sns \n",
    "import plotly.express as px\n",
    "from plotly.offline import iplot, plot\n",
    "from sklearn.linear_model import LogisticRegression\n",
    "from sklearn.tree import DecisionTreeClassifier\n",
    "from sklearn.ensemble import RandomForestClassifier\n",
    "from sklearn.svm import SVC\n",
    "from sklearn.model_selection import cross_val_score\n",
    "from sklearn.model_selection import cross_val_predict\n",
    "from sklearn.model_selection import train_test_split\n",
    "from sklearn.preprocessing import LabelEncoder\n",
    "from sklearn.metrics import confusion_matrix\n",
    "from sklearn.metrics import classification_report "
   ]
  },
  {
   "cell_type": "markdown",
   "id": "cd1f6b25",
   "metadata": {
    "papermill": {
     "duration": 0.020934,
     "end_time": "2024-05-04T21:04:07.197375",
     "exception": false,
     "start_time": "2024-05-04T21:04:07.176441",
     "status": "completed"
    },
    "tags": []
   },
   "source": [
    "# Reading the Data"
   ]
  },
  {
   "cell_type": "code",
   "execution_count": 2,
   "id": "56e351b8",
   "metadata": {
    "execution": {
     "iopub.execute_input": "2024-05-04T21:04:07.241708Z",
     "iopub.status.busy": "2024-05-04T21:04:07.241152Z",
     "iopub.status.idle": "2024-05-04T21:04:07.265008Z",
     "shell.execute_reply": "2024-05-04T21:04:07.264158Z"
    },
    "papermill": {
     "duration": 0.049005,
     "end_time": "2024-05-04T21:04:07.267318",
     "exception": false,
     "start_time": "2024-05-04T21:04:07.218313",
     "status": "completed"
    },
    "tags": []
   },
   "outputs": [],
   "source": [
    "df = pd.read_csv('/kaggle/input/smoking-dataset-from-uk/smoking.csv')"
   ]
  },
  {
   "cell_type": "markdown",
   "id": "3053249b",
   "metadata": {
    "papermill": {
     "duration": 0.020599,
     "end_time": "2024-05-04T21:04:07.309237",
     "exception": false,
     "start_time": "2024-05-04T21:04:07.288638",
     "status": "completed"
    },
    "tags": []
   },
   "source": [
    "**gender\tGender with levels Female and Male.**\n",
    "\n",
    "**age\tAge.**\n",
    "\n",
    "**marital_status\tMarital status with levels Divorced, Married, Separated, Single and Widowed.**\n",
    "\n",
    "**highest_qualification\tHighest education level with levels A Levels, Degree, GCSE/CSE, GCSE/O Level, Higher/Sub Degree, No Qualification, ONC/BTEC and Other/Sub Degree**\n",
    "\n",
    "**nationality\tNationality with levels British, English, Irish, Scottish, Welsh, Other, Refused and Unknown.**\n",
    "\n",
    "**ethnicity\tEthnicity with levels Asian, Black, Chinese, Mixed, White and Refused Unknown.**\n",
    "\n",
    "**gross_income\tGross income with levels Under 2,600, 2,600 to 5,200, 5,200 to 10,400, 10,400 to 15,600, 15,600 to 20,800, 20,800 to 28,600, 28,600 to 36,400, Above 36,400, Refused and Unknown.**\n",
    "\n",
    "**region\tRegion with levels London, Midlands And East Anglia, Scotland, South East, South West, The North and Wales**\n",
    "\n",
    "**smoke\tSmoking status with levels No and Yes**\n",
    "\n",
    "**amt_weekends\tNumber of cigarettes smoked per day on weekends.**\n",
    "\n",
    "**amt_weekdays\tNumber of cigarettes smoked per day on weekdays.**\n",
    "\n",
    "**type\tType of cigarettes smoked with levels Packets, Hand-Rolled, Both/Mainly Packets and Both/Mainly Hand-Rolled**"
   ]
  },
  {
   "cell_type": "markdown",
   "id": "dbd6ddc8",
   "metadata": {
    "papermill": {
     "duration": 0.020381,
     "end_time": "2024-05-04T21:04:07.350792",
     "exception": false,
     "start_time": "2024-05-04T21:04:07.330411",
     "status": "completed"
    },
    "tags": []
   },
   "source": [
    "# Expolre the Data"
   ]
  },
  {
   "cell_type": "code",
   "execution_count": 3,
   "id": "81d91fc1",
   "metadata": {
    "execution": {
     "iopub.execute_input": "2024-05-04T21:04:07.395751Z",
     "iopub.status.busy": "2024-05-04T21:04:07.395057Z",
     "iopub.status.idle": "2024-05-04T21:04:07.401645Z",
     "shell.execute_reply": "2024-05-04T21:04:07.400710Z"
    },
    "papermill": {
     "duration": 0.030734,
     "end_time": "2024-05-04T21:04:07.403501",
     "exception": false,
     "start_time": "2024-05-04T21:04:07.372767",
     "status": "completed"
    },
    "tags": []
   },
   "outputs": [
    {
     "data": {
      "text/plain": [
       "(1691, 13)"
      ]
     },
     "execution_count": 3,
     "metadata": {},
     "output_type": "execute_result"
    }
   ],
   "source": [
    "df.shape"
   ]
  },
  {
   "cell_type": "code",
   "execution_count": 4,
   "id": "0c7817a0",
   "metadata": {
    "execution": {
     "iopub.execute_input": "2024-05-04T21:04:07.447105Z",
     "iopub.status.busy": "2024-05-04T21:04:07.446695Z",
     "iopub.status.idle": "2024-05-04T21:04:07.471921Z",
     "shell.execute_reply": "2024-05-04T21:04:07.471141Z"
    },
    "papermill": {
     "duration": 0.049412,
     "end_time": "2024-05-04T21:04:07.473854",
     "exception": false,
     "start_time": "2024-05-04T21:04:07.424442",
     "status": "completed"
    },
    "tags": []
   },
   "outputs": [
    {
     "data": {
      "text/html": [
       "<div>\n",
       "<style scoped>\n",
       "    .dataframe tbody tr th:only-of-type {\n",
       "        vertical-align: middle;\n",
       "    }\n",
       "\n",
       "    .dataframe tbody tr th {\n",
       "        vertical-align: top;\n",
       "    }\n",
       "\n",
       "    .dataframe thead th {\n",
       "        text-align: right;\n",
       "    }\n",
       "</style>\n",
       "<table border=\"1\" class=\"dataframe\">\n",
       "  <thead>\n",
       "    <tr style=\"text-align: right;\">\n",
       "      <th></th>\n",
       "      <th>Unnamed: 0</th>\n",
       "      <th>gender</th>\n",
       "      <th>age</th>\n",
       "      <th>marital_status</th>\n",
       "      <th>highest_qualification</th>\n",
       "      <th>nationality</th>\n",
       "      <th>ethnicity</th>\n",
       "      <th>gross_income</th>\n",
       "      <th>region</th>\n",
       "      <th>smoke</th>\n",
       "      <th>amt_weekends</th>\n",
       "      <th>amt_weekdays</th>\n",
       "      <th>type</th>\n",
       "    </tr>\n",
       "  </thead>\n",
       "  <tbody>\n",
       "    <tr>\n",
       "      <th>0</th>\n",
       "      <td>1</td>\n",
       "      <td>Male</td>\n",
       "      <td>38</td>\n",
       "      <td>Divorced</td>\n",
       "      <td>No Qualification</td>\n",
       "      <td>British</td>\n",
       "      <td>White</td>\n",
       "      <td>2,600 to 5,200</td>\n",
       "      <td>The North</td>\n",
       "      <td>No</td>\n",
       "      <td>NaN</td>\n",
       "      <td>NaN</td>\n",
       "      <td>NaN</td>\n",
       "    </tr>\n",
       "    <tr>\n",
       "      <th>1</th>\n",
       "      <td>2</td>\n",
       "      <td>Female</td>\n",
       "      <td>42</td>\n",
       "      <td>Single</td>\n",
       "      <td>No Qualification</td>\n",
       "      <td>British</td>\n",
       "      <td>White</td>\n",
       "      <td>Under 2,600</td>\n",
       "      <td>The North</td>\n",
       "      <td>Yes</td>\n",
       "      <td>12.0</td>\n",
       "      <td>12.0</td>\n",
       "      <td>Packets</td>\n",
       "    </tr>\n",
       "    <tr>\n",
       "      <th>2</th>\n",
       "      <td>3</td>\n",
       "      <td>Male</td>\n",
       "      <td>40</td>\n",
       "      <td>Married</td>\n",
       "      <td>Degree</td>\n",
       "      <td>English</td>\n",
       "      <td>White</td>\n",
       "      <td>28,600 to 36,400</td>\n",
       "      <td>The North</td>\n",
       "      <td>No</td>\n",
       "      <td>NaN</td>\n",
       "      <td>NaN</td>\n",
       "      <td>NaN</td>\n",
       "    </tr>\n",
       "    <tr>\n",
       "      <th>3</th>\n",
       "      <td>4</td>\n",
       "      <td>Female</td>\n",
       "      <td>40</td>\n",
       "      <td>Married</td>\n",
       "      <td>Degree</td>\n",
       "      <td>English</td>\n",
       "      <td>White</td>\n",
       "      <td>10,400 to 15,600</td>\n",
       "      <td>The North</td>\n",
       "      <td>No</td>\n",
       "      <td>NaN</td>\n",
       "      <td>NaN</td>\n",
       "      <td>NaN</td>\n",
       "    </tr>\n",
       "    <tr>\n",
       "      <th>4</th>\n",
       "      <td>5</td>\n",
       "      <td>Female</td>\n",
       "      <td>39</td>\n",
       "      <td>Married</td>\n",
       "      <td>GCSE/O Level</td>\n",
       "      <td>British</td>\n",
       "      <td>White</td>\n",
       "      <td>2,600 to 5,200</td>\n",
       "      <td>The North</td>\n",
       "      <td>No</td>\n",
       "      <td>NaN</td>\n",
       "      <td>NaN</td>\n",
       "      <td>NaN</td>\n",
       "    </tr>\n",
       "  </tbody>\n",
       "</table>\n",
       "</div>"
      ],
      "text/plain": [
       "   Unnamed: 0  gender  age marital_status highest_qualification nationality  \\\n",
       "0           1    Male   38       Divorced      No Qualification     British   \n",
       "1           2  Female   42         Single      No Qualification     British   \n",
       "2           3    Male   40        Married                Degree     English   \n",
       "3           4  Female   40        Married                Degree     English   \n",
       "4           5  Female   39        Married          GCSE/O Level     British   \n",
       "\n",
       "  ethnicity      gross_income     region smoke  amt_weekends  amt_weekdays  \\\n",
       "0     White    2,600 to 5,200  The North    No           NaN           NaN   \n",
       "1     White       Under 2,600  The North   Yes          12.0          12.0   \n",
       "2     White  28,600 to 36,400  The North    No           NaN           NaN   \n",
       "3     White  10,400 to 15,600  The North    No           NaN           NaN   \n",
       "4     White    2,600 to 5,200  The North    No           NaN           NaN   \n",
       "\n",
       "      type  \n",
       "0      NaN  \n",
       "1  Packets  \n",
       "2      NaN  \n",
       "3      NaN  \n",
       "4      NaN  "
      ]
     },
     "execution_count": 4,
     "metadata": {},
     "output_type": "execute_result"
    }
   ],
   "source": [
    "df.head()"
   ]
  },
  {
   "cell_type": "code",
   "execution_count": 5,
   "id": "3943433d",
   "metadata": {
    "execution": {
     "iopub.execute_input": "2024-05-04T21:04:07.519301Z",
     "iopub.status.busy": "2024-05-04T21:04:07.518043Z",
     "iopub.status.idle": "2024-05-04T21:04:07.535353Z",
     "shell.execute_reply": "2024-05-04T21:04:07.534266Z"
    },
    "papermill": {
     "duration": 0.041902,
     "end_time": "2024-05-04T21:04:07.537541",
     "exception": false,
     "start_time": "2024-05-04T21:04:07.495639",
     "status": "completed"
    },
    "tags": []
   },
   "outputs": [
    {
     "data": {
      "text/html": [
       "<div>\n",
       "<style scoped>\n",
       "    .dataframe tbody tr th:only-of-type {\n",
       "        vertical-align: middle;\n",
       "    }\n",
       "\n",
       "    .dataframe tbody tr th {\n",
       "        vertical-align: top;\n",
       "    }\n",
       "\n",
       "    .dataframe thead th {\n",
       "        text-align: right;\n",
       "    }\n",
       "</style>\n",
       "<table border=\"1\" class=\"dataframe\">\n",
       "  <thead>\n",
       "    <tr style=\"text-align: right;\">\n",
       "      <th></th>\n",
       "      <th>Unnamed: 0</th>\n",
       "      <th>gender</th>\n",
       "      <th>age</th>\n",
       "      <th>marital_status</th>\n",
       "      <th>highest_qualification</th>\n",
       "      <th>nationality</th>\n",
       "      <th>ethnicity</th>\n",
       "      <th>gross_income</th>\n",
       "      <th>region</th>\n",
       "      <th>smoke</th>\n",
       "      <th>amt_weekends</th>\n",
       "      <th>amt_weekdays</th>\n",
       "      <th>type</th>\n",
       "    </tr>\n",
       "  </thead>\n",
       "  <tbody>\n",
       "    <tr>\n",
       "      <th>1686</th>\n",
       "      <td>1687</td>\n",
       "      <td>Male</td>\n",
       "      <td>22</td>\n",
       "      <td>Single</td>\n",
       "      <td>No Qualification</td>\n",
       "      <td>Scottish</td>\n",
       "      <td>White</td>\n",
       "      <td>2,600 to 5,200</td>\n",
       "      <td>Scotland</td>\n",
       "      <td>No</td>\n",
       "      <td>NaN</td>\n",
       "      <td>NaN</td>\n",
       "      <td>NaN</td>\n",
       "    </tr>\n",
       "    <tr>\n",
       "      <th>1687</th>\n",
       "      <td>1688</td>\n",
       "      <td>Female</td>\n",
       "      <td>49</td>\n",
       "      <td>Divorced</td>\n",
       "      <td>Other/Sub Degree</td>\n",
       "      <td>English</td>\n",
       "      <td>White</td>\n",
       "      <td>2,600 to 5,200</td>\n",
       "      <td>Scotland</td>\n",
       "      <td>Yes</td>\n",
       "      <td>20.0</td>\n",
       "      <td>20.0</td>\n",
       "      <td>Hand-Rolled</td>\n",
       "    </tr>\n",
       "    <tr>\n",
       "      <th>1688</th>\n",
       "      <td>1689</td>\n",
       "      <td>Male</td>\n",
       "      <td>45</td>\n",
       "      <td>Married</td>\n",
       "      <td>Other/Sub Degree</td>\n",
       "      <td>Scottish</td>\n",
       "      <td>White</td>\n",
       "      <td>5,200 to 10,400</td>\n",
       "      <td>Scotland</td>\n",
       "      <td>No</td>\n",
       "      <td>NaN</td>\n",
       "      <td>NaN</td>\n",
       "      <td>NaN</td>\n",
       "    </tr>\n",
       "    <tr>\n",
       "      <th>1689</th>\n",
       "      <td>1690</td>\n",
       "      <td>Female</td>\n",
       "      <td>51</td>\n",
       "      <td>Married</td>\n",
       "      <td>No Qualification</td>\n",
       "      <td>English</td>\n",
       "      <td>White</td>\n",
       "      <td>2,600 to 5,200</td>\n",
       "      <td>Scotland</td>\n",
       "      <td>Yes</td>\n",
       "      <td>20.0</td>\n",
       "      <td>20.0</td>\n",
       "      <td>Packets</td>\n",
       "    </tr>\n",
       "    <tr>\n",
       "      <th>1690</th>\n",
       "      <td>1691</td>\n",
       "      <td>Male</td>\n",
       "      <td>31</td>\n",
       "      <td>Married</td>\n",
       "      <td>Degree</td>\n",
       "      <td>Scottish</td>\n",
       "      <td>White</td>\n",
       "      <td>10,400 to 15,600</td>\n",
       "      <td>Scotland</td>\n",
       "      <td>No</td>\n",
       "      <td>NaN</td>\n",
       "      <td>NaN</td>\n",
       "      <td>NaN</td>\n",
       "    </tr>\n",
       "  </tbody>\n",
       "</table>\n",
       "</div>"
      ],
      "text/plain": [
       "      Unnamed: 0  gender  age marital_status highest_qualification  \\\n",
       "1686        1687    Male   22         Single      No Qualification   \n",
       "1687        1688  Female   49       Divorced      Other/Sub Degree   \n",
       "1688        1689    Male   45        Married      Other/Sub Degree   \n",
       "1689        1690  Female   51        Married      No Qualification   \n",
       "1690        1691    Male   31        Married                Degree   \n",
       "\n",
       "     nationality ethnicity      gross_income    region smoke  amt_weekends  \\\n",
       "1686    Scottish     White    2,600 to 5,200  Scotland    No           NaN   \n",
       "1687     English     White    2,600 to 5,200  Scotland   Yes          20.0   \n",
       "1688    Scottish     White   5,200 to 10,400  Scotland    No           NaN   \n",
       "1689     English     White    2,600 to 5,200  Scotland   Yes          20.0   \n",
       "1690    Scottish     White  10,400 to 15,600  Scotland    No           NaN   \n",
       "\n",
       "      amt_weekdays         type  \n",
       "1686           NaN          NaN  \n",
       "1687          20.0  Hand-Rolled  \n",
       "1688           NaN          NaN  \n",
       "1689          20.0      Packets  \n",
       "1690           NaN          NaN  "
      ]
     },
     "execution_count": 5,
     "metadata": {},
     "output_type": "execute_result"
    }
   ],
   "source": [
    "df.tail()"
   ]
  },
  {
   "cell_type": "code",
   "execution_count": 6,
   "id": "a3216dfa",
   "metadata": {
    "execution": {
     "iopub.execute_input": "2024-05-04T21:04:07.647654Z",
     "iopub.status.busy": "2024-05-04T21:04:07.647008Z",
     "iopub.status.idle": "2024-05-04T21:04:07.675228Z",
     "shell.execute_reply": "2024-05-04T21:04:07.673958Z"
    },
    "papermill": {
     "duration": 0.118269,
     "end_time": "2024-05-04T21:04:07.677519",
     "exception": false,
     "start_time": "2024-05-04T21:04:07.559250",
     "status": "completed"
    },
    "tags": []
   },
   "outputs": [
    {
     "name": "stdout",
     "output_type": "stream",
     "text": [
      "<class 'pandas.core.frame.DataFrame'>\n",
      "RangeIndex: 1691 entries, 0 to 1690\n",
      "Data columns (total 13 columns):\n",
      " #   Column                 Non-Null Count  Dtype  \n",
      "---  ------                 --------------  -----  \n",
      " 0   Unnamed: 0             1691 non-null   int64  \n",
      " 1   gender                 1691 non-null   object \n",
      " 2   age                    1691 non-null   int64  \n",
      " 3   marital_status         1691 non-null   object \n",
      " 4   highest_qualification  1691 non-null   object \n",
      " 5   nationality            1691 non-null   object \n",
      " 6   ethnicity              1691 non-null   object \n",
      " 7   gross_income           1691 non-null   object \n",
      " 8   region                 1691 non-null   object \n",
      " 9   smoke                  1691 non-null   object \n",
      " 10  amt_weekends           421 non-null    float64\n",
      " 11  amt_weekdays           421 non-null    float64\n",
      " 12  type                   421 non-null    object \n",
      "dtypes: float64(2), int64(2), object(9)\n",
      "memory usage: 171.9+ KB\n"
     ]
    }
   ],
   "source": [
    "df.info()"
   ]
  },
  {
   "cell_type": "markdown",
   "id": "72bc1e1a",
   "metadata": {
    "papermill": {
     "duration": 0.022414,
     "end_time": "2024-05-04T21:04:07.721766",
     "exception": false,
     "start_time": "2024-05-04T21:04:07.699352",
     "status": "completed"
    },
    "tags": []
   },
   "source": [
    "**We will not drop Column amt_weekends and amt_weekdays and type from data when clean the data i will handle that becouse this have alot of nan value**"
   ]
  },
  {
   "cell_type": "code",
   "execution_count": 7,
   "id": "055404b5",
   "metadata": {
    "execution": {
     "iopub.execute_input": "2024-05-04T21:04:07.767501Z",
     "iopub.status.busy": "2024-05-04T21:04:07.766446Z",
     "iopub.status.idle": "2024-05-04T21:04:07.789016Z",
     "shell.execute_reply": "2024-05-04T21:04:07.787837Z"
    },
    "papermill": {
     "duration": 0.047324,
     "end_time": "2024-05-04T21:04:07.791119",
     "exception": false,
     "start_time": "2024-05-04T21:04:07.743795",
     "status": "completed"
    },
    "tags": []
   },
   "outputs": [
    {
     "data": {
      "text/html": [
       "<div>\n",
       "<style scoped>\n",
       "    .dataframe tbody tr th:only-of-type {\n",
       "        vertical-align: middle;\n",
       "    }\n",
       "\n",
       "    .dataframe tbody tr th {\n",
       "        vertical-align: top;\n",
       "    }\n",
       "\n",
       "    .dataframe thead th {\n",
       "        text-align: right;\n",
       "    }\n",
       "</style>\n",
       "<table border=\"1\" class=\"dataframe\">\n",
       "  <thead>\n",
       "    <tr style=\"text-align: right;\">\n",
       "      <th></th>\n",
       "      <th>Unnamed: 0</th>\n",
       "      <th>age</th>\n",
       "      <th>amt_weekends</th>\n",
       "      <th>amt_weekdays</th>\n",
       "    </tr>\n",
       "  </thead>\n",
       "  <tbody>\n",
       "    <tr>\n",
       "      <th>count</th>\n",
       "      <td>1691.000000</td>\n",
       "      <td>1691.000000</td>\n",
       "      <td>421.000000</td>\n",
       "      <td>421.000000</td>\n",
       "    </tr>\n",
       "    <tr>\n",
       "      <th>mean</th>\n",
       "      <td>846.000000</td>\n",
       "      <td>49.836192</td>\n",
       "      <td>16.410926</td>\n",
       "      <td>13.750594</td>\n",
       "    </tr>\n",
       "    <tr>\n",
       "      <th>std</th>\n",
       "      <td>488.293969</td>\n",
       "      <td>18.736851</td>\n",
       "      <td>9.892988</td>\n",
       "      <td>9.388292</td>\n",
       "    </tr>\n",
       "    <tr>\n",
       "      <th>min</th>\n",
       "      <td>1.000000</td>\n",
       "      <td>16.000000</td>\n",
       "      <td>0.000000</td>\n",
       "      <td>0.000000</td>\n",
       "    </tr>\n",
       "    <tr>\n",
       "      <th>25%</th>\n",
       "      <td>423.500000</td>\n",
       "      <td>34.000000</td>\n",
       "      <td>10.000000</td>\n",
       "      <td>7.000000</td>\n",
       "    </tr>\n",
       "    <tr>\n",
       "      <th>50%</th>\n",
       "      <td>846.000000</td>\n",
       "      <td>48.000000</td>\n",
       "      <td>15.000000</td>\n",
       "      <td>12.000000</td>\n",
       "    </tr>\n",
       "    <tr>\n",
       "      <th>75%</th>\n",
       "      <td>1268.500000</td>\n",
       "      <td>65.500000</td>\n",
       "      <td>20.000000</td>\n",
       "      <td>20.000000</td>\n",
       "    </tr>\n",
       "    <tr>\n",
       "      <th>max</th>\n",
       "      <td>1691.000000</td>\n",
       "      <td>97.000000</td>\n",
       "      <td>60.000000</td>\n",
       "      <td>55.000000</td>\n",
       "    </tr>\n",
       "  </tbody>\n",
       "</table>\n",
       "</div>"
      ],
      "text/plain": [
       "        Unnamed: 0          age  amt_weekends  amt_weekdays\n",
       "count  1691.000000  1691.000000    421.000000    421.000000\n",
       "mean    846.000000    49.836192     16.410926     13.750594\n",
       "std     488.293969    18.736851      9.892988      9.388292\n",
       "min       1.000000    16.000000      0.000000      0.000000\n",
       "25%     423.500000    34.000000     10.000000      7.000000\n",
       "50%     846.000000    48.000000     15.000000     12.000000\n",
       "75%    1268.500000    65.500000     20.000000     20.000000\n",
       "max    1691.000000    97.000000     60.000000     55.000000"
      ]
     },
     "execution_count": 7,
     "metadata": {},
     "output_type": "execute_result"
    }
   ],
   "source": [
    "df.describe()"
   ]
  },
  {
   "cell_type": "code",
   "execution_count": 8,
   "id": "9013338d",
   "metadata": {
    "execution": {
     "iopub.execute_input": "2024-05-04T21:04:07.837560Z",
     "iopub.status.busy": "2024-05-04T21:04:07.836971Z",
     "iopub.status.idle": "2024-05-04T21:04:07.845609Z",
     "shell.execute_reply": "2024-05-04T21:04:07.844587Z"
    },
    "papermill": {
     "duration": 0.034731,
     "end_time": "2024-05-04T21:04:07.847993",
     "exception": false,
     "start_time": "2024-05-04T21:04:07.813262",
     "status": "completed"
    },
    "tags": []
   },
   "outputs": [
    {
     "data": {
      "text/plain": [
       "Unnamed: 0                  0\n",
       "gender                      0\n",
       "age                         0\n",
       "marital_status              0\n",
       "highest_qualification       0\n",
       "nationality                 0\n",
       "ethnicity                   0\n",
       "gross_income                0\n",
       "region                      0\n",
       "smoke                       0\n",
       "amt_weekends             1270\n",
       "amt_weekdays             1270\n",
       "type                     1270\n",
       "dtype: int64"
      ]
     },
     "execution_count": 8,
     "metadata": {},
     "output_type": "execute_result"
    }
   ],
   "source": [
    "df.isna().sum()"
   ]
  },
  {
   "cell_type": "markdown",
   "id": "7e870928",
   "metadata": {
    "papermill": {
     "duration": 0.021789,
     "end_time": "2024-05-04T21:04:07.892006",
     "exception": false,
     "start_time": "2024-05-04T21:04:07.870217",
     "status": "completed"
    },
    "tags": []
   },
   "source": [
    "**we have alot of data have nan value and i will handle this in clean data**"
   ]
  },
  {
   "cell_type": "code",
   "execution_count": 9,
   "id": "9654deff",
   "metadata": {
    "execution": {
     "iopub.execute_input": "2024-05-04T21:04:07.938206Z",
     "iopub.status.busy": "2024-05-04T21:04:07.937583Z",
     "iopub.status.idle": "2024-05-04T21:04:07.946455Z",
     "shell.execute_reply": "2024-05-04T21:04:07.945475Z"
    },
    "papermill": {
     "duration": 0.034228,
     "end_time": "2024-05-04T21:04:07.948417",
     "exception": false,
     "start_time": "2024-05-04T21:04:07.914189",
     "status": "completed"
    },
    "tags": []
   },
   "outputs": [
    {
     "data": {
      "text/plain": [
       "0"
      ]
     },
     "execution_count": 9,
     "metadata": {},
     "output_type": "execute_result"
    }
   ],
   "source": [
    "df.duplicated().sum()"
   ]
  },
  {
   "cell_type": "markdown",
   "id": "887fb0c3",
   "metadata": {
    "papermill": {
     "duration": 0.021562,
     "end_time": "2024-05-04T21:04:07.992018",
     "exception": false,
     "start_time": "2024-05-04T21:04:07.970456",
     "status": "completed"
    },
    "tags": []
   },
   "source": [
    "**No Duplicated data**"
   ]
  },
  {
   "cell_type": "markdown",
   "id": "00c755fc",
   "metadata": {
    "papermill": {
     "duration": 0.021782,
     "end_time": "2024-05-04T21:04:08.036455",
     "exception": false,
     "start_time": "2024-05-04T21:04:08.014673",
     "status": "completed"
    },
    "tags": []
   },
   "source": [
    "# Cleaning the data"
   ]
  },
  {
   "cell_type": "code",
   "execution_count": 10,
   "id": "866d7b29",
   "metadata": {
    "execution": {
     "iopub.execute_input": "2024-05-04T21:04:08.082788Z",
     "iopub.status.busy": "2024-05-04T21:04:08.082106Z",
     "iopub.status.idle": "2024-05-04T21:04:08.094307Z",
     "shell.execute_reply": "2024-05-04T21:04:08.093298Z"
    },
    "papermill": {
     "duration": 0.038395,
     "end_time": "2024-05-04T21:04:08.096814",
     "exception": false,
     "start_time": "2024-05-04T21:04:08.058419",
     "status": "completed"
    },
    "tags": []
   },
   "outputs": [],
   "source": [
    "no_smoke_rows = df.loc[df['smoke'] == 'No']\n",
    "df.loc[no_smoke_rows.index, ['amt_weekends', 'amt_weekdays']] = 0"
   ]
  },
  {
   "cell_type": "markdown",
   "id": "e70eb11c",
   "metadata": {
    "papermill": {
     "duration": 0.0224,
     "end_time": "2024-05-04T21:04:08.142676",
     "exception": false,
     "start_time": "2024-05-04T21:04:08.120276",
     "status": "completed"
    },
    "tags": []
   },
   "source": [
    "**# Select rows where `smoke` is `'No'`**\n",
    "\n",
    "**# Set `amt_weekends` and `amt_weekdays` to `0` for those rows**\n",
    "\n",
    "**Make that becouse i now i have people no smoke then make the amount in weekday and weekend equal to 0**"
   ]
  },
  {
   "cell_type": "code",
   "execution_count": 11,
   "id": "d504c11e",
   "metadata": {
    "execution": {
     "iopub.execute_input": "2024-05-04T21:04:08.188865Z",
     "iopub.status.busy": "2024-05-04T21:04:08.188264Z",
     "iopub.status.idle": "2024-05-04T21:04:08.195212Z",
     "shell.execute_reply": "2024-05-04T21:04:08.194332Z"
    },
    "papermill": {
     "duration": 0.032618,
     "end_time": "2024-05-04T21:04:08.197347",
     "exception": false,
     "start_time": "2024-05-04T21:04:08.164729",
     "status": "completed"
    },
    "tags": []
   },
   "outputs": [],
   "source": [
    "no_smoke_rows = df.loc[df['smoke'] == 'No']\n",
    "df.loc[no_smoke_rows.index, 'type'] = 'Non-Smoker'"
   ]
  },
  {
   "cell_type": "markdown",
   "id": "6038c740",
   "metadata": {
    "papermill": {
     "duration": 0.021982,
     "end_time": "2024-05-04T21:04:08.241524",
     "exception": false,
     "start_time": "2024-05-04T21:04:08.219542",
     "status": "completed"
    },
    "tags": []
   },
   "source": [
    "**# Replace NaN values in the `type` column with 'Non-Smoker' for non-smokers**\n",
    "\n",
    "**from type i can now what he is smoke packet or what moked with levels Packets, Hand-Rolled, Both/Mainly Packets and Both/Mainly Hand-Rolled**"
   ]
  },
  {
   "cell_type": "code",
   "execution_count": 12,
   "id": "f23a165e",
   "metadata": {
    "execution": {
     "iopub.execute_input": "2024-05-04T21:04:08.287935Z",
     "iopub.status.busy": "2024-05-04T21:04:08.287330Z",
     "iopub.status.idle": "2024-05-04T21:04:08.298764Z",
     "shell.execute_reply": "2024-05-04T21:04:08.297611Z"
    },
    "papermill": {
     "duration": 0.037329,
     "end_time": "2024-05-04T21:04:08.301003",
     "exception": false,
     "start_time": "2024-05-04T21:04:08.263674",
     "status": "completed"
    },
    "tags": []
   },
   "outputs": [
    {
     "name": "stdout",
     "output_type": "stream",
     "text": [
      "<class 'pandas.core.frame.DataFrame'>\n",
      "RangeIndex: 1691 entries, 0 to 1690\n",
      "Data columns (total 13 columns):\n",
      " #   Column                 Non-Null Count  Dtype  \n",
      "---  ------                 --------------  -----  \n",
      " 0   Unnamed: 0             1691 non-null   int64  \n",
      " 1   gender                 1691 non-null   object \n",
      " 2   age                    1691 non-null   int64  \n",
      " 3   marital_status         1691 non-null   object \n",
      " 4   highest_qualification  1691 non-null   object \n",
      " 5   nationality            1691 non-null   object \n",
      " 6   ethnicity              1691 non-null   object \n",
      " 7   gross_income           1691 non-null   object \n",
      " 8   region                 1691 non-null   object \n",
      " 9   smoke                  1691 non-null   object \n",
      " 10  amt_weekends           1691 non-null   float64\n",
      " 11  amt_weekdays           1691 non-null   float64\n",
      " 12  type                   1691 non-null   object \n",
      "dtypes: float64(2), int64(2), object(9)\n",
      "memory usage: 171.9+ KB\n"
     ]
    }
   ],
   "source": [
    "df.info()"
   ]
  },
  {
   "cell_type": "code",
   "execution_count": 13,
   "id": "c8e0a565",
   "metadata": {
    "execution": {
     "iopub.execute_input": "2024-05-04T21:04:08.347035Z",
     "iopub.status.busy": "2024-05-04T21:04:08.346665Z",
     "iopub.status.idle": "2024-05-04T21:04:08.354614Z",
     "shell.execute_reply": "2024-05-04T21:04:08.353522Z"
    },
    "papermill": {
     "duration": 0.033754,
     "end_time": "2024-05-04T21:04:08.356979",
     "exception": false,
     "start_time": "2024-05-04T21:04:08.323225",
     "status": "completed"
    },
    "tags": []
   },
   "outputs": [],
   "source": [
    "df.drop(columns='Unnamed: 0',inplace=True)"
   ]
  },
  {
   "cell_type": "code",
   "execution_count": 14,
   "id": "5f7f83f7",
   "metadata": {
    "execution": {
     "iopub.execute_input": "2024-05-04T21:04:08.405069Z",
     "iopub.status.busy": "2024-05-04T21:04:08.404654Z",
     "iopub.status.idle": "2024-05-04T21:04:08.422100Z",
     "shell.execute_reply": "2024-05-04T21:04:08.421164Z"
    },
    "papermill": {
     "duration": 0.042731,
     "end_time": "2024-05-04T21:04:08.424000",
     "exception": false,
     "start_time": "2024-05-04T21:04:08.381269",
     "status": "completed"
    },
    "tags": []
   },
   "outputs": [
    {
     "data": {
      "text/html": [
       "<div>\n",
       "<style scoped>\n",
       "    .dataframe tbody tr th:only-of-type {\n",
       "        vertical-align: middle;\n",
       "    }\n",
       "\n",
       "    .dataframe tbody tr th {\n",
       "        vertical-align: top;\n",
       "    }\n",
       "\n",
       "    .dataframe thead th {\n",
       "        text-align: right;\n",
       "    }\n",
       "</style>\n",
       "<table border=\"1\" class=\"dataframe\">\n",
       "  <thead>\n",
       "    <tr style=\"text-align: right;\">\n",
       "      <th></th>\n",
       "      <th>gender</th>\n",
       "      <th>age</th>\n",
       "      <th>marital_status</th>\n",
       "      <th>highest_qualification</th>\n",
       "      <th>nationality</th>\n",
       "      <th>ethnicity</th>\n",
       "      <th>gross_income</th>\n",
       "      <th>region</th>\n",
       "      <th>smoke</th>\n",
       "      <th>amt_weekends</th>\n",
       "      <th>amt_weekdays</th>\n",
       "      <th>type</th>\n",
       "    </tr>\n",
       "  </thead>\n",
       "  <tbody>\n",
       "    <tr>\n",
       "      <th>0</th>\n",
       "      <td>Male</td>\n",
       "      <td>38</td>\n",
       "      <td>Divorced</td>\n",
       "      <td>No Qualification</td>\n",
       "      <td>British</td>\n",
       "      <td>White</td>\n",
       "      <td>2,600 to 5,200</td>\n",
       "      <td>The North</td>\n",
       "      <td>No</td>\n",
       "      <td>0.0</td>\n",
       "      <td>0.0</td>\n",
       "      <td>Non-Smoker</td>\n",
       "    </tr>\n",
       "    <tr>\n",
       "      <th>1</th>\n",
       "      <td>Female</td>\n",
       "      <td>42</td>\n",
       "      <td>Single</td>\n",
       "      <td>No Qualification</td>\n",
       "      <td>British</td>\n",
       "      <td>White</td>\n",
       "      <td>Under 2,600</td>\n",
       "      <td>The North</td>\n",
       "      <td>Yes</td>\n",
       "      <td>12.0</td>\n",
       "      <td>12.0</td>\n",
       "      <td>Packets</td>\n",
       "    </tr>\n",
       "    <tr>\n",
       "      <th>2</th>\n",
       "      <td>Male</td>\n",
       "      <td>40</td>\n",
       "      <td>Married</td>\n",
       "      <td>Degree</td>\n",
       "      <td>English</td>\n",
       "      <td>White</td>\n",
       "      <td>28,600 to 36,400</td>\n",
       "      <td>The North</td>\n",
       "      <td>No</td>\n",
       "      <td>0.0</td>\n",
       "      <td>0.0</td>\n",
       "      <td>Non-Smoker</td>\n",
       "    </tr>\n",
       "    <tr>\n",
       "      <th>3</th>\n",
       "      <td>Female</td>\n",
       "      <td>40</td>\n",
       "      <td>Married</td>\n",
       "      <td>Degree</td>\n",
       "      <td>English</td>\n",
       "      <td>White</td>\n",
       "      <td>10,400 to 15,600</td>\n",
       "      <td>The North</td>\n",
       "      <td>No</td>\n",
       "      <td>0.0</td>\n",
       "      <td>0.0</td>\n",
       "      <td>Non-Smoker</td>\n",
       "    </tr>\n",
       "    <tr>\n",
       "      <th>4</th>\n",
       "      <td>Female</td>\n",
       "      <td>39</td>\n",
       "      <td>Married</td>\n",
       "      <td>GCSE/O Level</td>\n",
       "      <td>British</td>\n",
       "      <td>White</td>\n",
       "      <td>2,600 to 5,200</td>\n",
       "      <td>The North</td>\n",
       "      <td>No</td>\n",
       "      <td>0.0</td>\n",
       "      <td>0.0</td>\n",
       "      <td>Non-Smoker</td>\n",
       "    </tr>\n",
       "  </tbody>\n",
       "</table>\n",
       "</div>"
      ],
      "text/plain": [
       "   gender  age marital_status highest_qualification nationality ethnicity  \\\n",
       "0    Male   38       Divorced      No Qualification     British     White   \n",
       "1  Female   42         Single      No Qualification     British     White   \n",
       "2    Male   40        Married                Degree     English     White   \n",
       "3  Female   40        Married                Degree     English     White   \n",
       "4  Female   39        Married          GCSE/O Level     British     White   \n",
       "\n",
       "       gross_income     region smoke  amt_weekends  amt_weekdays        type  \n",
       "0    2,600 to 5,200  The North    No           0.0           0.0  Non-Smoker  \n",
       "1       Under 2,600  The North   Yes          12.0          12.0     Packets  \n",
       "2  28,600 to 36,400  The North    No           0.0           0.0  Non-Smoker  \n",
       "3  10,400 to 15,600  The North    No           0.0           0.0  Non-Smoker  \n",
       "4    2,600 to 5,200  The North    No           0.0           0.0  Non-Smoker  "
      ]
     },
     "execution_count": 14,
     "metadata": {},
     "output_type": "execute_result"
    }
   ],
   "source": [
    "df.head()"
   ]
  },
  {
   "cell_type": "markdown",
   "id": "8a36a642",
   "metadata": {
    "papermill": {
     "duration": 0.022141,
     "end_time": "2024-05-04T21:04:08.468799",
     "exception": false,
     "start_time": "2024-05-04T21:04:08.446658",
     "status": "completed"
    },
    "tags": []
   },
   "source": [
    "**I drop column Unnamed: 0 becouse i don't need for this column**"
   ]
  },
  {
   "cell_type": "markdown",
   "id": "0b0e6ba2",
   "metadata": {
    "papermill": {
     "duration": 0.02242,
     "end_time": "2024-05-04T21:04:08.514219",
     "exception": false,
     "start_time": "2024-05-04T21:04:08.491799",
     "status": "completed"
    },
    "tags": []
   },
   "source": [
    "# Visualization and Analysis"
   ]
  },
  {
   "cell_type": "code",
   "execution_count": 15,
   "id": "c23db62b",
   "metadata": {
    "execution": {
     "iopub.execute_input": "2024-05-04T21:04:08.561603Z",
     "iopub.status.busy": "2024-05-04T21:04:08.561240Z",
     "iopub.status.idle": "2024-05-04T21:04:08.577245Z",
     "shell.execute_reply": "2024-05-04T21:04:08.576167Z"
    },
    "papermill": {
     "duration": 0.042321,
     "end_time": "2024-05-04T21:04:08.579305",
     "exception": false,
     "start_time": "2024-05-04T21:04:08.536984",
     "status": "completed"
    },
    "tags": []
   },
   "outputs": [
    {
     "data": {
      "text/html": [
       "<div>\n",
       "<style scoped>\n",
       "    .dataframe tbody tr th:only-of-type {\n",
       "        vertical-align: middle;\n",
       "    }\n",
       "\n",
       "    .dataframe tbody tr th {\n",
       "        vertical-align: top;\n",
       "    }\n",
       "\n",
       "    .dataframe thead th {\n",
       "        text-align: right;\n",
       "    }\n",
       "</style>\n",
       "<table border=\"1\" class=\"dataframe\">\n",
       "  <thead>\n",
       "    <tr style=\"text-align: right;\">\n",
       "      <th></th>\n",
       "      <th>gender</th>\n",
       "      <th>age</th>\n",
       "      <th>marital_status</th>\n",
       "      <th>highest_qualification</th>\n",
       "      <th>nationality</th>\n",
       "      <th>ethnicity</th>\n",
       "      <th>gross_income</th>\n",
       "      <th>region</th>\n",
       "      <th>smoke</th>\n",
       "      <th>amt_weekends</th>\n",
       "      <th>amt_weekdays</th>\n",
       "      <th>type</th>\n",
       "    </tr>\n",
       "  </thead>\n",
       "  <tbody>\n",
       "    <tr>\n",
       "      <th>0</th>\n",
       "      <td>Male</td>\n",
       "      <td>38</td>\n",
       "      <td>Divorced</td>\n",
       "      <td>No Qualification</td>\n",
       "      <td>British</td>\n",
       "      <td>White</td>\n",
       "      <td>2,600 to 5,200</td>\n",
       "      <td>The North</td>\n",
       "      <td>No</td>\n",
       "      <td>0.0</td>\n",
       "      <td>0.0</td>\n",
       "      <td>Non-Smoker</td>\n",
       "    </tr>\n",
       "    <tr>\n",
       "      <th>1</th>\n",
       "      <td>Female</td>\n",
       "      <td>42</td>\n",
       "      <td>Single</td>\n",
       "      <td>No Qualification</td>\n",
       "      <td>British</td>\n",
       "      <td>White</td>\n",
       "      <td>Under 2,600</td>\n",
       "      <td>The North</td>\n",
       "      <td>Yes</td>\n",
       "      <td>12.0</td>\n",
       "      <td>12.0</td>\n",
       "      <td>Packets</td>\n",
       "    </tr>\n",
       "    <tr>\n",
       "      <th>2</th>\n",
       "      <td>Male</td>\n",
       "      <td>40</td>\n",
       "      <td>Married</td>\n",
       "      <td>Degree</td>\n",
       "      <td>English</td>\n",
       "      <td>White</td>\n",
       "      <td>28,600 to 36,400</td>\n",
       "      <td>The North</td>\n",
       "      <td>No</td>\n",
       "      <td>0.0</td>\n",
       "      <td>0.0</td>\n",
       "      <td>Non-Smoker</td>\n",
       "    </tr>\n",
       "    <tr>\n",
       "      <th>3</th>\n",
       "      <td>Female</td>\n",
       "      <td>40</td>\n",
       "      <td>Married</td>\n",
       "      <td>Degree</td>\n",
       "      <td>English</td>\n",
       "      <td>White</td>\n",
       "      <td>10,400 to 15,600</td>\n",
       "      <td>The North</td>\n",
       "      <td>No</td>\n",
       "      <td>0.0</td>\n",
       "      <td>0.0</td>\n",
       "      <td>Non-Smoker</td>\n",
       "    </tr>\n",
       "    <tr>\n",
       "      <th>4</th>\n",
       "      <td>Female</td>\n",
       "      <td>39</td>\n",
       "      <td>Married</td>\n",
       "      <td>GCSE/O Level</td>\n",
       "      <td>British</td>\n",
       "      <td>White</td>\n",
       "      <td>2,600 to 5,200</td>\n",
       "      <td>The North</td>\n",
       "      <td>No</td>\n",
       "      <td>0.0</td>\n",
       "      <td>0.0</td>\n",
       "      <td>Non-Smoker</td>\n",
       "    </tr>\n",
       "  </tbody>\n",
       "</table>\n",
       "</div>"
      ],
      "text/plain": [
       "   gender  age marital_status highest_qualification nationality ethnicity  \\\n",
       "0    Male   38       Divorced      No Qualification     British     White   \n",
       "1  Female   42         Single      No Qualification     British     White   \n",
       "2    Male   40        Married                Degree     English     White   \n",
       "3  Female   40        Married                Degree     English     White   \n",
       "4  Female   39        Married          GCSE/O Level     British     White   \n",
       "\n",
       "       gross_income     region smoke  amt_weekends  amt_weekdays        type  \n",
       "0    2,600 to 5,200  The North    No           0.0           0.0  Non-Smoker  \n",
       "1       Under 2,600  The North   Yes          12.0          12.0     Packets  \n",
       "2  28,600 to 36,400  The North    No           0.0           0.0  Non-Smoker  \n",
       "3  10,400 to 15,600  The North    No           0.0           0.0  Non-Smoker  \n",
       "4    2,600 to 5,200  The North    No           0.0           0.0  Non-Smoker  "
      ]
     },
     "execution_count": 15,
     "metadata": {},
     "output_type": "execute_result"
    }
   ],
   "source": [
    "df.head()"
   ]
  },
  {
   "cell_type": "code",
   "execution_count": 16,
   "id": "310f9b12",
   "metadata": {
    "execution": {
     "iopub.execute_input": "2024-05-04T21:04:08.627140Z",
     "iopub.status.busy": "2024-05-04T21:04:08.626759Z",
     "iopub.status.idle": "2024-05-04T21:04:08.637105Z",
     "shell.execute_reply": "2024-05-04T21:04:08.636138Z"
    },
    "papermill": {
     "duration": 0.036813,
     "end_time": "2024-05-04T21:04:08.639054",
     "exception": false,
     "start_time": "2024-05-04T21:04:08.602241",
     "status": "completed"
    },
    "tags": []
   },
   "outputs": [
    {
     "data": {
      "text/html": [
       "<div>\n",
       "<style scoped>\n",
       "    .dataframe tbody tr th:only-of-type {\n",
       "        vertical-align: middle;\n",
       "    }\n",
       "\n",
       "    .dataframe tbody tr th {\n",
       "        vertical-align: top;\n",
       "    }\n",
       "\n",
       "    .dataframe thead th {\n",
       "        text-align: right;\n",
       "    }\n",
       "</style>\n",
       "<table border=\"1\" class=\"dataframe\">\n",
       "  <thead>\n",
       "    <tr style=\"text-align: right;\">\n",
       "      <th></th>\n",
       "      <th>gender</th>\n",
       "      <th>count</th>\n",
       "    </tr>\n",
       "  </thead>\n",
       "  <tbody>\n",
       "    <tr>\n",
       "      <th>0</th>\n",
       "      <td>Female</td>\n",
       "      <td>965</td>\n",
       "    </tr>\n",
       "    <tr>\n",
       "      <th>1</th>\n",
       "      <td>Male</td>\n",
       "      <td>726</td>\n",
       "    </tr>\n",
       "  </tbody>\n",
       "</table>\n",
       "</div>"
      ],
      "text/plain": [
       "   gender  count\n",
       "0  Female    965\n",
       "1    Male    726"
      ]
     },
     "execution_count": 16,
     "metadata": {},
     "output_type": "execute_result"
    }
   ],
   "source": [
    "gender = df['gender'].value_counts().reset_index()\n",
    "gender"
   ]
  },
  {
   "cell_type": "code",
   "execution_count": 17,
   "id": "14b9e9e9",
   "metadata": {
    "execution": {
     "iopub.execute_input": "2024-05-04T21:04:08.687190Z",
     "iopub.status.busy": "2024-05-04T21:04:08.686440Z",
     "iopub.status.idle": "2024-05-04T21:04:08.871504Z",
     "shell.execute_reply": "2024-05-04T21:04:08.870330Z"
    },
    "papermill": {
     "duration": 0.211625,
     "end_time": "2024-05-04T21:04:08.873769",
     "exception": false,
     "start_time": "2024-05-04T21:04:08.662144",
     "status": "completed"
    },
    "tags": []
   },
   "outputs": [
    {
     "data": {
      "image/png": "[encoded data removed]",
      "text/plain": [
       "<Figure size 600x600 with 1 Axes>"
      ]
     },
     "metadata": {},
     "output_type": "display_data"
    }
   ],
   "source": [
    "plt.figure(figsize=(6, 6))\n",
    "plt.pie(gender['count'], labels=gender['gender'], autopct='%1.1f%%', startangle=140,colors=['#ff9999', '#66b3ff'])\n",
    "plt.axis('equal')\n",
    "plt.legend(loc = 'upper left')\n",
    "plt.title('Gender Distribution')\n",
    "plt.show()"
   ]
  },
  {
   "cell_type": "markdown",
   "id": "fba7cd1d",
   "metadata": {
    "papermill": {
     "duration": 0.025484,
     "end_time": "2024-05-04T21:04:08.938200",
     "exception": false,
     "start_time": "2024-05-04T21:04:08.912716",
     "status": "completed"
    },
    "tags": []
   },
   "source": [
    "**show the number of male and female in data**"
   ]
  },
  {
   "cell_type": "markdown",
   "id": "b32cedc7",
   "metadata": {
    "papermill": {
     "duration": 0.030292,
     "end_time": "2024-05-04T21:04:08.999731",
     "exception": false,
     "start_time": "2024-05-04T21:04:08.969439",
     "status": "completed"
    },
    "tags": []
   },
   "source": [
    "<h2>number of male and female are smoke<h2>"
   ]
  },
  {
   "cell_type": "code",
   "execution_count": 18,
   "id": "e420c432",
   "metadata": {
    "execution": {
     "iopub.execute_input": "2024-05-04T21:04:09.051515Z",
     "iopub.status.busy": "2024-05-04T21:04:09.051150Z",
     "iopub.status.idle": "2024-05-04T21:04:09.111372Z",
     "shell.execute_reply": "2024-05-04T21:04:09.110062Z"
    },
    "papermill": {
     "duration": 0.090224,
     "end_time": "2024-05-04T21:04:09.114214",
     "exception": false,
     "start_time": "2024-05-04T21:04:09.023990",
     "status": "completed"
    },
    "tags": []
   },
   "outputs": [
    {
     "data": {
      "text/html": [
       "<div>\n",
       "<style scoped>\n",
       "    .dataframe tbody tr th:only-of-type {\n",
       "        vertical-align: middle;\n",
       "    }\n",
       "\n",
       "    .dataframe tbody tr th {\n",
       "        vertical-align: top;\n",
       "    }\n",
       "\n",
       "    .dataframe thead th {\n",
       "        text-align: right;\n",
       "    }\n",
       "</style>\n",
       "<table border=\"1\" class=\"dataframe\">\n",
       "  <thead>\n",
       "    <tr style=\"text-align: right;\">\n",
       "      <th></th>\n",
       "      <th>gender</th>\n",
       "      <th>age</th>\n",
       "      <th>marital_status</th>\n",
       "      <th>highest_qualification</th>\n",
       "      <th>nationality</th>\n",
       "      <th>ethnicity</th>\n",
       "      <th>gross_income</th>\n",
       "      <th>region</th>\n",
       "      <th>smoke</th>\n",
       "      <th>amt_weekends</th>\n",
       "      <th>amt_weekdays</th>\n",
       "      <th>type</th>\n",
       "      <th>count</th>\n",
       "    </tr>\n",
       "  </thead>\n",
       "  <tbody>\n",
       "    <tr>\n",
       "      <th>0</th>\n",
       "      <td>Female</td>\n",
       "      <td>16</td>\n",
       "      <td>Single</td>\n",
       "      <td>GCSE/CSE</td>\n",
       "      <td>British</td>\n",
       "      <td>White</td>\n",
       "      <td>Under 2,600</td>\n",
       "      <td>Midlands &amp; East Anglia</td>\n",
       "      <td>Yes</td>\n",
       "      <td>2.0</td>\n",
       "      <td>2.0</td>\n",
       "      <td>Packets</td>\n",
       "      <td>1</td>\n",
       "    </tr>\n",
       "    <tr>\n",
       "      <th>1</th>\n",
       "      <td>Female</td>\n",
       "      <td>16</td>\n",
       "      <td>Single</td>\n",
       "      <td>GCSE/O Level</td>\n",
       "      <td>British</td>\n",
       "      <td>White</td>\n",
       "      <td>5,200 to 10,400</td>\n",
       "      <td>The North</td>\n",
       "      <td>Yes</td>\n",
       "      <td>12.0</td>\n",
       "      <td>12.0</td>\n",
       "      <td>Packets</td>\n",
       "      <td>1</td>\n",
       "    </tr>\n",
       "    <tr>\n",
       "      <th>2</th>\n",
       "      <td>Female</td>\n",
       "      <td>17</td>\n",
       "      <td>Single</td>\n",
       "      <td>GCSE/CSE</td>\n",
       "      <td>Scottish</td>\n",
       "      <td>White</td>\n",
       "      <td>5,200 to 10,400</td>\n",
       "      <td>Scotland</td>\n",
       "      <td>Yes</td>\n",
       "      <td>20.0</td>\n",
       "      <td>15.0</td>\n",
       "      <td>Packets</td>\n",
       "      <td>1</td>\n",
       "    </tr>\n",
       "    <tr>\n",
       "      <th>3</th>\n",
       "      <td>Female</td>\n",
       "      <td>17</td>\n",
       "      <td>Single</td>\n",
       "      <td>GCSE/O Level</td>\n",
       "      <td>English</td>\n",
       "      <td>White</td>\n",
       "      <td>Under 2,600</td>\n",
       "      <td>South West</td>\n",
       "      <td>Yes</td>\n",
       "      <td>20.0</td>\n",
       "      <td>10.0</td>\n",
       "      <td>Both/Mainly Packets</td>\n",
       "      <td>1</td>\n",
       "    </tr>\n",
       "    <tr>\n",
       "      <th>4</th>\n",
       "      <td>Female</td>\n",
       "      <td>18</td>\n",
       "      <td>Single</td>\n",
       "      <td>GCSE/O Level</td>\n",
       "      <td>British</td>\n",
       "      <td>White</td>\n",
       "      <td>Refused</td>\n",
       "      <td>The North</td>\n",
       "      <td>Yes</td>\n",
       "      <td>8.0</td>\n",
       "      <td>8.0</td>\n",
       "      <td>Hand-Rolled</td>\n",
       "      <td>1</td>\n",
       "    </tr>\n",
       "    <tr>\n",
       "      <th>...</th>\n",
       "      <td>...</td>\n",
       "      <td>...</td>\n",
       "      <td>...</td>\n",
       "      <td>...</td>\n",
       "      <td>...</td>\n",
       "      <td>...</td>\n",
       "      <td>...</td>\n",
       "      <td>...</td>\n",
       "      <td>...</td>\n",
       "      <td>...</td>\n",
       "      <td>...</td>\n",
       "      <td>...</td>\n",
       "      <td>...</td>\n",
       "    </tr>\n",
       "    <tr>\n",
       "      <th>416</th>\n",
       "      <td>Male</td>\n",
       "      <td>77</td>\n",
       "      <td>Divorced</td>\n",
       "      <td>Other/Sub Degree</td>\n",
       "      <td>English</td>\n",
       "      <td>White</td>\n",
       "      <td>5,200 to 10,400</td>\n",
       "      <td>Scotland</td>\n",
       "      <td>Yes</td>\n",
       "      <td>20.0</td>\n",
       "      <td>10.0</td>\n",
       "      <td>Packets</td>\n",
       "      <td>1</td>\n",
       "    </tr>\n",
       "    <tr>\n",
       "      <th>417</th>\n",
       "      <td>Male</td>\n",
       "      <td>77</td>\n",
       "      <td>Married</td>\n",
       "      <td>No Qualification</td>\n",
       "      <td>English</td>\n",
       "      <td>White</td>\n",
       "      <td>2,600 to 5,200</td>\n",
       "      <td>South East</td>\n",
       "      <td>Yes</td>\n",
       "      <td>15.0</td>\n",
       "      <td>15.0</td>\n",
       "      <td>Packets</td>\n",
       "      <td>1</td>\n",
       "    </tr>\n",
       "    <tr>\n",
       "      <th>418</th>\n",
       "      <td>Male</td>\n",
       "      <td>78</td>\n",
       "      <td>Widowed</td>\n",
       "      <td>No Qualification</td>\n",
       "      <td>British</td>\n",
       "      <td>White</td>\n",
       "      <td>5,200 to 10,400</td>\n",
       "      <td>South West</td>\n",
       "      <td>Yes</td>\n",
       "      <td>15.0</td>\n",
       "      <td>12.0</td>\n",
       "      <td>Packets</td>\n",
       "      <td>1</td>\n",
       "    </tr>\n",
       "    <tr>\n",
       "      <th>419</th>\n",
       "      <td>Male</td>\n",
       "      <td>78</td>\n",
       "      <td>Widowed</td>\n",
       "      <td>No Qualification</td>\n",
       "      <td>English</td>\n",
       "      <td>White</td>\n",
       "      <td>5,200 to 10,400</td>\n",
       "      <td>The North</td>\n",
       "      <td>Yes</td>\n",
       "      <td>50.0</td>\n",
       "      <td>50.0</td>\n",
       "      <td>Both/Mainly Packets</td>\n",
       "      <td>1</td>\n",
       "    </tr>\n",
       "    <tr>\n",
       "      <th>420</th>\n",
       "      <td>Male</td>\n",
       "      <td>82</td>\n",
       "      <td>Married</td>\n",
       "      <td>Other/Sub Degree</td>\n",
       "      <td>Other</td>\n",
       "      <td>White</td>\n",
       "      <td>2,600 to 5,200</td>\n",
       "      <td>London</td>\n",
       "      <td>Yes</td>\n",
       "      <td>3.0</td>\n",
       "      <td>3.0</td>\n",
       "      <td>Packets</td>\n",
       "      <td>1</td>\n",
       "    </tr>\n",
       "  </tbody>\n",
       "</table>\n",
       "<p>421 rows × 13 columns</p>\n",
       "</div>"
      ],
      "text/plain": [
       "     gender  age marital_status highest_qualification nationality ethnicity  \\\n",
       "0    Female   16         Single              GCSE/CSE     British     White   \n",
       "1    Female   16         Single          GCSE/O Level     British     White   \n",
       "2    Female   17         Single              GCSE/CSE    Scottish     White   \n",
       "3    Female   17         Single          GCSE/O Level     English     White   \n",
       "4    Female   18         Single          GCSE/O Level     British     White   \n",
       "..      ...  ...            ...                   ...         ...       ...   \n",
       "416    Male   77       Divorced      Other/Sub Degree     English     White   \n",
       "417    Male   77        Married      No Qualification     English     White   \n",
       "418    Male   78        Widowed      No Qualification     British     White   \n",
       "419    Male   78        Widowed      No Qualification     English     White   \n",
       "420    Male   82        Married      Other/Sub Degree       Other     White   \n",
       "\n",
       "        gross_income                  region smoke  amt_weekends  \\\n",
       "0        Under 2,600  Midlands & East Anglia   Yes           2.0   \n",
       "1    5,200 to 10,400               The North   Yes          12.0   \n",
       "2    5,200 to 10,400                Scotland   Yes          20.0   \n",
       "3        Under 2,600              South West   Yes          20.0   \n",
       "4            Refused               The North   Yes           8.0   \n",
       "..               ...                     ...   ...           ...   \n",
       "416  5,200 to 10,400                Scotland   Yes          20.0   \n",
       "417   2,600 to 5,200              South East   Yes          15.0   \n",
       "418  5,200 to 10,400              South West   Yes          15.0   \n",
       "419  5,200 to 10,400               The North   Yes          50.0   \n",
       "420   2,600 to 5,200                  London   Yes           3.0   \n",
       "\n",
       "     amt_weekdays                 type  count  \n",
       "0             2.0              Packets      1  \n",
       "1            12.0              Packets      1  \n",
       "2            15.0              Packets      1  \n",
       "3            10.0  Both/Mainly Packets      1  \n",
       "4             8.0          Hand-Rolled      1  \n",
       "..            ...                  ...    ...  \n",
       "416          10.0              Packets      1  \n",
       "417          15.0              Packets      1  \n",
       "418          12.0              Packets      1  \n",
       "419          50.0  Both/Mainly Packets      1  \n",
       "420           3.0              Packets      1  \n",
       "\n",
       "[421 rows x 13 columns]"
      ]
     },
     "execution_count": 18,
     "metadata": {},
     "output_type": "execute_result"
    }
   ],
   "source": [
    "male_female_smoke = df[df['smoke'] == 'Yes'].groupby('gender').value_counts().reset_index()\n",
    "male_female_smoke"
   ]
  },
  {
   "cell_type": "code",
   "execution_count": 19,
   "id": "f3a75a75",
   "metadata": {
    "execution": {
     "iopub.execute_input": "2024-05-04T21:04:09.166139Z",
     "iopub.status.busy": "2024-05-04T21:04:09.165737Z",
     "iopub.status.idle": "2024-05-04T21:04:09.177208Z",
     "shell.execute_reply": "2024-05-04T21:04:09.176163Z"
    },
    "papermill": {
     "duration": 0.03993,
     "end_time": "2024-05-04T21:04:09.179372",
     "exception": false,
     "start_time": "2024-05-04T21:04:09.139442",
     "status": "completed"
    },
    "tags": []
   },
   "outputs": [
    {
     "data": {
      "text/html": [
       "<div>\n",
       "<style scoped>\n",
       "    .dataframe tbody tr th:only-of-type {\n",
       "        vertical-align: middle;\n",
       "    }\n",
       "\n",
       "    .dataframe tbody tr th {\n",
       "        vertical-align: top;\n",
       "    }\n",
       "\n",
       "    .dataframe thead th {\n",
       "        text-align: right;\n",
       "    }\n",
       "</style>\n",
       "<table border=\"1\" class=\"dataframe\">\n",
       "  <thead>\n",
       "    <tr style=\"text-align: right;\">\n",
       "      <th></th>\n",
       "      <th>gender</th>\n",
       "      <th>count</th>\n",
       "    </tr>\n",
       "  </thead>\n",
       "  <tbody>\n",
       "    <tr>\n",
       "      <th>0</th>\n",
       "      <td>Female</td>\n",
       "      <td>234</td>\n",
       "    </tr>\n",
       "    <tr>\n",
       "      <th>1</th>\n",
       "      <td>Male</td>\n",
       "      <td>187</td>\n",
       "    </tr>\n",
       "  </tbody>\n",
       "</table>\n",
       "</div>"
      ],
      "text/plain": [
       "   gender  count\n",
       "0  Female    234\n",
       "1    Male    187"
      ]
     },
     "execution_count": 19,
     "metadata": {},
     "output_type": "execute_result"
    }
   ],
   "source": [
    "malefemalesmoke = male_female_smoke['gender'].value_counts().reset_index()\n",
    "malefemalesmoke"
   ]
  },
  {
   "cell_type": "code",
   "execution_count": 20,
   "id": "2d886854",
   "metadata": {
    "execution": {
     "iopub.execute_input": "2024-05-04T21:04:09.231171Z",
     "iopub.status.busy": "2024-05-04T21:04:09.230311Z",
     "iopub.status.idle": "2024-05-04T21:04:09.388820Z",
     "shell.execute_reply": "2024-05-04T21:04:09.387561Z"
    },
    "papermill": {
     "duration": 0.188772,
     "end_time": "2024-05-04T21:04:09.392650",
     "exception": false,
     "start_time": "2024-05-04T21:04:09.203878",
     "status": "completed"
    },
    "tags": []
   },
   "outputs": [
    {
     "data": {
      "image/png": "[encoded data removed]",
      "text/plain": [
       "<Figure size 600x600 with 1 Axes>"
      ]
     },
     "metadata": {},
     "output_type": "display_data"
    }
   ],
   "source": [
    "plt.figure(figsize=(6, 6))\n",
    "plt.pie(malefemalesmoke['count'], labels=malefemalesmoke['gender'], autopct='%1.1f%%', startangle=140,colors=['#ff9999', '#66b3ff'])\n",
    "plt.axis('equal')\n",
    "plt.legend(loc = 'upper left')\n",
    "plt.title('Male Female Smoke Distribution')\n",
    "plt.show()"
   ]
  },
  {
   "cell_type": "markdown",
   "id": "4d1cda8c",
   "metadata": {
    "papermill": {
     "duration": 0.033089,
     "end_time": "2024-05-04T21:04:09.469406",
     "exception": false,
     "start_time": "2024-05-04T21:04:09.436317",
     "status": "completed"
    },
    "tags": []
   },
   "source": [
    "**From this Graph we can see the number of women is bigger than male about smoking**"
   ]
  },
  {
   "cell_type": "markdown",
   "id": "3de6d08c",
   "metadata": {
    "papermill": {
     "duration": 0.02482,
     "end_time": "2024-05-04T21:04:09.519145",
     "exception": false,
     "start_time": "2024-05-04T21:04:09.494325",
     "status": "completed"
    },
    "tags": []
   },
   "source": [
    "<h2>Average age per male and female<h2>"
   ]
  },
  {
   "cell_type": "code",
   "execution_count": 21,
   "id": "bd2fa45a",
   "metadata": {
    "execution": {
     "iopub.execute_input": "2024-05-04T21:04:09.570618Z",
     "iopub.status.busy": "2024-05-04T21:04:09.570246Z",
     "iopub.status.idle": "2024-05-04T21:04:09.583933Z",
     "shell.execute_reply": "2024-05-04T21:04:09.582969Z"
    },
    "papermill": {
     "duration": 0.041677,
     "end_time": "2024-05-04T21:04:09.585988",
     "exception": false,
     "start_time": "2024-05-04T21:04:09.544311",
     "status": "completed"
    },
    "tags": []
   },
   "outputs": [
    {
     "data": {
      "text/html": [
       "<div>\n",
       "<style scoped>\n",
       "    .dataframe tbody tr th:only-of-type {\n",
       "        vertical-align: middle;\n",
       "    }\n",
       "\n",
       "    .dataframe tbody tr th {\n",
       "        vertical-align: top;\n",
       "    }\n",
       "\n",
       "    .dataframe thead th {\n",
       "        text-align: right;\n",
       "    }\n",
       "</style>\n",
       "<table border=\"1\" class=\"dataframe\">\n",
       "  <thead>\n",
       "    <tr style=\"text-align: right;\">\n",
       "      <th></th>\n",
       "      <th>gender</th>\n",
       "      <th>age</th>\n",
       "    </tr>\n",
       "  </thead>\n",
       "  <tbody>\n",
       "    <tr>\n",
       "      <th>0</th>\n",
       "      <td>Female</td>\n",
       "      <td>50.348187</td>\n",
       "    </tr>\n",
       "    <tr>\n",
       "      <th>1</th>\n",
       "      <td>Male</td>\n",
       "      <td>49.155647</td>\n",
       "    </tr>\n",
       "  </tbody>\n",
       "</table>\n",
       "</div>"
      ],
      "text/plain": [
       "   gender        age\n",
       "0  Female  50.348187\n",
       "1    Male  49.155647"
      ]
     },
     "execution_count": 21,
     "metadata": {},
     "output_type": "execute_result"
    }
   ],
   "source": [
    "avg_age = df.groupby('gender')['age'].mean().reset_index()\n",
    "avg_age"
   ]
  },
  {
   "cell_type": "code",
   "execution_count": 22,
   "id": "d8f2268e",
   "metadata": {
    "execution": {
     "iopub.execute_input": "2024-05-04T21:04:09.637869Z",
     "iopub.status.busy": "2024-05-04T21:04:09.637519Z",
     "iopub.status.idle": "2024-05-04T21:04:09.851166Z",
     "shell.execute_reply": "2024-05-04T21:04:09.850125Z"
    },
    "papermill": {
     "duration": 0.242601,
     "end_time": "2024-05-04T21:04:09.853631",
     "exception": false,
     "start_time": "2024-05-04T21:04:09.611030",
     "status": "completed"
    },
    "tags": []
   },
   "outputs": [
    {
     "data": {
      "image/png": "[encoded data removed]",
      "text/plain": [
       "<Figure size 800x600 with 1 Axes>"
      ]
     },
     "metadata": {},
     "output_type": "display_data"
    }
   ],
   "source": [
    "plt.figure(figsize=(8, 6))\n",
    "sns.barplot(x='gender', y='age', data=avg_age, palette=['#ff9999', '#66b3ff'])\n",
    "plt.title('Average Age by Gender')\n",
    "plt.xlabel('Gender')\n",
    "plt.ylabel('Average Age')\n",
    "plt.show()"
   ]
  },
  {
   "cell_type": "markdown",
   "id": "5061a7f4",
   "metadata": {
    "papermill": {
     "duration": 0.02482,
     "end_time": "2024-05-04T21:04:09.904672",
     "exception": false,
     "start_time": "2024-05-04T21:04:09.879852",
     "status": "completed"
    },
    "tags": []
   },
   "source": [
    "**From this graph we can see the avg of age of male and female and we found no diff in age**"
   ]
  },
  {
   "cell_type": "markdown",
   "id": "4ac3ad86",
   "metadata": {
    "papermill": {
     "duration": 0.024743,
     "end_time": "2024-05-04T21:04:09.954523",
     "exception": false,
     "start_time": "2024-05-04T21:04:09.929780",
     "status": "completed"
    },
    "tags": []
   },
   "source": [
    "<h2>marital_status<h2>"
   ]
  },
  {
   "cell_type": "code",
   "execution_count": 23,
   "id": "2de0f2b5",
   "metadata": {
    "execution": {
     "iopub.execute_input": "2024-05-04T21:04:10.007344Z",
     "iopub.status.busy": "2024-05-04T21:04:10.006924Z",
     "iopub.status.idle": "2024-05-04T21:04:10.020244Z",
     "shell.execute_reply": "2024-05-04T21:04:10.019176Z"
    },
    "papermill": {
     "duration": 0.042634,
     "end_time": "2024-05-04T21:04:10.022365",
     "exception": false,
     "start_time": "2024-05-04T21:04:09.979731",
     "status": "completed"
    },
    "tags": []
   },
   "outputs": [
    {
     "data": {
      "text/html": [
       "<div>\n",
       "<style scoped>\n",
       "    .dataframe tbody tr th:only-of-type {\n",
       "        vertical-align: middle;\n",
       "    }\n",
       "\n",
       "    .dataframe tbody tr th {\n",
       "        vertical-align: top;\n",
       "    }\n",
       "\n",
       "    .dataframe thead th {\n",
       "        text-align: right;\n",
       "    }\n",
       "</style>\n",
       "<table border=\"1\" class=\"dataframe\">\n",
       "  <thead>\n",
       "    <tr style=\"text-align: right;\">\n",
       "      <th></th>\n",
       "      <th>marital_status</th>\n",
       "      <th>count</th>\n",
       "    </tr>\n",
       "  </thead>\n",
       "  <tbody>\n",
       "    <tr>\n",
       "      <th>0</th>\n",
       "      <td>Married</td>\n",
       "      <td>812</td>\n",
       "    </tr>\n",
       "    <tr>\n",
       "      <th>1</th>\n",
       "      <td>Single</td>\n",
       "      <td>427</td>\n",
       "    </tr>\n",
       "    <tr>\n",
       "      <th>2</th>\n",
       "      <td>Widowed</td>\n",
       "      <td>223</td>\n",
       "    </tr>\n",
       "    <tr>\n",
       "      <th>3</th>\n",
       "      <td>Divorced</td>\n",
       "      <td>161</td>\n",
       "    </tr>\n",
       "    <tr>\n",
       "      <th>4</th>\n",
       "      <td>Separated</td>\n",
       "      <td>68</td>\n",
       "    </tr>\n",
       "  </tbody>\n",
       "</table>\n",
       "</div>"
      ],
      "text/plain": [
       "  marital_status  count\n",
       "0        Married    812\n",
       "1         Single    427\n",
       "2        Widowed    223\n",
       "3       Divorced    161\n",
       "4      Separated     68"
      ]
     },
     "execution_count": 23,
     "metadata": {},
     "output_type": "execute_result"
    }
   ],
   "source": [
    "marital_status = df['marital_status'].value_counts().reset_index()\n",
    "marital_status"
   ]
  },
  {
   "cell_type": "code",
   "execution_count": 24,
   "id": "e9fc2b5d",
   "metadata": {
    "execution": {
     "iopub.execute_input": "2024-05-04T21:04:10.076285Z",
     "iopub.status.busy": "2024-05-04T21:04:10.075506Z",
     "iopub.status.idle": "2024-05-04T21:04:10.341601Z",
     "shell.execute_reply": "2024-05-04T21:04:10.340199Z"
    },
    "papermill": {
     "duration": 0.295683,
     "end_time": "2024-05-04T21:04:10.344498",
     "exception": false,
     "start_time": "2024-05-04T21:04:10.048815",
     "status": "completed"
    },
    "tags": []
   },
   "outputs": [
    {
     "data": {
      "image/png": "[encoded data removed]",
      "text/plain": [
       "<Figure size 800x600 with 1 Axes>"
      ]
     },
     "metadata": {},
     "output_type": "display_data"
    }
   ],
   "source": [
    "plt.figure(figsize=(8, 6))\n",
    "sns.barplot(x='marital_status', y='count', data=marital_status)\n",
    "plt.title('Count of Individuals by Marital Status')\n",
    "plt.xlabel('Marital Status')\n",
    "plt.ylabel('Count')\n",
    "plt.show()"
   ]
  },
  {
   "cell_type": "code",
   "execution_count": 25,
   "id": "fe4c1a3d",
   "metadata": {
    "execution": {
     "iopub.execute_input": "2024-05-04T21:04:10.403884Z",
     "iopub.status.busy": "2024-05-04T21:04:10.403505Z",
     "iopub.status.idle": "2024-05-04T21:04:10.865156Z",
     "shell.execute_reply": "2024-05-04T21:04:10.864008Z"
    },
    "papermill": {
     "duration": 0.49288,
     "end_time": "2024-05-04T21:04:10.867516",
     "exception": false,
     "start_time": "2024-05-04T21:04:10.374636",
     "status": "completed"
    },
    "tags": []
   },
   "outputs": [
    {
     "data": {
      "text/plain": [
       "<seaborn.axisgrid.FacetGrid at 0x7d7080ef74f0>"
      ]
     },
     "execution_count": 25,
     "metadata": {},
     "output_type": "execute_result"
    },
    {
     "data": {
      "image/png": "[encoded data removed]",
      "text/plain": [
       "<Figure size 572.125x500 with 1 Axes>"
      ]
     },
     "metadata": {},
     "output_type": "display_data"
    }
   ],
   "source": [
    "sns.catplot(x=\"marital_status\", hue=\"smoke\", kind=\"count\", data=df)"
   ]
  },
  {
   "cell_type": "markdown",
   "id": "7867925d",
   "metadata": {
    "papermill": {
     "duration": 0.026028,
     "end_time": "2024-05-04T21:04:10.919737",
     "exception": false,
     "start_time": "2024-05-04T21:04:10.893709",
     "status": "completed"
    },
    "tags": []
   },
   "source": [
    "**This Graph show the number of each marital_status and who smoke more and who smoke less**"
   ]
  },
  {
   "cell_type": "code",
   "execution_count": 26,
   "id": "13273569",
   "metadata": {
    "execution": {
     "iopub.execute_input": "2024-05-04T21:04:10.974067Z",
     "iopub.status.busy": "2024-05-04T21:04:10.973708Z",
     "iopub.status.idle": "2024-05-04T21:04:10.984453Z",
     "shell.execute_reply": "2024-05-04T21:04:10.983388Z"
    },
    "papermill": {
     "duration": 0.040461,
     "end_time": "2024-05-04T21:04:10.986604",
     "exception": false,
     "start_time": "2024-05-04T21:04:10.946143",
     "status": "completed"
    },
    "tags": []
   },
   "outputs": [
    {
     "data": {
      "text/html": [
       "<div>\n",
       "<style scoped>\n",
       "    .dataframe tbody tr th:only-of-type {\n",
       "        vertical-align: middle;\n",
       "    }\n",
       "\n",
       "    .dataframe tbody tr th {\n",
       "        vertical-align: top;\n",
       "    }\n",
       "\n",
       "    .dataframe thead th {\n",
       "        text-align: right;\n",
       "    }\n",
       "</style>\n",
       "<table border=\"1\" class=\"dataframe\">\n",
       "  <thead>\n",
       "    <tr style=\"text-align: right;\">\n",
       "      <th></th>\n",
       "      <th>highest_qualification</th>\n",
       "      <th>count</th>\n",
       "    </tr>\n",
       "  </thead>\n",
       "  <tbody>\n",
       "    <tr>\n",
       "      <th>0</th>\n",
       "      <td>No Qualification</td>\n",
       "      <td>586</td>\n",
       "    </tr>\n",
       "    <tr>\n",
       "      <th>1</th>\n",
       "      <td>GCSE/O Level</td>\n",
       "      <td>308</td>\n",
       "    </tr>\n",
       "    <tr>\n",
       "      <th>2</th>\n",
       "      <td>Degree</td>\n",
       "      <td>262</td>\n",
       "    </tr>\n",
       "    <tr>\n",
       "      <th>3</th>\n",
       "      <td>Other/Sub Degree</td>\n",
       "      <td>127</td>\n",
       "    </tr>\n",
       "    <tr>\n",
       "      <th>4</th>\n",
       "      <td>Higher/Sub Degree</td>\n",
       "      <td>125</td>\n",
       "    </tr>\n",
       "    <tr>\n",
       "      <th>5</th>\n",
       "      <td>A Levels</td>\n",
       "      <td>105</td>\n",
       "    </tr>\n",
       "    <tr>\n",
       "      <th>6</th>\n",
       "      <td>GCSE/CSE</td>\n",
       "      <td>102</td>\n",
       "    </tr>\n",
       "    <tr>\n",
       "      <th>7</th>\n",
       "      <td>ONC/BTEC</td>\n",
       "      <td>76</td>\n",
       "    </tr>\n",
       "  </tbody>\n",
       "</table>\n",
       "</div>"
      ],
      "text/plain": [
       "  highest_qualification  count\n",
       "0      No Qualification    586\n",
       "1          GCSE/O Level    308\n",
       "2                Degree    262\n",
       "3      Other/Sub Degree    127\n",
       "4     Higher/Sub Degree    125\n",
       "5              A Levels    105\n",
       "6              GCSE/CSE    102\n",
       "7              ONC/BTEC     76"
      ]
     },
     "execution_count": 26,
     "metadata": {},
     "output_type": "execute_result"
    }
   ],
   "source": [
    "highest_qualification = df['highest_qualification'].value_counts().reset_index()\n",
    "highest_qualification"
   ]
  },
  {
   "cell_type": "code",
   "execution_count": 27,
   "id": "25976d71",
   "metadata": {
    "execution": {
     "iopub.execute_input": "2024-05-04T21:04:11.041884Z",
     "iopub.status.busy": "2024-05-04T21:04:11.040882Z",
     "iopub.status.idle": "2024-05-04T21:04:11.340888Z",
     "shell.execute_reply": "2024-05-04T21:04:11.339677Z"
    },
    "papermill": {
     "duration": 0.330659,
     "end_time": "2024-05-04T21:04:11.343735",
     "exception": false,
     "start_time": "2024-05-04T21:04:11.013076",
     "status": "completed"
    },
    "tags": []
   },
   "outputs": [
    {
     "data": {
      "image/png": "[encoded data removed]",
      "text/plain": [
       "<Figure size 800x600 with 1 Axes>"
      ]
     },
     "metadata": {},
     "output_type": "display_data"
    }
   ],
   "source": [
    "plt.figure(figsize=(8, 6))\n",
    "sns.barplot(x='highest_qualification', y='count', data=highest_qualification)\n",
    "plt.title('Count of Individuals by highest_qualification')\n",
    "plt.xlabel('highest_qualification')\n",
    "plt.xticks(rotation = 90)\n",
    "plt.ylabel('Count')\n",
    "plt.show()"
   ]
  },
  {
   "cell_type": "code",
   "execution_count": 28,
   "id": "5e00e7b2",
   "metadata": {
    "execution": {
     "iopub.execute_input": "2024-05-04T21:04:11.401346Z",
     "iopub.status.busy": "2024-05-04T21:04:11.400942Z",
     "iopub.status.idle": "2024-05-04T21:04:11.827918Z",
     "shell.execute_reply": "2024-05-04T21:04:11.826891Z"
    },
    "papermill": {
     "duration": 0.459147,
     "end_time": "2024-05-04T21:04:11.830370",
     "exception": false,
     "start_time": "2024-05-04T21:04:11.371223",
     "status": "completed"
    },
    "tags": []
   },
   "outputs": [
    {
     "data": {
      "image/png": "[encoded data removed]",
      "text/plain": [
       "<Figure size 572.125x500 with 1 Axes>"
      ]
     },
     "metadata": {},
     "output_type": "display_data"
    }
   ],
   "source": [
    "# plot highest_qualification against smoke with rotated xticks\n",
    "ax = sns.catplot(x=\"highest_qualification\", hue=\"smoke\", kind=\"count\", data=df)\n",
    "ax.set_xticklabels(rotation=45, horizontalalignment='right')\n",
    "\n",
    "plt.show()"
   ]
  },
  {
   "cell_type": "code",
   "execution_count": 29,
   "id": "71b03fb7",
   "metadata": {
    "execution": {
     "iopub.execute_input": "2024-05-04T21:04:11.889478Z",
     "iopub.status.busy": "2024-05-04T21:04:11.889115Z",
     "iopub.status.idle": "2024-05-04T21:04:11.899947Z",
     "shell.execute_reply": "2024-05-04T21:04:11.898882Z"
    },
    "papermill": {
     "duration": 0.043225,
     "end_time": "2024-05-04T21:04:11.902214",
     "exception": false,
     "start_time": "2024-05-04T21:04:11.858989",
     "status": "completed"
    },
    "tags": []
   },
   "outputs": [
    {
     "data": {
      "text/html": [
       "<div>\n",
       "<style scoped>\n",
       "    .dataframe tbody tr th:only-of-type {\n",
       "        vertical-align: middle;\n",
       "    }\n",
       "\n",
       "    .dataframe tbody tr th {\n",
       "        vertical-align: top;\n",
       "    }\n",
       "\n",
       "    .dataframe thead th {\n",
       "        text-align: right;\n",
       "    }\n",
       "</style>\n",
       "<table border=\"1\" class=\"dataframe\">\n",
       "  <thead>\n",
       "    <tr style=\"text-align: right;\">\n",
       "      <th></th>\n",
       "      <th>nationality</th>\n",
       "      <th>count</th>\n",
       "    </tr>\n",
       "  </thead>\n",
       "  <tbody>\n",
       "    <tr>\n",
       "      <th>0</th>\n",
       "      <td>English</td>\n",
       "      <td>833</td>\n",
       "    </tr>\n",
       "    <tr>\n",
       "      <th>1</th>\n",
       "      <td>British</td>\n",
       "      <td>538</td>\n",
       "    </tr>\n",
       "    <tr>\n",
       "      <th>2</th>\n",
       "      <td>Scottish</td>\n",
       "      <td>142</td>\n",
       "    </tr>\n",
       "    <tr>\n",
       "      <th>3</th>\n",
       "      <td>Other</td>\n",
       "      <td>71</td>\n",
       "    </tr>\n",
       "    <tr>\n",
       "      <th>4</th>\n",
       "      <td>Welsh</td>\n",
       "      <td>66</td>\n",
       "    </tr>\n",
       "    <tr>\n",
       "      <th>5</th>\n",
       "      <td>Irish</td>\n",
       "      <td>23</td>\n",
       "    </tr>\n",
       "    <tr>\n",
       "      <th>6</th>\n",
       "      <td>Refused</td>\n",
       "      <td>17</td>\n",
       "    </tr>\n",
       "    <tr>\n",
       "      <th>7</th>\n",
       "      <td>Unknown</td>\n",
       "      <td>1</td>\n",
       "    </tr>\n",
       "  </tbody>\n",
       "</table>\n",
       "</div>"
      ],
      "text/plain": [
       "  nationality  count\n",
       "0     English    833\n",
       "1     British    538\n",
       "2    Scottish    142\n",
       "3       Other     71\n",
       "4       Welsh     66\n",
       "5       Irish     23\n",
       "6     Refused     17\n",
       "7     Unknown      1"
      ]
     },
     "execution_count": 29,
     "metadata": {},
     "output_type": "execute_result"
    }
   ],
   "source": [
    "nationality = df['nationality'].value_counts().reset_index() \n",
    "nationality"
   ]
  },
  {
   "cell_type": "code",
   "execution_count": 30,
   "id": "36363dda",
   "metadata": {
    "execution": {
     "iopub.execute_input": "2024-05-04T21:04:11.961326Z",
     "iopub.status.busy": "2024-05-04T21:04:11.960961Z",
     "iopub.status.idle": "2024-05-04T21:04:12.451963Z",
     "shell.execute_reply": "2024-05-04T21:04:12.450784Z"
    },
    "papermill": {
     "duration": 0.523479,
     "end_time": "2024-05-04T21:04:12.454455",
     "exception": false,
     "start_time": "2024-05-04T21:04:11.930976",
     "status": "completed"
    },
    "tags": []
   },
   "outputs": [
    {
     "data": {
      "text/plain": [
       "<seaborn.axisgrid.FacetGrid at 0x7d707e8bbf70>"
      ]
     },
     "execution_count": 30,
     "metadata": {},
     "output_type": "execute_result"
    },
    {
     "data": {
      "image/png": "[encoded data removed]",
      "text/plain": [
       "<Figure size 572.125x500 with 1 Axes>"
      ]
     },
     "metadata": {},
     "output_type": "display_data"
    }
   ],
   "source": [
    "sns.catplot(x=\"nationality\", hue=\"smoke\", kind=\"count\", data=df)"
   ]
  },
  {
   "cell_type": "code",
   "execution_count": 31,
   "id": "91ac24b3",
   "metadata": {
    "execution": {
     "iopub.execute_input": "2024-05-04T21:04:12.513150Z",
     "iopub.status.busy": "2024-05-04T21:04:12.512749Z",
     "iopub.status.idle": "2024-05-04T21:04:12.899602Z",
     "shell.execute_reply": "2024-05-04T21:04:12.898493Z"
    },
    "papermill": {
     "duration": 0.419227,
     "end_time": "2024-05-04T21:04:12.902100",
     "exception": false,
     "start_time": "2024-05-04T21:04:12.482873",
     "status": "completed"
    },
    "tags": []
   },
   "outputs": [
    {
     "data": {
      "image/png": "[encoded data removed]",
      "text/plain": [
       "<Figure size 800x600 with 1 Axes>"
      ]
     },
     "metadata": {},
     "output_type": "display_data"
    }
   ],
   "source": [
    "plt.figure(figsize=(8, 6))\n",
    "sns.barplot(x='nationality', y='count', data=nationality)\n",
    "plt.title('Count of Individuals by nationality')\n",
    "plt.xlabel('nationality')\n",
    "plt.xticks(rotation = 90)\n",
    "plt.ylabel('Count')\n",
    "plt.show()"
   ]
  },
  {
   "cell_type": "code",
   "execution_count": 32,
   "id": "7cf792e4",
   "metadata": {
    "execution": {
     "iopub.execute_input": "2024-05-04T21:04:12.962953Z",
     "iopub.status.busy": "2024-05-04T21:04:12.962200Z",
     "iopub.status.idle": "2024-05-04T21:04:12.972739Z",
     "shell.execute_reply": "2024-05-04T21:04:12.971733Z"
    },
    "papermill": {
     "duration": 0.043714,
     "end_time": "2024-05-04T21:04:12.974904",
     "exception": false,
     "start_time": "2024-05-04T21:04:12.931190",
     "status": "completed"
    },
    "tags": []
   },
   "outputs": [
    {
     "data": {
      "text/html": [
       "<div>\n",
       "<style scoped>\n",
       "    .dataframe tbody tr th:only-of-type {\n",
       "        vertical-align: middle;\n",
       "    }\n",
       "\n",
       "    .dataframe tbody tr th {\n",
       "        vertical-align: top;\n",
       "    }\n",
       "\n",
       "    .dataframe thead th {\n",
       "        text-align: right;\n",
       "    }\n",
       "</style>\n",
       "<table border=\"1\" class=\"dataframe\">\n",
       "  <thead>\n",
       "    <tr style=\"text-align: right;\">\n",
       "      <th></th>\n",
       "      <th>ethnicity</th>\n",
       "      <th>count</th>\n",
       "    </tr>\n",
       "  </thead>\n",
       "  <tbody>\n",
       "    <tr>\n",
       "      <th>0</th>\n",
       "      <td>White</td>\n",
       "      <td>1560</td>\n",
       "    </tr>\n",
       "    <tr>\n",
       "      <th>1</th>\n",
       "      <td>Asian</td>\n",
       "      <td>41</td>\n",
       "    </tr>\n",
       "    <tr>\n",
       "      <th>2</th>\n",
       "      <td>Black</td>\n",
       "      <td>34</td>\n",
       "    </tr>\n",
       "    <tr>\n",
       "      <th>3</th>\n",
       "      <td>Chinese</td>\n",
       "      <td>27</td>\n",
       "    </tr>\n",
       "    <tr>\n",
       "      <th>4</th>\n",
       "      <td>Mixed</td>\n",
       "      <td>14</td>\n",
       "    </tr>\n",
       "    <tr>\n",
       "      <th>5</th>\n",
       "      <td>Refused</td>\n",
       "      <td>13</td>\n",
       "    </tr>\n",
       "    <tr>\n",
       "      <th>6</th>\n",
       "      <td>Unknown</td>\n",
       "      <td>2</td>\n",
       "    </tr>\n",
       "  </tbody>\n",
       "</table>\n",
       "</div>"
      ],
      "text/plain": [
       "  ethnicity  count\n",
       "0     White   1560\n",
       "1     Asian     41\n",
       "2     Black     34\n",
       "3   Chinese     27\n",
       "4     Mixed     14\n",
       "5   Refused     13\n",
       "6   Unknown      2"
      ]
     },
     "execution_count": 32,
     "metadata": {},
     "output_type": "execute_result"
    }
   ],
   "source": [
    "ethnicity = df['ethnicity'].value_counts().reset_index()\n",
    "ethnicity"
   ]
  },
  {
   "cell_type": "code",
   "execution_count": 33,
   "id": "83f1d183",
   "metadata": {
    "execution": {
     "iopub.execute_input": "2024-05-04T21:04:13.035867Z",
     "iopub.status.busy": "2024-05-04T21:04:13.035424Z",
     "iopub.status.idle": "2024-05-04T21:04:13.318624Z",
     "shell.execute_reply": "2024-05-04T21:04:13.317492Z"
    },
    "papermill": {
     "duration": 0.316396,
     "end_time": "2024-05-04T21:04:13.320912",
     "exception": false,
     "start_time": "2024-05-04T21:04:13.004516",
     "status": "completed"
    },
    "tags": []
   },
   "outputs": [
    {
     "data": {
      "image/png": "[encoded data removed]",
      "text/plain": [
       "<Figure size 800x600 with 1 Axes>"
      ]
     },
     "metadata": {},
     "output_type": "display_data"
    }
   ],
   "source": [
    "plt.figure(figsize=(8, 6))\n",
    "sns.barplot(x='ethnicity', y='count', data=ethnicity)\n",
    "plt.title('Count of Individuals by ethnicity')\n",
    "plt.xlabel('ethnicity')\n",
    "plt.xticks(rotation = 90)\n",
    "plt.ylabel('Count')\n",
    "plt.show()"
   ]
  },
  {
   "cell_type": "code",
   "execution_count": 34,
   "id": "7cfd72a1",
   "metadata": {
    "execution": {
     "iopub.execute_input": "2024-05-04T21:04:13.382938Z",
     "iopub.status.busy": "2024-05-04T21:04:13.382546Z",
     "iopub.status.idle": "2024-05-04T21:04:13.394073Z",
     "shell.execute_reply": "2024-05-04T21:04:13.393143Z"
    },
    "papermill": {
     "duration": 0.044589,
     "end_time": "2024-05-04T21:04:13.396058",
     "exception": false,
     "start_time": "2024-05-04T21:04:13.351469",
     "status": "completed"
    },
    "tags": []
   },
   "outputs": [
    {
     "data": {
      "text/html": [
       "<div>\n",
       "<style scoped>\n",
       "    .dataframe tbody tr th:only-of-type {\n",
       "        vertical-align: middle;\n",
       "    }\n",
       "\n",
       "    .dataframe tbody tr th {\n",
       "        vertical-align: top;\n",
       "    }\n",
       "\n",
       "    .dataframe thead th {\n",
       "        text-align: right;\n",
       "    }\n",
       "</style>\n",
       "<table border=\"1\" class=\"dataframe\">\n",
       "  <thead>\n",
       "    <tr style=\"text-align: right;\">\n",
       "      <th></th>\n",
       "      <th>region</th>\n",
       "      <th>count</th>\n",
       "    </tr>\n",
       "  </thead>\n",
       "  <tbody>\n",
       "    <tr>\n",
       "      <th>0</th>\n",
       "      <td>Midlands &amp; East Anglia</td>\n",
       "      <td>443</td>\n",
       "    </tr>\n",
       "    <tr>\n",
       "      <th>1</th>\n",
       "      <td>The North</td>\n",
       "      <td>426</td>\n",
       "    </tr>\n",
       "    <tr>\n",
       "      <th>2</th>\n",
       "      <td>South East</td>\n",
       "      <td>252</td>\n",
       "    </tr>\n",
       "    <tr>\n",
       "      <th>3</th>\n",
       "      <td>London</td>\n",
       "      <td>182</td>\n",
       "    </tr>\n",
       "    <tr>\n",
       "      <th>4</th>\n",
       "      <td>South West</td>\n",
       "      <td>157</td>\n",
       "    </tr>\n",
       "    <tr>\n",
       "      <th>5</th>\n",
       "      <td>Scotland</td>\n",
       "      <td>148</td>\n",
       "    </tr>\n",
       "    <tr>\n",
       "      <th>6</th>\n",
       "      <td>Wales</td>\n",
       "      <td>83</td>\n",
       "    </tr>\n",
       "  </tbody>\n",
       "</table>\n",
       "</div>"
      ],
      "text/plain": [
       "                   region  count\n",
       "0  Midlands & East Anglia    443\n",
       "1               The North    426\n",
       "2              South East    252\n",
       "3                  London    182\n",
       "4              South West    157\n",
       "5                Scotland    148\n",
       "6                   Wales     83"
      ]
     },
     "execution_count": 34,
     "metadata": {},
     "output_type": "execute_result"
    }
   ],
   "source": [
    "region = df['region'].value_counts().reset_index()\n",
    "region"
   ]
  },
  {
   "cell_type": "code",
   "execution_count": 35,
   "id": "6452a1c5",
   "metadata": {
    "execution": {
     "iopub.execute_input": "2024-05-04T21:04:13.457960Z",
     "iopub.status.busy": "2024-05-04T21:04:13.457563Z",
     "iopub.status.idle": "2024-05-04T21:04:13.720207Z",
     "shell.execute_reply": "2024-05-04T21:04:13.718957Z"
    },
    "papermill": {
     "duration": 0.296481,
     "end_time": "2024-05-04T21:04:13.722438",
     "exception": false,
     "start_time": "2024-05-04T21:04:13.425957",
     "status": "completed"
    },
    "tags": []
   },
   "outputs": [
    {
     "data": {
      "image/png": "[encoded data removed]",
      "text/plain": [
       "<Figure size 800x600 with 1 Axes>"
      ]
     },
     "metadata": {},
     "output_type": "display_data"
    }
   ],
   "source": [
    "plt.figure(figsize=(8, 6))\n",
    "sns.barplot(x='region', y='count', data=region)\n",
    "plt.title('Count of Individuals by region')\n",
    "plt.xlabel('region')\n",
    "plt.xticks(rotation = 90)\n",
    "plt.ylabel('Count')\n",
    "plt.show()"
   ]
  },
  {
   "cell_type": "code",
   "execution_count": 36,
   "id": "e93f95c9",
   "metadata": {
    "execution": {
     "iopub.execute_input": "2024-05-04T21:04:13.785580Z",
     "iopub.status.busy": "2024-05-04T21:04:13.785160Z",
     "iopub.status.idle": "2024-05-04T21:04:14.223561Z",
     "shell.execute_reply": "2024-05-04T21:04:14.222451Z"
    },
    "papermill": {
     "duration": 0.472709,
     "end_time": "2024-05-04T21:04:14.225853",
     "exception": false,
     "start_time": "2024-05-04T21:04:13.753144",
     "status": "completed"
    },
    "tags": []
   },
   "outputs": [
    {
     "data": {
      "image/png": "[encoded data removed]",
      "text/plain": [
       "<Figure size 572.125x500 with 1 Axes>"
      ]
     },
     "metadata": {},
     "output_type": "display_data"
    }
   ],
   "source": [
    "# plot highest_qualification against smoke with rotated xticks\n",
    "ax = sns.catplot(x=\"region\", hue=\"smoke\", kind=\"count\", data=df)\n",
    "ax.set_xticklabels(rotation=45, horizontalalignment='right')\n",
    "plt.show()"
   ]
  },
  {
   "cell_type": "code",
   "execution_count": 37,
   "id": "65991087",
   "metadata": {
    "execution": {
     "iopub.execute_input": "2024-05-04T21:04:14.295241Z",
     "iopub.status.busy": "2024-05-04T21:04:14.294824Z",
     "iopub.status.idle": "2024-05-04T21:04:14.306572Z",
     "shell.execute_reply": "2024-05-04T21:04:14.305359Z"
    },
    "papermill": {
     "duration": 0.05115,
     "end_time": "2024-05-04T21:04:14.308706",
     "exception": false,
     "start_time": "2024-05-04T21:04:14.257556",
     "status": "completed"
    },
    "tags": []
   },
   "outputs": [
    {
     "data": {
      "text/html": [
       "<div>\n",
       "<style scoped>\n",
       "    .dataframe tbody tr th:only-of-type {\n",
       "        vertical-align: middle;\n",
       "    }\n",
       "\n",
       "    .dataframe tbody tr th {\n",
       "        vertical-align: top;\n",
       "    }\n",
       "\n",
       "    .dataframe thead th {\n",
       "        text-align: right;\n",
       "    }\n",
       "</style>\n",
       "<table border=\"1\" class=\"dataframe\">\n",
       "  <thead>\n",
       "    <tr style=\"text-align: right;\">\n",
       "      <th></th>\n",
       "      <th>type</th>\n",
       "      <th>count</th>\n",
       "    </tr>\n",
       "  </thead>\n",
       "  <tbody>\n",
       "    <tr>\n",
       "      <th>0</th>\n",
       "      <td>Non-Smoker</td>\n",
       "      <td>1270</td>\n",
       "    </tr>\n",
       "    <tr>\n",
       "      <th>1</th>\n",
       "      <td>Packets</td>\n",
       "      <td>297</td>\n",
       "    </tr>\n",
       "    <tr>\n",
       "      <th>2</th>\n",
       "      <td>Hand-Rolled</td>\n",
       "      <td>72</td>\n",
       "    </tr>\n",
       "    <tr>\n",
       "      <th>3</th>\n",
       "      <td>Both/Mainly Packets</td>\n",
       "      <td>42</td>\n",
       "    </tr>\n",
       "    <tr>\n",
       "      <th>4</th>\n",
       "      <td>Both/Mainly Hand-Rolled</td>\n",
       "      <td>10</td>\n",
       "    </tr>\n",
       "  </tbody>\n",
       "</table>\n",
       "</div>"
      ],
      "text/plain": [
       "                      type  count\n",
       "0               Non-Smoker   1270\n",
       "1                  Packets    297\n",
       "2              Hand-Rolled     72\n",
       "3      Both/Mainly Packets     42\n",
       "4  Both/Mainly Hand-Rolled     10"
      ]
     },
     "execution_count": 37,
     "metadata": {},
     "output_type": "execute_result"
    }
   ],
   "source": [
    "type1 = df['type'].value_counts().reset_index() \n",
    "type1 "
   ]
  },
  {
   "cell_type": "code",
   "execution_count": 38,
   "id": "5c1db8f1",
   "metadata": {
    "execution": {
     "iopub.execute_input": "2024-05-04T21:04:14.373605Z",
     "iopub.status.busy": "2024-05-04T21:04:14.372766Z",
     "iopub.status.idle": "2024-05-04T21:04:14.631126Z",
     "shell.execute_reply": "2024-05-04T21:04:14.630059Z"
    },
    "papermill": {
     "duration": 0.29324,
     "end_time": "2024-05-04T21:04:14.633249",
     "exception": false,
     "start_time": "2024-05-04T21:04:14.340009",
     "status": "completed"
    },
    "tags": []
   },
   "outputs": [
    {
     "data": {
      "image/png": "[encoded data removed]",
      "text/plain": [
       "<Figure size 800x600 with 1 Axes>"
      ]
     },
     "metadata": {},
     "output_type": "display_data"
    }
   ],
   "source": [
    "plt.figure(figsize=(8, 6))\n",
    "sns.barplot(x='type', y='count', data=type1)\n",
    "plt.title('Count of Individuals by type')\n",
    "plt.xlabel('type')\n",
    "plt.xticks(rotation = 90)\n",
    "plt.ylabel('Count')\n",
    "plt.show()"
   ]
  },
  {
   "cell_type": "code",
   "execution_count": 39,
   "id": "6f211467",
   "metadata": {
    "execution": {
     "iopub.execute_input": "2024-05-04T21:04:14.700462Z",
     "iopub.status.busy": "2024-05-04T21:04:14.700020Z",
     "iopub.status.idle": "2024-05-04T21:04:14.710961Z",
     "shell.execute_reply": "2024-05-04T21:04:14.710166Z"
    },
    "papermill": {
     "duration": 0.046933,
     "end_time": "2024-05-04T21:04:14.712979",
     "exception": false,
     "start_time": "2024-05-04T21:04:14.666046",
     "status": "completed"
    },
    "tags": []
   },
   "outputs": [
    {
     "data": {
      "text/html": [
       "<div>\n",
       "<style scoped>\n",
       "    .dataframe tbody tr th:only-of-type {\n",
       "        vertical-align: middle;\n",
       "    }\n",
       "\n",
       "    .dataframe tbody tr th {\n",
       "        vertical-align: top;\n",
       "    }\n",
       "\n",
       "    .dataframe thead th {\n",
       "        text-align: right;\n",
       "    }\n",
       "</style>\n",
       "<table border=\"1\" class=\"dataframe\">\n",
       "  <thead>\n",
       "    <tr style=\"text-align: right;\">\n",
       "      <th></th>\n",
       "      <th>gross_income</th>\n",
       "      <th>count</th>\n",
       "    </tr>\n",
       "  </thead>\n",
       "  <tbody>\n",
       "    <tr>\n",
       "      <th>0</th>\n",
       "      <td>5,200 to 10,400</td>\n",
       "      <td>396</td>\n",
       "    </tr>\n",
       "    <tr>\n",
       "      <th>1</th>\n",
       "      <td>10,400 to 15,600</td>\n",
       "      <td>268</td>\n",
       "    </tr>\n",
       "    <tr>\n",
       "      <th>2</th>\n",
       "      <td>2,600 to 5,200</td>\n",
       "      <td>257</td>\n",
       "    </tr>\n",
       "    <tr>\n",
       "      <th>3</th>\n",
       "      <td>15,600 to 20,800</td>\n",
       "      <td>188</td>\n",
       "    </tr>\n",
       "    <tr>\n",
       "      <th>4</th>\n",
       "      <td>20,800 to 28,600</td>\n",
       "      <td>155</td>\n",
       "    </tr>\n",
       "    <tr>\n",
       "      <th>5</th>\n",
       "      <td>Under 2,600</td>\n",
       "      <td>133</td>\n",
       "    </tr>\n",
       "    <tr>\n",
       "      <th>6</th>\n",
       "      <td>Refused</td>\n",
       "      <td>108</td>\n",
       "    </tr>\n",
       "    <tr>\n",
       "      <th>7</th>\n",
       "      <td>Above 36,400</td>\n",
       "      <td>89</td>\n",
       "    </tr>\n",
       "    <tr>\n",
       "      <th>8</th>\n",
       "      <td>28,600 to 36,400</td>\n",
       "      <td>79</td>\n",
       "    </tr>\n",
       "    <tr>\n",
       "      <th>9</th>\n",
       "      <td>Unknown</td>\n",
       "      <td>18</td>\n",
       "    </tr>\n",
       "  </tbody>\n",
       "</table>\n",
       "</div>"
      ],
      "text/plain": [
       "       gross_income  count\n",
       "0   5,200 to 10,400    396\n",
       "1  10,400 to 15,600    268\n",
       "2    2,600 to 5,200    257\n",
       "3  15,600 to 20,800    188\n",
       "4  20,800 to 28,600    155\n",
       "5       Under 2,600    133\n",
       "6           Refused    108\n",
       "7      Above 36,400     89\n",
       "8  28,600 to 36,400     79\n",
       "9           Unknown     18"
      ]
     },
     "execution_count": 39,
     "metadata": {},
     "output_type": "execute_result"
    }
   ],
   "source": [
    "gross_income = df['gross_income'].value_counts().reset_index() \n",
    "gross_income"
   ]
  },
  {
   "cell_type": "code",
   "execution_count": 40,
   "id": "fc2bf099",
   "metadata": {
    "execution": {
     "iopub.execute_input": "2024-05-04T21:04:14.779479Z",
     "iopub.status.busy": "2024-05-04T21:04:14.779055Z",
     "iopub.status.idle": "2024-05-04T21:04:15.099304Z",
     "shell.execute_reply": "2024-05-04T21:04:15.098217Z"
    },
    "papermill": {
     "duration": 0.356077,
     "end_time": "2024-05-04T21:04:15.101586",
     "exception": false,
     "start_time": "2024-05-04T21:04:14.745509",
     "status": "completed"
    },
    "tags": []
   },
   "outputs": [
    {
     "data": {
      "image/png": "[encoded data removed]",
      "text/plain": [
       "<Figure size 800x600 with 1 Axes>"
      ]
     },
     "metadata": {},
     "output_type": "display_data"
    }
   ],
   "source": [
    "plt.figure(figsize=(8, 6))\n",
    "sns.barplot(x='gross_income', y='count', data=gross_income)\n",
    "plt.title('Count of Individuals by gross_income')\n",
    "plt.xlabel('gross_income')\n",
    "plt.xticks(rotation = 90)\n",
    "plt.ylabel('Count')\n",
    "plt.show()"
   ]
  },
  {
   "cell_type": "code",
   "execution_count": 41,
   "id": "28a272c8",
   "metadata": {
    "execution": {
     "iopub.execute_input": "2024-05-04T21:04:15.169688Z",
     "iopub.status.busy": "2024-05-04T21:04:15.168785Z",
     "iopub.status.idle": "2024-05-04T21:04:15.650141Z",
     "shell.execute_reply": "2024-05-04T21:04:15.649062Z"
    },
    "papermill": {
     "duration": 0.517914,
     "end_time": "2024-05-04T21:04:15.652576",
     "exception": false,
     "start_time": "2024-05-04T21:04:15.134662",
     "status": "completed"
    },
    "tags": []
   },
   "outputs": [
    {
     "data": {
      "image/png": "[encoded data removed]",
      "text/plain": [
       "<Figure size 572.125x500 with 1 Axes>"
      ]
     },
     "metadata": {},
     "output_type": "display_data"
    }
   ],
   "source": [
    "ax = sns.catplot(x=\"gross_income\", hue=\"smoke\", kind=\"count\", data=df)\n",
    "ax.set_xticklabels(rotation=45, horizontalalignment='right')\n",
    "\n",
    "plt.show()"
   ]
  },
  {
   "cell_type": "code",
   "execution_count": 42,
   "id": "ededb883",
   "metadata": {
    "execution": {
     "iopub.execute_input": "2024-05-04T21:04:15.721687Z",
     "iopub.status.busy": "2024-05-04T21:04:15.720957Z",
     "iopub.status.idle": "2024-05-04T21:04:15.726745Z",
     "shell.execute_reply": "2024-05-04T21:04:15.725964Z"
    },
    "papermill": {
     "duration": 0.042321,
     "end_time": "2024-05-04T21:04:15.728641",
     "exception": false,
     "start_time": "2024-05-04T21:04:15.686320",
     "status": "completed"
    },
    "tags": []
   },
   "outputs": [
    {
     "data": {
      "text/plain": [
       "Index(['gender', 'age', 'marital_status', 'highest_qualification',\n",
       "       'nationality', 'ethnicity', 'gross_income', 'region', 'smoke',\n",
       "       'amt_weekends', 'amt_weekdays', 'type'],\n",
       "      dtype='object')"
      ]
     },
     "execution_count": 42,
     "metadata": {},
     "output_type": "execute_result"
    }
   ],
   "source": [
    "df.columns"
   ]
  },
  {
   "cell_type": "code",
   "execution_count": 43,
   "id": "482c55e2",
   "metadata": {
    "execution": {
     "iopub.execute_input": "2024-05-04T21:04:15.796504Z",
     "iopub.status.busy": "2024-05-04T21:04:15.796102Z",
     "iopub.status.idle": "2024-05-04T21:04:17.920950Z",
     "shell.execute_reply": "2024-05-04T21:04:17.919869Z"
    },
    "papermill": {
     "duration": 2.161653,
     "end_time": "2024-05-04T21:04:17.923493",
     "exception": false,
     "start_time": "2024-05-04T21:04:15.761840",
     "status": "completed"
    },
    "tags": []
   },
   "outputs": [
    {
     "data": {
      "text/html": [
       "        <script type=\"text/javascript\">\n",
       "        window.PlotlyConfig = {MathJaxConfig: 'local'};\n",
       "        if (window.MathJax && window.MathJax.Hub && window.MathJax.Hub.Config) {window.MathJax.Hub.Config({SVG: {font: \"STIX-Web\"}});}\n",
       "        if (typeof require !== 'undefined') {\n",
       "        require.undef(\"plotly\");\n",
       "        requirejs.config({\n",
       "            paths: {\n",
       "                'plotly': ['https://cdn.plot.ly/plotly-2.27.0.min']\n",
       "            }\n",
       "        });\n",
       "        require(['plotly'], function(Plotly) {\n",
       "            window._Plotly = Plotly;\n",
       "        });\n",
       "        }\n",
       "        </script>\n",
       "        "
      ]
     },
     "metadata": {},
     "output_type": "display_data"
    },
    {
     "data": {
      "text/html": [
       "<div>                            <div id=\"b4ac31a2-6415-4b99-b406-164d6d6277ca\" class=\"plotly-graph-div\" style=\"height:525px; width:100%;\"></div>            <script type=\"text/javascript\">                require([\"plotly\"], function(Plotly) {                    window.PLOTLYENV=window.PLOTLYENV || {};                                    if (document.getElementById(\"b4ac31a2-6415-4b99-b406-164d6d6277ca\")) {                    Plotly.newPlot(                        \"b4ac31a2-6415-4b99-b406-164d6d6277ca\",                        [{\"alignmentgroup\":\"True\",\"bingroup\":\"x\",\"hovertemplate\":\"age=%{x}\\u003cbr\\u003ecount=%{y}\\u003cextra\\u003e\\u003c\\u002fextra\\u003e\",\"legendgroup\":\"\",\"marker\":{\"color\":\"rgb(229, 134, 6)\",\"pattern\":{\"shape\":\"\"}},\"name\":\"\",\"offsetgroup\":\"\",\"orientation\":\"v\",\"showlegend\":false,\"x\":[38,42,40,40,39,37,53,44,40,41,72,49,29,79,25,27,30,47,69,55,34,36,56,71,38,79,58,69,83,73,42,31,26,27,57,30,22,78,49,74,85,75,80,37,33,41,81,76,58,59,40,54,49,79,28,44,42,36,89,64,76,76,61,81,20,82,23,41,31,44,42,67,53,76,40,44,31,43,36,34,18,56,73,22,33,27,33,63,64,54,34,78,54,56,78,37,54,40,64,42,34,64,50,31,37,81,57,59,66,57,78,49,62,17,36,31,61,71,75,43,68,65,85,35,52,28,52,67,35,68,34,57,37,37,43,59,28,60,16,37,34,73,24,36,39,74,32,30,68,49,47,30,60,72,73,48,53,17,58,34,44,23,49,30,61,38,30,44,91,40,63,61,40,57,41,32,76,35,70,75,74,49,56,60,72,17,23,79,65,57,37,79,71,87,59,21,66,58,38,61,37,38,34,34,20,77,31,28,36,16,42,47,42,67,72,40,34,75,35,40,46,23,42,63,33,31,54,33,24,80,77,51,16,27,75,24,78,20,18,25,55,29,67,79,44,47,41,31,32,68,84,67,49,69,64,62,52,45,28,36,73,48,67,38,40,43,30,70,82,78,21,67,16,21,68,41,33,28,75,21,69,38,33,47,44,74,29,23,72,31,48,29,72,52,68,48,55,23,66,33,37,42,46,57,36,51,18,69,30,51,63,31,58,50,67,20,45,26,30,43,73,52,18,52,33,56,65,30,40,26,74,44,80,67,59,28,31,25,64,68,61,50,43,19,21,51,65,50,38,78,74,22,66,48,59,69,76,21,47,77,25,71,24,90,41,69,35,32,48,34,28,66,56,51,63,44,45,55,55,55,57,76,59,46,56,67,73,82,75,41,40,37,53,35,39,31,38,34,36,31,31,35,42,30,39,47,38,29,75,47,55,42,39,64,84,49,24,38,45,47,37,59,25,56,71,81,55,42,73,43,57,47,29,30,58,58,70,18,45,37,44,46,29,50,51,80,85,49,52,58,49,39,53,71,29,66,75,45,69,49,63,61,55,57,60,58,76,29,50,40,34,77,47,68,31,41,55,66,80,45,63,62,49,33,16,58,33,65,39,57,31,79,16,54,37,87,32,72,20,77,63,56,34,24,42,71,48,38,55,50,30,72,59,68,48,42,72,54,53,86,57,30,35,25,67,33,51,54,86,69,23,33,79,21,37,40,79,34,28,44,64,51,21,40,42,47,73,18,24,69,61,83,80,80,26,34,34,39,33,36,39,35,89,23,32,32,35,18,44,75,65,54,32,57,50,58,30,57,60,78,44,32,56,51,71,74,56,80,51,53,80,42,82,58,78,61,49,51,48,37,51,55,48,82,56,71,30,73,35,79,75,49,74,33,81,63,78,68,73,34,36,16,72,66,41,49,42,54,70,29,43,19,44,27,68,80,85,65,88,76,81,44,34,55,77,33,82,77,19,70,74,57,44,38,43,57,54,17,60,50,24,78,60,85,59,65,55,32,41,31,45,30,19,76,73,19,34,59,22,27,45,69,76,54,72,89,78,60,39,28,23,26,52,54,20,59,30,41,26,27,49,29,36,43,29,34,81,30,25,59,44,64,35,40,65,17,72,29,39,70,73,46,59,77,42,41,49,67,65,40,49,34,64,44,72,32,53,50,63,57,40,88,57,54,58,77,45,31,31,80,67,40,70,28,30,70,57,76,89,81,30,39,73,39,76,62,66,53,60,36,40,57,16,25,58,49,48,76,88,35,43,69,64,40,78,58,34,46,65,34,40,79,36,39,24,28,26,45,24,77,78,25,36,17,55,70,43,59,32,34,58,44,64,34,32,38,28,42,34,23,55,65,62,66,73,34,33,76,55,39,26,61,78,42,72,62,46,24,27,64,86,46,20,35,46,39,28,33,39,45,37,29,76,26,47,72,72,65,69,61,63,16,61,18,76,65,52,64,42,40,28,40,48,35,30,26,81,77,25,66,18,43,49,29,20,75,40,64,66,34,76,30,55,49,38,23,77,46,26,26,45,45,61,47,75,36,26,71,69,38,21,26,83,56,34,66,32,77,70,24,81,37,90,29,24,81,38,22,31,77,61,54,72,66,47,76,41,80,63,29,40,54,66,69,51,70,36,73,72,18,57,21,64,39,37,36,37,79,49,30,27,16,40,45,78,59,93,33,57,53,54,33,52,31,54,41,23,81,17,73,62,73,22,18,86,54,55,22,30,25,54,36,40,51,44,26,73,36,69,41,40,82,27,35,35,33,41,26,55,18,68,43,58,39,54,62,40,59,57,42,48,45,24,66,63,28,59,50,41,76,24,25,33,31,33,37,81,36,64,51,19,18,31,24,18,22,26,33,17,37,60,80,68,65,42,48,46,44,29,38,52,48,65,27,37,42,53,66,20,62,18,69,63,41,74,20,18,28,49,64,69,33,22,63,93,65,33,38,29,59,37,51,33,80,49,38,45,58,63,69,86,66,61,62,89,72,64,58,80,61,34,36,34,40,53,31,86,46,34,44,69,56,79,41,34,47,46,30,19,45,24,42,32,32,28,78,42,27,57,24,71,51,66,73,18,50,79,22,45,53,77,64,39,54,17,78,50,41,48,25,18,58,79,62,36,38,19,45,54,69,65,31,31,46,37,72,59,82,81,65,48,49,35,73,80,55,78,45,39,75,65,79,75,69,57,29,54,29,42,28,65,37,35,33,52,57,31,73,43,38,43,55,59,33,41,46,57,40,57,39,67,46,39,55,50,70,44,33,69,70,62,31,70,32,75,47,57,86,32,46,51,69,73,32,75,54,51,35,38,72,66,59,70,44,67,35,33,17,45,57,18,68,27,40,77,77,75,39,21,59,27,67,50,64,79,31,19,42,36,36,64,53,39,39,28,81,79,72,18,76,68,28,42,26,19,41,82,36,47,77,66,50,55,36,79,67,42,76,44,75,24,78,38,22,62,40,35,45,66,53,43,72,72,67,37,38,39,64,72,54,59,50,33,45,73,68,33,21,32,37,48,25,61,86,45,60,40,55,53,41,17,42,44,43,39,67,73,16,73,52,72,79,90,27,32,38,21,40,28,47,45,95,18,89,82,65,87,30,77,55,33,56,68,73,66,73,42,41,35,53,74,46,22,27,71,78,38,31,54,31,53,36,41,78,54,72,28,41,78,71,57,31,64,65,61,33,60,40,68,36,35,22,43,84,24,68,35,51,45,45,71,47,39,62,37,71,49,22,61,34,40,27,28,28,36,34,19,31,49,42,38,16,73,36,81,97,38,46,79,76,54,59,52,58,69,67,76,33,61,82,62,66,69,25,29,28,52,81,44,62,45,71,72,69,72,61,29,37,29,57,60,38,74,38,51,68,67,32,25,53,52,21,71,30,23,28,37,84,61,18,55,52,46,46,23,58,16,71,47,34,55,78,35,68,76,28,36,57,29,27,64,89,26,27,66,84,41,27,40,79,49,79,54,25,45,24,54,78,50,42,32,75,25,50,24,35,52,42,44,67,69,91,61,50,37,35,24,39,79,40,60,42,64,55,54,61,62,59,79,37,55,88,39,34,42,45,59,58,74,45,64,53,40,30,70,28,78,41,69,54,59,23,40,17,54,49,55,51,73,41,70,44,51,68,75,60,56,64,27,73,34,47,32,63,23,63,46,48,68,52,29,16,41,48,24,72,45,28,20,69,70,50,63,44,83,17,61,47,57,44,52,82,63,72,39,16,35,39,56,31,61,23,34,24,82,27,62,39,44,43,31,77,20,81,31,78,35,67,65,61,24,53,63,35,78,31,22,49,45,51,31],\"xaxis\":\"x\",\"yaxis\":\"y\",\"type\":\"histogram\"}],                        {\"barmode\":\"relative\",\"legend\":{\"tracegroupgap\":0},\"template\":{\"data\":{\"barpolar\":[{\"marker\":{\"line\":{\"color\":\"#E5ECF6\",\"width\":0.5},\"pattern\":{\"fillmode\":\"overlay\",\"size\":10,\"solidity\":0.2}},\"type\":\"barpolar\"}],\"bar\":[{\"error_x\":{\"color\":\"#2a3f5f\"},\"error_y\":{\"color\":\"#2a3f5f\"},\"marker\":{\"line\":{\"color\":\"#E5ECF6\",\"width\":0.5},\"pattern\":{\"fillmode\":\"overlay\",\"size\":10,\"solidity\":0.2}},\"type\":\"bar\"}],\"carpet\":[{\"aaxis\":{\"endlinecolor\":\"#2a3f5f\",\"gridcolor\":\"white\",\"linecolor\":\"white\",\"minorgridcolor\":\"white\",\"startlinecolor\":\"#2a3f5f\"},\"baxis\":{\"endlinecolor\":\"#2a3f5f\",\"gridcolor\":\"white\",\"linecolor\":\"white\",\"minorgridcolor\":\"white\",\"startlinecolor\":\"#2a3f5f\"},\"type\":\"carpet\"}],\"choropleth\":[{\"colorbar\":{\"outlinewidth\":0,\"ticks\":\"\"},\"type\":\"choropleth\"}],\"contourcarpet\":[{\"colorbar\":{\"outlinewidth\":0,\"ticks\":\"\"},\"type\":\"contourcarpet\"}],\"contour\":[{\"colorbar\":{\"outlinewidth\":0,\"ticks\":\"\"},\"colorscale\":[[0.0,\"#0d0887\"],[0.1111111111111111,\"#46039f\"],[0.2222222222222222,\"#7201a8\"],[0.3333333333333333,\"#9c179e\"],[0.4444444444444444,\"#bd3786\"],[0.5555555555555556,\"#d8576b\"],[0.6666666666666666,\"#ed7953\"],[0.7777777777777778,\"#fb9f3a\"],[0.8888888888888888,\"#fdca26\"],[1.0,\"#f0f921\"]],\"type\":\"contour\"}],\"heatmapgl\":[{\"colorbar\":{\"outlinewidth\":0,\"ticks\":\"\"},\"colorscale\":[[0.0,\"#0d0887\"],[0.1111111111111111,\"#46039f\"],[0.2222222222222222,\"#7201a8\"],[0.3333333333333333,\"#9c179e\"],[0.4444444444444444,\"#bd3786\"],[0.5555555555555556,\"#d8576b\"],[0.6666666666666666,\"#ed7953\"],[0.7777777777777778,\"#fb9f3a\"],[0.8888888888888888,\"#fdca26\"],[1.0,\"#f0f921\"]],\"type\":\"heatmapgl\"}],\"heatmap\":[{\"colorbar\":{\"outlinewidth\":0,\"ticks\":\"\"},\"colorscale\":[[0.0,\"#0d0887\"],[0.1111111111111111,\"#46039f\"],[0.2222222222222222,\"#7201a8\"],[0.3333333333333333,\"#9c179e\"],[0.4444444444444444,\"#bd3786\"],[0.5555555555555556,\"#d8576b\"],[0.6666666666666666,\"#ed7953\"],[0.7777777777777778,\"#fb9f3a\"],[0.8888888888888888,\"#fdca26\"],[1.0,\"#f0f921\"]],\"type\":\"heatmap\"}],\"histogram2dcontour\":[{\"colorbar\":{\"outlinewidth\":0,\"ticks\":\"\"},\"colorscale\":[[0.0,\"#0d0887\"],[0.1111111111111111,\"#46039f\"],[0.2222222222222222,\"#7201a8\"],[0.3333333333333333,\"#9c179e\"],[0.4444444444444444,\"#bd3786\"],[0.5555555555555556,\"#d8576b\"],[0.6666666666666666,\"#ed7953\"],[0.7777777777777778,\"#fb9f3a\"],[0.8888888888888888,\"#fdca26\"],[1.0,\"#f0f921\"]],\"type\":\"histogram2dcontour\"}],\"histogram2d\":[{\"colorbar\":{\"outlinewidth\":0,\"ticks\":\"\"},\"colorscale\":[[0.0,\"#0d0887\"],[0.1111111111111111,\"#46039f\"],[0.2222222222222222,\"#7201a8\"],[0.3333333333333333,\"#9c179e\"],[0.4444444444444444,\"#bd3786\"],[0.5555555555555556,\"#d8576b\"],[0.6666666666666666,\"#ed7953\"],[0.7777777777777778,\"#fb9f3a\"],[0.8888888888888888,\"#fdca26\"],[1.0,\"#f0f921\"]],\"type\":\"histogram2d\"}],\"histogram\":[{\"marker\":{\"pattern\":{\"fillmode\":\"overlay\",\"size\":10,\"solidity\":0.2}},\"type\":\"histogram\"}],\"mesh3d\":[{\"colorbar\":{\"outlinewidth\":0,\"ticks\":\"\"},\"type\":\"mesh3d\"}],\"parcoords\":[{\"line\":{\"colorbar\":{\"outlinewidth\":0,\"ticks\":\"\"}},\"type\":\"parcoords\"}],\"pie\":[{\"automargin\":true,\"type\":\"pie\"}],\"scatter3d\":[{\"line\":{\"colorbar\":{\"outlinewidth\":0,\"ticks\":\"\"}},\"marker\":{\"colorbar\":{\"outlinewidth\":0,\"ticks\":\"\"}},\"type\":\"scatter3d\"}],\"scattercarpet\":[{\"marker\":{\"colorbar\":{\"outlinewidth\":0,\"ticks\":\"\"}},\"type\":\"scattercarpet\"}],\"scattergeo\":[{\"marker\":{\"colorbar\":{\"outlinewidth\":0,\"ticks\":\"\"}},\"type\":\"scattergeo\"}],\"scattergl\":[{\"marker\":{\"colorbar\":{\"outlinewidth\":0,\"ticks\":\"\"}},\"type\":\"scattergl\"}],\"scattermapbox\":[{\"marker\":{\"colorbar\":{\"outlinewidth\":0,\"ticks\":\"\"}},\"type\":\"scattermapbox\"}],\"scatterpolargl\":[{\"marker\":{\"colorbar\":{\"outlinewidth\":0,\"ticks\":\"\"}},\"type\":\"scatterpolargl\"}],\"scatterpolar\":[{\"marker\":{\"colorbar\":{\"outlinewidth\":0,\"ticks\":\"\"}},\"type\":\"scatterpolar\"}],\"scatter\":[{\"fillpattern\":{\"fillmode\":\"overlay\",\"size\":10,\"solidity\":0.2},\"type\":\"scatter\"}],\"scatterternary\":[{\"marker\":{\"colorbar\":{\"outlinewidth\":0,\"ticks\":\"\"}},\"type\":\"scatterternary\"}],\"surface\":[{\"colorbar\":{\"outlinewidth\":0,\"ticks\":\"\"},\"colorscale\":[[0.0,\"#0d0887\"],[0.1111111111111111,\"#46039f\"],[0.2222222222222222,\"#7201a8\"],[0.3333333333333333,\"#9c179e\"],[0.4444444444444444,\"#bd3786\"],[0.5555555555555556,\"#d8576b\"],[0.6666666666666666,\"#ed7953\"],[0.7777777777777778,\"#fb9f3a\"],[0.8888888888888888,\"#fdca26\"],[1.0,\"#f0f921\"]],\"type\":\"surface\"}],\"table\":[{\"cells\":{\"fill\":{\"color\":\"#EBF0F8\"},\"line\":{\"color\":\"white\"}},\"header\":{\"fill\":{\"color\":\"#C8D4E3\"},\"line\":{\"color\":\"white\"}},\"type\":\"table\"}]},\"layout\":{\"annotationdefaults\":{\"arrowcolor\":\"#2a3f5f\",\"arrowhead\":0,\"arrowwidth\":1},\"autotypenumbers\":\"strict\",\"coloraxis\":{\"colorbar\":{\"outlinewidth\":0,\"ticks\":\"\"}},\"colorscale\":{\"diverging\":[[0,\"#8e0152\"],[0.1,\"#c51b7d\"],[0.2,\"#de77ae\"],[0.3,\"#f1b6da\"],[0.4,\"#fde0ef\"],[0.5,\"#f7f7f7\"],[0.6,\"#e6f5d0\"],[0.7,\"#b8e186\"],[0.8,\"#7fbc41\"],[0.9,\"#4d9221\"],[1,\"#276419\"]],\"sequential\":[[0.0,\"#0d0887\"],[0.1111111111111111,\"#46039f\"],[0.2222222222222222,\"#7201a8\"],[0.3333333333333333,\"#9c179e\"],[0.4444444444444444,\"#bd3786\"],[0.5555555555555556,\"#d8576b\"],[0.6666666666666666,\"#ed7953\"],[0.7777777777777778,\"#fb9f3a\"],[0.8888888888888888,\"#fdca26\"],[1.0,\"#f0f921\"]],\"sequentialminus\":[[0.0,\"#0d0887\"],[0.1111111111111111,\"#46039f\"],[0.2222222222222222,\"#7201a8\"],[0.3333333333333333,\"#9c179e\"],[0.4444444444444444,\"#bd3786\"],[0.5555555555555556,\"#d8576b\"],[0.6666666666666666,\"#ed7953\"],[0.7777777777777778,\"#fb9f3a\"],[0.8888888888888888,\"#fdca26\"],[1.0,\"#f0f921\"]]},\"colorway\":[\"#636efa\",\"#EF553B\",\"#00cc96\",\"#ab63fa\",\"#FFA15A\",\"#19d3f3\",\"#FF6692\",\"#B6E880\",\"#FF97FF\",\"#FECB52\"],\"font\":{\"color\":\"#2a3f5f\"},\"geo\":{\"bgcolor\":\"white\",\"lakecolor\":\"white\",\"landcolor\":\"#E5ECF6\",\"showlakes\":true,\"showland\":true,\"subunitcolor\":\"white\"},\"hoverlabel\":{\"align\":\"left\"},\"hovermode\":\"closest\",\"mapbox\":{\"style\":\"light\"},\"paper_bgcolor\":\"white\",\"plot_bgcolor\":\"#E5ECF6\",\"polar\":{\"angularaxis\":{\"gridcolor\":\"white\",\"linecolor\":\"white\",\"ticks\":\"\"},\"bgcolor\":\"#E5ECF6\",\"radialaxis\":{\"gridcolor\":\"white\",\"linecolor\":\"white\",\"ticks\":\"\"}},\"scene\":{\"xaxis\":{\"backgroundcolor\":\"#E5ECF6\",\"gridcolor\":\"white\",\"gridwidth\":2,\"linecolor\":\"white\",\"showbackground\":true,\"ticks\":\"\",\"zerolinecolor\":\"white\"},\"yaxis\":{\"backgroundcolor\":\"#E5ECF6\",\"gridcolor\":\"white\",\"gridwidth\":2,\"linecolor\":\"white\",\"showbackground\":true,\"ticks\":\"\",\"zerolinecolor\":\"white\"},\"zaxis\":{\"backgroundcolor\":\"#E5ECF6\",\"gridcolor\":\"white\",\"gridwidth\":2,\"linecolor\":\"white\",\"showbackground\":true,\"ticks\":\"\",\"zerolinecolor\":\"white\"}},\"shapedefaults\":{\"line\":{\"color\":\"#2a3f5f\"}},\"ternary\":{\"aaxis\":{\"gridcolor\":\"white\",\"linecolor\":\"white\",\"ticks\":\"\"},\"baxis\":{\"gridcolor\":\"white\",\"linecolor\":\"white\",\"ticks\":\"\"},\"bgcolor\":\"#E5ECF6\",\"caxis\":{\"gridcolor\":\"white\",\"linecolor\":\"white\",\"ticks\":\"\"}},\"title\":{\"x\":0.05},\"xaxis\":{\"automargin\":true,\"gridcolor\":\"white\",\"linecolor\":\"white\",\"ticks\":\"\",\"title\":{\"standoff\":15},\"zerolinecolor\":\"white\",\"zerolinewidth\":2},\"yaxis\":{\"automargin\":true,\"gridcolor\":\"white\",\"linecolor\":\"white\",\"ticks\":\"\",\"title\":{\"standoff\":15},\"zerolinecolor\":\"white\",\"zerolinewidth\":2}}},\"title\":{\"text\":\"age distribution in top hits\"},\"xaxis\":{\"anchor\":\"y\",\"domain\":[0.0,1.0],\"title\":{\"text\":\"age\"}},\"yaxis\":{\"anchor\":\"x\",\"domain\":[0.0,1.0],\"title\":{\"text\":\"count\"}}},                        {\"responsive\": true}                    ).then(function(){\n",
       "                            \n",
       "var gd = document.getElementById('b4ac31a2-6415-4b99-b406-164d6d6277ca');\n",
       "var x = new MutationObserver(function (mutations, observer) {{\n",
       "        var display = window.getComputedStyle(gd).display;\n",
       "        if (!display || display === 'none') {{\n",
       "            console.log([gd, 'removed!']);\n",
       "            Plotly.purge(gd);\n",
       "            observer.disconnect();\n",
       "        }}\n",
       "}});\n",
       "\n",
       "// Listen for the removal of the full notebook cells\n",
       "var notebookContainer = gd.closest('#notebook-container');\n",
       "if (notebookContainer) {{\n",
       "    x.observe(notebookContainer, {childList: true});\n",
       "}}\n",
       "\n",
       "// Listen for the clearing of the current output cell\n",
       "var outputEl = gd.closest('.output');\n",
       "if (outputEl) {{\n",
       "    x.observe(outputEl, {childList: true});\n",
       "}}\n",
       "\n",
       "                        })                };                });            </script>        </div>"
      ]
     },
     "metadata": {},
     "output_type": "display_data"
    },
    {
     "data": {
      "text/html": [
       "<div>                            <div id=\"a19dbbab-10b4-4df7-95a2-6725ecc2d8bd\" class=\"plotly-graph-div\" style=\"height:525px; width:100%;\"></div>            <script type=\"text/javascript\">                require([\"plotly\"], function(Plotly) {                    window.PLOTLYENV=window.PLOTLYENV || {};                                    if (document.getElementById(\"a19dbbab-10b4-4df7-95a2-6725ecc2d8bd\")) {                    Plotly.newPlot(                        \"a19dbbab-10b4-4df7-95a2-6725ecc2d8bd\",                        [{\"alignmentgroup\":\"True\",\"bingroup\":\"x\",\"hovertemplate\":\"gross_income=%{x}\\u003cbr\\u003ecount=%{y}\\u003cextra\\u003e\\u003c\\u002fextra\\u003e\",\"legendgroup\":\"\",\"marker\":{\"color\":\"rgb(93, 105, 177)\",\"pattern\":{\"shape\":\"\"}},\"name\":\"\",\"offsetgroup\":\"\",\"orientation\":\"v\",\"showlegend\":false,\"x\":[\"2,600 to 5,200\",\"Under 2,600\",\"28,600 to 36,400\",\"10,400 to 15,600\",\"2,600 to 5,200\",\"15,600 to 20,800\",\"Above 36,400\",\"10,400 to 15,600\",\"2,600 to 5,200\",\"5,200 to 10,400\",\"10,400 to 15,600\",\"Refused\",\"Above 36,400\",\"10,400 to 15,600\",\"15,600 to 20,800\",\"15,600 to 20,800\",\"20,800 to 28,600\",\"10,400 to 15,600\",\"2,600 to 5,200\",\"20,800 to 28,600\",\"2,600 to 5,200\",\"5,200 to 10,400\",\"2,600 to 5,200\",\"Unknown\",\"5,200 to 10,400\",\"Under 2,600\",\"5,200 to 10,400\",\"Under 2,600\",\"2,600 to 5,200\",\"5,200 to 10,400\",\"Refused\",\"Under 2,600\",\"2,600 to 5,200\",\"15,600 to 20,800\",\"10,400 to 15,600\",\"2,600 to 5,200\",\"5,200 to 10,400\",\"Under 2,600\",\"15,600 to 20,800\",\"15,600 to 20,800\",\"20,800 to 28,600\",\"Refused\",\"2,600 to 5,200\",\"Under 2,600\",\"10,400 to 15,600\",\"15,600 to 20,800\",\"2,600 to 5,200\",\"2,600 to 5,200\",\"10,400 to 15,600\",\"15,600 to 20,800\",\"5,200 to 10,400\",\"10,400 to 15,600\",\"Above 36,400\",\"5,200 to 10,400\",\"20,800 to 28,600\",\"5,200 to 10,400\",\"10,400 to 15,600\",\"5,200 to 10,400\",\"5,200 to 10,400\",\"2,600 to 5,200\",\"Under 2,600\",\"Under 2,600\",\"2,600 to 5,200\",\"5,200 to 10,400\",\"2,600 to 5,200\",\"5,200 to 10,400\",\"5,200 to 10,400\",\"Above 36,400\",\"15,600 to 20,800\",\"20,800 to 28,600\",\"10,400 to 15,600\",\"5,200 to 10,400\",\"20,800 to 28,600\",\"10,400 to 15,600\",\"2,600 to 5,200\",\"15,600 to 20,800\",\"15,600 to 20,800\",\"2,600 to 5,200\",\"10,400 to 15,600\",\"10,400 to 15,600\",\"2,600 to 5,200\",\"5,200 to 10,400\",\"Under 2,600\",\"2,600 to 5,200\",\"15,600 to 20,800\",\"15,600 to 20,800\",\"10,400 to 15,600\",\"Under 2,600\",\"2,600 to 5,200\",\"Above 36,400\",\"Under 2,600\",\"10,400 to 15,600\",\"Under 2,600\",\"28,600 to 36,400\",\"2,600 to 5,200\",\"5,200 to 10,400\",\"28,600 to 36,400\",\"20,800 to 28,600\",\"2,600 to 5,200\",\"5,200 to 10,400\",\"2,600 to 5,200\",\"Under 2,600\",\"15,600 to 20,800\",\"10,400 to 15,600\",\"Above 36,400\",\"10,400 to 15,600\",\"5,200 to 10,400\",\"2,600 to 5,200\",\"20,800 to 28,600\",\"20,800 to 28,600\",\"5,200 to 10,400\",\"20,800 to 28,600\",\"15,600 to 20,800\",\"2,600 to 5,200\",\"15,600 to 20,800\",\"Refused\",\"15,600 to 20,800\",\"15,600 to 20,800\",\"5,200 to 10,400\",\"Above 36,400\",\"Refused\",\"15,600 to 20,800\",\"5,200 to 10,400\",\"5,200 to 10,400\",\"15,600 to 20,800\",\"5,200 to 10,400\",\"20,800 to 28,600\",\"5,200 to 10,400\",\"5,200 to 10,400\",\"2,600 to 5,200\",\"10,400 to 15,600\",\"2,600 to 5,200\",\"15,600 to 20,800\",\"5,200 to 10,400\",\"10,400 to 15,600\",\"2,600 to 5,200\",\"10,400 to 15,600\",\"5,200 to 10,400\",\"Under 2,600\",\"2,600 to 5,200\",\"15,600 to 20,800\",\"5,200 to 10,400\",\"10,400 to 15,600\",\"15,600 to 20,800\",\"10,400 to 15,600\",\"Refused\",\"Under 2,600\",\"15,600 to 20,800\",\"15,600 to 20,800\",\"Refused\",\"2,600 to 5,200\",\"10,400 to 15,600\",\"10,400 to 15,600\",\"15,600 to 20,800\",\"10,400 to 15,600\",\"10,400 to 15,600\",\"Above 36,400\",\"Refused\",\"5,200 to 10,400\",\"10,400 to 15,600\",\"15,600 to 20,800\",\"5,200 to 10,400\",\"20,800 to 28,600\",\"15,600 to 20,800\",\"5,200 to 10,400\",\"10,400 to 15,600\",\"10,400 to 15,600\",\"15,600 to 20,800\",\"Under 2,600\",\"Above 36,400\",\"2,600 to 5,200\",\"2,600 to 5,200\",\"5,200 to 10,400\",\"Under 2,600\",\"28,600 to 36,400\",\"2,600 to 5,200\",\"5,200 to 10,400\",\"10,400 to 15,600\",\"5,200 to 10,400\",\"5,200 to 10,400\",\"2,600 to 5,200\",\"Above 36,400\",\"Under 2,600\",\"15,600 to 20,800\",\"5,200 to 10,400\",\"5,200 to 10,400\",\"20,800 to 28,600\",\"5,200 to 10,400\",\"2,600 to 5,200\",\"5,200 to 10,400\",\"15,600 to 20,800\",\"5,200 to 10,400\",\"2,600 to 5,200\",\"Unknown\",\"28,600 to 36,400\",\"10,400 to 15,600\",\"Under 2,600\",\"28,600 to 36,400\",\"Above 36,400\",\"15,600 to 20,800\",\"Above 36,400\",\"5,200 to 10,400\",\"28,600 to 36,400\",\"10,400 to 15,600\",\"2,600 to 5,200\",\"5,200 to 10,400\",\"2,600 to 5,200\",\"2,600 to 5,200\",\"5,200 to 10,400\",\"5,200 to 10,400\",\"5,200 to 10,400\",\"Under 2,600\",\"28,600 to 36,400\",\"2,600 to 5,200\",\"5,200 to 10,400\",\"10,400 to 15,600\",\"Above 36,400\",\"15,600 to 20,800\",\"5,200 to 10,400\",\"5,200 to 10,400\",\"15,600 to 20,800\",\"15,600 to 20,800\",\"10,400 to 15,600\",\"2,600 to 5,200\",\"5,200 to 10,400\",\"15,600 to 20,800\",\"5,200 to 10,400\",\"15,600 to 20,800\",\"15,600 to 20,800\",\"5,200 to 10,400\",\"2,600 to 5,200\",\"10,400 to 15,600\",\"Refused\",\"Refused\",\"2,600 to 5,200\",\"5,200 to 10,400\",\"5,200 to 10,400\",\"5,200 to 10,400\",\"5,200 to 10,400\",\"10,400 to 15,600\",\"5,200 to 10,400\",\"10,400 to 15,600\",\"5,200 to 10,400\",\"5,200 to 10,400\",\"20,800 to 28,600\",\"20,800 to 28,600\",\"10,400 to 15,600\",\"10,400 to 15,600\",\"10,400 to 15,600\",\"Refused\",\"Under 2,600\",\"10,400 to 15,600\",\"10,400 to 15,600\",\"5,200 to 10,400\",\"28,600 to 36,400\",\"20,800 to 28,600\",\"5,200 to 10,400\",\"28,600 to 36,400\",\"10,400 to 15,600\",\"10,400 to 15,600\",\"5,200 to 10,400\",\"10,400 to 15,600\",\"10,400 to 15,600\",\"20,800 to 28,600\",\"10,400 to 15,600\",\"15,600 to 20,800\",\"10,400 to 15,600\",\"5,200 to 10,400\",\"5,200 to 10,400\",\"5,200 to 10,400\",\"Under 2,600\",\"15,600 to 20,800\",\"Refused\",\"5,200 to 10,400\",\"5,200 to 10,400\",\"2,600 to 5,200\",\"15,600 to 20,800\",\"Under 2,600\",\"2,600 to 5,200\",\"5,200 to 10,400\",\"2,600 to 5,200\",\"5,200 to 10,400\",\"5,200 to 10,400\",\"5,200 to 10,400\",\"2,600 to 5,200\",\"Under 2,600\",\"Under 2,600\",\"Under 2,600\",\"2,600 to 5,200\",\"5,200 to 10,400\",\"Under 2,600\",\"5,200 to 10,400\",\"5,200 to 10,400\",\"Unknown\",\"5,200 to 10,400\",\"15,600 to 20,800\",\"10,400 to 15,600\",\"10,400 to 15,600\",\"2,600 to 5,200\",\"15,600 to 20,800\",\"Under 2,600\",\"20,800 to 28,600\",\"10,400 to 15,600\",\"28,600 to 36,400\",\"Under 2,600\",\"20,800 to 28,600\",\"Refused\",\"Under 2,600\",\"15,600 to 20,800\",\"28,600 to 36,400\",\"5,200 to 10,400\",\"28,600 to 36,400\",\"10,400 to 15,600\",\"20,800 to 28,600\",\"2,600 to 5,200\",\"Refused\",\"15,600 to 20,800\",\"5,200 to 10,400\",\"28,600 to 36,400\",\"Refused\",\"2,600 to 5,200\",\"Under 2,600\",\"10,400 to 15,600\",\"28,600 to 36,400\",\"15,600 to 20,800\",\"15,600 to 20,800\",\"2,600 to 5,200\",\"2,600 to 5,200\",\"5,200 to 10,400\",\"5,200 to 10,400\",\"Refused\",\"28,600 to 36,400\",\"2,600 to 5,200\",\"Under 2,600\",\"Refused\",\"5,200 to 10,400\",\"15,600 to 20,800\",\"15,600 to 20,800\",\"Under 2,600\",\"2,600 to 5,200\",\"5,200 to 10,400\",\"10,400 to 15,600\",\"Above 36,400\",\"Under 2,600\",\"Under 2,600\",\"2,600 to 5,200\",\"5,200 to 10,400\",\"2,600 to 5,200\",\"2,600 to 5,200\",\"5,200 to 10,400\",\"2,600 to 5,200\",\"2,600 to 5,200\",\"5,200 to 10,400\",\"2,600 to 5,200\",\"5,200 to 10,400\",\"Unknown\",\"5,200 to 10,400\",\"2,600 to 5,200\",\"10,400 to 15,600\",\"2,600 to 5,200\",\"10,400 to 15,600\",\"2,600 to 5,200\",\"2,600 to 5,200\",\"2,600 to 5,200\",\"5,200 to 10,400\",\"Under 2,600\",\"15,600 to 20,800\",\"5,200 to 10,400\",\"15,600 to 20,800\",\"2,600 to 5,200\",\"5,200 to 10,400\",\"Unknown\",\"20,800 to 28,600\",\"10,400 to 15,600\",\"2,600 to 5,200\",\"28,600 to 36,400\",\"10,400 to 15,600\",\"10,400 to 15,600\",\"5,200 to 10,400\",\"Refused\",\"2,600 to 5,200\",\"5,200 to 10,400\",\"5,200 to 10,400\",\"5,200 to 10,400\",\"Under 2,600\",\"5,200 to 10,400\",\"10,400 to 15,600\",\"Refused\",\"Refused\",\"5,200 to 10,400\",\"15,600 to 20,800\",\"15,600 to 20,800\",\"20,800 to 28,600\",\"5,200 to 10,400\",\"20,800 to 28,600\",\"2,600 to 5,200\",\"Above 36,400\",\"10,400 to 15,600\",\"10,400 to 15,600\",\"20,800 to 28,600\",\"Under 2,600\",\"20,800 to 28,600\",\"20,800 to 28,600\",\"15,600 to 20,800\",\"10,400 to 15,600\",\"10,400 to 15,600\",\"20,800 to 28,600\",\"15,600 to 20,800\",\"5,200 to 10,400\",\"Refused\",\"15,600 to 20,800\",\"Above 36,400\",\"Above 36,400\",\"5,200 to 10,400\",\"2,600 to 5,200\",\"5,200 to 10,400\",\"10,400 to 15,600\",\"10,400 to 15,600\",\"15,600 to 20,800\",\"5,200 to 10,400\",\"28,600 to 36,400\",\"5,200 to 10,400\",\"28,600 to 36,400\",\"15,600 to 20,800\",\"2,600 to 5,200\",\"10,400 to 15,600\",\"15,600 to 20,800\",\"Above 36,400\",\"2,600 to 5,200\",\"28,600 to 36,400\",\"10,400 to 15,600\",\"Above 36,400\",\"10,400 to 15,600\",\"10,400 to 15,600\",\"15,600 to 20,800\",\"28,600 to 36,400\",\"5,200 to 10,400\",\"Refused\",\"2,600 to 5,200\",\"15,600 to 20,800\",\"10,400 to 15,600\",\"Above 36,400\",\"20,800 to 28,600\",\"Above 36,400\",\"2,600 to 5,200\",\"5,200 to 10,400\",\"5,200 to 10,400\",\"Under 2,600\",\"20,800 to 28,600\",\"5,200 to 10,400\",\"2,600 to 5,200\",\"28,600 to 36,400\",\"5,200 to 10,400\",\"10,400 to 15,600\",\"15,600 to 20,800\",\"15,600 to 20,800\",\"20,800 to 28,600\",\"28,600 to 36,400\",\"Under 2,600\",\"15,600 to 20,800\",\"15,600 to 20,800\",\"5,200 to 10,400\",\"2,600 to 5,200\",\"10,400 to 15,600\",\"2,600 to 5,200\",\"20,800 to 28,600\",\"5,200 to 10,400\",\"20,800 to 28,600\",\"5,200 to 10,400\",\"Refused\",\"5,200 to 10,400\",\"2,600 to 5,200\",\"Above 36,400\",\"Under 2,600\",\"Above 36,400\",\"20,800 to 28,600\",\"5,200 to 10,400\",\"5,200 to 10,400\",\"Under 2,600\",\"2,600 to 5,200\",\"Above 36,400\",\"20,800 to 28,600\",\"10,400 to 15,600\",\"10,400 to 15,600\",\"Refused\",\"Above 36,400\",\"5,200 to 10,400\",\"28,600 to 36,400\",\"20,800 to 28,600\",\"15,600 to 20,800\",\"2,600 to 5,200\",\"10,400 to 15,600\",\"Under 2,600\",\"10,400 to 15,600\",\"10,400 to 15,600\",\"5,200 to 10,400\",\"2,600 to 5,200\",\"5,200 to 10,400\",\"10,400 to 15,600\",\"2,600 to 5,200\",\"Under 2,600\",\"10,400 to 15,600\",\"15,600 to 20,800\",\"20,800 to 28,600\",\"15,600 to 20,800\",\"5,200 to 10,400\",\"15,600 to 20,800\",\"28,600 to 36,400\",\"Under 2,600\",\"20,800 to 28,600\",\"20,800 to 28,600\",\"10,400 to 15,600\",\"15,600 to 20,800\",\"15,600 to 20,800\",\"20,800 to 28,600\",\"15,600 to 20,800\",\"2,600 to 5,200\",\"Refused\",\"Unknown\",\"Under 2,600\",\"5,200 to 10,400\",\"15,600 to 20,800\",\"Refused\",\"10,400 to 15,600\",\"5,200 to 10,400\",\"28,600 to 36,400\",\"5,200 to 10,400\",\"20,800 to 28,600\",\"Unknown\",\"Under 2,600\",\"5,200 to 10,400\",\"15,600 to 20,800\",\"5,200 to 10,400\",\"5,200 to 10,400\",\"2,600 to 5,200\",\"5,200 to 10,400\",\"Refused\",\"5,200 to 10,400\",\"10,400 to 15,600\",\"2,600 to 5,200\",\"2,600 to 5,200\",\"10,400 to 15,600\",\"10,400 to 15,600\",\"2,600 to 5,200\",\"5,200 to 10,400\",\"5,200 to 10,400\",\"5,200 to 10,400\",\"2,600 to 5,200\",\"10,400 to 15,600\",\"5,200 to 10,400\",\"2,600 to 5,200\",\"Refused\",\"2,600 to 5,200\",\"Under 2,600\",\"5,200 to 10,400\",\"10,400 to 15,600\",\"28,600 to 36,400\",\"15,600 to 20,800\",\"5,200 to 10,400\",\"15,600 to 20,800\",\"10,400 to 15,600\",\"15,600 to 20,800\",\"2,600 to 5,200\",\"5,200 to 10,400\",\"10,400 to 15,600\",\"5,200 to 10,400\",\"2,600 to 5,200\",\"5,200 to 10,400\",\"15,600 to 20,800\",\"5,200 to 10,400\",\"Under 2,600\",\"20,800 to 28,600\",\"28,600 to 36,400\",\"2,600 to 5,200\",\"10,400 to 15,600\",\"2,600 to 5,200\",\"5,200 to 10,400\",\"15,600 to 20,800\",\"2,600 to 5,200\",\"2,600 to 5,200\",\"10,400 to 15,600\",\"Above 36,400\",\"28,600 to 36,400\",\"15,600 to 20,800\",\"5,200 to 10,400\",\"2,600 to 5,200\",\"15,600 to 20,800\",\"Under 2,600\",\"15,600 to 20,800\",\"10,400 to 15,600\",\"20,800 to 28,600\",\"20,800 to 28,600\",\"10,400 to 15,600\",\"5,200 to 10,400\",\"10,400 to 15,600\",\"20,800 to 28,600\",\"10,400 to 15,600\",\"10,400 to 15,600\",\"10,400 to 15,600\",\"10,400 to 15,600\",\"10,400 to 15,600\",\"10,400 to 15,600\",\"10,400 to 15,600\",\"5,200 to 10,400\",\"2,600 to 5,200\",\"5,200 to 10,400\",\"5,200 to 10,400\",\"5,200 to 10,400\",\"Under 2,600\",\"5,200 to 10,400\",\"5,200 to 10,400\",\"5,200 to 10,400\",\"Under 2,600\",\"5,200 to 10,400\",\"2,600 to 5,200\",\"2,600 to 5,200\",\"2,600 to 5,200\",\"5,200 to 10,400\",\"5,200 to 10,400\",\"15,600 to 20,800\",\"10,400 to 15,600\",\"Under 2,600\",\"5,200 to 10,400\",\"5,200 to 10,400\",\"10,400 to 15,600\",\"10,400 to 15,600\",\"20,800 to 28,600\",\"10,400 to 15,600\",\"10,400 to 15,600\",\"20,800 to 28,600\",\"Refused\",\"Refused\",\"28,600 to 36,400\",\"20,800 to 28,600\",\"20,800 to 28,600\",\"15,600 to 20,800\",\"10,400 to 15,600\",\"2,600 to 5,200\",\"5,200 to 10,400\",\"Unknown\",\"5,200 to 10,400\",\"5,200 to 10,400\",\"10,400 to 15,600\",\"2,600 to 5,200\",\"Refused\",\"Refused\",\"5,200 to 10,400\",\"5,200 to 10,400\",\"5,200 to 10,400\",\"Refused\",\"5,200 to 10,400\",\"2,600 to 5,200\",\"10,400 to 15,600\",\"Refused\",\"Above 36,400\",\"2,600 to 5,200\",\"2,600 to 5,200\",\"2,600 to 5,200\",\"10,400 to 15,600\",\"Under 2,600\",\"10,400 to 15,600\",\"2,600 to 5,200\",\"5,200 to 10,400\",\"5,200 to 10,400\",\"10,400 to 15,600\",\"Above 36,400\",\"Refused\",\"15,600 to 20,800\",\"Under 2,600\",\"10,400 to 15,600\",\"5,200 to 10,400\",\"20,800 to 28,600\",\"2,600 to 5,200\",\"5,200 to 10,400\",\"10,400 to 15,600\",\"Refused\",\"28,600 to 36,400\",\"5,200 to 10,400\",\"5,200 to 10,400\",\"10,400 to 15,600\",\"15,600 to 20,800\",\"10,400 to 15,600\",\"Above 36,400\",\"28,600 to 36,400\",\"5,200 to 10,400\",\"2,600 to 5,200\",\"Refused\",\"Refused\",\"10,400 to 15,600\",\"5,200 to 10,400\",\"Under 2,600\",\"10,400 to 15,600\",\"5,200 to 10,400\",\"10,400 to 15,600\",\"10,400 to 15,600\",\"Refused\",\"15,600 to 20,800\",\"10,400 to 15,600\",\"10,400 to 15,600\",\"2,600 to 5,200\",\"Refused\",\"10,400 to 15,600\",\"10,400 to 15,600\",\"15,600 to 20,800\",\"10,400 to 15,600\",\"5,200 to 10,400\",\"Refused\",\"10,400 to 15,600\",\"20,800 to 28,600\",\"10,400 to 15,600\",\"2,600 to 5,200\",\"Refused\",\"Refused\",\"15,600 to 20,800\",\"10,400 to 15,600\",\"Refused\",\"15,600 to 20,800\",\"Under 2,600\",\"28,600 to 36,400\",\"5,200 to 10,400\",\"5,200 to 10,400\",\"20,800 to 28,600\",\"5,200 to 10,400\",\"2,600 to 5,200\",\"10,400 to 15,600\",\"20,800 to 28,600\",\"15,600 to 20,800\",\"10,400 to 15,600\",\"5,200 to 10,400\",\"15,600 to 20,800\",\"28,600 to 36,400\",\"15,600 to 20,800\",\"Under 2,600\",\"10,400 to 15,600\",\"2,600 to 5,200\",\"20,800 to 28,600\",\"Refused\",\"15,600 to 20,800\",\"5,200 to 10,400\",\"5,200 to 10,400\",\"Refused\",\"10,400 to 15,600\",\"Above 36,400\",\"Above 36,400\",\"20,800 to 28,600\",\"5,200 to 10,400\",\"10,400 to 15,600\",\"Under 2,600\",\"20,800 to 28,600\",\"28,600 to 36,400\",\"20,800 to 28,600\",\"Refused\",\"Refused\",\"Under 2,600\",\"Above 36,400\",\"Refused\",\"Above 36,400\",\"10,400 to 15,600\",\"2,600 to 5,200\",\"2,600 to 5,200\",\"15,600 to 20,800\",\"5,200 to 10,400\",\"Under 2,600\",\"Refused\",\"2,600 to 5,200\",\"5,200 to 10,400\",\"2,600 to 5,200\",\"28,600 to 36,400\",\"10,400 to 15,600\",\"2,600 to 5,200\",\"10,400 to 15,600\",\"28,600 to 36,400\",\"Under 2,600\",\"15,600 to 20,800\",\"15,600 to 20,800\",\"5,200 to 10,400\",\"15,600 to 20,800\",\"5,200 to 10,400\",\"5,200 to 10,400\",\"10,400 to 15,600\",\"20,800 to 28,600\",\"2,600 to 5,200\",\"5,200 to 10,400\",\"10,400 to 15,600\",\"Refused\",\"Above 36,400\",\"Under 2,600\",\"20,800 to 28,600\",\"20,800 to 28,600\",\"10,400 to 15,600\",\"5,200 to 10,400\",\"Refused\",\"10,400 to 15,600\",\"2,600 to 5,200\",\"15,600 to 20,800\",\"2,600 to 5,200\",\"2,600 to 5,200\",\"Under 2,600\",\"5,200 to 10,400\",\"2,600 to 5,200\",\"10,400 to 15,600\",\"Refused\",\"15,600 to 20,800\",\"Refused\",\"28,600 to 36,400\",\"5,200 to 10,400\",\"20,800 to 28,600\",\"10,400 to 15,600\",\"Under 2,600\",\"Under 2,600\",\"28,600 to 36,400\",\"Above 36,400\",\"Refused\",\"5,200 to 10,400\",\"Refused\",\"Above 36,400\",\"28,600 to 36,400\",\"20,800 to 28,600\",\"20,800 to 28,600\",\"5,200 to 10,400\",\"15,600 to 20,800\",\"5,200 to 10,400\",\"2,600 to 5,200\",\"15,600 to 20,800\",\"Under 2,600\",\"20,800 to 28,600\",\"2,600 to 5,200\",\"5,200 to 10,400\",\"2,600 to 5,200\",\"Under 2,600\",\"15,600 to 20,800\",\"15,600 to 20,800\",\"2,600 to 5,200\",\"Above 36,400\",\"2,600 to 5,200\",\"20,800 to 28,600\",\"10,400 to 15,600\",\"15,600 to 20,800\",\"10,400 to 15,600\",\"5,200 to 10,400\",\"28,600 to 36,400\",\"20,800 to 28,600\",\"10,400 to 15,600\",\"28,600 to 36,400\",\"28,600 to 36,400\",\"Under 2,600\",\"Above 36,400\",\"Refused\",\"5,200 to 10,400\",\"10,400 to 15,600\",\"20,800 to 28,600\",\"15,600 to 20,800\",\"5,200 to 10,400\",\"20,800 to 28,600\",\"20,800 to 28,600\",\"10,400 to 15,600\",\"Under 2,600\",\"2,600 to 5,200\",\"Under 2,600\",\"Unknown\",\"Refused\",\"Refused\",\"2,600 to 5,200\",\"Under 2,600\",\"5,200 to 10,400\",\"5,200 to 10,400\",\"5,200 to 10,400\",\"10,400 to 15,600\",\"Under 2,600\",\"Above 36,400\",\"20,800 to 28,600\",\"Above 36,400\",\"28,600 to 36,400\",\"20,800 to 28,600\",\"5,200 to 10,400\",\"5,200 to 10,400\",\"5,200 to 10,400\",\"10,400 to 15,600\",\"15,600 to 20,800\",\"Under 2,600\",\"5,200 to 10,400\",\"15,600 to 20,800\",\"5,200 to 10,400\",\"Above 36,400\",\"5,200 to 10,400\",\"Under 2,600\",\"20,800 to 28,600\",\"5,200 to 10,400\",\"Refused\",\"5,200 to 10,400\",\"28,600 to 36,400\",\"Above 36,400\",\"Above 36,400\",\"5,200 to 10,400\",\"10,400 to 15,600\",\"Refused\",\"15,600 to 20,800\",\"10,400 to 15,600\",\"Under 2,600\",\"28,600 to 36,400\",\"Above 36,400\",\"2,600 to 5,200\",\"Refused\",\"5,200 to 10,400\",\"10,400 to 15,600\",\"2,600 to 5,200\",\"2,600 to 5,200\",\"2,600 to 5,200\",\"5,200 to 10,400\",\"28,600 to 36,400\",\"Refused\",\"10,400 to 15,600\",\"Unknown\",\"5,200 to 10,400\",\"Above 36,400\",\"5,200 to 10,400\",\"5,200 to 10,400\",\"5,200 to 10,400\",\"Under 2,600\",\"Under 2,600\",\"5,200 to 10,400\",\"2,600 to 5,200\",\"2,600 to 5,200\",\"5,200 to 10,400\",\"5,200 to 10,400\",\"2,600 to 5,200\",\"5,200 to 10,400\",\"20,800 to 28,600\",\"5,200 to 10,400\",\"2,600 to 5,200\",\"10,400 to 15,600\",\"2,600 to 5,200\",\"5,200 to 10,400\",\"5,200 to 10,400\",\"20,800 to 28,600\",\"5,200 to 10,400\",\"20,800 to 28,600\",\"5,200 to 10,400\",\"2,600 to 5,200\",\"15,600 to 20,800\",\"15,600 to 20,800\",\"10,400 to 15,600\",\"10,400 to 15,600\",\"10,400 to 15,600\",\"15,600 to 20,800\",\"5,200 to 10,400\",\"2,600 to 5,200\",\"Under 2,600\",\"2,600 to 5,200\",\"Under 2,600\",\"Under 2,600\",\"Refused\",\"5,200 to 10,400\",\"20,800 to 28,600\",\"5,200 to 10,400\",\"Under 2,600\",\"10,400 to 15,600\",\"2,600 to 5,200\",\"5,200 to 10,400\",\"5,200 to 10,400\",\"20,800 to 28,600\",\"Under 2,600\",\"Above 36,400\",\"15,600 to 20,800\",\"5,200 to 10,400\",\"5,200 to 10,400\",\"5,200 to 10,400\",\"10,400 to 15,600\",\"15,600 to 20,800\",\"2,600 to 5,200\",\"2,600 to 5,200\",\"Above 36,400\",\"2,600 to 5,200\",\"10,400 to 15,600\",\"28,600 to 36,400\",\"20,800 to 28,600\",\"10,400 to 15,600\",\"Under 2,600\",\"Refused\",\"Above 36,400\",\"20,800 to 28,600\",\"10,400 to 15,600\",\"20,800 to 28,600\",\"Under 2,600\",\"10,400 to 15,600\",\"20,800 to 28,600\",\"20,800 to 28,600\",\"20,800 to 28,600\",\"5,200 to 10,400\",\"2,600 to 5,200\",\"Under 2,600\",\"15,600 to 20,800\",\"Under 2,600\",\"2,600 to 5,200\",\"10,400 to 15,600\",\"Under 2,600\",\"5,200 to 10,400\",\"15,600 to 20,800\",\"5,200 to 10,400\",\"10,400 to 15,600\",\"Above 36,400\",\"2,600 to 5,200\",\"15,600 to 20,800\",\"20,800 to 28,600\",\"Above 36,400\",\"28,600 to 36,400\",\"2,600 to 5,200\",\"5,200 to 10,400\",\"Refused\",\"Under 2,600\",\"5,200 to 10,400\",\"10,400 to 15,600\",\"20,800 to 28,600\",\"5,200 to 10,400\",\"2,600 to 5,200\",\"28,600 to 36,400\",\"10,400 to 15,600\",\"2,600 to 5,200\",\"20,800 to 28,600\",\"5,200 to 10,400\",\"20,800 to 28,600\",\"20,800 to 28,600\",\"2,600 to 5,200\",\"10,400 to 15,600\",\"10,400 to 15,600\",\"Refused\",\"20,800 to 28,600\",\"20,800 to 28,600\",\"10,400 to 15,600\",\"5,200 to 10,400\",\"15,600 to 20,800\",\"20,800 to 28,600\",\"5,200 to 10,400\",\"28,600 to 36,400\",\"5,200 to 10,400\",\"5,200 to 10,400\",\"5,200 to 10,400\",\"20,800 to 28,600\",\"10,400 to 15,600\",\"5,200 to 10,400\",\"10,400 to 15,600\",\"Refused\",\"Above 36,400\",\"5,200 to 10,400\",\"Under 2,600\",\"2,600 to 5,200\",\"10,400 to 15,600\",\"2,600 to 5,200\",\"Under 2,600\",\"10,400 to 15,600\",\"2,600 to 5,200\",\"2,600 to 5,200\",\"10,400 to 15,600\",\"5,200 to 10,400\",\"10,400 to 15,600\",\"15,600 to 20,800\",\"Above 36,400\",\"28,600 to 36,400\",\"10,400 to 15,600\",\"15,600 to 20,800\",\"Refused\",\"Above 36,400\",\"10,400 to 15,600\",\"10,400 to 15,600\",\"2,600 to 5,200\",\"Under 2,600\",\"5,200 to 10,400\",\"Refused\",\"15,600 to 20,800\",\"Refused\",\"2,600 to 5,200\",\"5,200 to 10,400\",\"Above 36,400\",\"28,600 to 36,400\",\"Above 36,400\",\"2,600 to 5,200\",\"2,600 to 5,200\",\"5,200 to 10,400\",\"Above 36,400\",\"5,200 to 10,400\",\"5,200 to 10,400\",\"5,200 to 10,400\",\"10,400 to 15,600\",\"10,400 to 15,600\",\"2,600 to 5,200\",\"Under 2,600\",\"10,400 to 15,600\",\"2,600 to 5,200\",\"Under 2,600\",\"Above 36,400\",\"Above 36,400\",\"20,800 to 28,600\",\"Refused\",\"2,600 to 5,200\",\"15,600 to 20,800\",\"20,800 to 28,600\",\"Above 36,400\",\"20,800 to 28,600\",\"2,600 to 5,200\",\"2,600 to 5,200\",\"20,800 to 28,600\",\"20,800 to 28,600\",\"5,200 to 10,400\",\"15,600 to 20,800\",\"2,600 to 5,200\",\"20,800 to 28,600\",\"Above 36,400\",\"28,600 to 36,400\",\"10,400 to 15,600\",\"5,200 to 10,400\",\"5,200 to 10,400\",\"Under 2,600\",\"10,400 to 15,600\",\"Above 36,400\",\"20,800 to 28,600\",\"20,800 to 28,600\",\"2,600 to 5,200\",\"5,200 to 10,400\",\"15,600 to 20,800\",\"28,600 to 36,400\",\"5,200 to 10,400\",\"15,600 to 20,800\",\"2,600 to 5,200\",\"5,200 to 10,400\",\"Above 36,400\",\"2,600 to 5,200\",\"15,600 to 20,800\",\"10,400 to 15,600\",\"5,200 to 10,400\",\"28,600 to 36,400\",\"10,400 to 15,600\",\"20,800 to 28,600\",\"15,600 to 20,800\",\"10,400 to 15,600\",\"Under 2,600\",\"10,400 to 15,600\",\"15,600 to 20,800\",\"28,600 to 36,400\",\"Refused\",\"Refused\",\"2,600 to 5,200\",\"20,800 to 28,600\",\"10,400 to 15,600\",\"2,600 to 5,200\",\"Refused\",\"20,800 to 28,600\",\"5,200 to 10,400\",\"Under 2,600\",\"10,400 to 15,600\",\"Refused\",\"2,600 to 5,200\",\"5,200 to 10,400\",\"Under 2,600\",\"5,200 to 10,400\",\"Refused\",\"5,200 to 10,400\",\"20,800 to 28,600\",\"Above 36,400\",\"2,600 to 5,200\",\"15,600 to 20,800\",\"2,600 to 5,200\",\"10,400 to 15,600\",\"20,800 to 28,600\",\"2,600 to 5,200\",\"Under 2,600\",\"5,200 to 10,400\",\"10,400 to 15,600\",\"5,200 to 10,400\",\"Above 36,400\",\"15,600 to 20,800\",\"10,400 to 15,600\",\"20,800 to 28,600\",\"2,600 to 5,200\",\"2,600 to 5,200\",\"20,800 to 28,600\",\"Unknown\",\"20,800 to 28,600\",\"Refused\",\"28,600 to 36,400\",\"2,600 to 5,200\",\"15,600 to 20,800\",\"Above 36,400\",\"2,600 to 5,200\",\"5,200 to 10,400\",\"5,200 to 10,400\",\"28,600 to 36,400\",\"Refused\",\"Refused\",\"20,800 to 28,600\",\"5,200 to 10,400\",\"5,200 to 10,400\",\"2,600 to 5,200\",\"20,800 to 28,600\",\"5,200 to 10,400\",\"15,600 to 20,800\",\"20,800 to 28,600\",\"20,800 to 28,600\",\"20,800 to 28,600\",\"10,400 to 15,600\",\"15,600 to 20,800\",\"15,600 to 20,800\",\"Above 36,400\",\"5,200 to 10,400\",\"15,600 to 20,800\",\"5,200 to 10,400\",\"20,800 to 28,600\",\"15,600 to 20,800\",\"5,200 to 10,400\",\"Above 36,400\",\"28,600 to 36,400\",\"Above 36,400\",\"20,800 to 28,600\",\"Above 36,400\",\"20,800 to 28,600\",\"5,200 to 10,400\",\"5,200 to 10,400\",\"Above 36,400\",\"15,600 to 20,800\",\"5,200 to 10,400\",\"10,400 to 15,600\",\"5,200 to 10,400\",\"2,600 to 5,200\",\"28,600 to 36,400\",\"Refused\",\"15,600 to 20,800\",\"5,200 to 10,400\",\"Under 2,600\",\"Under 2,600\",\"5,200 to 10,400\",\"Under 2,600\",\"Refused\",\"Under 2,600\",\"10,400 to 15,600\",\"28,600 to 36,400\",\"Refused\",\"20,800 to 28,600\",\"20,800 to 28,600\",\"5,200 to 10,400\",\"2,600 to 5,200\",\"10,400 to 15,600\",\"Under 2,600\",\"10,400 to 15,600\",\"2,600 to 5,200\",\"15,600 to 20,800\",\"Unknown\",\"20,800 to 28,600\",\"10,400 to 15,600\",\"10,400 to 15,600\",\"Above 36,400\",\"5,200 to 10,400\",\"Refused\",\"2,600 to 5,200\",\"20,800 to 28,600\",\"Refused\",\"5,200 to 10,400\",\"20,800 to 28,600\",\"5,200 to 10,400\",\"2,600 to 5,200\",\"Under 2,600\",\"5,200 to 10,400\",\"Under 2,600\",\"15,600 to 20,800\",\"15,600 to 20,800\",\"Under 2,600\",\"5,200 to 10,400\",\"2,600 to 5,200\",\"Above 36,400\",\"15,600 to 20,800\",\"2,600 to 5,200\",\"5,200 to 10,400\",\"20,800 to 28,600\",\"2,600 to 5,200\",\"20,800 to 28,600\",\"5,200 to 10,400\",\"5,200 to 10,400\",\"10,400 to 15,600\",\"10,400 to 15,600\",\"28,600 to 36,400\",\"5,200 to 10,400\",\"20,800 to 28,600\",\"2,600 to 5,200\",\"5,200 to 10,400\",\"15,600 to 20,800\",\"28,600 to 36,400\",\"5,200 to 10,400\",\"5,200 to 10,400\",\"Under 2,600\",\"5,200 to 10,400\",\"2,600 to 5,200\",\"2,600 to 5,200\",\"5,200 to 10,400\",\"10,400 to 15,600\",\"2,600 to 5,200\",\"5,200 to 10,400\",\"2,600 to 5,200\",\"5,200 to 10,400\",\"5,200 to 10,400\",\"15,600 to 20,800\",\"5,200 to 10,400\",\"5,200 to 10,400\",\"Under 2,600\",\"5,200 to 10,400\",\"5,200 to 10,400\",\"Under 2,600\",\"Unknown\",\"2,600 to 5,200\",\"Refused\",\"Under 2,600\",\"15,600 to 20,800\",\"2,600 to 5,200\",\"10,400 to 15,600\",\"5,200 to 10,400\",\"5,200 to 10,400\",\"5,200 to 10,400\",\"2,600 to 5,200\",\"5,200 to 10,400\",\"20,800 to 28,600\",\"5,200 to 10,400\",\"2,600 to 5,200\",\"5,200 to 10,400\",\"10,400 to 15,600\",\"2,600 to 5,200\",\"5,200 to 10,400\",\"10,400 to 15,600\",\"5,200 to 10,400\",\"10,400 to 15,600\",\"10,400 to 15,600\",\"5,200 to 10,400\",\"2,600 to 5,200\",\"10,400 to 15,600\",\"5,200 to 10,400\",\"10,400 to 15,600\",\"Above 36,400\",\"20,800 to 28,600\",\"5,200 to 10,400\",\"15,600 to 20,800\",\"10,400 to 15,600\",\"2,600 to 5,200\",\"20,800 to 28,600\",\"15,600 to 20,800\",\"Refused\",\"15,600 to 20,800\",\"5,200 to 10,400\",\"2,600 to 5,200\",\"5,200 to 10,400\",\"10,400 to 15,600\",\"15,600 to 20,800\",\"Refused\",\"10,400 to 15,600\",\"2,600 to 5,200\",\"Under 2,600\",\"15,600 to 20,800\",\"20,800 to 28,600\",\"10,400 to 15,600\",\"2,600 to 5,200\",\"10,400 to 15,600\",\"Under 2,600\",\"2,600 to 5,200\",\"10,400 to 15,600\",\"Above 36,400\",\"5,200 to 10,400\",\"10,400 to 15,600\",\"2,600 to 5,200\",\"20,800 to 28,600\",\"Above 36,400\",\"5,200 to 10,400\",\"Under 2,600\",\"Above 36,400\",\"Above 36,400\",\"Above 36,400\",\"5,200 to 10,400\",\"5,200 to 10,400\",\"2,600 to 5,200\",\"Unknown\",\"5,200 to 10,400\",\"28,600 to 36,400\",\"5,200 to 10,400\",\"20,800 to 28,600\",\"28,600 to 36,400\",\"Above 36,400\",\"5,200 to 10,400\",\"5,200 to 10,400\",\"2,600 to 5,200\",\"2,600 to 5,200\",\"10,400 to 15,600\",\"5,200 to 10,400\",\"20,800 to 28,600\",\"Refused\",\"10,400 to 15,600\",\"2,600 to 5,200\",\"5,200 to 10,400\",\"10,400 to 15,600\",\"2,600 to 5,200\",\"15,600 to 20,800\",\"5,200 to 10,400\",\"5,200 to 10,400\",\"5,200 to 10,400\",\"10,400 to 15,600\",\"2,600 to 5,200\",\"10,400 to 15,600\",\"Above 36,400\",\"2,600 to 5,200\",\"15,600 to 20,800\",\"5,200 to 10,400\",\"2,600 to 5,200\",\"2,600 to 5,200\",\"20,800 to 28,600\",\"5,200 to 10,400\",\"Under 2,600\",\"5,200 to 10,400\",\"5,200 to 10,400\",\"15,600 to 20,800\",\"5,200 to 10,400\",\"5,200 to 10,400\",\"5,200 to 10,400\",\"20,800 to 28,600\",\"Refused\",\"15,600 to 20,800\",\"5,200 to 10,400\",\"15,600 to 20,800\",\"Under 2,600\",\"20,800 to 28,600\",\"2,600 to 5,200\",\"5,200 to 10,400\",\"5,200 to 10,400\",\"5,200 to 10,400\",\"Under 2,600\",\"Unknown\",\"28,600 to 36,400\",\"Refused\",\"10,400 to 15,600\",\"5,200 to 10,400\",\"10,400 to 15,600\",\"2,600 to 5,200\",\"15,600 to 20,800\",\"Refused\",\"28,600 to 36,400\",\"2,600 to 5,200\",\"Under 2,600\",\"20,800 to 28,600\",\"Above 36,400\",\"2,600 to 5,200\",\"10,400 to 15,600\",\"10,400 to 15,600\",\"20,800 to 28,600\",\"5,200 to 10,400\",\"10,400 to 15,600\",\"15,600 to 20,800\",\"Refused\",\"2,600 to 5,200\",\"Under 2,600\",\"Under 2,600\",\"5,200 to 10,400\",\"15,600 to 20,800\",\"Under 2,600\",\"10,400 to 15,600\",\"10,400 to 15,600\",\"5,200 to 10,400\",\"5,200 to 10,400\",\"2,600 to 5,200\",\"2,600 to 5,200\",\"Above 36,400\",\"Above 36,400\",\"5,200 to 10,400\",\"15,600 to 20,800\",\"5,200 to 10,400\",\"Refused\",\"5,200 to 10,400\",\"Refused\",\"Refused\",\"5,200 to 10,400\",\"Refused\",\"Under 2,600\",\"Refused\",\"20,800 to 28,600\",\"10,400 to 15,600\",\"28,600 to 36,400\",\"Refused\",\"10,400 to 15,600\",\"Refused\",\"2,600 to 5,200\",\"5,200 to 10,400\",\"2,600 to 5,200\",\"Unknown\",\"2,600 to 5,200\",\"5,200 to 10,400\",\"2,600 to 5,200\",\"5,200 to 10,400\",\"15,600 to 20,800\",\"10,400 to 15,600\",\"5,200 to 10,400\",\"28,600 to 36,400\",\"5,200 to 10,400\",\"10,400 to 15,600\",\"Refused\",\"2,600 to 5,200\",\"10,400 to 15,600\",\"10,400 to 15,600\",\"5,200 to 10,400\",\"15,600 to 20,800\",\"5,200 to 10,400\",\"2,600 to 5,200\",\"5,200 to 10,400\",\"Under 2,600\",\"15,600 to 20,800\",\"10,400 to 15,600\",\"5,200 to 10,400\",\"2,600 to 5,200\",\"2,600 to 5,200\",\"2,600 to 5,200\",\"5,200 to 10,400\",\"20,800 to 28,600\",\"2,600 to 5,200\",\"10,400 to 15,600\",\"2,600 to 5,200\",\"20,800 to 28,600\",\"Under 2,600\",\"15,600 to 20,800\",\"2,600 to 5,200\",\"20,800 to 28,600\",\"Above 36,400\",\"20,800 to 28,600\",\"2,600 to 5,200\",\"20,800 to 28,600\",\"5,200 to 10,400\",\"10,400 to 15,600\",\"5,200 to 10,400\",\"5,200 to 10,400\",\"10,400 to 15,600\",\"5,200 to 10,400\",\"2,600 to 5,200\",\"Refused\",\"2,600 to 5,200\",\"20,800 to 28,600\",\"10,400 to 15,600\",\"5,200 to 10,400\",\"20,800 to 28,600\",\"15,600 to 20,800\",\"10,400 to 15,600\",\"10,400 to 15,600\",\"20,800 to 28,600\",\"Unknown\",\"Under 2,600\",\"5,200 to 10,400\",\"28,600 to 36,400\",\"5,200 to 10,400\",\"10,400 to 15,600\",\"15,600 to 20,800\",\"10,400 to 15,600\",\"20,800 to 28,600\",\"10,400 to 15,600\",\"5,200 to 10,400\",\"Under 2,600\",\"20,800 to 28,600\",\"28,600 to 36,400\",\"28,600 to 36,400\",\"10,400 to 15,600\",\"10,400 to 15,600\",\"15,600 to 20,800\",\"5,200 to 10,400\",\"2,600 to 5,200\",\"2,600 to 5,200\",\"2,600 to 5,200\",\"20,800 to 28,600\",\"20,800 to 28,600\",\"15,600 to 20,800\",\"10,400 to 15,600\",\"5,200 to 10,400\",\"2,600 to 5,200\",\"Above 36,400\",\"Above 36,400\",\"20,800 to 28,600\",\"5,200 to 10,400\",\"15,600 to 20,800\",\"10,400 to 15,600\",\"10,400 to 15,600\",\"5,200 to 10,400\",\"Unknown\",\"Refused\",\"10,400 to 15,600\",\"2,600 to 5,200\",\"28,600 to 36,400\",\"15,600 to 20,800\",\"Above 36,400\",\"28,600 to 36,400\",\"2,600 to 5,200\",\"Above 36,400\",\"10,400 to 15,600\",\"5,200 to 10,400\",\"20,800 to 28,600\",\"10,400 to 15,600\",\"15,600 to 20,800\",\"15,600 to 20,800\",\"15,600 to 20,800\",\"10,400 to 15,600\",\"5,200 to 10,400\",\"2,600 to 5,200\",\"20,800 to 28,600\",\"5,200 to 10,400\",\"20,800 to 28,600\",\"15,600 to 20,800\",\"5,200 to 10,400\",\"15,600 to 20,800\",\"5,200 to 10,400\",\"5,200 to 10,400\",\"5,200 to 10,400\",\"5,200 to 10,400\",\"5,200 to 10,400\",\"Under 2,600\",\"2,600 to 5,200\",\"20,800 to 28,600\",\"10,400 to 15,600\",\"Under 2,600\",\"28,600 to 36,400\",\"2,600 to 5,200\",\"5,200 to 10,400\",\"2,600 to 5,200\",\"5,200 to 10,400\",\"10,400 to 15,600\",\"5,200 to 10,400\",\"15,600 to 20,800\",\"10,400 to 15,600\",\"10,400 to 15,600\",\"15,600 to 20,800\",\"5,200 to 10,400\",\"5,200 to 10,400\",\"15,600 to 20,800\",\"10,400 to 15,600\",\"5,200 to 10,400\",\"15,600 to 20,800\",\"15,600 to 20,800\",\"Refused\",\"15,600 to 20,800\",\"5,200 to 10,400\",\"5,200 to 10,400\",\"5,200 to 10,400\",\"15,600 to 20,800\",\"28,600 to 36,400\",\"5,200 to 10,400\",\"5,200 to 10,400\",\"Under 2,600\",\"15,600 to 20,800\",\"5,200 to 10,400\",\"15,600 to 20,800\",\"5,200 to 10,400\",\"5,200 to 10,400\",\"5,200 to 10,400\",\"5,200 to 10,400\",\"28,600 to 36,400\",\"5,200 to 10,400\",\"15,600 to 20,800\",\"5,200 to 10,400\",\"28,600 to 36,400\",\"2,600 to 5,200\",\"Above 36,400\",\"Refused\",\"15,600 to 20,800\",\"10,400 to 15,600\",\"Refused\",\"5,200 to 10,400\",\"Under 2,600\",\"Under 2,600\",\"10,400 to 15,600\",\"15,600 to 20,800\",\"5,200 to 10,400\",\"15,600 to 20,800\",\"2,600 to 5,200\",\"20,800 to 28,600\",\"2,600 to 5,200\",\"10,400 to 15,600\",\"2,600 to 5,200\",\"5,200 to 10,400\",\"5,200 to 10,400\",\"5,200 to 10,400\",\"15,600 to 20,800\",\"2,600 to 5,200\",\"10,400 to 15,600\",\"Under 2,600\",\"10,400 to 15,600\",\"10,400 to 15,600\",\"Under 2,600\",\"20,800 to 28,600\",\"Refused\",\"10,400 to 15,600\",\"Refused\",\"5,200 to 10,400\",\"2,600 to 5,200\",\"2,600 to 5,200\",\"5,200 to 10,400\",\"2,600 to 5,200\",\"10,400 to 15,600\"],\"xaxis\":\"x\",\"yaxis\":\"y\",\"type\":\"histogram\"}],                        {\"barmode\":\"relative\",\"legend\":{\"tracegroupgap\":0},\"template\":{\"data\":{\"barpolar\":[{\"marker\":{\"line\":{\"color\":\"#E5ECF6\",\"width\":0.5},\"pattern\":{\"fillmode\":\"overlay\",\"size\":10,\"solidity\":0.2}},\"type\":\"barpolar\"}],\"bar\":[{\"error_x\":{\"color\":\"#2a3f5f\"},\"error_y\":{\"color\":\"#2a3f5f\"},\"marker\":{\"line\":{\"color\":\"#E5ECF6\",\"width\":0.5},\"pattern\":{\"fillmode\":\"overlay\",\"size\":10,\"solidity\":0.2}},\"type\":\"bar\"}],\"carpet\":[{\"aaxis\":{\"endlinecolor\":\"#2a3f5f\",\"gridcolor\":\"white\",\"linecolor\":\"white\",\"minorgridcolor\":\"white\",\"startlinecolor\":\"#2a3f5f\"},\"baxis\":{\"endlinecolor\":\"#2a3f5f\",\"gridcolor\":\"white\",\"linecolor\":\"white\",\"minorgridcolor\":\"white\",\"startlinecolor\":\"#2a3f5f\"},\"type\":\"carpet\"}],\"choropleth\":[{\"colorbar\":{\"outlinewidth\":0,\"ticks\":\"\"},\"type\":\"choropleth\"}],\"contourcarpet\":[{\"colorbar\":{\"outlinewidth\":0,\"ticks\":\"\"},\"type\":\"contourcarpet\"}],\"contour\":[{\"colorbar\":{\"outlinewidth\":0,\"ticks\":\"\"},\"colorscale\":[[0.0,\"#0d0887\"],[0.1111111111111111,\"#46039f\"],[0.2222222222222222,\"#7201a8\"],[0.3333333333333333,\"#9c179e\"],[0.4444444444444444,\"#bd3786\"],[0.5555555555555556,\"#d8576b\"],[0.6666666666666666,\"#ed7953\"],[0.7777777777777778,\"#fb9f3a\"],[0.8888888888888888,\"#fdca26\"],[1.0,\"#f0f921\"]],\"type\":\"contour\"}],\"heatmapgl\":[{\"colorbar\":{\"outlinewidth\":0,\"ticks\":\"\"},\"colorscale\":[[0.0,\"#0d0887\"],[0.1111111111111111,\"#46039f\"],[0.2222222222222222,\"#7201a8\"],[0.3333333333333333,\"#9c179e\"],[0.4444444444444444,\"#bd3786\"],[0.5555555555555556,\"#d8576b\"],[0.6666666666666666,\"#ed7953\"],[0.7777777777777778,\"#fb9f3a\"],[0.8888888888888888,\"#fdca26\"],[1.0,\"#f0f921\"]],\"type\":\"heatmapgl\"}],\"heatmap\":[{\"colorbar\":{\"outlinewidth\":0,\"ticks\":\"\"},\"colorscale\":[[0.0,\"#0d0887\"],[0.1111111111111111,\"#46039f\"],[0.2222222222222222,\"#7201a8\"],[0.3333333333333333,\"#9c179e\"],[0.4444444444444444,\"#bd3786\"],[0.5555555555555556,\"#d8576b\"],[0.6666666666666666,\"#ed7953\"],[0.7777777777777778,\"#fb9f3a\"],[0.8888888888888888,\"#fdca26\"],[1.0,\"#f0f921\"]],\"type\":\"heatmap\"}],\"histogram2dcontour\":[{\"colorbar\":{\"outlinewidth\":0,\"ticks\":\"\"},\"colorscale\":[[0.0,\"#0d0887\"],[0.1111111111111111,\"#46039f\"],[0.2222222222222222,\"#7201a8\"],[0.3333333333333333,\"#9c179e\"],[0.4444444444444444,\"#bd3786\"],[0.5555555555555556,\"#d8576b\"],[0.6666666666666666,\"#ed7953\"],[0.7777777777777778,\"#fb9f3a\"],[0.8888888888888888,\"#fdca26\"],[1.0,\"#f0f921\"]],\"type\":\"histogram2dcontour\"}],\"histogram2d\":[{\"colorbar\":{\"outlinewidth\":0,\"ticks\":\"\"},\"colorscale\":[[0.0,\"#0d0887\"],[0.1111111111111111,\"#46039f\"],[0.2222222222222222,\"#7201a8\"],[0.3333333333333333,\"#9c179e\"],[0.4444444444444444,\"#bd3786\"],[0.5555555555555556,\"#d8576b\"],[0.6666666666666666,\"#ed7953\"],[0.7777777777777778,\"#fb9f3a\"],[0.8888888888888888,\"#fdca26\"],[1.0,\"#f0f921\"]],\"type\":\"histogram2d\"}],\"histogram\":[{\"marker\":{\"pattern\":{\"fillmode\":\"overlay\",\"size\":10,\"solidity\":0.2}},\"type\":\"histogram\"}],\"mesh3d\":[{\"colorbar\":{\"outlinewidth\":0,\"ticks\":\"\"},\"type\":\"mesh3d\"}],\"parcoords\":[{\"line\":{\"colorbar\":{\"outlinewidth\":0,\"ticks\":\"\"}},\"type\":\"parcoords\"}],\"pie\":[{\"automargin\":true,\"type\":\"pie\"}],\"scatter3d\":[{\"line\":{\"colorbar\":{\"outlinewidth\":0,\"ticks\":\"\"}},\"marker\":{\"colorbar\":{\"outlinewidth\":0,\"ticks\":\"\"}},\"type\":\"scatter3d\"}],\"scattercarpet\":[{\"marker\":{\"colorbar\":{\"outlinewidth\":0,\"ticks\":\"\"}},\"type\":\"scattercarpet\"}],\"scattergeo\":[{\"marker\":{\"colorbar\":{\"outlinewidth\":0,\"ticks\":\"\"}},\"type\":\"scattergeo\"}],\"scattergl\":[{\"marker\":{\"colorbar\":{\"outlinewidth\":0,\"ticks\":\"\"}},\"type\":\"scattergl\"}],\"scattermapbox\":[{\"marker\":{\"colorbar\":{\"outlinewidth\":0,\"ticks\":\"\"}},\"type\":\"scattermapbox\"}],\"scatterpolargl\":[{\"marker\":{\"colorbar\":{\"outlinewidth\":0,\"ticks\":\"\"}},\"type\":\"scatterpolargl\"}],\"scatterpolar\":[{\"marker\":{\"colorbar\":{\"outlinewidth\":0,\"ticks\":\"\"}},\"type\":\"scatterpolar\"}],\"scatter\":[{\"fillpattern\":{\"fillmode\":\"overlay\",\"size\":10,\"solidity\":0.2},\"type\":\"scatter\"}],\"scatterternary\":[{\"marker\":{\"colorbar\":{\"outlinewidth\":0,\"ticks\":\"\"}},\"type\":\"scatterternary\"}],\"surface\":[{\"colorbar\":{\"outlinewidth\":0,\"ticks\":\"\"},\"colorscale\":[[0.0,\"#0d0887\"],[0.1111111111111111,\"#46039f\"],[0.2222222222222222,\"#7201a8\"],[0.3333333333333333,\"#9c179e\"],[0.4444444444444444,\"#bd3786\"],[0.5555555555555556,\"#d8576b\"],[0.6666666666666666,\"#ed7953\"],[0.7777777777777778,\"#fb9f3a\"],[0.8888888888888888,\"#fdca26\"],[1.0,\"#f0f921\"]],\"type\":\"surface\"}],\"table\":[{\"cells\":{\"fill\":{\"color\":\"#EBF0F8\"},\"line\":{\"color\":\"white\"}},\"header\":{\"fill\":{\"color\":\"#C8D4E3\"},\"line\":{\"color\":\"white\"}},\"type\":\"table\"}]},\"layout\":{\"annotationdefaults\":{\"arrowcolor\":\"#2a3f5f\",\"arrowhead\":0,\"arrowwidth\":1},\"autotypenumbers\":\"strict\",\"coloraxis\":{\"colorbar\":{\"outlinewidth\":0,\"ticks\":\"\"}},\"colorscale\":{\"diverging\":[[0,\"#8e0152\"],[0.1,\"#c51b7d\"],[0.2,\"#de77ae\"],[0.3,\"#f1b6da\"],[0.4,\"#fde0ef\"],[0.5,\"#f7f7f7\"],[0.6,\"#e6f5d0\"],[0.7,\"#b8e186\"],[0.8,\"#7fbc41\"],[0.9,\"#4d9221\"],[1,\"#276419\"]],\"sequential\":[[0.0,\"#0d0887\"],[0.1111111111111111,\"#46039f\"],[0.2222222222222222,\"#7201a8\"],[0.3333333333333333,\"#9c179e\"],[0.4444444444444444,\"#bd3786\"],[0.5555555555555556,\"#d8576b\"],[0.6666666666666666,\"#ed7953\"],[0.7777777777777778,\"#fb9f3a\"],[0.8888888888888888,\"#fdca26\"],[1.0,\"#f0f921\"]],\"sequentialminus\":[[0.0,\"#0d0887\"],[0.1111111111111111,\"#46039f\"],[0.2222222222222222,\"#7201a8\"],[0.3333333333333333,\"#9c179e\"],[0.4444444444444444,\"#bd3786\"],[0.5555555555555556,\"#d8576b\"],[0.6666666666666666,\"#ed7953\"],[0.7777777777777778,\"#fb9f3a\"],[0.8888888888888888,\"#fdca26\"],[1.0,\"#f0f921\"]]},\"colorway\":[\"#636efa\",\"#EF553B\",\"#00cc96\",\"#ab63fa\",\"#FFA15A\",\"#19d3f3\",\"#FF6692\",\"#B6E880\",\"#FF97FF\",\"#FECB52\"],\"font\":{\"color\":\"#2a3f5f\"},\"geo\":{\"bgcolor\":\"white\",\"lakecolor\":\"white\",\"landcolor\":\"#E5ECF6\",\"showlakes\":true,\"showland\":true,\"subunitcolor\":\"white\"},\"hoverlabel\":{\"align\":\"left\"},\"hovermode\":\"closest\",\"mapbox\":{\"style\":\"light\"},\"paper_bgcolor\":\"white\",\"plot_bgcolor\":\"#E5ECF6\",\"polar\":{\"angularaxis\":{\"gridcolor\":\"white\",\"linecolor\":\"white\",\"ticks\":\"\"},\"bgcolor\":\"#E5ECF6\",\"radialaxis\":{\"gridcolor\":\"white\",\"linecolor\":\"white\",\"ticks\":\"\"}},\"scene\":{\"xaxis\":{\"backgroundcolor\":\"#E5ECF6\",\"gridcolor\":\"white\",\"gridwidth\":2,\"linecolor\":\"white\",\"showbackground\":true,\"ticks\":\"\",\"zerolinecolor\":\"white\"},\"yaxis\":{\"backgroundcolor\":\"#E5ECF6\",\"gridcolor\":\"white\",\"gridwidth\":2,\"linecolor\":\"white\",\"showbackground\":true,\"ticks\":\"\",\"zerolinecolor\":\"white\"},\"zaxis\":{\"backgroundcolor\":\"#E5ECF6\",\"gridcolor\":\"white\",\"gridwidth\":2,\"linecolor\":\"white\",\"showbackground\":true,\"ticks\":\"\",\"zerolinecolor\":\"white\"}},\"shapedefaults\":{\"line\":{\"color\":\"#2a3f5f\"}},\"ternary\":{\"aaxis\":{\"gridcolor\":\"white\",\"linecolor\":\"white\",\"ticks\":\"\"},\"baxis\":{\"gridcolor\":\"white\",\"linecolor\":\"white\",\"ticks\":\"\"},\"bgcolor\":\"#E5ECF6\",\"caxis\":{\"gridcolor\":\"white\",\"linecolor\":\"white\",\"ticks\":\"\"}},\"title\":{\"x\":0.05},\"xaxis\":{\"automargin\":true,\"gridcolor\":\"white\",\"linecolor\":\"white\",\"ticks\":\"\",\"title\":{\"standoff\":15},\"zerolinecolor\":\"white\",\"zerolinewidth\":2},\"yaxis\":{\"automargin\":true,\"gridcolor\":\"white\",\"linecolor\":\"white\",\"ticks\":\"\",\"title\":{\"standoff\":15},\"zerolinecolor\":\"white\",\"zerolinewidth\":2}}},\"title\":{\"text\":\"gross_income distribution in top hits\"},\"xaxis\":{\"anchor\":\"y\",\"domain\":[0.0,1.0],\"title\":{\"text\":\"gross_income\"}},\"yaxis\":{\"anchor\":\"x\",\"domain\":[0.0,1.0],\"title\":{\"text\":\"count\"}}},                        {\"responsive\": true}                    ).then(function(){\n",
       "                            \n",
       "var gd = document.getElementById('a19dbbab-10b4-4df7-95a2-6725ecc2d8bd');\n",
       "var x = new MutationObserver(function (mutations, observer) {{\n",
       "        var display = window.getComputedStyle(gd).display;\n",
       "        if (!display || display === 'none') {{\n",
       "            console.log([gd, 'removed!']);\n",
       "            Plotly.purge(gd);\n",
       "            observer.disconnect();\n",
       "        }}\n",
       "}});\n",
       "\n",
       "// Listen for the removal of the full notebook cells\n",
       "var notebookContainer = gd.closest('#notebook-container');\n",
       "if (notebookContainer) {{\n",
       "    x.observe(notebookContainer, {childList: true});\n",
       "}}\n",
       "\n",
       "// Listen for the clearing of the current output cell\n",
       "var outputEl = gd.closest('.output');\n",
       "if (outputEl) {{\n",
       "    x.observe(outputEl, {childList: true});\n",
       "}}\n",
       "\n",
       "                        })                };                });            </script>        </div>"
      ]
     },
     "metadata": {},
     "output_type": "display_data"
    },
    {
     "data": {
      "text/html": [
       "<div>                            <div id=\"d7a292c0-b5e5-44e2-aa25-02141f370eae\" class=\"plotly-graph-div\" style=\"height:525px; width:100%;\"></div>            <script type=\"text/javascript\">                require([\"plotly\"], function(Plotly) {                    window.PLOTLYENV=window.PLOTLYENV || {};                                    if (document.getElementById(\"d7a292c0-b5e5-44e2-aa25-02141f370eae\")) {                    Plotly.newPlot(                        \"d7a292c0-b5e5-44e2-aa25-02141f370eae\",                        [{\"alignmentgroup\":\"True\",\"bingroup\":\"x\",\"hovertemplate\":\"amt_weekends=%{x}\\u003cbr\\u003ecount=%{y}\\u003cextra\\u003e\\u003c\\u002fextra\\u003e\",\"legendgroup\":\"\",\"marker\":{\"color\":\"rgb(82, 188, 163)\",\"pattern\":{\"shape\":\"\"}},\"name\":\"\",\"offsetgroup\":\"\",\"orientation\":\"v\",\"showlegend\":false,\"x\":[0.0,12.0,0.0,0.0,0.0,0.0,6.0,0.0,8.0,15.0,0.0,0.0,0.0,0.0,0.0,0.0,0.0,0.0,0.0,0.0,6.0,5.0,20.0,0.0,0.0,0.0,25.0,0.0,0.0,0.0,40.0,15.0,0.0,0.0,0.0,0.0,0.0,20.0,0.0,0.0,0.0,0.0,0.0,0.0,0.0,0.0,0.0,6.0,0.0,25.0,4.0,0.0,0.0,0.0,20.0,0.0,0.0,0.0,0.0,0.0,0.0,0.0,0.0,0.0,20.0,0.0,20.0,0.0,0.0,5.0,0.0,20.0,0.0,0.0,30.0,0.0,20.0,20.0,0.0,0.0,10.0,0.0,0.0,20.0,0.0,10.0,0.0,0.0,0.0,0.0,0.0,0.0,0.0,0.0,0.0,0.0,0.0,15.0,0.0,0.0,0.0,0.0,0.0,0.0,0.0,0.0,10.0,0.0,0.0,0.0,0.0,0.0,0.0,0.0,0.0,7.0,25.0,40.0,12.0,0.0,0.0,0.0,0.0,20.0,0.0,15.0,0.0,25.0,30.0,0.0,0.0,20.0,8.0,15.0,15.0,0.0,0.0,0.0,0.0,40.0,0.0,0.0,0.0,0.0,20.0,0.0,15.0,0.0,0.0,0.0,0.0,30.0,15.0,0.0,0.0,20.0,0.0,0.0,0.0,0.0,0.0,0.0,0.0,0.0,0.0,9.0,0.0,0.0,0.0,0.0,0.0,30.0,0.0,15.0,0.0,7.0,0.0,2.0,0.0,0.0,0.0,0.0,0.0,0.0,0.0,0.0,0.0,0.0,0.0,0.0,0.0,0.0,0.0,0.0,40.0,20.0,0.0,0.0,30.0,0.0,0.0,0.0,0.0,0.0,0.0,20.0,20.0,2.0,0.0,12.0,0.0,0.0,0.0,0.0,0.0,25.0,0.0,0.0,0.0,10.0,0.0,0.0,0.0,0.0,0.0,0.0,0.0,0.0,12.0,0.0,0.0,0.0,0.0,15.0,0.0,0.0,50.0,0.0,0.0,0.0,10.0,10.0,0.0,0.0,0.0,0.0,0.0,5.0,0.0,0.0,0.0,0.0,0.0,6.0,16.0,0.0,0.0,0.0,15.0,0.0,0.0,0.0,10.0,0.0,5.0,0.0,0.0,0.0,0.0,0.0,20.0,0.0,0.0,40.0,8.0,20.0,0.0,0.0,5.0,5.0,0.0,0.0,10.0,0.0,35.0,0.0,0.0,0.0,0.0,10.0,0.0,0.0,0.0,0.0,0.0,40.0,0.0,7.0,0.0,0.0,10.0,0.0,20.0,0.0,0.0,0.0,8.0,0.0,0.0,0.0,0.0,0.0,0.0,15.0,20.0,0.0,0.0,0.0,0.0,0.0,0.0,0.0,15.0,0.0,0.0,0.0,0.0,0.0,10.0,20.0,0.0,0.0,0.0,0.0,0.0,15.0,0.0,0.0,0.0,0.0,0.0,0.0,0.0,0.0,0.0,0.0,0.0,0.0,0.0,0.0,0.0,0.0,0.0,0.0,0.0,0.0,20.0,0.0,0.0,0.0,10.0,0.0,10.0,0.0,10.0,0.0,0.0,12.0,0.0,0.0,10.0,0.0,0.0,0.0,0.0,0.0,0.0,20.0,0.0,0.0,0.0,0.0,0.0,0.0,0.0,0.0,0.0,0.0,0.0,0.0,0.0,0.0,0.0,0.0,0.0,0.0,0.0,25.0,20.0,0.0,10.0,0.0,0.0,0.0,0.0,0.0,0.0,0.0,0.0,0.0,0.0,0.0,0.0,0.0,0.0,0.0,0.0,30.0,0.0,0.0,0.0,0.0,0.0,0.0,0.0,0.0,0.0,0.0,0.0,0.0,15.0,0.0,15.0,0.0,30.0,0.0,0.0,0.0,0.0,15.0,0.0,0.0,0.0,0.0,0.0,0.0,0.0,0.0,0.0,0.0,0.0,0.0,15.0,0.0,0.0,0.0,0.0,0.0,0.0,0.0,0.0,0.0,0.0,0.0,0.0,0.0,10.0,20.0,0.0,0.0,0.0,0.0,0.0,0.0,0.0,0.0,25.0,0.0,0.0,0.0,0.0,0.0,0.0,0.0,0.0,0.0,0.0,0.0,0.0,6.0,0.0,0.0,2.0,0.0,12.0,0.0,0.0,0.0,30.0,0.0,0.0,0.0,10.0,0.0,10.0,0.0,0.0,0.0,0.0,0.0,0.0,0.0,0.0,0.0,0.0,0.0,0.0,0.0,7.0,0.0,20.0,0.0,20.0,20.0,0.0,0.0,15.0,0.0,0.0,0.0,0.0,18.0,0.0,0.0,0.0,20.0,0.0,10.0,10.0,15.0,0.0,0.0,20.0,1.0,0.0,0.0,0.0,15.0,0.0,0.0,0.0,0.0,0.0,0.0,0.0,0.0,0.0,10.0,40.0,0.0,0.0,10.0,0.0,10.0,0.0,10.0,5.0,0.0,0.0,0.0,0.0,0.0,0.0,0.0,20.0,0.0,0.0,0.0,15.0,0.0,20.0,20.0,0.0,0.0,0.0,0.0,35.0,0.0,0.0,0.0,0.0,0.0,0.0,0.0,0.0,20.0,20.0,0.0,0.0,0.0,5.0,0.0,0.0,0.0,0.0,0.0,0.0,0.0,10.0,0.0,2.0,0.0,0.0,0.0,0.0,0.0,0.0,18.0,0.0,0.0,15.0,0.0,0.0,0.0,0.0,20.0,0.0,0.0,0.0,0.0,5.0,0.0,0.0,10.0,0.0,0.0,0.0,0.0,0.0,0.0,0.0,1.0,0.0,0.0,0.0,0.0,0.0,0.0,0.0,0.0,0.0,0.0,0.0,0.0,0.0,0.0,20.0,0.0,0.0,0.0,8.0,0.0,0.0,6.0,0.0,0.0,0.0,0.0,0.0,0.0,20.0,0.0,0.0,0.0,0.0,5.0,0.0,0.0,40.0,0.0,0.0,0.0,0.0,0.0,0.0,0.0,6.0,0.0,0.0,5.0,30.0,0.0,0.0,0.0,10.0,0.0,0.0,0.0,0.0,0.0,20.0,0.0,0.0,0.0,0.0,15.0,0.0,5.0,20.0,35.0,0.0,0.0,0.0,0.0,0.0,0.0,0.0,0.0,0.0,0.0,0.0,0.0,0.0,0.0,20.0,0.0,20.0,0.0,0.0,0.0,0.0,0.0,0.0,0.0,0.0,20.0,0.0,0.0,0.0,0.0,0.0,0.0,0.0,0.0,0.0,0.0,0.0,0.0,0.0,0.0,30.0,20.0,0.0,30.0,0.0,0.0,0.0,0.0,0.0,0.0,0.0,0.0,15.0,0.0,0.0,0.0,0.0,0.0,0.0,0.0,0.0,15.0,25.0,0.0,0.0,0.0,0.0,0.0,0.0,0.0,0.0,0.0,20.0,20.0,0.0,0.0,3.0,0.0,0.0,20.0,0.0,0.0,0.0,0.0,0.0,20.0,0.0,0.0,18.0,0.0,0.0,0.0,0.0,0.0,0.0,0.0,15.0,0.0,0.0,0.0,0.0,0.0,0.0,0.0,0.0,0.0,0.0,0.0,0.0,15.0,0.0,0.0,0.0,0.0,0.0,0.0,0.0,0.0,1.0,0.0,0.0,25.0,0.0,0.0,0.0,30.0,20.0,0.0,6.0,0.0,0.0,0.0,20.0,0.0,30.0,0.0,0.0,0.0,0.0,0.0,0.0,10.0,0.0,0.0,20.0,0.0,0.0,0.0,0.0,0.0,0.0,0.0,0.0,0.0,0.0,0.0,0.0,0.0,0.0,0.0,0.0,0.0,0.0,0.0,3.0,0.0,0.0,0.0,0.0,0.0,15.0,0.0,20.0,0.0,0.0,25.0,0.0,0.0,0.0,0.0,0.0,1.0,0.0,0.0,0.0,10.0,0.0,8.0,0.0,10.0,7.0,0.0,0.0,0.0,10.0,30.0,0.0,25.0,10.0,10.0,0.0,0.0,0.0,0.0,20.0,0.0,3.0,0.0,0.0,10.0,0.0,0.0,0.0,6.0,0.0,0.0,0.0,0.0,0.0,0.0,5.0,0.0,0.0,30.0,0.0,0.0,0.0,0.0,0.0,0.0,0.0,0.0,5.0,0.0,0.0,0.0,10.0,0.0,0.0,0.0,0.0,0.0,0.0,0.0,0.0,5.0,0.0,0.0,0.0,0.0,0.0,0.0,0.0,0.0,0.0,0.0,0.0,0.0,0.0,4.0,0.0,0.0,0.0,0.0,0.0,10.0,0.0,0.0,0.0,0.0,0.0,16.0,15.0,0.0,7.0,20.0,0.0,15.0,0.0,0.0,15.0,0.0,0.0,10.0,0.0,5.0,0.0,0.0,0.0,0.0,0.0,3.0,0.0,0.0,0.0,0.0,20.0,0.0,0.0,0.0,0.0,0.0,0.0,0.0,0.0,0.0,2.0,0.0,0.0,25.0,25.0,15.0,0.0,0.0,20.0,0.0,0.0,0.0,0.0,0.0,15.0,5.0,0.0,0.0,10.0,0.0,0.0,0.0,15.0,0.0,0.0,0.0,10.0,0.0,20.0,0.0,0.0,0.0,20.0,20.0,0.0,0.0,7.0,0.0,0.0,0.0,0.0,0.0,10.0,0.0,0.0,0.0,0.0,0.0,0.0,0.0,0.0,20.0,0.0,0.0,0.0,0.0,2.0,0.0,0.0,0.0,0.0,10.0,0.0,0.0,0.0,0.0,15.0,0.0,0.0,0.0,20.0,0.0,10.0,0.0,0.0,20.0,0.0,0.0,0.0,0.0,10.0,0.0,0.0,0.0,0.0,0.0,0.0,0.0,0.0,0.0,0.0,0.0,0.0,0.0,0.0,5.0,20.0,0.0,0.0,0.0,0.0,20.0,0.0,0.0,0.0,0.0,0.0,30.0,30.0,40.0,0.0,0.0,0.0,0.0,0.0,0.0,0.0,20.0,5.0,0.0,20.0,0.0,0.0,0.0,0.0,0.0,0.0,0.0,10.0,10.0,5.0,10.0,0.0,0.0,15.0,0.0,0.0,10.0,0.0,0.0,12.0,0.0,40.0,0.0,0.0,0.0,0.0,10.0,0.0,0.0,0.0,0.0,0.0,0.0,0.0,0.0,0.0,20.0,0.0,0.0,0.0,0.0,0.0,0.0,5.0,15.0,60.0,0.0,0.0,0.0,0.0,20.0,20.0,0.0,0.0,0.0,0.0,0.0,0.0,0.0,30.0,0.0,0.0,5.0,0.0,0.0,0.0,10.0,40.0,0.0,0.0,0.0,0.0,0.0,12.0,0.0,0.0,0.0,20.0,20.0,35.0,0.0,0.0,10.0,5.0,0.0,0.0,0.0,15.0,0.0,0.0,0.0,0.0,10.0,0.0,0.0,0.0,0.0,0.0,0.0,0.0,0.0,0.0,15.0,10.0,0.0,0.0,20.0,0.0,25.0,0.0,0.0,0.0,0.0,0.0,0.0,0.0,0.0,0.0,0.0,0.0,0.0,0.0,0.0,0.0,0.0,12.0,30.0,0.0,0.0,0.0,15.0,0.0,0.0,0.0,0.0,0.0,0.0,0.0,10.0,0.0,0.0,0.0,0.0,0.0,0.0,20.0,0.0,7.0,0.0,0.0,0.0,25.0,0.0,8.0,20.0,0.0,15.0,5.0,30.0,0.0,0.0,25.0,0.0,0.0,15.0,0.0,10.0,0.0,0.0,0.0,0.0,0.0,0.0,0.0,0.0,0.0,0.0,0.0,10.0,0.0,0.0,0.0,0.0,5.0,3.0,0.0,0.0,0.0,0.0,10.0,0.0,0.0,20.0,0.0,0.0,0.0,0.0,0.0,0.0,0.0,0.0,0.0,0.0,10.0,40.0,30.0,0.0,0.0,0.0,0.0,0.0,0.0,0.0,20.0,0.0,0.0,0.0,20.0,0.0,0.0,0.0,0.0,0.0,0.0,0.0,0.0,30.0,0.0,0.0,0.0,0.0,0.0,40.0,0.0,0.0,0.0,0.0,0.0,0.0,0.0,4.0,0.0,0.0,0.0,0.0,15.0,0.0,0.0,0.0,12.0,0.0,0.0,0.0,0.0,25.0,0.0,0.0,0.0,0.0,0.0,0.0,0.0,0.0,0.0,20.0,0.0,15.0,10.0,0.0,20.0,20.0,0.0,0.0,0.0,1.0,0.0,0.0,0.0,0.0,20.0,0.0,0.0,0.0,0.0,20.0,0.0,0.0,0.0,25.0,10.0,25.0,0.0,5.0,0.0,20.0,0.0,0.0,0.0,0.0,0.0,30.0,0.0,10.0,0.0,20.0,12.0,0.0,20.0,20.0,0.0,20.0,20.0,50.0,0.0,6.0,0.0,0.0,0.0,0.0,0.0,12.0,0.0,4.0,0.0,0.0,0.0,20.0,0.0,0.0,0.0,0.0,30.0,0.0,0.0,0.0,0.0,0.0,0.0,0.0,0.0,0.0,20.0,0.0,0.0,0.0,0.0,15.0,10.0,0.0,5.0,30.0,20.0,0.0,0.0,0.0,0.0,0.0,0.0,15.0,0.0,0.0,0.0,0.0,5.0,0.0,0.0,0.0,0.0,0.0,0.0,0.0,0.0,0.0,0.0,0.0,25.0,0.0,0.0,0.0,0.0,0.0,10.0,0.0,0.0,0.0,40.0,0.0,0.0,0.0,20.0,0.0,20.0,5.0,0.0,0.0,15.0,0.0,0.0,0.0,20.0,0.0,0.0,0.0,20.0,0.0,0.0,10.0,5.0,5.0,20.0,0.0,25.0,0.0,10.0,0.0,15.0,0.0,15.0,0.0,0.0,0.0,0.0,20.0,0.0,0.0,0.0,0.0,0.0,15.0,20.0,0.0,0.0,0.0,0.0,0.0,0.0,2.0,0.0,0.0,0.0,0.0,0.0,0.0,12.0,0.0,0.0,0.0,0.0,0.0,0.0,30.0,0.0,0.0,0.0,0.0,0.0,10.0,0.0,0.0,0.0,24.0,0.0,0.0,20.0,15.0,30.0,15.0,0.0,0.0,45.0,20.0,0.0,0.0,0.0,15.0,0.0,1.0,0.0,20.0,0.0,0.0,0.0,20.0,10.0,15.0,0.0,0.0,0.0,0.0,0.0,0.0,0.0,20.0,10.0,0.0,0.0,20.0,0.0,40.0,0.0,0.0,0.0,0.0,0.0,25.0,20.0,0.0,0.0,20.0,0.0,15.0,0.0,15.0,25.0,0.0,0.0,0.0,0.0,0.0,0.0,0.0,10.0,60.0,0.0,5.0,35.0,0.0,0.0,0.0,18.0,0.0,0.0,25.0,20.0,20.0,0.0,0.0,20.0,0.0,0.0,0.0,0.0,0.0,15.0,0.0,0.0,3.0,0.0,0.0,0.0,20.0,0.0,20.0,0.0],\"xaxis\":\"x\",\"yaxis\":\"y\",\"type\":\"histogram\"}],                        {\"barmode\":\"relative\",\"legend\":{\"tracegroupgap\":0},\"template\":{\"data\":{\"barpolar\":[{\"marker\":{\"line\":{\"color\":\"#E5ECF6\",\"width\":0.5},\"pattern\":{\"fillmode\":\"overlay\",\"size\":10,\"solidity\":0.2}},\"type\":\"barpolar\"}],\"bar\":[{\"error_x\":{\"color\":\"#2a3f5f\"},\"error_y\":{\"color\":\"#2a3f5f\"},\"marker\":{\"line\":{\"color\":\"#E5ECF6\",\"width\":0.5},\"pattern\":{\"fillmode\":\"overlay\",\"size\":10,\"solidity\":0.2}},\"type\":\"bar\"}],\"carpet\":[{\"aaxis\":{\"endlinecolor\":\"#2a3f5f\",\"gridcolor\":\"white\",\"linecolor\":\"white\",\"minorgridcolor\":\"white\",\"startlinecolor\":\"#2a3f5f\"},\"baxis\":{\"endlinecolor\":\"#2a3f5f\",\"gridcolor\":\"white\",\"linecolor\":\"white\",\"minorgridcolor\":\"white\",\"startlinecolor\":\"#2a3f5f\"},\"type\":\"carpet\"}],\"choropleth\":[{\"colorbar\":{\"outlinewidth\":0,\"ticks\":\"\"},\"type\":\"choropleth\"}],\"contourcarpet\":[{\"colorbar\":{\"outlinewidth\":0,\"ticks\":\"\"},\"type\":\"contourcarpet\"}],\"contour\":[{\"colorbar\":{\"outlinewidth\":0,\"ticks\":\"\"},\"colorscale\":[[0.0,\"#0d0887\"],[0.1111111111111111,\"#46039f\"],[0.2222222222222222,\"#7201a8\"],[0.3333333333333333,\"#9c179e\"],[0.4444444444444444,\"#bd3786\"],[0.5555555555555556,\"#d8576b\"],[0.6666666666666666,\"#ed7953\"],[0.7777777777777778,\"#fb9f3a\"],[0.8888888888888888,\"#fdca26\"],[1.0,\"#f0f921\"]],\"type\":\"contour\"}],\"heatmapgl\":[{\"colorbar\":{\"outlinewidth\":0,\"ticks\":\"\"},\"colorscale\":[[0.0,\"#0d0887\"],[0.1111111111111111,\"#46039f\"],[0.2222222222222222,\"#7201a8\"],[0.3333333333333333,\"#9c179e\"],[0.4444444444444444,\"#bd3786\"],[0.5555555555555556,\"#d8576b\"],[0.6666666666666666,\"#ed7953\"],[0.7777777777777778,\"#fb9f3a\"],[0.8888888888888888,\"#fdca26\"],[1.0,\"#f0f921\"]],\"type\":\"heatmapgl\"}],\"heatmap\":[{\"colorbar\":{\"outlinewidth\":0,\"ticks\":\"\"},\"colorscale\":[[0.0,\"#0d0887\"],[0.1111111111111111,\"#46039f\"],[0.2222222222222222,\"#7201a8\"],[0.3333333333333333,\"#9c179e\"],[0.4444444444444444,\"#bd3786\"],[0.5555555555555556,\"#d8576b\"],[0.6666666666666666,\"#ed7953\"],[0.7777777777777778,\"#fb9f3a\"],[0.8888888888888888,\"#fdca26\"],[1.0,\"#f0f921\"]],\"type\":\"heatmap\"}],\"histogram2dcontour\":[{\"colorbar\":{\"outlinewidth\":0,\"ticks\":\"\"},\"colorscale\":[[0.0,\"#0d0887\"],[0.1111111111111111,\"#46039f\"],[0.2222222222222222,\"#7201a8\"],[0.3333333333333333,\"#9c179e\"],[0.4444444444444444,\"#bd3786\"],[0.5555555555555556,\"#d8576b\"],[0.6666666666666666,\"#ed7953\"],[0.7777777777777778,\"#fb9f3a\"],[0.8888888888888888,\"#fdca26\"],[1.0,\"#f0f921\"]],\"type\":\"histogram2dcontour\"}],\"histogram2d\":[{\"colorbar\":{\"outlinewidth\":0,\"ticks\":\"\"},\"colorscale\":[[0.0,\"#0d0887\"],[0.1111111111111111,\"#46039f\"],[0.2222222222222222,\"#7201a8\"],[0.3333333333333333,\"#9c179e\"],[0.4444444444444444,\"#bd3786\"],[0.5555555555555556,\"#d8576b\"],[0.6666666666666666,\"#ed7953\"],[0.7777777777777778,\"#fb9f3a\"],[0.8888888888888888,\"#fdca26\"],[1.0,\"#f0f921\"]],\"type\":\"histogram2d\"}],\"histogram\":[{\"marker\":{\"pattern\":{\"fillmode\":\"overlay\",\"size\":10,\"solidity\":0.2}},\"type\":\"histogram\"}],\"mesh3d\":[{\"colorbar\":{\"outlinewidth\":0,\"ticks\":\"\"},\"type\":\"mesh3d\"}],\"parcoords\":[{\"line\":{\"colorbar\":{\"outlinewidth\":0,\"ticks\":\"\"}},\"type\":\"parcoords\"}],\"pie\":[{\"automargin\":true,\"type\":\"pie\"}],\"scatter3d\":[{\"line\":{\"colorbar\":{\"outlinewidth\":0,\"ticks\":\"\"}},\"marker\":{\"colorbar\":{\"outlinewidth\":0,\"ticks\":\"\"}},\"type\":\"scatter3d\"}],\"scattercarpet\":[{\"marker\":{\"colorbar\":{\"outlinewidth\":0,\"ticks\":\"\"}},\"type\":\"scattercarpet\"}],\"scattergeo\":[{\"marker\":{\"colorbar\":{\"outlinewidth\":0,\"ticks\":\"\"}},\"type\":\"scattergeo\"}],\"scattergl\":[{\"marker\":{\"colorbar\":{\"outlinewidth\":0,\"ticks\":\"\"}},\"type\":\"scattergl\"}],\"scattermapbox\":[{\"marker\":{\"colorbar\":{\"outlinewidth\":0,\"ticks\":\"\"}},\"type\":\"scattermapbox\"}],\"scatterpolargl\":[{\"marker\":{\"colorbar\":{\"outlinewidth\":0,\"ticks\":\"\"}},\"type\":\"scatterpolargl\"}],\"scatterpolar\":[{\"marker\":{\"colorbar\":{\"outlinewidth\":0,\"ticks\":\"\"}},\"type\":\"scatterpolar\"}],\"scatter\":[{\"fillpattern\":{\"fillmode\":\"overlay\",\"size\":10,\"solidity\":0.2},\"type\":\"scatter\"}],\"scatterternary\":[{\"marker\":{\"colorbar\":{\"outlinewidth\":0,\"ticks\":\"\"}},\"type\":\"scatterternary\"}],\"surface\":[{\"colorbar\":{\"outlinewidth\":0,\"ticks\":\"\"},\"colorscale\":[[0.0,\"#0d0887\"],[0.1111111111111111,\"#46039f\"],[0.2222222222222222,\"#7201a8\"],[0.3333333333333333,\"#9c179e\"],[0.4444444444444444,\"#bd3786\"],[0.5555555555555556,\"#d8576b\"],[0.6666666666666666,\"#ed7953\"],[0.7777777777777778,\"#fb9f3a\"],[0.8888888888888888,\"#fdca26\"],[1.0,\"#f0f921\"]],\"type\":\"surface\"}],\"table\":[{\"cells\":{\"fill\":{\"color\":\"#EBF0F8\"},\"line\":{\"color\":\"white\"}},\"header\":{\"fill\":{\"color\":\"#C8D4E3\"},\"line\":{\"color\":\"white\"}},\"type\":\"table\"}]},\"layout\":{\"annotationdefaults\":{\"arrowcolor\":\"#2a3f5f\",\"arrowhead\":0,\"arrowwidth\":1},\"autotypenumbers\":\"strict\",\"coloraxis\":{\"colorbar\":{\"outlinewidth\":0,\"ticks\":\"\"}},\"colorscale\":{\"diverging\":[[0,\"#8e0152\"],[0.1,\"#c51b7d\"],[0.2,\"#de77ae\"],[0.3,\"#f1b6da\"],[0.4,\"#fde0ef\"],[0.5,\"#f7f7f7\"],[0.6,\"#e6f5d0\"],[0.7,\"#b8e186\"],[0.8,\"#7fbc41\"],[0.9,\"#4d9221\"],[1,\"#276419\"]],\"sequential\":[[0.0,\"#0d0887\"],[0.1111111111111111,\"#46039f\"],[0.2222222222222222,\"#7201a8\"],[0.3333333333333333,\"#9c179e\"],[0.4444444444444444,\"#bd3786\"],[0.5555555555555556,\"#d8576b\"],[0.6666666666666666,\"#ed7953\"],[0.7777777777777778,\"#fb9f3a\"],[0.8888888888888888,\"#fdca26\"],[1.0,\"#f0f921\"]],\"sequentialminus\":[[0.0,\"#0d0887\"],[0.1111111111111111,\"#46039f\"],[0.2222222222222222,\"#7201a8\"],[0.3333333333333333,\"#9c179e\"],[0.4444444444444444,\"#bd3786\"],[0.5555555555555556,\"#d8576b\"],[0.6666666666666666,\"#ed7953\"],[0.7777777777777778,\"#fb9f3a\"],[0.8888888888888888,\"#fdca26\"],[1.0,\"#f0f921\"]]},\"colorway\":[\"#636efa\",\"#EF553B\",\"#00cc96\",\"#ab63fa\",\"#FFA15A\",\"#19d3f3\",\"#FF6692\",\"#B6E880\",\"#FF97FF\",\"#FECB52\"],\"font\":{\"color\":\"#2a3f5f\"},\"geo\":{\"bgcolor\":\"white\",\"lakecolor\":\"white\",\"landcolor\":\"#E5ECF6\",\"showlakes\":true,\"showland\":true,\"subunitcolor\":\"white\"},\"hoverlabel\":{\"align\":\"left\"},\"hovermode\":\"closest\",\"mapbox\":{\"style\":\"light\"},\"paper_bgcolor\":\"white\",\"plot_bgcolor\":\"#E5ECF6\",\"polar\":{\"angularaxis\":{\"gridcolor\":\"white\",\"linecolor\":\"white\",\"ticks\":\"\"},\"bgcolor\":\"#E5ECF6\",\"radialaxis\":{\"gridcolor\":\"white\",\"linecolor\":\"white\",\"ticks\":\"\"}},\"scene\":{\"xaxis\":{\"backgroundcolor\":\"#E5ECF6\",\"gridcolor\":\"white\",\"gridwidth\":2,\"linecolor\":\"white\",\"showbackground\":true,\"ticks\":\"\",\"zerolinecolor\":\"white\"},\"yaxis\":{\"backgroundcolor\":\"#E5ECF6\",\"gridcolor\":\"white\",\"gridwidth\":2,\"linecolor\":\"white\",\"showbackground\":true,\"ticks\":\"\",\"zerolinecolor\":\"white\"},\"zaxis\":{\"backgroundcolor\":\"#E5ECF6\",\"gridcolor\":\"white\",\"gridwidth\":2,\"linecolor\":\"white\",\"showbackground\":true,\"ticks\":\"\",\"zerolinecolor\":\"white\"}},\"shapedefaults\":{\"line\":{\"color\":\"#2a3f5f\"}},\"ternary\":{\"aaxis\":{\"gridcolor\":\"white\",\"linecolor\":\"white\",\"ticks\":\"\"},\"baxis\":{\"gridcolor\":\"white\",\"linecolor\":\"white\",\"ticks\":\"\"},\"bgcolor\":\"#E5ECF6\",\"caxis\":{\"gridcolor\":\"white\",\"linecolor\":\"white\",\"ticks\":\"\"}},\"title\":{\"x\":0.05},\"xaxis\":{\"automargin\":true,\"gridcolor\":\"white\",\"linecolor\":\"white\",\"ticks\":\"\",\"title\":{\"standoff\":15},\"zerolinecolor\":\"white\",\"zerolinewidth\":2},\"yaxis\":{\"automargin\":true,\"gridcolor\":\"white\",\"linecolor\":\"white\",\"ticks\":\"\",\"title\":{\"standoff\":15},\"zerolinecolor\":\"white\",\"zerolinewidth\":2}}},\"title\":{\"text\":\"amt_weekends distribution in top hits\"},\"xaxis\":{\"anchor\":\"y\",\"domain\":[0.0,1.0],\"title\":{\"text\":\"amt_weekends\"}},\"yaxis\":{\"anchor\":\"x\",\"domain\":[0.0,1.0],\"title\":{\"text\":\"count\"}}},                        {\"responsive\": true}                    ).then(function(){\n",
       "                            \n",
       "var gd = document.getElementById('d7a292c0-b5e5-44e2-aa25-02141f370eae');\n",
       "var x = new MutationObserver(function (mutations, observer) {{\n",
       "        var display = window.getComputedStyle(gd).display;\n",
       "        if (!display || display === 'none') {{\n",
       "            console.log([gd, 'removed!']);\n",
       "            Plotly.purge(gd);\n",
       "            observer.disconnect();\n",
       "        }}\n",
       "}});\n",
       "\n",
       "// Listen for the removal of the full notebook cells\n",
       "var notebookContainer = gd.closest('#notebook-container');\n",
       "if (notebookContainer) {{\n",
       "    x.observe(notebookContainer, {childList: true});\n",
       "}}\n",
       "\n",
       "// Listen for the clearing of the current output cell\n",
       "var outputEl = gd.closest('.output');\n",
       "if (outputEl) {{\n",
       "    x.observe(outputEl, {childList: true});\n",
       "}}\n",
       "\n",
       "                        })                };                });            </script>        </div>"
      ]
     },
     "metadata": {},
     "output_type": "display_data"
    },
    {
     "data": {
      "text/html": [
       "<div>                            <div id=\"1639975d-d11c-42cc-8007-d45cc090c53b\" class=\"plotly-graph-div\" style=\"height:525px; width:100%;\"></div>            <script type=\"text/javascript\">                require([\"plotly\"], function(Plotly) {                    window.PLOTLYENV=window.PLOTLYENV || {};                                    if (document.getElementById(\"1639975d-d11c-42cc-8007-d45cc090c53b\")) {                    Plotly.newPlot(                        \"1639975d-d11c-42cc-8007-d45cc090c53b\",                        [{\"alignmentgroup\":\"True\",\"bingroup\":\"x\",\"hovertemplate\":\"amt_weekdays=%{x}\\u003cbr\\u003ecount=%{y}\\u003cextra\\u003e\\u003c\\u002fextra\\u003e\",\"legendgroup\":\"\",\"marker\":{\"color\":\"rgb(153, 201, 69)\",\"pattern\":{\"shape\":\"\"}},\"name\":\"\",\"offsetgroup\":\"\",\"orientation\":\"v\",\"showlegend\":false,\"x\":[0.0,12.0,0.0,0.0,0.0,0.0,6.0,0.0,8.0,12.0,0.0,0.0,0.0,0.0,0.0,0.0,0.0,0.0,0.0,0.0,12.0,2.0,20.0,0.0,0.0,0.0,20.0,0.0,0.0,0.0,15.0,15.0,0.0,0.0,0.0,0.0,0.0,20.0,0.0,0.0,0.0,0.0,0.0,0.0,0.0,0.0,0.0,6.0,0.0,25.0,4.0,0.0,0.0,0.0,20.0,0.0,0.0,0.0,0.0,0.0,0.0,0.0,0.0,0.0,10.0,0.0,10.0,0.0,0.0,0.0,0.0,20.0,0.0,0.0,30.0,0.0,20.0,20.0,0.0,0.0,3.0,0.0,0.0,20.0,0.0,0.0,0.0,0.0,0.0,0.0,0.0,0.0,0.0,0.0,0.0,0.0,0.0,15.0,0.0,0.0,0.0,0.0,0.0,0.0,0.0,0.0,10.0,0.0,0.0,0.0,0.0,0.0,0.0,0.0,0.0,7.0,25.0,40.0,12.0,0.0,0.0,0.0,0.0,20.0,0.0,15.0,0.0,25.0,30.0,0.0,0.0,12.0,8.0,15.0,15.0,0.0,0.0,0.0,0.0,40.0,0.0,0.0,0.0,0.0,20.0,0.0,15.0,0.0,0.0,0.0,0.0,30.0,8.0,0.0,0.0,4.0,0.0,0.0,0.0,0.0,0.0,0.0,0.0,0.0,0.0,9.0,0.0,0.0,0.0,0.0,0.0,30.0,0.0,15.0,0.0,5.0,0.0,2.0,0.0,0.0,0.0,0.0,0.0,0.0,0.0,0.0,0.0,0.0,0.0,0.0,0.0,0.0,0.0,0.0,40.0,8.0,0.0,0.0,15.0,0.0,0.0,0.0,0.0,0.0,0.0,20.0,15.0,2.0,0.0,12.0,0.0,0.0,0.0,0.0,0.0,30.0,0.0,0.0,0.0,10.0,0.0,0.0,0.0,0.0,0.0,0.0,0.0,0.0,8.0,0.0,0.0,0.0,0.0,15.0,0.0,0.0,50.0,0.0,0.0,0.0,7.0,5.0,0.0,0.0,0.0,0.0,0.0,0.0,0.0,0.0,0.0,0.0,0.0,8.0,18.0,0.0,0.0,0.0,15.0,0.0,0.0,0.0,10.0,0.0,0.0,0.0,0.0,0.0,0.0,0.0,10.0,0.0,0.0,15.0,8.0,10.0,0.0,0.0,5.0,10.0,0.0,0.0,4.0,0.0,35.0,0.0,0.0,0.0,0.0,8.0,0.0,0.0,0.0,0.0,0.0,40.0,0.0,7.0,0.0,0.0,10.0,0.0,20.0,0.0,0.0,0.0,8.0,0.0,0.0,0.0,0.0,0.0,0.0,15.0,20.0,0.0,0.0,0.0,0.0,0.0,0.0,0.0,10.0,0.0,0.0,0.0,0.0,0.0,1.0,20.0,0.0,0.0,0.0,0.0,0.0,10.0,0.0,0.0,0.0,0.0,0.0,0.0,0.0,0.0,0.0,0.0,0.0,0.0,0.0,0.0,0.0,0.0,0.0,0.0,0.0,0.0,20.0,0.0,0.0,0.0,10.0,0.0,10.0,0.0,10.0,0.0,0.0,7.0,0.0,0.0,4.0,0.0,0.0,0.0,0.0,0.0,0.0,20.0,0.0,0.0,0.0,0.0,0.0,0.0,0.0,0.0,0.0,0.0,0.0,0.0,0.0,0.0,0.0,0.0,0.0,0.0,0.0,10.0,20.0,0.0,10.0,0.0,0.0,0.0,0.0,0.0,0.0,0.0,0.0,0.0,0.0,0.0,0.0,0.0,0.0,0.0,0.0,30.0,0.0,0.0,0.0,0.0,0.0,0.0,0.0,0.0,0.0,0.0,0.0,0.0,10.0,0.0,15.0,0.0,25.0,0.0,0.0,0.0,0.0,10.0,0.0,0.0,0.0,0.0,0.0,0.0,0.0,0.0,0.0,0.0,0.0,0.0,15.0,0.0,0.0,0.0,0.0,0.0,0.0,0.0,0.0,0.0,0.0,0.0,0.0,0.0,6.0,20.0,0.0,0.0,0.0,0.0,0.0,0.0,0.0,0.0,15.0,0.0,0.0,0.0,0.0,0.0,0.0,0.0,0.0,0.0,0.0,0.0,0.0,4.0,0.0,0.0,2.0,0.0,12.0,0.0,0.0,0.0,15.0,0.0,0.0,0.0,5.0,0.0,3.0,0.0,0.0,0.0,0.0,0.0,0.0,0.0,0.0,0.0,0.0,0.0,0.0,0.0,12.0,0.0,15.0,0.0,20.0,20.0,0.0,0.0,3.0,0.0,0.0,0.0,0.0,12.0,0.0,0.0,0.0,20.0,0.0,10.0,10.0,10.0,0.0,0.0,10.0,2.0,0.0,0.0,0.0,15.0,0.0,0.0,0.0,0.0,0.0,0.0,0.0,0.0,0.0,7.0,20.0,0.0,0.0,7.0,0.0,10.0,0.0,6.0,5.0,0.0,0.0,0.0,0.0,0.0,0.0,0.0,15.0,0.0,0.0,0.0,15.0,0.0,20.0,10.0,0.0,0.0,0.0,0.0,25.0,0.0,0.0,0.0,0.0,2.0,0.0,0.0,0.0,20.0,15.0,0.0,0.0,0.0,5.0,0.0,0.0,0.0,0.0,0.0,0.0,0.0,8.0,0.0,1.0,0.0,0.0,0.0,0.0,0.0,0.0,18.0,0.0,0.0,15.0,0.0,0.0,0.0,0.0,15.0,0.0,0.0,0.0,0.0,10.0,0.0,0.0,10.0,0.0,0.0,0.0,0.0,0.0,0.0,0.0,1.0,0.0,0.0,0.0,0.0,0.0,0.0,0.0,0.0,0.0,0.0,0.0,0.0,0.0,0.0,20.0,0.0,0.0,0.0,2.0,0.0,0.0,6.0,0.0,0.0,0.0,0.0,0.0,0.0,20.0,0.0,0.0,0.0,0.0,2.0,0.0,0.0,10.0,0.0,0.0,0.0,0.0,0.0,0.0,0.0,6.0,0.0,0.0,5.0,10.0,0.0,0.0,0.0,10.0,0.0,0.0,0.0,0.0,0.0,20.0,0.0,0.0,0.0,0.0,10.0,0.0,10.0,20.0,35.0,0.0,0.0,0.0,0.0,0.0,0.0,0.0,0.0,0.0,0.0,0.0,0.0,0.0,0.0,20.0,0.0,15.0,0.0,0.0,0.0,0.0,0.0,0.0,0.0,0.0,20.0,0.0,0.0,0.0,0.0,0.0,0.0,0.0,0.0,0.0,0.0,0.0,0.0,0.0,0.0,30.0,10.0,0.0,10.0,0.0,0.0,0.0,0.0,0.0,0.0,0.0,0.0,15.0,0.0,0.0,0.0,0.0,0.0,0.0,0.0,0.0,15.0,20.0,0.0,0.0,0.0,0.0,0.0,0.0,0.0,0.0,0.0,20.0,20.0,0.0,0.0,0.0,0.0,0.0,10.0,0.0,0.0,0.0,0.0,0.0,10.0,0.0,0.0,10.0,0.0,0.0,0.0,0.0,0.0,0.0,0.0,8.0,0.0,0.0,0.0,0.0,0.0,0.0,0.0,0.0,0.0,0.0,0.0,0.0,5.0,0.0,0.0,0.0,0.0,0.0,0.0,0.0,0.0,0.0,0.0,0.0,25.0,0.0,0.0,0.0,30.0,20.0,0.0,4.0,0.0,0.0,0.0,15.0,0.0,30.0,0.0,0.0,0.0,0.0,0.0,0.0,5.0,0.0,0.0,10.0,0.0,0.0,0.0,0.0,0.0,0.0,0.0,0.0,0.0,0.0,0.0,0.0,0.0,0.0,0.0,0.0,0.0,0.0,0.0,3.0,0.0,0.0,0.0,0.0,0.0,15.0,0.0,6.0,0.0,0.0,25.0,0.0,0.0,0.0,0.0,0.0,0.0,0.0,0.0,0.0,10.0,0.0,8.0,0.0,8.0,2.0,0.0,0.0,0.0,10.0,20.0,0.0,25.0,10.0,6.0,0.0,0.0,0.0,0.0,20.0,0.0,3.0,0.0,0.0,10.0,0.0,0.0,0.0,0.0,0.0,0.0,0.0,7.0,0.0,0.0,4.0,0.0,0.0,30.0,0.0,0.0,0.0,0.0,0.0,0.0,0.0,0.0,55.0,0.0,0.0,0.0,1.0,0.0,0.0,0.0,0.0,0.0,0.0,0.0,0.0,1.0,0.0,0.0,0.0,0.0,0.0,0.0,0.0,0.0,0.0,0.0,3.0,0.0,0.0,4.0,0.0,0.0,0.0,0.0,0.0,10.0,0.0,0.0,0.0,0.0,0.0,16.0,15.0,0.0,7.0,20.0,0.0,15.0,0.0,0.0,10.0,0.0,0.0,2.0,0.0,0.0,0.0,0.0,0.0,0.0,0.0,3.0,0.0,0.0,0.0,0.0,20.0,0.0,0.0,0.0,0.0,0.0,0.0,0.0,0.0,0.0,0.0,0.0,0.0,10.0,25.0,10.0,0.0,0.0,20.0,0.0,0.0,0.0,0.0,0.0,20.0,2.0,0.0,0.0,8.0,0.0,0.0,0.0,7.0,0.0,0.0,0.0,5.0,0.0,10.0,0.0,0.0,0.0,10.0,10.0,0.0,0.0,7.0,0.0,0.0,0.0,0.0,0.0,5.0,0.0,0.0,0.0,0.0,0.0,0.0,0.0,0.0,20.0,0.0,0.0,0.0,0.0,1.0,0.0,0.0,0.0,0.0,10.0,0.0,0.0,0.0,0.0,7.0,0.0,0.0,0.0,10.0,0.0,10.0,0.0,0.0,20.0,0.0,0.0,0.0,0.0,20.0,0.0,0.0,0.0,0.0,0.0,0.0,0.0,0.0,0.0,0.0,0.0,0.0,0.0,0.0,3.0,10.0,0.0,0.0,0.0,0.0,20.0,0.0,0.0,0.0,0.0,0.0,15.0,15.0,40.0,0.0,0.0,0.0,0.0,0.0,0.0,0.0,20.0,5.0,0.0,20.0,0.0,0.0,0.0,0.0,0.0,0.0,0.0,10.0,5.0,5.0,5.0,0.0,0.0,15.0,0.0,0.0,20.0,0.0,0.0,6.0,0.0,20.0,0.0,0.0,0.0,0.0,10.0,0.0,0.0,0.0,0.0,0.0,0.0,0.0,0.0,0.0,20.0,0.0,0.0,0.0,0.0,0.0,0.0,5.0,10.0,40.0,0.0,0.0,0.0,0.0,20.0,10.0,0.0,0.0,0.0,0.0,0.0,0.0,0.0,30.0,0.0,0.0,5.0,0.0,4.0,0.0,6.0,40.0,0.0,0.0,0.0,0.0,0.0,12.0,0.0,0.0,0.0,20.0,20.0,35.0,0.0,0.0,7.0,5.0,0.0,0.0,0.0,10.0,0.0,0.0,0.0,0.0,10.0,0.0,0.0,0.0,0.0,0.0,0.0,0.0,0.0,0.0,15.0,10.0,0.0,0.0,20.0,0.0,25.0,0.0,0.0,0.0,0.0,0.0,0.0,0.0,0.0,0.0,0.0,0.0,0.0,0.0,0.0,0.0,0.0,15.0,18.0,0.0,0.0,0.0,15.0,0.0,0.0,0.0,0.0,0.0,0.0,0.0,20.0,0.0,0.0,0.0,0.0,0.0,0.0,20.0,0.0,7.0,0.0,0.0,0.0,25.0,0.0,8.0,15.0,0.0,15.0,5.0,30.0,0.0,0.0,25.0,0.0,0.0,15.0,0.0,0.0,0.0,0.0,0.0,0.0,0.0,0.0,0.0,0.0,0.0,0.0,0.0,5.0,0.0,0.0,0.0,0.0,0.0,3.0,0.0,0.0,0.0,0.0,6.0,0.0,0.0,20.0,0.0,0.0,0.0,0.0,0.0,0.0,0.0,0.0,0.0,0.0,10.0,20.0,10.0,0.0,0.0,0.0,0.0,0.0,0.0,0.0,10.0,0.0,0.0,0.0,20.0,0.0,0.0,0.0,0.0,0.0,0.0,0.0,0.0,10.0,0.0,0.0,0.0,0.0,0.0,40.0,0.0,0.0,0.0,0.0,0.0,0.0,0.0,1.0,0.0,0.0,0.0,0.0,10.0,0.0,0.0,0.0,0.0,0.0,0.0,0.0,0.0,25.0,0.0,0.0,0.0,0.0,0.0,0.0,0.0,0.0,0.0,20.0,0.0,12.0,10.0,0.0,20.0,15.0,0.0,0.0,0.0,5.0,0.0,0.0,0.0,0.0,20.0,0.0,0.0,0.0,0.0,5.0,0.0,0.0,0.0,12.0,10.0,25.0,0.0,5.0,0.0,15.0,0.0,0.0,0.0,0.0,0.0,20.0,0.0,5.0,0.0,20.0,12.0,0.0,30.0,20.0,0.0,20.0,20.0,50.0,0.0,6.0,0.0,0.0,0.0,0.0,0.0,7.0,0.0,4.0,0.0,0.0,0.0,20.0,0.0,0.0,0.0,0.0,30.0,0.0,0.0,0.0,0.0,0.0,0.0,0.0,0.0,0.0,20.0,0.0,0.0,0.0,0.0,15.0,10.0,0.0,2.0,30.0,20.0,0.0,0.0,0.0,0.0,0.0,0.0,15.0,0.0,0.0,0.0,0.0,5.0,0.0,0.0,0.0,0.0,1.0,0.0,0.0,0.0,0.0,0.0,0.0,25.0,0.0,0.0,0.0,0.0,0.0,10.0,0.0,0.0,0.0,40.0,0.0,0.0,0.0,20.0,0.0,10.0,5.0,0.0,0.0,15.0,0.0,0.0,0.0,12.0,0.0,0.0,0.0,20.0,0.0,0.0,10.0,5.0,5.0,10.0,0.0,25.0,0.0,10.0,0.0,15.0,0.0,15.0,0.0,0.0,0.0,0.0,12.0,0.0,0.0,0.0,0.0,0.0,15.0,15.0,0.0,0.0,0.0,0.0,0.0,0.0,10.0,0.0,0.0,0.0,0.0,0.0,0.0,8.0,0.0,0.0,0.0,0.0,0.0,0.0,30.0,0.0,0.0,0.0,0.0,0.0,10.0,0.0,0.0,0.0,24.0,0.0,0.0,20.0,15.0,15.0,6.0,0.0,0.0,45.0,20.0,0.0,0.0,0.0,10.0,0.0,0.0,0.0,15.0,0.0,0.0,0.0,12.0,2.0,10.0,0.0,0.0,0.0,0.0,0.0,0.0,0.0,20.0,6.0,0.0,0.0,20.0,0.0,40.0,0.0,0.0,0.0,0.0,0.0,20.0,20.0,0.0,0.0,15.0,0.0,20.0,0.0,10.0,20.0,0.0,0.0,0.0,0.0,0.0,0.0,0.0,10.0,30.0,0.0,0.0,18.0,0.0,0.0,0.0,18.0,0.0,0.0,20.0,15.0,10.0,0.0,0.0,10.0,0.0,0.0,0.0,0.0,0.0,15.0,0.0,0.0,12.0,0.0,0.0,0.0,20.0,0.0,20.0,0.0],\"xaxis\":\"x\",\"yaxis\":\"y\",\"type\":\"histogram\"}],                        {\"barmode\":\"relative\",\"legend\":{\"tracegroupgap\":0},\"template\":{\"data\":{\"barpolar\":[{\"marker\":{\"line\":{\"color\":\"#E5ECF6\",\"width\":0.5},\"pattern\":{\"fillmode\":\"overlay\",\"size\":10,\"solidity\":0.2}},\"type\":\"barpolar\"}],\"bar\":[{\"error_x\":{\"color\":\"#2a3f5f\"},\"error_y\":{\"color\":\"#2a3f5f\"},\"marker\":{\"line\":{\"color\":\"#E5ECF6\",\"width\":0.5},\"pattern\":{\"fillmode\":\"overlay\",\"size\":10,\"solidity\":0.2}},\"type\":\"bar\"}],\"carpet\":[{\"aaxis\":{\"endlinecolor\":\"#2a3f5f\",\"gridcolor\":\"white\",\"linecolor\":\"white\",\"minorgridcolor\":\"white\",\"startlinecolor\":\"#2a3f5f\"},\"baxis\":{\"endlinecolor\":\"#2a3f5f\",\"gridcolor\":\"white\",\"linecolor\":\"white\",\"minorgridcolor\":\"white\",\"startlinecolor\":\"#2a3f5f\"},\"type\":\"carpet\"}],\"choropleth\":[{\"colorbar\":{\"outlinewidth\":0,\"ticks\":\"\"},\"type\":\"choropleth\"}],\"contourcarpet\":[{\"colorbar\":{\"outlinewidth\":0,\"ticks\":\"\"},\"type\":\"contourcarpet\"}],\"contour\":[{\"colorbar\":{\"outlinewidth\":0,\"ticks\":\"\"},\"colorscale\":[[0.0,\"#0d0887\"],[0.1111111111111111,\"#46039f\"],[0.2222222222222222,\"#7201a8\"],[0.3333333333333333,\"#9c179e\"],[0.4444444444444444,\"#bd3786\"],[0.5555555555555556,\"#d8576b\"],[0.6666666666666666,\"#ed7953\"],[0.7777777777777778,\"#fb9f3a\"],[0.8888888888888888,\"#fdca26\"],[1.0,\"#f0f921\"]],\"type\":\"contour\"}],\"heatmapgl\":[{\"colorbar\":{\"outlinewidth\":0,\"ticks\":\"\"},\"colorscale\":[[0.0,\"#0d0887\"],[0.1111111111111111,\"#46039f\"],[0.2222222222222222,\"#7201a8\"],[0.3333333333333333,\"#9c179e\"],[0.4444444444444444,\"#bd3786\"],[0.5555555555555556,\"#d8576b\"],[0.6666666666666666,\"#ed7953\"],[0.7777777777777778,\"#fb9f3a\"],[0.8888888888888888,\"#fdca26\"],[1.0,\"#f0f921\"]],\"type\":\"heatmapgl\"}],\"heatmap\":[{\"colorbar\":{\"outlinewidth\":0,\"ticks\":\"\"},\"colorscale\":[[0.0,\"#0d0887\"],[0.1111111111111111,\"#46039f\"],[0.2222222222222222,\"#7201a8\"],[0.3333333333333333,\"#9c179e\"],[0.4444444444444444,\"#bd3786\"],[0.5555555555555556,\"#d8576b\"],[0.6666666666666666,\"#ed7953\"],[0.7777777777777778,\"#fb9f3a\"],[0.8888888888888888,\"#fdca26\"],[1.0,\"#f0f921\"]],\"type\":\"heatmap\"}],\"histogram2dcontour\":[{\"colorbar\":{\"outlinewidth\":0,\"ticks\":\"\"},\"colorscale\":[[0.0,\"#0d0887\"],[0.1111111111111111,\"#46039f\"],[0.2222222222222222,\"#7201a8\"],[0.3333333333333333,\"#9c179e\"],[0.4444444444444444,\"#bd3786\"],[0.5555555555555556,\"#d8576b\"],[0.6666666666666666,\"#ed7953\"],[0.7777777777777778,\"#fb9f3a\"],[0.8888888888888888,\"#fdca26\"],[1.0,\"#f0f921\"]],\"type\":\"histogram2dcontour\"}],\"histogram2d\":[{\"colorbar\":{\"outlinewidth\":0,\"ticks\":\"\"},\"colorscale\":[[0.0,\"#0d0887\"],[0.1111111111111111,\"#46039f\"],[0.2222222222222222,\"#7201a8\"],[0.3333333333333333,\"#9c179e\"],[0.4444444444444444,\"#bd3786\"],[0.5555555555555556,\"#d8576b\"],[0.6666666666666666,\"#ed7953\"],[0.7777777777777778,\"#fb9f3a\"],[0.8888888888888888,\"#fdca26\"],[1.0,\"#f0f921\"]],\"type\":\"histogram2d\"}],\"histogram\":[{\"marker\":{\"pattern\":{\"fillmode\":\"overlay\",\"size\":10,\"solidity\":0.2}},\"type\":\"histogram\"}],\"mesh3d\":[{\"colorbar\":{\"outlinewidth\":0,\"ticks\":\"\"},\"type\":\"mesh3d\"}],\"parcoords\":[{\"line\":{\"colorbar\":{\"outlinewidth\":0,\"ticks\":\"\"}},\"type\":\"parcoords\"}],\"pie\":[{\"automargin\":true,\"type\":\"pie\"}],\"scatter3d\":[{\"line\":{\"colorbar\":{\"outlinewidth\":0,\"ticks\":\"\"}},\"marker\":{\"colorbar\":{\"outlinewidth\":0,\"ticks\":\"\"}},\"type\":\"scatter3d\"}],\"scattercarpet\":[{\"marker\":{\"colorbar\":{\"outlinewidth\":0,\"ticks\":\"\"}},\"type\":\"scattercarpet\"}],\"scattergeo\":[{\"marker\":{\"colorbar\":{\"outlinewidth\":0,\"ticks\":\"\"}},\"type\":\"scattergeo\"}],\"scattergl\":[{\"marker\":{\"colorbar\":{\"outlinewidth\":0,\"ticks\":\"\"}},\"type\":\"scattergl\"}],\"scattermapbox\":[{\"marker\":{\"colorbar\":{\"outlinewidth\":0,\"ticks\":\"\"}},\"type\":\"scattermapbox\"}],\"scatterpolargl\":[{\"marker\":{\"colorbar\":{\"outlinewidth\":0,\"ticks\":\"\"}},\"type\":\"scatterpolargl\"}],\"scatterpolar\":[{\"marker\":{\"colorbar\":{\"outlinewidth\":0,\"ticks\":\"\"}},\"type\":\"scatterpolar\"}],\"scatter\":[{\"fillpattern\":{\"fillmode\":\"overlay\",\"size\":10,\"solidity\":0.2},\"type\":\"scatter\"}],\"scatterternary\":[{\"marker\":{\"colorbar\":{\"outlinewidth\":0,\"ticks\":\"\"}},\"type\":\"scatterternary\"}],\"surface\":[{\"colorbar\":{\"outlinewidth\":0,\"ticks\":\"\"},\"colorscale\":[[0.0,\"#0d0887\"],[0.1111111111111111,\"#46039f\"],[0.2222222222222222,\"#7201a8\"],[0.3333333333333333,\"#9c179e\"],[0.4444444444444444,\"#bd3786\"],[0.5555555555555556,\"#d8576b\"],[0.6666666666666666,\"#ed7953\"],[0.7777777777777778,\"#fb9f3a\"],[0.8888888888888888,\"#fdca26\"],[1.0,\"#f0f921\"]],\"type\":\"surface\"}],\"table\":[{\"cells\":{\"fill\":{\"color\":\"#EBF0F8\"},\"line\":{\"color\":\"white\"}},\"header\":{\"fill\":{\"color\":\"#C8D4E3\"},\"line\":{\"color\":\"white\"}},\"type\":\"table\"}]},\"layout\":{\"annotationdefaults\":{\"arrowcolor\":\"#2a3f5f\",\"arrowhead\":0,\"arrowwidth\":1},\"autotypenumbers\":\"strict\",\"coloraxis\":{\"colorbar\":{\"outlinewidth\":0,\"ticks\":\"\"}},\"colorscale\":{\"diverging\":[[0,\"#8e0152\"],[0.1,\"#c51b7d\"],[0.2,\"#de77ae\"],[0.3,\"#f1b6da\"],[0.4,\"#fde0ef\"],[0.5,\"#f7f7f7\"],[0.6,\"#e6f5d0\"],[0.7,\"#b8e186\"],[0.8,\"#7fbc41\"],[0.9,\"#4d9221\"],[1,\"#276419\"]],\"sequential\":[[0.0,\"#0d0887\"],[0.1111111111111111,\"#46039f\"],[0.2222222222222222,\"#7201a8\"],[0.3333333333333333,\"#9c179e\"],[0.4444444444444444,\"#bd3786\"],[0.5555555555555556,\"#d8576b\"],[0.6666666666666666,\"#ed7953\"],[0.7777777777777778,\"#fb9f3a\"],[0.8888888888888888,\"#fdca26\"],[1.0,\"#f0f921\"]],\"sequentialminus\":[[0.0,\"#0d0887\"],[0.1111111111111111,\"#46039f\"],[0.2222222222222222,\"#7201a8\"],[0.3333333333333333,\"#9c179e\"],[0.4444444444444444,\"#bd3786\"],[0.5555555555555556,\"#d8576b\"],[0.6666666666666666,\"#ed7953\"],[0.7777777777777778,\"#fb9f3a\"],[0.8888888888888888,\"#fdca26\"],[1.0,\"#f0f921\"]]},\"colorway\":[\"#636efa\",\"#EF553B\",\"#00cc96\",\"#ab63fa\",\"#FFA15A\",\"#19d3f3\",\"#FF6692\",\"#B6E880\",\"#FF97FF\",\"#FECB52\"],\"font\":{\"color\":\"#2a3f5f\"},\"geo\":{\"bgcolor\":\"white\",\"lakecolor\":\"white\",\"landcolor\":\"#E5ECF6\",\"showlakes\":true,\"showland\":true,\"subunitcolor\":\"white\"},\"hoverlabel\":{\"align\":\"left\"},\"hovermode\":\"closest\",\"mapbox\":{\"style\":\"light\"},\"paper_bgcolor\":\"white\",\"plot_bgcolor\":\"#E5ECF6\",\"polar\":{\"angularaxis\":{\"gridcolor\":\"white\",\"linecolor\":\"white\",\"ticks\":\"\"},\"bgcolor\":\"#E5ECF6\",\"radialaxis\":{\"gridcolor\":\"white\",\"linecolor\":\"white\",\"ticks\":\"\"}},\"scene\":{\"xaxis\":{\"backgroundcolor\":\"#E5ECF6\",\"gridcolor\":\"white\",\"gridwidth\":2,\"linecolor\":\"white\",\"showbackground\":true,\"ticks\":\"\",\"zerolinecolor\":\"white\"},\"yaxis\":{\"backgroundcolor\":\"#E5ECF6\",\"gridcolor\":\"white\",\"gridwidth\":2,\"linecolor\":\"white\",\"showbackground\":true,\"ticks\":\"\",\"zerolinecolor\":\"white\"},\"zaxis\":{\"backgroundcolor\":\"#E5ECF6\",\"gridcolor\":\"white\",\"gridwidth\":2,\"linecolor\":\"white\",\"showbackground\":true,\"ticks\":\"\",\"zerolinecolor\":\"white\"}},\"shapedefaults\":{\"line\":{\"color\":\"#2a3f5f\"}},\"ternary\":{\"aaxis\":{\"gridcolor\":\"white\",\"linecolor\":\"white\",\"ticks\":\"\"},\"baxis\":{\"gridcolor\":\"white\",\"linecolor\":\"white\",\"ticks\":\"\"},\"bgcolor\":\"#E5ECF6\",\"caxis\":{\"gridcolor\":\"white\",\"linecolor\":\"white\",\"ticks\":\"\"}},\"title\":{\"x\":0.05},\"xaxis\":{\"automargin\":true,\"gridcolor\":\"white\",\"linecolor\":\"white\",\"ticks\":\"\",\"title\":{\"standoff\":15},\"zerolinecolor\":\"white\",\"zerolinewidth\":2},\"yaxis\":{\"automargin\":true,\"gridcolor\":\"white\",\"linecolor\":\"white\",\"ticks\":\"\",\"title\":{\"standoff\":15},\"zerolinecolor\":\"white\",\"zerolinewidth\":2}}},\"title\":{\"text\":\"amt_weekdays distribution in top hits\"},\"xaxis\":{\"anchor\":\"y\",\"domain\":[0.0,1.0],\"title\":{\"text\":\"amt_weekdays\"}},\"yaxis\":{\"anchor\":\"x\",\"domain\":[0.0,1.0],\"title\":{\"text\":\"count\"}}},                        {\"responsive\": true}                    ).then(function(){\n",
       "                            \n",
       "var gd = document.getElementById('1639975d-d11c-42cc-8007-d45cc090c53b');\n",
       "var x = new MutationObserver(function (mutations, observer) {{\n",
       "        var display = window.getComputedStyle(gd).display;\n",
       "        if (!display || display === 'none') {{\n",
       "            console.log([gd, 'removed!']);\n",
       "            Plotly.purge(gd);\n",
       "            observer.disconnect();\n",
       "        }}\n",
       "}});\n",
       "\n",
       "// Listen for the removal of the full notebook cells\n",
       "var notebookContainer = gd.closest('#notebook-container');\n",
       "if (notebookContainer) {{\n",
       "    x.observe(notebookContainer, {childList: true});\n",
       "}}\n",
       "\n",
       "// Listen for the clearing of the current output cell\n",
       "var outputEl = gd.closest('.output');\n",
       "if (outputEl) {{\n",
       "    x.observe(outputEl, {childList: true});\n",
       "}}\n",
       "\n",
       "                        })                };                });            </script>        </div>"
      ]
     },
     "metadata": {},
     "output_type": "display_data"
    }
   ],
   "source": [
    "histogram_labels = ['age',\n",
    "                    'gross_income', \n",
    "                    'amt_weekends', \n",
    "                    'amt_weekdays'\n",
    "                   ]\n",
    "\n",
    "colors = px.colors.qualitative.Vivid\n",
    "for i in range(len(histogram_labels)):\n",
    "    fig = px.histogram(df, \n",
    "                       histogram_labels[i], \n",
    "                       title=f'{histogram_labels[i]} distribution in top hits', \n",
    "                       color_discrete_sequence=[colors[i]]\n",
    "                      )\n",
    "    iplot(fig)"
   ]
  },
  {
   "cell_type": "markdown",
   "id": "08c177d2",
   "metadata": {
    "papermill": {
     "duration": 0.035589,
     "end_time": "2024-05-04T21:04:17.994864",
     "exception": false,
     "start_time": "2024-05-04T21:04:17.959275",
     "status": "completed"
    },
    "tags": []
   },
   "source": [
    "# Prepocessing the Data"
   ]
  },
  {
   "cell_type": "code",
   "execution_count": 44,
   "id": "ff0f021e",
   "metadata": {
    "execution": {
     "iopub.execute_input": "2024-05-04T21:04:18.068735Z",
     "iopub.status.busy": "2024-05-04T21:04:18.068349Z",
     "iopub.status.idle": "2024-05-04T21:04:18.084630Z",
     "shell.execute_reply": "2024-05-04T21:04:18.083456Z"
    },
    "papermill": {
     "duration": 0.056345,
     "end_time": "2024-05-04T21:04:18.086884",
     "exception": false,
     "start_time": "2024-05-04T21:04:18.030539",
     "status": "completed"
    },
    "tags": []
   },
   "outputs": [
    {
     "data": {
      "text/html": [
       "<div>\n",
       "<style scoped>\n",
       "    .dataframe tbody tr th:only-of-type {\n",
       "        vertical-align: middle;\n",
       "    }\n",
       "\n",
       "    .dataframe tbody tr th {\n",
       "        vertical-align: top;\n",
       "    }\n",
       "\n",
       "    .dataframe thead th {\n",
       "        text-align: right;\n",
       "    }\n",
       "</style>\n",
       "<table border=\"1\" class=\"dataframe\">\n",
       "  <thead>\n",
       "    <tr style=\"text-align: right;\">\n",
       "      <th></th>\n",
       "      <th>gender</th>\n",
       "      <th>age</th>\n",
       "      <th>marital_status</th>\n",
       "      <th>highest_qualification</th>\n",
       "      <th>nationality</th>\n",
       "      <th>ethnicity</th>\n",
       "      <th>gross_income</th>\n",
       "      <th>region</th>\n",
       "      <th>smoke</th>\n",
       "      <th>amt_weekends</th>\n",
       "      <th>amt_weekdays</th>\n",
       "      <th>type</th>\n",
       "    </tr>\n",
       "  </thead>\n",
       "  <tbody>\n",
       "    <tr>\n",
       "      <th>0</th>\n",
       "      <td>Male</td>\n",
       "      <td>38</td>\n",
       "      <td>Divorced</td>\n",
       "      <td>No Qualification</td>\n",
       "      <td>British</td>\n",
       "      <td>White</td>\n",
       "      <td>2,600 to 5,200</td>\n",
       "      <td>The North</td>\n",
       "      <td>No</td>\n",
       "      <td>0.0</td>\n",
       "      <td>0.0</td>\n",
       "      <td>Non-Smoker</td>\n",
       "    </tr>\n",
       "    <tr>\n",
       "      <th>1</th>\n",
       "      <td>Female</td>\n",
       "      <td>42</td>\n",
       "      <td>Single</td>\n",
       "      <td>No Qualification</td>\n",
       "      <td>British</td>\n",
       "      <td>White</td>\n",
       "      <td>Under 2,600</td>\n",
       "      <td>The North</td>\n",
       "      <td>Yes</td>\n",
       "      <td>12.0</td>\n",
       "      <td>12.0</td>\n",
       "      <td>Packets</td>\n",
       "    </tr>\n",
       "    <tr>\n",
       "      <th>2</th>\n",
       "      <td>Male</td>\n",
       "      <td>40</td>\n",
       "      <td>Married</td>\n",
       "      <td>Degree</td>\n",
       "      <td>English</td>\n",
       "      <td>White</td>\n",
       "      <td>28,600 to 36,400</td>\n",
       "      <td>The North</td>\n",
       "      <td>No</td>\n",
       "      <td>0.0</td>\n",
       "      <td>0.0</td>\n",
       "      <td>Non-Smoker</td>\n",
       "    </tr>\n",
       "    <tr>\n",
       "      <th>3</th>\n",
       "      <td>Female</td>\n",
       "      <td>40</td>\n",
       "      <td>Married</td>\n",
       "      <td>Degree</td>\n",
       "      <td>English</td>\n",
       "      <td>White</td>\n",
       "      <td>10,400 to 15,600</td>\n",
       "      <td>The North</td>\n",
       "      <td>No</td>\n",
       "      <td>0.0</td>\n",
       "      <td>0.0</td>\n",
       "      <td>Non-Smoker</td>\n",
       "    </tr>\n",
       "    <tr>\n",
       "      <th>4</th>\n",
       "      <td>Female</td>\n",
       "      <td>39</td>\n",
       "      <td>Married</td>\n",
       "      <td>GCSE/O Level</td>\n",
       "      <td>British</td>\n",
       "      <td>White</td>\n",
       "      <td>2,600 to 5,200</td>\n",
       "      <td>The North</td>\n",
       "      <td>No</td>\n",
       "      <td>0.0</td>\n",
       "      <td>0.0</td>\n",
       "      <td>Non-Smoker</td>\n",
       "    </tr>\n",
       "  </tbody>\n",
       "</table>\n",
       "</div>"
      ],
      "text/plain": [
       "   gender  age marital_status highest_qualification nationality ethnicity  \\\n",
       "0    Male   38       Divorced      No Qualification     British     White   \n",
       "1  Female   42         Single      No Qualification     British     White   \n",
       "2    Male   40        Married                Degree     English     White   \n",
       "3  Female   40        Married                Degree     English     White   \n",
       "4  Female   39        Married          GCSE/O Level     British     White   \n",
       "\n",
       "       gross_income     region smoke  amt_weekends  amt_weekdays        type  \n",
       "0    2,600 to 5,200  The North    No           0.0           0.0  Non-Smoker  \n",
       "1       Under 2,600  The North   Yes          12.0          12.0     Packets  \n",
       "2  28,600 to 36,400  The North    No           0.0           0.0  Non-Smoker  \n",
       "3  10,400 to 15,600  The North    No           0.0           0.0  Non-Smoker  \n",
       "4    2,600 to 5,200  The North    No           0.0           0.0  Non-Smoker  "
      ]
     },
     "execution_count": 44,
     "metadata": {},
     "output_type": "execute_result"
    }
   ],
   "source": [
    "df.head()"
   ]
  },
  {
   "cell_type": "markdown",
   "id": "85185ab4",
   "metadata": {
    "papermill": {
     "duration": 0.034813,
     "end_time": "2024-05-04T21:04:18.157419",
     "exception": false,
     "start_time": "2024-05-04T21:04:18.122606",
     "status": "completed"
    },
    "tags": []
   },
   "source": [
    "**Target column is Smoke**"
   ]
  },
  {
   "cell_type": "markdown",
   "id": "833b779e",
   "metadata": {
    "papermill": {
     "duration": 0.034958,
     "end_time": "2024-05-04T21:04:18.228270",
     "exception": false,
     "start_time": "2024-05-04T21:04:18.193312",
     "status": "completed"
    },
    "tags": []
   },
   "source": [
    "<h2>Label Encoder<h2>"
   ]
  },
  {
   "cell_type": "code",
   "execution_count": 45,
   "id": "51d9bdda",
   "metadata": {
    "execution": {
     "iopub.execute_input": "2024-05-04T21:04:18.301318Z",
     "iopub.status.busy": "2024-05-04T21:04:18.300894Z",
     "iopub.status.idle": "2024-05-04T21:04:18.315925Z",
     "shell.execute_reply": "2024-05-04T21:04:18.314956Z"
    },
    "papermill": {
     "duration": 0.054625,
     "end_time": "2024-05-04T21:04:18.318148",
     "exception": false,
     "start_time": "2024-05-04T21:04:18.263523",
     "status": "completed"
    },
    "tags": []
   },
   "outputs": [],
   "source": [
    "le = LabelEncoder()\n",
    "\n",
    "# Encode categorical columns\n",
    "for col in df.select_dtypes(include='object').columns:\n",
    "    df[col] = le.fit_transform(df[col].astype(str))"
   ]
  },
  {
   "cell_type": "code",
   "execution_count": 46,
   "id": "fc7ed9a7",
   "metadata": {
    "execution": {
     "iopub.execute_input": "2024-05-04T21:04:18.391338Z",
     "iopub.status.busy": "2024-05-04T21:04:18.390304Z",
     "iopub.status.idle": "2024-05-04T21:04:18.407162Z",
     "shell.execute_reply": "2024-05-04T21:04:18.406371Z"
    },
    "papermill": {
     "duration": 0.05567,
     "end_time": "2024-05-04T21:04:18.409192",
     "exception": false,
     "start_time": "2024-05-04T21:04:18.353522",
     "status": "completed"
    },
    "tags": []
   },
   "outputs": [
    {
     "data": {
      "text/html": [
       "<div>\n",
       "<style scoped>\n",
       "    .dataframe tbody tr th:only-of-type {\n",
       "        vertical-align: middle;\n",
       "    }\n",
       "\n",
       "    .dataframe tbody tr th {\n",
       "        vertical-align: top;\n",
       "    }\n",
       "\n",
       "    .dataframe thead th {\n",
       "        text-align: right;\n",
       "    }\n",
       "</style>\n",
       "<table border=\"1\" class=\"dataframe\">\n",
       "  <thead>\n",
       "    <tr style=\"text-align: right;\">\n",
       "      <th></th>\n",
       "      <th>gender</th>\n",
       "      <th>age</th>\n",
       "      <th>marital_status</th>\n",
       "      <th>highest_qualification</th>\n",
       "      <th>nationality</th>\n",
       "      <th>ethnicity</th>\n",
       "      <th>gross_income</th>\n",
       "      <th>region</th>\n",
       "      <th>smoke</th>\n",
       "      <th>amt_weekends</th>\n",
       "      <th>amt_weekdays</th>\n",
       "      <th>type</th>\n",
       "    </tr>\n",
       "  </thead>\n",
       "  <tbody>\n",
       "    <tr>\n",
       "      <th>0</th>\n",
       "      <td>1</td>\n",
       "      <td>38</td>\n",
       "      <td>0</td>\n",
       "      <td>5</td>\n",
       "      <td>0</td>\n",
       "      <td>6</td>\n",
       "      <td>2</td>\n",
       "      <td>5</td>\n",
       "      <td>0</td>\n",
       "      <td>0.0</td>\n",
       "      <td>0.0</td>\n",
       "      <td>3</td>\n",
       "    </tr>\n",
       "    <tr>\n",
       "      <th>1</th>\n",
       "      <td>0</td>\n",
       "      <td>42</td>\n",
       "      <td>3</td>\n",
       "      <td>5</td>\n",
       "      <td>0</td>\n",
       "      <td>6</td>\n",
       "      <td>8</td>\n",
       "      <td>5</td>\n",
       "      <td>1</td>\n",
       "      <td>12.0</td>\n",
       "      <td>12.0</td>\n",
       "      <td>4</td>\n",
       "    </tr>\n",
       "    <tr>\n",
       "      <th>2</th>\n",
       "      <td>1</td>\n",
       "      <td>40</td>\n",
       "      <td>1</td>\n",
       "      <td>1</td>\n",
       "      <td>1</td>\n",
       "      <td>6</td>\n",
       "      <td>4</td>\n",
       "      <td>5</td>\n",
       "      <td>0</td>\n",
       "      <td>0.0</td>\n",
       "      <td>0.0</td>\n",
       "      <td>3</td>\n",
       "    </tr>\n",
       "    <tr>\n",
       "      <th>3</th>\n",
       "      <td>0</td>\n",
       "      <td>40</td>\n",
       "      <td>1</td>\n",
       "      <td>1</td>\n",
       "      <td>1</td>\n",
       "      <td>6</td>\n",
       "      <td>0</td>\n",
       "      <td>5</td>\n",
       "      <td>0</td>\n",
       "      <td>0.0</td>\n",
       "      <td>0.0</td>\n",
       "      <td>3</td>\n",
       "    </tr>\n",
       "    <tr>\n",
       "      <th>4</th>\n",
       "      <td>0</td>\n",
       "      <td>39</td>\n",
       "      <td>1</td>\n",
       "      <td>3</td>\n",
       "      <td>0</td>\n",
       "      <td>6</td>\n",
       "      <td>2</td>\n",
       "      <td>5</td>\n",
       "      <td>0</td>\n",
       "      <td>0.0</td>\n",
       "      <td>0.0</td>\n",
       "      <td>3</td>\n",
       "    </tr>\n",
       "    <tr>\n",
       "      <th>...</th>\n",
       "      <td>...</td>\n",
       "      <td>...</td>\n",
       "      <td>...</td>\n",
       "      <td>...</td>\n",
       "      <td>...</td>\n",
       "      <td>...</td>\n",
       "      <td>...</td>\n",
       "      <td>...</td>\n",
       "      <td>...</td>\n",
       "      <td>...</td>\n",
       "      <td>...</td>\n",
       "      <td>...</td>\n",
       "    </tr>\n",
       "    <tr>\n",
       "      <th>1686</th>\n",
       "      <td>1</td>\n",
       "      <td>22</td>\n",
       "      <td>3</td>\n",
       "      <td>5</td>\n",
       "      <td>5</td>\n",
       "      <td>6</td>\n",
       "      <td>2</td>\n",
       "      <td>2</td>\n",
       "      <td>0</td>\n",
       "      <td>0.0</td>\n",
       "      <td>0.0</td>\n",
       "      <td>3</td>\n",
       "    </tr>\n",
       "    <tr>\n",
       "      <th>1687</th>\n",
       "      <td>0</td>\n",
       "      <td>49</td>\n",
       "      <td>0</td>\n",
       "      <td>7</td>\n",
       "      <td>1</td>\n",
       "      <td>6</td>\n",
       "      <td>2</td>\n",
       "      <td>2</td>\n",
       "      <td>1</td>\n",
       "      <td>20.0</td>\n",
       "      <td>20.0</td>\n",
       "      <td>2</td>\n",
       "    </tr>\n",
       "    <tr>\n",
       "      <th>1688</th>\n",
       "      <td>1</td>\n",
       "      <td>45</td>\n",
       "      <td>1</td>\n",
       "      <td>7</td>\n",
       "      <td>5</td>\n",
       "      <td>6</td>\n",
       "      <td>5</td>\n",
       "      <td>2</td>\n",
       "      <td>0</td>\n",
       "      <td>0.0</td>\n",
       "      <td>0.0</td>\n",
       "      <td>3</td>\n",
       "    </tr>\n",
       "    <tr>\n",
       "      <th>1689</th>\n",
       "      <td>0</td>\n",
       "      <td>51</td>\n",
       "      <td>1</td>\n",
       "      <td>5</td>\n",
       "      <td>1</td>\n",
       "      <td>6</td>\n",
       "      <td>2</td>\n",
       "      <td>2</td>\n",
       "      <td>1</td>\n",
       "      <td>20.0</td>\n",
       "      <td>20.0</td>\n",
       "      <td>4</td>\n",
       "    </tr>\n",
       "    <tr>\n",
       "      <th>1690</th>\n",
       "      <td>1</td>\n",
       "      <td>31</td>\n",
       "      <td>1</td>\n",
       "      <td>1</td>\n",
       "      <td>5</td>\n",
       "      <td>6</td>\n",
       "      <td>0</td>\n",
       "      <td>2</td>\n",
       "      <td>0</td>\n",
       "      <td>0.0</td>\n",
       "      <td>0.0</td>\n",
       "      <td>3</td>\n",
       "    </tr>\n",
       "  </tbody>\n",
       "</table>\n",
       "<p>1691 rows × 12 columns</p>\n",
       "</div>"
      ],
      "text/plain": [
       "      gender  age  marital_status  highest_qualification  nationality  \\\n",
       "0          1   38               0                      5            0   \n",
       "1          0   42               3                      5            0   \n",
       "2          1   40               1                      1            1   \n",
       "3          0   40               1                      1            1   \n",
       "4          0   39               1                      3            0   \n",
       "...      ...  ...             ...                    ...          ...   \n",
       "1686       1   22               3                      5            5   \n",
       "1687       0   49               0                      7            1   \n",
       "1688       1   45               1                      7            5   \n",
       "1689       0   51               1                      5            1   \n",
       "1690       1   31               1                      1            5   \n",
       "\n",
       "      ethnicity  gross_income  region  smoke  amt_weekends  amt_weekdays  type  \n",
       "0             6             2       5      0           0.0           0.0     3  \n",
       "1             6             8       5      1          12.0          12.0     4  \n",
       "2             6             4       5      0           0.0           0.0     3  \n",
       "3             6             0       5      0           0.0           0.0     3  \n",
       "4             6             2       5      0           0.0           0.0     3  \n",
       "...         ...           ...     ...    ...           ...           ...   ...  \n",
       "1686          6             2       2      0           0.0           0.0     3  \n",
       "1687          6             2       2      1          20.0          20.0     2  \n",
       "1688          6             5       2      0           0.0           0.0     3  \n",
       "1689          6             2       2      1          20.0          20.0     4  \n",
       "1690          6             0       2      0           0.0           0.0     3  \n",
       "\n",
       "[1691 rows x 12 columns]"
      ]
     },
     "execution_count": 46,
     "metadata": {},
     "output_type": "execute_result"
    }
   ],
   "source": [
    "df"
   ]
  },
  {
   "cell_type": "code",
   "execution_count": 47,
   "id": "c2b35c92",
   "metadata": {
    "execution": {
     "iopub.execute_input": "2024-05-04T21:04:18.483180Z",
     "iopub.status.busy": "2024-05-04T21:04:18.482757Z",
     "iopub.status.idle": "2024-05-04T21:04:18.779706Z",
     "shell.execute_reply": "2024-05-04T21:04:18.778503Z"
    },
    "papermill": {
     "duration": 0.336711,
     "end_time": "2024-05-04T21:04:18.782276",
     "exception": false,
     "start_time": "2024-05-04T21:04:18.445565",
     "status": "completed"
    },
    "tags": []
   },
   "outputs": [
    {
     "data": {
      "text/plain": [
       "<Axes: >"
      ]
     },
     "execution_count": 47,
     "metadata": {},
     "output_type": "execute_result"
    },
    {
     "data": {
      "image/png": "[encoded data removed]",
      "text/plain": [
       "<Figure size 640x480 with 2 Axes>"
      ]
     },
     "metadata": {},
     "output_type": "display_data"
    }
   ],
   "source": [
    "# Selecting the numerical columns\n",
    "numerical_columns = ['age', 'amt_weekends', 'amt_weekdays']\n",
    "\n",
    "# Calculating the correlation matrix\n",
    "corr_matrix = df[numerical_columns].corr()\n",
    "\n",
    "# Creating the heatmap\n",
    "sns.heatmap(corr_matrix, annot=True, cmap='coolwarm')"
   ]
  },
  {
   "cell_type": "markdown",
   "id": "c6e54fbd",
   "metadata": {
    "papermill": {
     "duration": 0.035689,
     "end_time": "2024-05-04T21:04:18.854255",
     "exception": false,
     "start_time": "2024-05-04T21:04:18.818566",
     "status": "completed"
    },
    "tags": []
   },
   "source": [
    "**i will drop this data when build model becouse no affect in the data**"
   ]
  },
  {
   "cell_type": "code",
   "execution_count": 48,
   "id": "43c51d22",
   "metadata": {
    "execution": {
     "iopub.execute_input": "2024-05-04T21:04:18.928266Z",
     "iopub.status.busy": "2024-05-04T21:04:18.927797Z",
     "iopub.status.idle": "2024-05-04T21:04:18.934340Z",
     "shell.execute_reply": "2024-05-04T21:04:18.933321Z"
    },
    "papermill": {
     "duration": 0.046052,
     "end_time": "2024-05-04T21:04:18.936496",
     "exception": false,
     "start_time": "2024-05-04T21:04:18.890444",
     "status": "completed"
    },
    "tags": []
   },
   "outputs": [],
   "source": [
    "df.drop(columns=['amt_weekends','amt_weekdays','type'],inplace=True)"
   ]
  },
  {
   "cell_type": "markdown",
   "id": "ad585591",
   "metadata": {
    "papermill": {
     "duration": 0.036061,
     "end_time": "2024-05-04T21:04:19.008710",
     "exception": false,
     "start_time": "2024-05-04T21:04:18.972649",
     "status": "completed"
    },
    "tags": []
   },
   "source": [
    "**Drop Columns don't i need**"
   ]
  },
  {
   "cell_type": "code",
   "execution_count": 49,
   "id": "ff49059b",
   "metadata": {
    "execution": {
     "iopub.execute_input": "2024-05-04T21:04:19.085187Z",
     "iopub.status.busy": "2024-05-04T21:04:19.084776Z",
     "iopub.status.idle": "2024-05-04T21:04:19.100484Z",
     "shell.execute_reply": "2024-05-04T21:04:19.098580Z"
    },
    "papermill": {
     "duration": 0.05822,
     "end_time": "2024-05-04T21:04:19.104644",
     "exception": false,
     "start_time": "2024-05-04T21:04:19.046424",
     "status": "completed"
    },
    "tags": []
   },
   "outputs": [
    {
     "data": {
      "text/html": [
       "<div>\n",
       "<style scoped>\n",
       "    .dataframe tbody tr th:only-of-type {\n",
       "        vertical-align: middle;\n",
       "    }\n",
       "\n",
       "    .dataframe tbody tr th {\n",
       "        vertical-align: top;\n",
       "    }\n",
       "\n",
       "    .dataframe thead th {\n",
       "        text-align: right;\n",
       "    }\n",
       "</style>\n",
       "<table border=\"1\" class=\"dataframe\">\n",
       "  <thead>\n",
       "    <tr style=\"text-align: right;\">\n",
       "      <th></th>\n",
       "      <th>gender</th>\n",
       "      <th>age</th>\n",
       "      <th>marital_status</th>\n",
       "      <th>highest_qualification</th>\n",
       "      <th>nationality</th>\n",
       "      <th>ethnicity</th>\n",
       "      <th>gross_income</th>\n",
       "      <th>region</th>\n",
       "      <th>smoke</th>\n",
       "    </tr>\n",
       "  </thead>\n",
       "  <tbody>\n",
       "    <tr>\n",
       "      <th>0</th>\n",
       "      <td>1</td>\n",
       "      <td>38</td>\n",
       "      <td>0</td>\n",
       "      <td>5</td>\n",
       "      <td>0</td>\n",
       "      <td>6</td>\n",
       "      <td>2</td>\n",
       "      <td>5</td>\n",
       "      <td>0</td>\n",
       "    </tr>\n",
       "    <tr>\n",
       "      <th>1</th>\n",
       "      <td>0</td>\n",
       "      <td>42</td>\n",
       "      <td>3</td>\n",
       "      <td>5</td>\n",
       "      <td>0</td>\n",
       "      <td>6</td>\n",
       "      <td>8</td>\n",
       "      <td>5</td>\n",
       "      <td>1</td>\n",
       "    </tr>\n",
       "    <tr>\n",
       "      <th>2</th>\n",
       "      <td>1</td>\n",
       "      <td>40</td>\n",
       "      <td>1</td>\n",
       "      <td>1</td>\n",
       "      <td>1</td>\n",
       "      <td>6</td>\n",
       "      <td>4</td>\n",
       "      <td>5</td>\n",
       "      <td>0</td>\n",
       "    </tr>\n",
       "    <tr>\n",
       "      <th>3</th>\n",
       "      <td>0</td>\n",
       "      <td>40</td>\n",
       "      <td>1</td>\n",
       "      <td>1</td>\n",
       "      <td>1</td>\n",
       "      <td>6</td>\n",
       "      <td>0</td>\n",
       "      <td>5</td>\n",
       "      <td>0</td>\n",
       "    </tr>\n",
       "    <tr>\n",
       "      <th>4</th>\n",
       "      <td>0</td>\n",
       "      <td>39</td>\n",
       "      <td>1</td>\n",
       "      <td>3</td>\n",
       "      <td>0</td>\n",
       "      <td>6</td>\n",
       "      <td>2</td>\n",
       "      <td>5</td>\n",
       "      <td>0</td>\n",
       "    </tr>\n",
       "    <tr>\n",
       "      <th>...</th>\n",
       "      <td>...</td>\n",
       "      <td>...</td>\n",
       "      <td>...</td>\n",
       "      <td>...</td>\n",
       "      <td>...</td>\n",
       "      <td>...</td>\n",
       "      <td>...</td>\n",
       "      <td>...</td>\n",
       "      <td>...</td>\n",
       "    </tr>\n",
       "    <tr>\n",
       "      <th>1686</th>\n",
       "      <td>1</td>\n",
       "      <td>22</td>\n",
       "      <td>3</td>\n",
       "      <td>5</td>\n",
       "      <td>5</td>\n",
       "      <td>6</td>\n",
       "      <td>2</td>\n",
       "      <td>2</td>\n",
       "      <td>0</td>\n",
       "    </tr>\n",
       "    <tr>\n",
       "      <th>1687</th>\n",
       "      <td>0</td>\n",
       "      <td>49</td>\n",
       "      <td>0</td>\n",
       "      <td>7</td>\n",
       "      <td>1</td>\n",
       "      <td>6</td>\n",
       "      <td>2</td>\n",
       "      <td>2</td>\n",
       "      <td>1</td>\n",
       "    </tr>\n",
       "    <tr>\n",
       "      <th>1688</th>\n",
       "      <td>1</td>\n",
       "      <td>45</td>\n",
       "      <td>1</td>\n",
       "      <td>7</td>\n",
       "      <td>5</td>\n",
       "      <td>6</td>\n",
       "      <td>5</td>\n",
       "      <td>2</td>\n",
       "      <td>0</td>\n",
       "    </tr>\n",
       "    <tr>\n",
       "      <th>1689</th>\n",
       "      <td>0</td>\n",
       "      <td>51</td>\n",
       "      <td>1</td>\n",
       "      <td>5</td>\n",
       "      <td>1</td>\n",
       "      <td>6</td>\n",
       "      <td>2</td>\n",
       "      <td>2</td>\n",
       "      <td>1</td>\n",
       "    </tr>\n",
       "    <tr>\n",
       "      <th>1690</th>\n",
       "      <td>1</td>\n",
       "      <td>31</td>\n",
       "      <td>1</td>\n",
       "      <td>1</td>\n",
       "      <td>5</td>\n",
       "      <td>6</td>\n",
       "      <td>0</td>\n",
       "      <td>2</td>\n",
       "      <td>0</td>\n",
       "    </tr>\n",
       "  </tbody>\n",
       "</table>\n",
       "<p>1691 rows × 9 columns</p>\n",
       "</div>"
      ],
      "text/plain": [
       "      gender  age  marital_status  highest_qualification  nationality  \\\n",
       "0          1   38               0                      5            0   \n",
       "1          0   42               3                      5            0   \n",
       "2          1   40               1                      1            1   \n",
       "3          0   40               1                      1            1   \n",
       "4          0   39               1                      3            0   \n",
       "...      ...  ...             ...                    ...          ...   \n",
       "1686       1   22               3                      5            5   \n",
       "1687       0   49               0                      7            1   \n",
       "1688       1   45               1                      7            5   \n",
       "1689       0   51               1                      5            1   \n",
       "1690       1   31               1                      1            5   \n",
       "\n",
       "      ethnicity  gross_income  region  smoke  \n",
       "0             6             2       5      0  \n",
       "1             6             8       5      1  \n",
       "2             6             4       5      0  \n",
       "3             6             0       5      0  \n",
       "4             6             2       5      0  \n",
       "...         ...           ...     ...    ...  \n",
       "1686          6             2       2      0  \n",
       "1687          6             2       2      1  \n",
       "1688          6             5       2      0  \n",
       "1689          6             2       2      1  \n",
       "1690          6             0       2      0  \n",
       "\n",
       "[1691 rows x 9 columns]"
      ]
     },
     "execution_count": 49,
     "metadata": {},
     "output_type": "execute_result"
    }
   ],
   "source": [
    "df"
   ]
  },
  {
   "cell_type": "markdown",
   "id": "d30f6803",
   "metadata": {
    "papermill": {
     "duration": 0.036608,
     "end_time": "2024-05-04T21:04:19.192334",
     "exception": false,
     "start_time": "2024-05-04T21:04:19.155726",
     "status": "completed"
    },
    "tags": []
   },
   "source": [
    "# Train Test Split"
   ]
  },
  {
   "cell_type": "code",
   "execution_count": 50,
   "id": "c98411de",
   "metadata": {
    "execution": {
     "iopub.execute_input": "2024-05-04T21:04:19.268940Z",
     "iopub.status.busy": "2024-05-04T21:04:19.267660Z",
     "iopub.status.idle": "2024-05-04T21:04:19.275265Z",
     "shell.execute_reply": "2024-05-04T21:04:19.274122Z"
    },
    "papermill": {
     "duration": 0.047659,
     "end_time": "2024-05-04T21:04:19.277398",
     "exception": false,
     "start_time": "2024-05-04T21:04:19.229739",
     "status": "completed"
    },
    "tags": []
   },
   "outputs": [],
   "source": [
    "X = df.drop(columns='smoke',axis=1)\n",
    "Y = df['smoke']"
   ]
  },
  {
   "cell_type": "code",
   "execution_count": 51,
   "id": "08760304",
   "metadata": {
    "execution": {
     "iopub.execute_input": "2024-05-04T21:04:19.352409Z",
     "iopub.status.busy": "2024-05-04T21:04:19.352021Z",
     "iopub.status.idle": "2024-05-04T21:04:19.363891Z",
     "shell.execute_reply": "2024-05-04T21:04:19.363124Z"
    },
    "papermill": {
     "duration": 0.051825,
     "end_time": "2024-05-04T21:04:19.365699",
     "exception": false,
     "start_time": "2024-05-04T21:04:19.313874",
     "status": "completed"
    },
    "tags": []
   },
   "outputs": [
    {
     "data": {
      "text/html": [
       "<div>\n",
       "<style scoped>\n",
       "    .dataframe tbody tr th:only-of-type {\n",
       "        vertical-align: middle;\n",
       "    }\n",
       "\n",
       "    .dataframe tbody tr th {\n",
       "        vertical-align: top;\n",
       "    }\n",
       "\n",
       "    .dataframe thead th {\n",
       "        text-align: right;\n",
       "    }\n",
       "</style>\n",
       "<table border=\"1\" class=\"dataframe\">\n",
       "  <thead>\n",
       "    <tr style=\"text-align: right;\">\n",
       "      <th></th>\n",
       "      <th>gender</th>\n",
       "      <th>age</th>\n",
       "      <th>marital_status</th>\n",
       "      <th>highest_qualification</th>\n",
       "      <th>nationality</th>\n",
       "      <th>ethnicity</th>\n",
       "      <th>gross_income</th>\n",
       "      <th>region</th>\n",
       "    </tr>\n",
       "  </thead>\n",
       "  <tbody>\n",
       "    <tr>\n",
       "      <th>0</th>\n",
       "      <td>1</td>\n",
       "      <td>38</td>\n",
       "      <td>0</td>\n",
       "      <td>5</td>\n",
       "      <td>0</td>\n",
       "      <td>6</td>\n",
       "      <td>2</td>\n",
       "      <td>5</td>\n",
       "    </tr>\n",
       "    <tr>\n",
       "      <th>1</th>\n",
       "      <td>0</td>\n",
       "      <td>42</td>\n",
       "      <td>3</td>\n",
       "      <td>5</td>\n",
       "      <td>0</td>\n",
       "      <td>6</td>\n",
       "      <td>8</td>\n",
       "      <td>5</td>\n",
       "    </tr>\n",
       "    <tr>\n",
       "      <th>2</th>\n",
       "      <td>1</td>\n",
       "      <td>40</td>\n",
       "      <td>1</td>\n",
       "      <td>1</td>\n",
       "      <td>1</td>\n",
       "      <td>6</td>\n",
       "      <td>4</td>\n",
       "      <td>5</td>\n",
       "    </tr>\n",
       "    <tr>\n",
       "      <th>3</th>\n",
       "      <td>0</td>\n",
       "      <td>40</td>\n",
       "      <td>1</td>\n",
       "      <td>1</td>\n",
       "      <td>1</td>\n",
       "      <td>6</td>\n",
       "      <td>0</td>\n",
       "      <td>5</td>\n",
       "    </tr>\n",
       "    <tr>\n",
       "      <th>4</th>\n",
       "      <td>0</td>\n",
       "      <td>39</td>\n",
       "      <td>1</td>\n",
       "      <td>3</td>\n",
       "      <td>0</td>\n",
       "      <td>6</td>\n",
       "      <td>2</td>\n",
       "      <td>5</td>\n",
       "    </tr>\n",
       "    <tr>\n",
       "      <th>...</th>\n",
       "      <td>...</td>\n",
       "      <td>...</td>\n",
       "      <td>...</td>\n",
       "      <td>...</td>\n",
       "      <td>...</td>\n",
       "      <td>...</td>\n",
       "      <td>...</td>\n",
       "      <td>...</td>\n",
       "    </tr>\n",
       "    <tr>\n",
       "      <th>1686</th>\n",
       "      <td>1</td>\n",
       "      <td>22</td>\n",
       "      <td>3</td>\n",
       "      <td>5</td>\n",
       "      <td>5</td>\n",
       "      <td>6</td>\n",
       "      <td>2</td>\n",
       "      <td>2</td>\n",
       "    </tr>\n",
       "    <tr>\n",
       "      <th>1687</th>\n",
       "      <td>0</td>\n",
       "      <td>49</td>\n",
       "      <td>0</td>\n",
       "      <td>7</td>\n",
       "      <td>1</td>\n",
       "      <td>6</td>\n",
       "      <td>2</td>\n",
       "      <td>2</td>\n",
       "    </tr>\n",
       "    <tr>\n",
       "      <th>1688</th>\n",
       "      <td>1</td>\n",
       "      <td>45</td>\n",
       "      <td>1</td>\n",
       "      <td>7</td>\n",
       "      <td>5</td>\n",
       "      <td>6</td>\n",
       "      <td>5</td>\n",
       "      <td>2</td>\n",
       "    </tr>\n",
       "    <tr>\n",
       "      <th>1689</th>\n",
       "      <td>0</td>\n",
       "      <td>51</td>\n",
       "      <td>1</td>\n",
       "      <td>5</td>\n",
       "      <td>1</td>\n",
       "      <td>6</td>\n",
       "      <td>2</td>\n",
       "      <td>2</td>\n",
       "    </tr>\n",
       "    <tr>\n",
       "      <th>1690</th>\n",
       "      <td>1</td>\n",
       "      <td>31</td>\n",
       "      <td>1</td>\n",
       "      <td>1</td>\n",
       "      <td>5</td>\n",
       "      <td>6</td>\n",
       "      <td>0</td>\n",
       "      <td>2</td>\n",
       "    </tr>\n",
       "  </tbody>\n",
       "</table>\n",
       "<p>1691 rows × 8 columns</p>\n",
       "</div>"
      ],
      "text/plain": [
       "      gender  age  marital_status  highest_qualification  nationality  \\\n",
       "0          1   38               0                      5            0   \n",
       "1          0   42               3                      5            0   \n",
       "2          1   40               1                      1            1   \n",
       "3          0   40               1                      1            1   \n",
       "4          0   39               1                      3            0   \n",
       "...      ...  ...             ...                    ...          ...   \n",
       "1686       1   22               3                      5            5   \n",
       "1687       0   49               0                      7            1   \n",
       "1688       1   45               1                      7            5   \n",
       "1689       0   51               1                      5            1   \n",
       "1690       1   31               1                      1            5   \n",
       "\n",
       "      ethnicity  gross_income  region  \n",
       "0             6             2       5  \n",
       "1             6             8       5  \n",
       "2             6             4       5  \n",
       "3             6             0       5  \n",
       "4             6             2       5  \n",
       "...         ...           ...     ...  \n",
       "1686          6             2       2  \n",
       "1687          6             2       2  \n",
       "1688          6             5       2  \n",
       "1689          6             2       2  \n",
       "1690          6             0       2  \n",
       "\n",
       "[1691 rows x 8 columns]"
      ]
     },
     "execution_count": 51,
     "metadata": {},
     "output_type": "execute_result"
    }
   ],
   "source": [
    "X"
   ]
  },
  {
   "cell_type": "code",
   "execution_count": 52,
   "id": "10826a3b",
   "metadata": {
    "execution": {
     "iopub.execute_input": "2024-05-04T21:04:19.442356Z",
     "iopub.status.busy": "2024-05-04T21:04:19.441939Z",
     "iopub.status.idle": "2024-05-04T21:04:19.449552Z",
     "shell.execute_reply": "2024-05-04T21:04:19.448613Z"
    },
    "papermill": {
     "duration": 0.049309,
     "end_time": "2024-05-04T21:04:19.451651",
     "exception": false,
     "start_time": "2024-05-04T21:04:19.402342",
     "status": "completed"
    },
    "tags": []
   },
   "outputs": [
    {
     "data": {
      "text/plain": [
       "0       0\n",
       "1       1\n",
       "2       0\n",
       "3       0\n",
       "4       0\n",
       "       ..\n",
       "1686    0\n",
       "1687    1\n",
       "1688    0\n",
       "1689    1\n",
       "1690    0\n",
       "Name: smoke, Length: 1691, dtype: int64"
      ]
     },
     "execution_count": 52,
     "metadata": {},
     "output_type": "execute_result"
    }
   ],
   "source": [
    "Y"
   ]
  },
  {
   "cell_type": "code",
   "execution_count": 53,
   "id": "e2810b40",
   "metadata": {
    "execution": {
     "iopub.execute_input": "2024-05-04T21:04:19.527001Z",
     "iopub.status.busy": "2024-05-04T21:04:19.526600Z",
     "iopub.status.idle": "2024-05-04T21:04:19.534998Z",
     "shell.execute_reply": "2024-05-04T21:04:19.534245Z"
    },
    "papermill": {
     "duration": 0.048497,
     "end_time": "2024-05-04T21:04:19.536940",
     "exception": false,
     "start_time": "2024-05-04T21:04:19.488443",
     "status": "completed"
    },
    "tags": []
   },
   "outputs": [],
   "source": [
    "X_train, x_test, Y_train, y_test = train_test_split(X,Y,test_size=0.2,random_state=43)"
   ]
  },
  {
   "cell_type": "code",
   "execution_count": 54,
   "id": "b111abdf",
   "metadata": {
    "execution": {
     "iopub.execute_input": "2024-05-04T21:04:19.612171Z",
     "iopub.status.busy": "2024-05-04T21:04:19.611791Z",
     "iopub.status.idle": "2024-05-04T21:04:19.624972Z",
     "shell.execute_reply": "2024-05-04T21:04:19.623958Z"
    },
    "papermill": {
     "duration": 0.053487,
     "end_time": "2024-05-04T21:04:19.627264",
     "exception": false,
     "start_time": "2024-05-04T21:04:19.573777",
     "status": "completed"
    },
    "tags": []
   },
   "outputs": [
    {
     "data": {
      "text/html": [
       "<div>\n",
       "<style scoped>\n",
       "    .dataframe tbody tr th:only-of-type {\n",
       "        vertical-align: middle;\n",
       "    }\n",
       "\n",
       "    .dataframe tbody tr th {\n",
       "        vertical-align: top;\n",
       "    }\n",
       "\n",
       "    .dataframe thead th {\n",
       "        text-align: right;\n",
       "    }\n",
       "</style>\n",
       "<table border=\"1\" class=\"dataframe\">\n",
       "  <thead>\n",
       "    <tr style=\"text-align: right;\">\n",
       "      <th></th>\n",
       "      <th>gender</th>\n",
       "      <th>age</th>\n",
       "      <th>marital_status</th>\n",
       "      <th>highest_qualification</th>\n",
       "      <th>nationality</th>\n",
       "      <th>ethnicity</th>\n",
       "      <th>gross_income</th>\n",
       "      <th>region</th>\n",
       "    </tr>\n",
       "  </thead>\n",
       "  <tbody>\n",
       "    <tr>\n",
       "      <th>1247</th>\n",
       "      <td>0</td>\n",
       "      <td>35</td>\n",
       "      <td>1</td>\n",
       "      <td>1</td>\n",
       "      <td>0</td>\n",
       "      <td>6</td>\n",
       "      <td>0</td>\n",
       "      <td>3</td>\n",
       "    </tr>\n",
       "    <tr>\n",
       "      <th>189</th>\n",
       "      <td>0</td>\n",
       "      <td>57</td>\n",
       "      <td>1</td>\n",
       "      <td>1</td>\n",
       "      <td>1</td>\n",
       "      <td>6</td>\n",
       "      <td>5</td>\n",
       "      <td>5</td>\n",
       "    </tr>\n",
       "    <tr>\n",
       "      <th>384</th>\n",
       "      <td>0</td>\n",
       "      <td>56</td>\n",
       "      <td>1</td>\n",
       "      <td>5</td>\n",
       "      <td>0</td>\n",
       "      <td>6</td>\n",
       "      <td>8</td>\n",
       "      <td>5</td>\n",
       "    </tr>\n",
       "    <tr>\n",
       "      <th>1383</th>\n",
       "      <td>0</td>\n",
       "      <td>73</td>\n",
       "      <td>1</td>\n",
       "      <td>5</td>\n",
       "      <td>0</td>\n",
       "      <td>6</td>\n",
       "      <td>2</td>\n",
       "      <td>4</td>\n",
       "    </tr>\n",
       "    <tr>\n",
       "      <th>1538</th>\n",
       "      <td>0</td>\n",
       "      <td>40</td>\n",
       "      <td>0</td>\n",
       "      <td>3</td>\n",
       "      <td>1</td>\n",
       "      <td>6</td>\n",
       "      <td>0</td>\n",
       "      <td>6</td>\n",
       "    </tr>\n",
       "    <tr>\n",
       "      <th>...</th>\n",
       "      <td>...</td>\n",
       "      <td>...</td>\n",
       "      <td>...</td>\n",
       "      <td>...</td>\n",
       "      <td>...</td>\n",
       "      <td>...</td>\n",
       "      <td>...</td>\n",
       "      <td>...</td>\n",
       "    </tr>\n",
       "    <tr>\n",
       "      <th>16</th>\n",
       "      <td>0</td>\n",
       "      <td>30</td>\n",
       "      <td>3</td>\n",
       "      <td>1</td>\n",
       "      <td>1</td>\n",
       "      <td>6</td>\n",
       "      <td>3</td>\n",
       "      <td>5</td>\n",
       "    </tr>\n",
       "    <tr>\n",
       "      <th>58</th>\n",
       "      <td>1</td>\n",
       "      <td>89</td>\n",
       "      <td>4</td>\n",
       "      <td>5</td>\n",
       "      <td>0</td>\n",
       "      <td>6</td>\n",
       "      <td>5</td>\n",
       "      <td>5</td>\n",
       "    </tr>\n",
       "    <tr>\n",
       "      <th>277</th>\n",
       "      <td>0</td>\n",
       "      <td>28</td>\n",
       "      <td>1</td>\n",
       "      <td>5</td>\n",
       "      <td>0</td>\n",
       "      <td>6</td>\n",
       "      <td>8</td>\n",
       "      <td>5</td>\n",
       "    </tr>\n",
       "    <tr>\n",
       "      <th>255</th>\n",
       "      <td>1</td>\n",
       "      <td>62</td>\n",
       "      <td>1</td>\n",
       "      <td>5</td>\n",
       "      <td>1</td>\n",
       "      <td>6</td>\n",
       "      <td>3</td>\n",
       "      <td>5</td>\n",
       "    </tr>\n",
       "    <tr>\n",
       "      <th>1344</th>\n",
       "      <td>0</td>\n",
       "      <td>45</td>\n",
       "      <td>1</td>\n",
       "      <td>5</td>\n",
       "      <td>1</td>\n",
       "      <td>6</td>\n",
       "      <td>5</td>\n",
       "      <td>4</td>\n",
       "    </tr>\n",
       "  </tbody>\n",
       "</table>\n",
       "<p>1352 rows × 8 columns</p>\n",
       "</div>"
      ],
      "text/plain": [
       "      gender  age  marital_status  highest_qualification  nationality  \\\n",
       "1247       0   35               1                      1            0   \n",
       "189        0   57               1                      1            1   \n",
       "384        0   56               1                      5            0   \n",
       "1383       0   73               1                      5            0   \n",
       "1538       0   40               0                      3            1   \n",
       "...      ...  ...             ...                    ...          ...   \n",
       "16         0   30               3                      1            1   \n",
       "58         1   89               4                      5            0   \n",
       "277        0   28               1                      5            0   \n",
       "255        1   62               1                      5            1   \n",
       "1344       0   45               1                      5            1   \n",
       "\n",
       "      ethnicity  gross_income  region  \n",
       "1247          6             0       3  \n",
       "189           6             5       5  \n",
       "384           6             8       5  \n",
       "1383          6             2       4  \n",
       "1538          6             0       6  \n",
       "...         ...           ...     ...  \n",
       "16            6             3       5  \n",
       "58            6             5       5  \n",
       "277           6             8       5  \n",
       "255           6             3       5  \n",
       "1344          6             5       4  \n",
       "\n",
       "[1352 rows x 8 columns]"
      ]
     },
     "execution_count": 54,
     "metadata": {},
     "output_type": "execute_result"
    }
   ],
   "source": [
    "X_train"
   ]
  },
  {
   "cell_type": "code",
   "execution_count": 55,
   "id": "9dfdf7c5",
   "metadata": {
    "execution": {
     "iopub.execute_input": "2024-05-04T21:04:19.705325Z",
     "iopub.status.busy": "2024-05-04T21:04:19.704878Z",
     "iopub.status.idle": "2024-05-04T21:04:19.713326Z",
     "shell.execute_reply": "2024-05-04T21:04:19.712161Z"
    },
    "papermill": {
     "duration": 0.050023,
     "end_time": "2024-05-04T21:04:19.715518",
     "exception": false,
     "start_time": "2024-05-04T21:04:19.665495",
     "status": "completed"
    },
    "tags": []
   },
   "outputs": [
    {
     "data": {
      "text/plain": [
       "1247    0\n",
       "189     0\n",
       "384     0\n",
       "1383    0\n",
       "1538    0\n",
       "       ..\n",
       "16      0\n",
       "58      0\n",
       "277     0\n",
       "255     0\n",
       "1344    0\n",
       "Name: smoke, Length: 1352, dtype: int64"
      ]
     },
     "execution_count": 55,
     "metadata": {},
     "output_type": "execute_result"
    }
   ],
   "source": [
    "Y_train"
   ]
  },
  {
   "cell_type": "code",
   "execution_count": 56,
   "id": "1b5ef7e8",
   "metadata": {
    "execution": {
     "iopub.execute_input": "2024-05-04T21:04:19.794013Z",
     "iopub.status.busy": "2024-05-04T21:04:19.792800Z",
     "iopub.status.idle": "2024-05-04T21:04:19.809560Z",
     "shell.execute_reply": "2024-05-04T21:04:19.807334Z"
    },
    "papermill": {
     "duration": 0.057991,
     "end_time": "2024-05-04T21:04:19.811906",
     "exception": false,
     "start_time": "2024-05-04T21:04:19.753915",
     "status": "completed"
    },
    "tags": []
   },
   "outputs": [
    {
     "data": {
      "text/html": [
       "<div>\n",
       "<style scoped>\n",
       "    .dataframe tbody tr th:only-of-type {\n",
       "        vertical-align: middle;\n",
       "    }\n",
       "\n",
       "    .dataframe tbody tr th {\n",
       "        vertical-align: top;\n",
       "    }\n",
       "\n",
       "    .dataframe thead th {\n",
       "        text-align: right;\n",
       "    }\n",
       "</style>\n",
       "<table border=\"1\" class=\"dataframe\">\n",
       "  <thead>\n",
       "    <tr style=\"text-align: right;\">\n",
       "      <th></th>\n",
       "      <th>gender</th>\n",
       "      <th>age</th>\n",
       "      <th>marital_status</th>\n",
       "      <th>highest_qualification</th>\n",
       "      <th>nationality</th>\n",
       "      <th>ethnicity</th>\n",
       "      <th>gross_income</th>\n",
       "      <th>region</th>\n",
       "    </tr>\n",
       "  </thead>\n",
       "  <tbody>\n",
       "    <tr>\n",
       "      <th>497</th>\n",
       "      <td>1</td>\n",
       "      <td>72</td>\n",
       "      <td>1</td>\n",
       "      <td>5</td>\n",
       "      <td>0</td>\n",
       "      <td>6</td>\n",
       "      <td>5</td>\n",
       "      <td>1</td>\n",
       "    </tr>\n",
       "    <tr>\n",
       "      <th>544</th>\n",
       "      <td>0</td>\n",
       "      <td>42</td>\n",
       "      <td>3</td>\n",
       "      <td>3</td>\n",
       "      <td>0</td>\n",
       "      <td>6</td>\n",
       "      <td>5</td>\n",
       "      <td>1</td>\n",
       "    </tr>\n",
       "    <tr>\n",
       "      <th>1534</th>\n",
       "      <td>1</td>\n",
       "      <td>66</td>\n",
       "      <td>3</td>\n",
       "      <td>4</td>\n",
       "      <td>1</td>\n",
       "      <td>6</td>\n",
       "      <td>0</td>\n",
       "      <td>6</td>\n",
       "    </tr>\n",
       "    <tr>\n",
       "      <th>1690</th>\n",
       "      <td>1</td>\n",
       "      <td>31</td>\n",
       "      <td>1</td>\n",
       "      <td>1</td>\n",
       "      <td>5</td>\n",
       "      <td>6</td>\n",
       "      <td>0</td>\n",
       "      <td>2</td>\n",
       "    </tr>\n",
       "    <tr>\n",
       "      <th>786</th>\n",
       "      <td>0</td>\n",
       "      <td>34</td>\n",
       "      <td>1</td>\n",
       "      <td>1</td>\n",
       "      <td>0</td>\n",
       "      <td>6</td>\n",
       "      <td>8</td>\n",
       "      <td>1</td>\n",
       "    </tr>\n",
       "    <tr>\n",
       "      <th>...</th>\n",
       "      <td>...</td>\n",
       "      <td>...</td>\n",
       "      <td>...</td>\n",
       "      <td>...</td>\n",
       "      <td>...</td>\n",
       "      <td>...</td>\n",
       "      <td>...</td>\n",
       "      <td>...</td>\n",
       "    </tr>\n",
       "    <tr>\n",
       "      <th>705</th>\n",
       "      <td>0</td>\n",
       "      <td>34</td>\n",
       "      <td>2</td>\n",
       "      <td>3</td>\n",
       "      <td>1</td>\n",
       "      <td>6</td>\n",
       "      <td>5</td>\n",
       "      <td>1</td>\n",
       "    </tr>\n",
       "    <tr>\n",
       "      <th>261</th>\n",
       "      <td>1</td>\n",
       "      <td>48</td>\n",
       "      <td>4</td>\n",
       "      <td>5</td>\n",
       "      <td>1</td>\n",
       "      <td>6</td>\n",
       "      <td>0</td>\n",
       "      <td>5</td>\n",
       "    </tr>\n",
       "    <tr>\n",
       "      <th>468</th>\n",
       "      <td>0</td>\n",
       "      <td>50</td>\n",
       "      <td>1</td>\n",
       "      <td>3</td>\n",
       "      <td>1</td>\n",
       "      <td>6</td>\n",
       "      <td>5</td>\n",
       "      <td>1</td>\n",
       "    </tr>\n",
       "    <tr>\n",
       "      <th>233</th>\n",
       "      <td>1</td>\n",
       "      <td>27</td>\n",
       "      <td>3</td>\n",
       "      <td>6</td>\n",
       "      <td>1</td>\n",
       "      <td>6</td>\n",
       "      <td>7</td>\n",
       "      <td>5</td>\n",
       "    </tr>\n",
       "    <tr>\n",
       "      <th>426</th>\n",
       "      <td>1</td>\n",
       "      <td>55</td>\n",
       "      <td>1</td>\n",
       "      <td>0</td>\n",
       "      <td>1</td>\n",
       "      <td>6</td>\n",
       "      <td>1</td>\n",
       "      <td>1</td>\n",
       "    </tr>\n",
       "  </tbody>\n",
       "</table>\n",
       "<p>339 rows × 8 columns</p>\n",
       "</div>"
      ],
      "text/plain": [
       "      gender  age  marital_status  highest_qualification  nationality  \\\n",
       "497        1   72               1                      5            0   \n",
       "544        0   42               3                      3            0   \n",
       "1534       1   66               3                      4            1   \n",
       "1690       1   31               1                      1            5   \n",
       "786        0   34               1                      1            0   \n",
       "...      ...  ...             ...                    ...          ...   \n",
       "705        0   34               2                      3            1   \n",
       "261        1   48               4                      5            1   \n",
       "468        0   50               1                      3            1   \n",
       "233        1   27               3                      6            1   \n",
       "426        1   55               1                      0            1   \n",
       "\n",
       "      ethnicity  gross_income  region  \n",
       "497           6             5       1  \n",
       "544           6             5       1  \n",
       "1534          6             0       6  \n",
       "1690          6             0       2  \n",
       "786           6             8       1  \n",
       "...         ...           ...     ...  \n",
       "705           6             5       1  \n",
       "261           6             0       5  \n",
       "468           6             5       1  \n",
       "233           6             7       5  \n",
       "426           6             1       1  \n",
       "\n",
       "[339 rows x 8 columns]"
      ]
     },
     "execution_count": 56,
     "metadata": {},
     "output_type": "execute_result"
    }
   ],
   "source": [
    "x_test"
   ]
  },
  {
   "cell_type": "code",
   "execution_count": 57,
   "id": "b354e8e6",
   "metadata": {
    "execution": {
     "iopub.execute_input": "2024-05-04T21:04:19.889217Z",
     "iopub.status.busy": "2024-05-04T21:04:19.888810Z",
     "iopub.status.idle": "2024-05-04T21:04:19.896314Z",
     "shell.execute_reply": "2024-05-04T21:04:19.895394Z"
    },
    "papermill": {
     "duration": 0.050383,
     "end_time": "2024-05-04T21:04:19.899733",
     "exception": false,
     "start_time": "2024-05-04T21:04:19.849350",
     "status": "completed"
    },
    "tags": []
   },
   "outputs": [
    {
     "data": {
      "text/plain": [
       "497     0\n",
       "544     0\n",
       "1534    0\n",
       "1690    0\n",
       "786     1\n",
       "       ..\n",
       "705     1\n",
       "261     0\n",
       "468     0\n",
       "233     1\n",
       "426     0\n",
       "Name: smoke, Length: 339, dtype: int64"
      ]
     },
     "execution_count": 57,
     "metadata": {},
     "output_type": "execute_result"
    }
   ],
   "source": [
    "y_test"
   ]
  },
  {
   "cell_type": "markdown",
   "id": "90d0b551",
   "metadata": {
    "papermill": {
     "duration": 0.039083,
     "end_time": "2024-05-04T21:04:19.976340",
     "exception": false,
     "start_time": "2024-05-04T21:04:19.937257",
     "status": "completed"
    },
    "tags": []
   },
   "source": [
    "# Building Model"
   ]
  },
  {
   "cell_type": "markdown",
   "id": "5c8ab2c2",
   "metadata": {
    "papermill": {
     "duration": 0.038917,
     "end_time": "2024-05-04T21:04:20.053747",
     "exception": false,
     "start_time": "2024-05-04T21:04:20.014830",
     "status": "completed"
    },
    "tags": []
   },
   "source": [
    "<h2>LogisticRegression<h2>"
   ]
  },
  {
   "cell_type": "code",
   "execution_count": 58,
   "id": "a2da832f",
   "metadata": {
    "execution": {
     "iopub.execute_input": "2024-05-04T21:04:20.133789Z",
     "iopub.status.busy": "2024-05-04T21:04:20.133375Z",
     "iopub.status.idle": "2024-05-04T21:04:20.138195Z",
     "shell.execute_reply": "2024-05-04T21:04:20.137051Z"
    },
    "papermill": {
     "duration": 0.047453,
     "end_time": "2024-05-04T21:04:20.140363",
     "exception": false,
     "start_time": "2024-05-04T21:04:20.092910",
     "status": "completed"
    },
    "tags": []
   },
   "outputs": [],
   "source": [
    "logreg = LogisticRegression()"
   ]
  },
  {
   "cell_type": "code",
   "execution_count": 59,
   "id": "e1ac6791",
   "metadata": {
    "execution": {
     "iopub.execute_input": "2024-05-04T21:04:20.222023Z",
     "iopub.status.busy": "2024-05-04T21:04:20.221342Z",
     "iopub.status.idle": "2024-05-04T21:04:20.274995Z",
     "shell.execute_reply": "2024-05-04T21:04:20.273590Z"
    },
    "papermill": {
     "duration": 0.097647,
     "end_time": "2024-05-04T21:04:20.278321",
     "exception": false,
     "start_time": "2024-05-04T21:04:20.180674",
     "status": "completed"
    },
    "tags": []
   },
   "outputs": [
    {
     "data": {
      "text/html": [
       "<style>#sk-container-id-1 {color: black;background-color: white;}#sk-container-id-1 pre{padding: 0;}#sk-container-id-1 div.sk-toggleable {background-color: white;}#sk-container-id-1 label.sk-toggleable__label {cursor: pointer;display: block;width: 100%;margin-bottom: 0;padding: 0.3em;box-sizing: border-box;text-align: center;}#sk-container-id-1 label.sk-toggleable__label-arrow:before {content: \"▸\";float: left;margin-right: 0.25em;color: #696969;}#sk-container-id-1 label.sk-toggleable__label-arrow:hover:before {color: black;}#sk-container-id-1 div.sk-estimator:hover label.sk-toggleable__label-arrow:before {color: black;}#sk-container-id-1 div.sk-toggleable__content {max-height: 0;max-width: 0;overflow: hidden;text-align: left;background-color: #f0f8ff;}#sk-container-id-1 div.sk-toggleable__content pre {margin: 0.2em;color: black;border-radius: 0.25em;background-color: #f0f8ff;}#sk-container-id-1 input.sk-toggleable__control:checked~div.sk-toggleable__content {max-height: 200px;max-width: 100%;overflow: auto;}#sk-container-id-1 input.sk-toggleable__control:checked~label.sk-toggleable__label-arrow:before {content: \"▾\";}#sk-container-id-1 div.sk-estimator input.sk-toggleable__control:checked~label.sk-toggleable__label {background-color: #d4ebff;}#sk-container-id-1 div.sk-label input.sk-toggleable__control:checked~label.sk-toggleable__label {background-color: #d4ebff;}#sk-container-id-1 input.sk-hidden--visually {border: 0;clip: rect(1px 1px 1px 1px);clip: rect(1px, 1px, 1px, 1px);height: 1px;margin: -1px;overflow: hidden;padding: 0;position: absolute;width: 1px;}#sk-container-id-1 div.sk-estimator {font-family: monospace;background-color: #f0f8ff;border: 1px dotted black;border-radius: 0.25em;box-sizing: border-box;margin-bottom: 0.5em;}#sk-container-id-1 div.sk-estimator:hover {background-color: #d4ebff;}#sk-container-id-1 div.sk-parallel-item::after {content: \"\";width: 100%;border-bottom: 1px solid gray;flex-grow: 1;}#sk-container-id-1 div.sk-label:hover label.sk-toggleable__label {background-color: #d4ebff;}#sk-container-id-1 div.sk-serial::before {content: \"\";position: absolute;border-left: 1px solid gray;box-sizing: border-box;top: 0;bottom: 0;left: 50%;z-index: 0;}#sk-container-id-1 div.sk-serial {display: flex;flex-direction: column;align-items: center;background-color: white;padding-right: 0.2em;padding-left: 0.2em;position: relative;}#sk-container-id-1 div.sk-item {position: relative;z-index: 1;}#sk-container-id-1 div.sk-parallel {display: flex;align-items: stretch;justify-content: center;background-color: white;position: relative;}#sk-container-id-1 div.sk-item::before, #sk-container-id-1 div.sk-parallel-item::before {content: \"\";position: absolute;border-left: 1px solid gray;box-sizing: border-box;top: 0;bottom: 0;left: 50%;z-index: -1;}#sk-container-id-1 div.sk-parallel-item {display: flex;flex-direction: column;z-index: 1;position: relative;background-color: white;}#sk-container-id-1 div.sk-parallel-item:first-child::after {align-self: flex-end;width: 50%;}#sk-container-id-1 div.sk-parallel-item:last-child::after {align-self: flex-start;width: 50%;}#sk-container-id-1 div.sk-parallel-item:only-child::after {width: 0;}#sk-container-id-1 div.sk-dashed-wrapped {border: 1px dashed gray;margin: 0 0.4em 0.5em 0.4em;box-sizing: border-box;padding-bottom: 0.4em;background-color: white;}#sk-container-id-1 div.sk-label label {font-family: monospace;font-weight: bold;display: inline-block;line-height: 1.2em;}#sk-container-id-1 div.sk-label-container {text-align: center;}#sk-container-id-1 div.sk-container {/* jupyter's `normalize.less` sets `[hidden] { display: none; }` but bootstrap.min.css set `[hidden] { display: none !important; }` so we also need the `!important` here to be able to override the default hidden behavior on the sphinx rendered scikit-learn.org. See: https://github.com/scikit-learn/scikit-learn/issues/21755 */display: inline-block !important;position: relative;}#sk-container-id-1 div.sk-text-repr-fallback {display: none;}</style><div id=\"sk-container-id-1\" class=\"sk-top-container\"><div class=\"sk-text-repr-fallback\"><pre>LogisticRegression()</pre><b>In a Jupyter environment, please rerun this cell to show the HTML representation or trust the notebook. <br />On GitHub, the HTML representation is unable to render, please try loading this page with nbviewer.org.</b></div><div class=\"sk-container\" hidden><div class=\"sk-item\"><div class=\"sk-estimator sk-toggleable\"><input class=\"sk-toggleable__control sk-hidden--visually\" id=\"sk-estimator-id-1\" type=\"checkbox\" checked><label for=\"sk-estimator-id-1\" class=\"sk-toggleable__label sk-toggleable__label-arrow\">LogisticRegression</label><div class=\"sk-toggleable__content\"><pre>LogisticRegression()</pre></div></div></div></div></div>"
      ],
      "text/plain": [
       "LogisticRegression()"
      ]
     },
     "execution_count": 59,
     "metadata": {},
     "output_type": "execute_result"
    }
   ],
   "source": [
    "logreg.fit(X_train,Y_train)"
   ]
  },
  {
   "cell_type": "code",
   "execution_count": 60,
   "id": "f2cd2bef",
   "metadata": {
    "execution": {
     "iopub.execute_input": "2024-05-04T21:04:20.414111Z",
     "iopub.status.busy": "2024-05-04T21:04:20.413685Z",
     "iopub.status.idle": "2024-05-04T21:04:20.427512Z",
     "shell.execute_reply": "2024-05-04T21:04:20.426350Z"
    },
    "papermill": {
     "duration": 0.068512,
     "end_time": "2024-05-04T21:04:20.430239",
     "exception": false,
     "start_time": "2024-05-04T21:04:20.361727",
     "status": "completed"
    },
    "tags": []
   },
   "outputs": [
    {
     "data": {
      "text/plain": [
       "0.7440828402366864"
      ]
     },
     "execution_count": 60,
     "metadata": {},
     "output_type": "execute_result"
    }
   ],
   "source": [
    "logreg.score(X_train,Y_train)"
   ]
  },
  {
   "cell_type": "code",
   "execution_count": 61,
   "id": "a3f1ea8a",
   "metadata": {
    "execution": {
     "iopub.execute_input": "2024-05-04T21:04:20.575262Z",
     "iopub.status.busy": "2024-05-04T21:04:20.573925Z",
     "iopub.status.idle": "2024-05-04T21:04:20.587551Z",
     "shell.execute_reply": "2024-05-04T21:04:20.585204Z"
    },
    "papermill": {
     "duration": 0.078336,
     "end_time": "2024-05-04T21:04:20.590484",
     "exception": false,
     "start_time": "2024-05-04T21:04:20.512148",
     "status": "completed"
    },
    "tags": []
   },
   "outputs": [
    {
     "data": {
      "text/plain": [
       "0.7551622418879056"
      ]
     },
     "execution_count": 61,
     "metadata": {},
     "output_type": "execute_result"
    }
   ],
   "source": [
    "logreg.score(x_test,y_test)"
   ]
  },
  {
   "cell_type": "code",
   "execution_count": 62,
   "id": "e3f4d4d9",
   "metadata": {
    "execution": {
     "iopub.execute_input": "2024-05-04T21:04:20.669864Z",
     "iopub.status.busy": "2024-05-04T21:04:20.668740Z",
     "iopub.status.idle": "2024-05-04T21:04:20.678506Z",
     "shell.execute_reply": "2024-05-04T21:04:20.677520Z"
    },
    "papermill": {
     "duration": 0.051434,
     "end_time": "2024-05-04T21:04:20.680547",
     "exception": false,
     "start_time": "2024-05-04T21:04:20.629113",
     "status": "completed"
    },
    "tags": []
   },
   "outputs": [
    {
     "data": {
      "text/plain": [
       "array([0, 0, 0, 0, 0, 0, 0, 0, 0, 0, 0, 0, 1, 0, 0, 0, 0, 0, 0, 0, 0, 0,\n",
       "       0, 0, 0, 0, 0, 0, 0, 0, 0, 0, 0, 0, 0, 0, 1, 0, 0, 0, 0, 0, 0, 0,\n",
       "       0, 0, 0, 0, 0, 0, 0, 0, 0, 0, 0, 0, 0, 0, 0, 0, 0, 0, 0, 0, 0, 0,\n",
       "       0, 0, 0, 0, 0, 0, 0, 0, 0, 0, 0, 0, 0, 0, 1, 0, 0, 0, 0, 0, 0, 0,\n",
       "       0, 0, 0, 0, 0, 0, 0, 0, 0, 0, 0, 0, 0, 0, 0, 0, 0, 0, 0, 0, 0, 0,\n",
       "       0, 0, 0, 0, 1, 0, 0, 0, 0, 0, 0, 0, 1, 1, 1, 0, 0, 0, 0, 0, 0, 0,\n",
       "       1, 0, 0, 0, 0, 0, 0, 0, 0, 0, 0, 0, 0, 0, 0, 0, 0, 0, 0, 0, 0, 0,\n",
       "       0, 0, 0, 0, 0, 0, 0, 1, 0, 0, 0, 0, 0, 0, 0, 0, 0, 0, 0, 0, 0, 0,\n",
       "       0, 0, 0, 0, 0, 0, 0, 0, 0, 0, 0, 0, 1, 0, 0, 0, 0, 0, 0, 1, 0, 0,\n",
       "       0, 0, 0, 0, 0, 0, 0, 0, 0, 0, 0, 0, 0, 0, 0, 0, 0, 0, 0, 0, 0, 0,\n",
       "       0, 0, 0, 0, 0, 0, 0, 0, 0, 0, 0, 0, 0, 0, 0, 0, 0, 0, 0, 0, 0, 0,\n",
       "       0, 0, 0, 0, 0, 0, 0, 0, 0, 0, 0, 0, 0, 0, 0, 1, 0, 0, 1, 0, 0, 0,\n",
       "       0, 0, 0, 0, 0, 0, 0, 0, 0, 0, 0, 0, 0, 0, 0, 0, 0, 0, 0, 0, 0, 0,\n",
       "       0, 0, 0, 0, 0, 0, 0, 0, 0, 0, 0, 0, 0, 0, 0, 0, 0, 1, 1, 0, 0, 0,\n",
       "       0, 0, 0, 0, 0, 0, 0, 0, 0, 0, 0, 0, 0, 0, 0, 0, 0, 0, 0, 0, 0, 0,\n",
       "       0, 0, 0, 0, 0, 0, 0, 0, 0])"
      ]
     },
     "execution_count": 62,
     "metadata": {},
     "output_type": "execute_result"
    }
   ],
   "source": [
    "y_pred = logreg.predict(x_test)\n",
    "y_pred"
   ]
  },
  {
   "cell_type": "code",
   "execution_count": 63,
   "id": "5dbfdb6e",
   "metadata": {
    "execution": {
     "iopub.execute_input": "2024-05-04T21:04:20.760767Z",
     "iopub.status.busy": "2024-05-04T21:04:20.760033Z",
     "iopub.status.idle": "2024-05-04T21:04:20.772012Z",
     "shell.execute_reply": "2024-05-04T21:04:20.771141Z"
    },
    "papermill": {
     "duration": 0.0547,
     "end_time": "2024-05-04T21:04:20.774067",
     "exception": false,
     "start_time": "2024-05-04T21:04:20.719367",
     "status": "completed"
    },
    "tags": []
   },
   "outputs": [
    {
     "name": "stdout",
     "output_type": "stream",
     "text": [
      "              precision    recall  f1-score   support\n",
      "\n",
      "           0       0.77      0.97      0.86       259\n",
      "           1       0.40      0.07      0.13        80\n",
      "\n",
      "    accuracy                           0.76       339\n",
      "   macro avg       0.59      0.52      0.49       339\n",
      "weighted avg       0.68      0.76      0.69       339\n",
      "\n"
     ]
    }
   ],
   "source": [
    "print(classification_report(y_test, y_pred))"
   ]
  },
  {
   "cell_type": "markdown",
   "id": "d7737b3d",
   "metadata": {
    "papermill": {
     "duration": 0.039547,
     "end_time": "2024-05-04T21:04:20.853294",
     "exception": false,
     "start_time": "2024-05-04T21:04:20.813747",
     "status": "completed"
    },
    "tags": []
   },
   "source": [
    "<h2>DescionTreeClassifier<h2>"
   ]
  },
  {
   "cell_type": "code",
   "execution_count": 64,
   "id": "14ea0d9d",
   "metadata": {
    "execution": {
     "iopub.execute_input": "2024-05-04T21:04:20.941719Z",
     "iopub.status.busy": "2024-05-04T21:04:20.940511Z",
     "iopub.status.idle": "2024-05-04T21:04:20.945635Z",
     "shell.execute_reply": "2024-05-04T21:04:20.944796Z"
    },
    "papermill": {
     "duration": 0.055453,
     "end_time": "2024-05-04T21:04:20.947667",
     "exception": false,
     "start_time": "2024-05-04T21:04:20.892214",
     "status": "completed"
    },
    "tags": []
   },
   "outputs": [],
   "source": [
    "DecisionTree = DecisionTreeClassifier()"
   ]
  },
  {
   "cell_type": "code",
   "execution_count": 65,
   "id": "08eb0dec",
   "metadata": {
    "execution": {
     "iopub.execute_input": "2024-05-04T21:04:21.028521Z",
     "iopub.status.busy": "2024-05-04T21:04:21.027597Z",
     "iopub.status.idle": "2024-05-04T21:04:21.042573Z",
     "shell.execute_reply": "2024-05-04T21:04:21.041482Z"
    },
    "papermill": {
     "duration": 0.058356,
     "end_time": "2024-05-04T21:04:21.044646",
     "exception": false,
     "start_time": "2024-05-04T21:04:20.986290",
     "status": "completed"
    },
    "tags": []
   },
   "outputs": [
    {
     "data": {
      "text/html": [
       "<style>#sk-container-id-2 {color: black;background-color: white;}#sk-container-id-2 pre{padding: 0;}#sk-container-id-2 div.sk-toggleable {background-color: white;}#sk-container-id-2 label.sk-toggleable__label {cursor: pointer;display: block;width: 100%;margin-bottom: 0;padding: 0.3em;box-sizing: border-box;text-align: center;}#sk-container-id-2 label.sk-toggleable__label-arrow:before {content: \"▸\";float: left;margin-right: 0.25em;color: #696969;}#sk-container-id-2 label.sk-toggleable__label-arrow:hover:before {color: black;}#sk-container-id-2 div.sk-estimator:hover label.sk-toggleable__label-arrow:before {color: black;}#sk-container-id-2 div.sk-toggleable__content {max-height: 0;max-width: 0;overflow: hidden;text-align: left;background-color: #f0f8ff;}#sk-container-id-2 div.sk-toggleable__content pre {margin: 0.2em;color: black;border-radius: 0.25em;background-color: #f0f8ff;}#sk-container-id-2 input.sk-toggleable__control:checked~div.sk-toggleable__content {max-height: 200px;max-width: 100%;overflow: auto;}#sk-container-id-2 input.sk-toggleable__control:checked~label.sk-toggleable__label-arrow:before {content: \"▾\";}#sk-container-id-2 div.sk-estimator input.sk-toggleable__control:checked~label.sk-toggleable__label {background-color: #d4ebff;}#sk-container-id-2 div.sk-label input.sk-toggleable__control:checked~label.sk-toggleable__label {background-color: #d4ebff;}#sk-container-id-2 input.sk-hidden--visually {border: 0;clip: rect(1px 1px 1px 1px);clip: rect(1px, 1px, 1px, 1px);height: 1px;margin: -1px;overflow: hidden;padding: 0;position: absolute;width: 1px;}#sk-container-id-2 div.sk-estimator {font-family: monospace;background-color: #f0f8ff;border: 1px dotted black;border-radius: 0.25em;box-sizing: border-box;margin-bottom: 0.5em;}#sk-container-id-2 div.sk-estimator:hover {background-color: #d4ebff;}#sk-container-id-2 div.sk-parallel-item::after {content: \"\";width: 100%;border-bottom: 1px solid gray;flex-grow: 1;}#sk-container-id-2 div.sk-label:hover label.sk-toggleable__label {background-color: #d4ebff;}#sk-container-id-2 div.sk-serial::before {content: \"\";position: absolute;border-left: 1px solid gray;box-sizing: border-box;top: 0;bottom: 0;left: 50%;z-index: 0;}#sk-container-id-2 div.sk-serial {display: flex;flex-direction: column;align-items: center;background-color: white;padding-right: 0.2em;padding-left: 0.2em;position: relative;}#sk-container-id-2 div.sk-item {position: relative;z-index: 1;}#sk-container-id-2 div.sk-parallel {display: flex;align-items: stretch;justify-content: center;background-color: white;position: relative;}#sk-container-id-2 div.sk-item::before, #sk-container-id-2 div.sk-parallel-item::before {content: \"\";position: absolute;border-left: 1px solid gray;box-sizing: border-box;top: 0;bottom: 0;left: 50%;z-index: -1;}#sk-container-id-2 div.sk-parallel-item {display: flex;flex-direction: column;z-index: 1;position: relative;background-color: white;}#sk-container-id-2 div.sk-parallel-item:first-child::after {align-self: flex-end;width: 50%;}#sk-container-id-2 div.sk-parallel-item:last-child::after {align-self: flex-start;width: 50%;}#sk-container-id-2 div.sk-parallel-item:only-child::after {width: 0;}#sk-container-id-2 div.sk-dashed-wrapped {border: 1px dashed gray;margin: 0 0.4em 0.5em 0.4em;box-sizing: border-box;padding-bottom: 0.4em;background-color: white;}#sk-container-id-2 div.sk-label label {font-family: monospace;font-weight: bold;display: inline-block;line-height: 1.2em;}#sk-container-id-2 div.sk-label-container {text-align: center;}#sk-container-id-2 div.sk-container {/* jupyter's `normalize.less` sets `[hidden] { display: none; }` but bootstrap.min.css set `[hidden] { display: none !important; }` so we also need the `!important` here to be able to override the default hidden behavior on the sphinx rendered scikit-learn.org. See: https://github.com/scikit-learn/scikit-learn/issues/21755 */display: inline-block !important;position: relative;}#sk-container-id-2 div.sk-text-repr-fallback {display: none;}</style><div id=\"sk-container-id-2\" class=\"sk-top-container\"><div class=\"sk-text-repr-fallback\"><pre>DecisionTreeClassifier()</pre><b>In a Jupyter environment, please rerun this cell to show the HTML representation or trust the notebook. <br />On GitHub, the HTML representation is unable to render, please try loading this page with nbviewer.org.</b></div><div class=\"sk-container\" hidden><div class=\"sk-item\"><div class=\"sk-estimator sk-toggleable\"><input class=\"sk-toggleable__control sk-hidden--visually\" id=\"sk-estimator-id-2\" type=\"checkbox\" checked><label for=\"sk-estimator-id-2\" class=\"sk-toggleable__label sk-toggleable__label-arrow\">DecisionTreeClassifier</label><div class=\"sk-toggleable__content\"><pre>DecisionTreeClassifier()</pre></div></div></div></div></div>"
      ],
      "text/plain": [
       "DecisionTreeClassifier()"
      ]
     },
     "execution_count": 65,
     "metadata": {},
     "output_type": "execute_result"
    }
   ],
   "source": [
    "DecisionTree.fit(X_train,Y_train)"
   ]
  },
  {
   "cell_type": "code",
   "execution_count": 66,
   "id": "f8427fcb",
   "metadata": {
    "execution": {
     "iopub.execute_input": "2024-05-04T21:04:21.124876Z",
     "iopub.status.busy": "2024-05-04T21:04:21.124144Z",
     "iopub.status.idle": "2024-05-04T21:04:21.133715Z",
     "shell.execute_reply": "2024-05-04T21:04:21.132704Z"
    },
    "papermill": {
     "duration": 0.052153,
     "end_time": "2024-05-04T21:04:21.135830",
     "exception": false,
     "start_time": "2024-05-04T21:04:21.083677",
     "status": "completed"
    },
    "tags": []
   },
   "outputs": [
    {
     "data": {
      "text/plain": [
       "0.9970414201183432"
      ]
     },
     "execution_count": 66,
     "metadata": {},
     "output_type": "execute_result"
    }
   ],
   "source": [
    "DecisionTree.score(X_train,Y_train)"
   ]
  },
  {
   "cell_type": "code",
   "execution_count": 67,
   "id": "f541d7e6",
   "metadata": {
    "execution": {
     "iopub.execute_input": "2024-05-04T21:04:21.218023Z",
     "iopub.status.busy": "2024-05-04T21:04:21.217339Z",
     "iopub.status.idle": "2024-05-04T21:04:21.225863Z",
     "shell.execute_reply": "2024-05-04T21:04:21.224945Z"
    },
    "papermill": {
     "duration": 0.052016,
     "end_time": "2024-05-04T21:04:21.227831",
     "exception": false,
     "start_time": "2024-05-04T21:04:21.175815",
     "status": "completed"
    },
    "tags": []
   },
   "outputs": [
    {
     "data": {
      "text/plain": [
       "0.6755162241887905"
      ]
     },
     "execution_count": 67,
     "metadata": {},
     "output_type": "execute_result"
    }
   ],
   "source": [
    "DecisionTree.score(x_test,y_test)"
   ]
  },
  {
   "cell_type": "code",
   "execution_count": 68,
   "id": "c97b9011",
   "metadata": {
    "execution": {
     "iopub.execute_input": "2024-05-04T21:04:21.306944Z",
     "iopub.status.busy": "2024-05-04T21:04:21.306285Z",
     "iopub.status.idle": "2024-05-04T21:04:21.314411Z",
     "shell.execute_reply": "2024-05-04T21:04:21.313600Z"
    },
    "papermill": {
     "duration": 0.050234,
     "end_time": "2024-05-04T21:04:21.316501",
     "exception": false,
     "start_time": "2024-05-04T21:04:21.266267",
     "status": "completed"
    },
    "tags": []
   },
   "outputs": [
    {
     "data": {
      "text/plain": [
       "array([0, 1, 1, 0, 0, 0, 0, 0, 0, 1, 1, 0, 0, 0, 0, 0, 1, 0, 0, 0, 0, 0,\n",
       "       1, 0, 0, 1, 0, 0, 0, 1, 1, 0, 0, 0, 0, 0, 1, 0, 0, 0, 1, 0, 1, 0,\n",
       "       0, 1, 1, 1, 0, 1, 0, 1, 0, 1, 0, 0, 0, 1, 0, 0, 0, 0, 1, 0, 0, 0,\n",
       "       0, 0, 0, 0, 0, 0, 0, 0, 0, 0, 1, 0, 0, 0, 0, 0, 0, 0, 0, 0, 0, 0,\n",
       "       1, 0, 0, 0, 0, 1, 0, 1, 1, 0, 0, 1, 0, 0, 0, 1, 1, 0, 0, 0, 0, 0,\n",
       "       0, 0, 1, 1, 1, 0, 0, 0, 1, 0, 1, 0, 1, 0, 1, 0, 0, 0, 0, 1, 0, 0,\n",
       "       1, 0, 1, 1, 1, 0, 1, 0, 1, 0, 0, 0, 0, 0, 0, 1, 0, 0, 0, 0, 0, 0,\n",
       "       0, 1, 0, 0, 0, 1, 0, 0, 0, 1, 0, 0, 0, 0, 0, 0, 0, 0, 1, 0, 1, 0,\n",
       "       1, 0, 0, 1, 1, 0, 0, 0, 0, 0, 0, 0, 0, 0, 1, 0, 0, 0, 1, 1, 0, 1,\n",
       "       0, 0, 0, 0, 1, 1, 0, 0, 1, 0, 0, 0, 0, 0, 1, 1, 1, 0, 0, 0, 0, 0,\n",
       "       1, 0, 1, 0, 0, 0, 0, 0, 1, 0, 0, 1, 1, 0, 0, 0, 0, 0, 0, 0, 1, 0,\n",
       "       0, 0, 0, 0, 0, 0, 0, 1, 1, 0, 0, 0, 0, 1, 0, 0, 1, 0, 1, 0, 0, 0,\n",
       "       0, 1, 0, 0, 0, 0, 1, 0, 1, 0, 0, 0, 1, 1, 0, 0, 1, 0, 1, 0, 0, 0,\n",
       "       0, 0, 0, 0, 0, 0, 1, 0, 1, 1, 0, 0, 0, 1, 0, 1, 1, 0, 0, 0, 0, 0,\n",
       "       0, 0, 0, 0, 0, 0, 0, 0, 0, 0, 0, 0, 0, 0, 0, 0, 1, 0, 0, 0, 1, 1,\n",
       "       0, 0, 0, 0, 0, 1, 0, 1, 0])"
      ]
     },
     "execution_count": 68,
     "metadata": {},
     "output_type": "execute_result"
    }
   ],
   "source": [
    "y_pred = DecisionTree.predict(x_test)\n",
    "y_pred"
   ]
  },
  {
   "cell_type": "code",
   "execution_count": 69,
   "id": "be4616a3",
   "metadata": {
    "execution": {
     "iopub.execute_input": "2024-05-04T21:04:21.397213Z",
     "iopub.status.busy": "2024-05-04T21:04:21.396541Z",
     "iopub.status.idle": "2024-05-04T21:04:21.409147Z",
     "shell.execute_reply": "2024-05-04T21:04:21.407853Z"
    },
    "papermill": {
     "duration": 0.055112,
     "end_time": "2024-05-04T21:04:21.411352",
     "exception": false,
     "start_time": "2024-05-04T21:04:21.356240",
     "status": "completed"
    },
    "tags": []
   },
   "outputs": [
    {
     "name": "stdout",
     "output_type": "stream",
     "text": [
      "              precision    recall  f1-score   support\n",
      "\n",
      "           0       0.80      0.77      0.78       259\n",
      "           1       0.33      0.38      0.35        80\n",
      "\n",
      "    accuracy                           0.68       339\n",
      "   macro avg       0.57      0.57      0.57       339\n",
      "weighted avg       0.69      0.68      0.68       339\n",
      "\n"
     ]
    }
   ],
   "source": [
    "print(classification_report(y_test, y_pred))"
   ]
  },
  {
   "cell_type": "markdown",
   "id": "f9cdd144",
   "metadata": {
    "papermill": {
     "duration": 0.038712,
     "end_time": "2024-05-04T21:04:21.490487",
     "exception": false,
     "start_time": "2024-05-04T21:04:21.451775",
     "status": "completed"
    },
    "tags": []
   },
   "source": [
    "<h2>RandomForestClassifier<h2>"
   ]
  },
  {
   "cell_type": "code",
   "execution_count": 70,
   "id": "405d8bef",
   "metadata": {
    "execution": {
     "iopub.execute_input": "2024-05-04T21:04:21.569794Z",
     "iopub.status.busy": "2024-05-04T21:04:21.569138Z",
     "iopub.status.idle": "2024-05-04T21:04:21.573025Z",
     "shell.execute_reply": "2024-05-04T21:04:21.572294Z"
    },
    "papermill": {
     "duration": 0.046218,
     "end_time": "2024-05-04T21:04:21.575205",
     "exception": false,
     "start_time": "2024-05-04T21:04:21.528987",
     "status": "completed"
    },
    "tags": []
   },
   "outputs": [],
   "source": [
    "RandomForest = RandomForestClassifier(n_estimators=30)"
   ]
  },
  {
   "cell_type": "code",
   "execution_count": 71,
   "id": "b19ac416",
   "metadata": {
    "execution": {
     "iopub.execute_input": "2024-05-04T21:04:21.654823Z",
     "iopub.status.busy": "2024-05-04T21:04:21.654451Z",
     "iopub.status.idle": "2024-05-04T21:04:21.742974Z",
     "shell.execute_reply": "2024-05-04T21:04:21.741953Z"
    },
    "papermill": {
     "duration": 0.130966,
     "end_time": "2024-05-04T21:04:21.745166",
     "exception": false,
     "start_time": "2024-05-04T21:04:21.614200",
     "status": "completed"
    },
    "tags": []
   },
   "outputs": [
    {
     "data": {
      "text/html": [
       "<style>#sk-container-id-3 {color: black;background-color: white;}#sk-container-id-3 pre{padding: 0;}#sk-container-id-3 div.sk-toggleable {background-color: white;}#sk-container-id-3 label.sk-toggleable__label {cursor: pointer;display: block;width: 100%;margin-bottom: 0;padding: 0.3em;box-sizing: border-box;text-align: center;}#sk-container-id-3 label.sk-toggleable__label-arrow:before {content: \"▸\";float: left;margin-right: 0.25em;color: #696969;}#sk-container-id-3 label.sk-toggleable__label-arrow:hover:before {color: black;}#sk-container-id-3 div.sk-estimator:hover label.sk-toggleable__label-arrow:before {color: black;}#sk-container-id-3 div.sk-toggleable__content {max-height: 0;max-width: 0;overflow: hidden;text-align: left;background-color: #f0f8ff;}#sk-container-id-3 div.sk-toggleable__content pre {margin: 0.2em;color: black;border-radius: 0.25em;background-color: #f0f8ff;}#sk-container-id-3 input.sk-toggleable__control:checked~div.sk-toggleable__content {max-height: 200px;max-width: 100%;overflow: auto;}#sk-container-id-3 input.sk-toggleable__control:checked~label.sk-toggleable__label-arrow:before {content: \"▾\";}#sk-container-id-3 div.sk-estimator input.sk-toggleable__control:checked~label.sk-toggleable__label {background-color: #d4ebff;}#sk-container-id-3 div.sk-label input.sk-toggleable__control:checked~label.sk-toggleable__label {background-color: #d4ebff;}#sk-container-id-3 input.sk-hidden--visually {border: 0;clip: rect(1px 1px 1px 1px);clip: rect(1px, 1px, 1px, 1px);height: 1px;margin: -1px;overflow: hidden;padding: 0;position: absolute;width: 1px;}#sk-container-id-3 div.sk-estimator {font-family: monospace;background-color: #f0f8ff;border: 1px dotted black;border-radius: 0.25em;box-sizing: border-box;margin-bottom: 0.5em;}#sk-container-id-3 div.sk-estimator:hover {background-color: #d4ebff;}#sk-container-id-3 div.sk-parallel-item::after {content: \"\";width: 100%;border-bottom: 1px solid gray;flex-grow: 1;}#sk-container-id-3 div.sk-label:hover label.sk-toggleable__label {background-color: #d4ebff;}#sk-container-id-3 div.sk-serial::before {content: \"\";position: absolute;border-left: 1px solid gray;box-sizing: border-box;top: 0;bottom: 0;left: 50%;z-index: 0;}#sk-container-id-3 div.sk-serial {display: flex;flex-direction: column;align-items: center;background-color: white;padding-right: 0.2em;padding-left: 0.2em;position: relative;}#sk-container-id-3 div.sk-item {position: relative;z-index: 1;}#sk-container-id-3 div.sk-parallel {display: flex;align-items: stretch;justify-content: center;background-color: white;position: relative;}#sk-container-id-3 div.sk-item::before, #sk-container-id-3 div.sk-parallel-item::before {content: \"\";position: absolute;border-left: 1px solid gray;box-sizing: border-box;top: 0;bottom: 0;left: 50%;z-index: -1;}#sk-container-id-3 div.sk-parallel-item {display: flex;flex-direction: column;z-index: 1;position: relative;background-color: white;}#sk-container-id-3 div.sk-parallel-item:first-child::after {align-self: flex-end;width: 50%;}#sk-container-id-3 div.sk-parallel-item:last-child::after {align-self: flex-start;width: 50%;}#sk-container-id-3 div.sk-parallel-item:only-child::after {width: 0;}#sk-container-id-3 div.sk-dashed-wrapped {border: 1px dashed gray;margin: 0 0.4em 0.5em 0.4em;box-sizing: border-box;padding-bottom: 0.4em;background-color: white;}#sk-container-id-3 div.sk-label label {font-family: monospace;font-weight: bold;display: inline-block;line-height: 1.2em;}#sk-container-id-3 div.sk-label-container {text-align: center;}#sk-container-id-3 div.sk-container {/* jupyter's `normalize.less` sets `[hidden] { display: none; }` but bootstrap.min.css set `[hidden] { display: none !important; }` so we also need the `!important` here to be able to override the default hidden behavior on the sphinx rendered scikit-learn.org. See: https://github.com/scikit-learn/scikit-learn/issues/21755 */display: inline-block !important;position: relative;}#sk-container-id-3 div.sk-text-repr-fallback {display: none;}</style><div id=\"sk-container-id-3\" class=\"sk-top-container\"><div class=\"sk-text-repr-fallback\"><pre>RandomForestClassifier(n_estimators=30)</pre><b>In a Jupyter environment, please rerun this cell to show the HTML representation or trust the notebook. <br />On GitHub, the HTML representation is unable to render, please try loading this page with nbviewer.org.</b></div><div class=\"sk-container\" hidden><div class=\"sk-item\"><div class=\"sk-estimator sk-toggleable\"><input class=\"sk-toggleable__control sk-hidden--visually\" id=\"sk-estimator-id-3\" type=\"checkbox\" checked><label for=\"sk-estimator-id-3\" class=\"sk-toggleable__label sk-toggleable__label-arrow\">RandomForestClassifier</label><div class=\"sk-toggleable__content\"><pre>RandomForestClassifier(n_estimators=30)</pre></div></div></div></div></div>"
      ],
      "text/plain": [
       "RandomForestClassifier(n_estimators=30)"
      ]
     },
     "execution_count": 71,
     "metadata": {},
     "output_type": "execute_result"
    }
   ],
   "source": [
    "RandomForest.fit(X_train,Y_train)"
   ]
  },
  {
   "cell_type": "code",
   "execution_count": 72,
   "id": "78800a69",
   "metadata": {
    "execution": {
     "iopub.execute_input": "2024-05-04T21:04:21.825795Z",
     "iopub.status.busy": "2024-05-04T21:04:21.825173Z",
     "iopub.status.idle": "2024-05-04T21:04:21.841300Z",
     "shell.execute_reply": "2024-05-04T21:04:21.840527Z"
    },
    "papermill": {
     "duration": 0.059269,
     "end_time": "2024-05-04T21:04:21.843252",
     "exception": false,
     "start_time": "2024-05-04T21:04:21.783983",
     "status": "completed"
    },
    "tags": []
   },
   "outputs": [
    {
     "data": {
      "text/plain": [
       "0.9933431952662722"
      ]
     },
     "execution_count": 72,
     "metadata": {},
     "output_type": "execute_result"
    }
   ],
   "source": [
    "RandomForest.score(X_train,Y_train)"
   ]
  },
  {
   "cell_type": "code",
   "execution_count": 73,
   "id": "6bfac712",
   "metadata": {
    "execution": {
     "iopub.execute_input": "2024-05-04T21:04:21.924385Z",
     "iopub.status.busy": "2024-05-04T21:04:21.923743Z",
     "iopub.status.idle": "2024-05-04T21:04:21.936069Z",
     "shell.execute_reply": "2024-05-04T21:04:21.934896Z"
    },
    "papermill": {
     "duration": 0.056068,
     "end_time": "2024-05-04T21:04:21.938444",
     "exception": false,
     "start_time": "2024-05-04T21:04:21.882376",
     "status": "completed"
    },
    "tags": []
   },
   "outputs": [
    {
     "data": {
      "text/plain": [
       "0.7522123893805309"
      ]
     },
     "execution_count": 73,
     "metadata": {},
     "output_type": "execute_result"
    }
   ],
   "source": [
    "RandomForest.score(x_test,y_test)"
   ]
  },
  {
   "cell_type": "code",
   "execution_count": 74,
   "id": "aa8ada59",
   "metadata": {
    "execution": {
     "iopub.execute_input": "2024-05-04T21:04:22.021061Z",
     "iopub.status.busy": "2024-05-04T21:04:22.020442Z",
     "iopub.status.idle": "2024-05-04T21:04:22.032353Z",
     "shell.execute_reply": "2024-05-04T21:04:22.031393Z"
    },
    "papermill": {
     "duration": 0.055546,
     "end_time": "2024-05-04T21:04:22.034354",
     "exception": false,
     "start_time": "2024-05-04T21:04:21.978808",
     "status": "completed"
    },
    "tags": []
   },
   "outputs": [
    {
     "data": {
      "text/plain": [
       "array([0, 0, 0, 0, 0, 0, 0, 0, 0, 0, 0, 0, 0, 0, 0, 0, 0, 0, 0, 0, 0, 0,\n",
       "       0, 0, 0, 0, 0, 0, 0, 1, 1, 0, 0, 0, 0, 0, 0, 0, 0, 0, 0, 0, 0, 0,\n",
       "       0, 0, 0, 1, 0, 1, 0, 1, 1, 0, 0, 0, 0, 0, 0, 0, 0, 0, 1, 0, 0, 0,\n",
       "       0, 0, 0, 0, 0, 0, 0, 0, 0, 0, 0, 0, 0, 0, 0, 0, 0, 0, 0, 0, 0, 0,\n",
       "       0, 0, 0, 0, 0, 0, 0, 0, 0, 0, 1, 0, 0, 0, 0, 1, 1, 0, 0, 0, 0, 0,\n",
       "       0, 1, 1, 0, 1, 0, 0, 0, 0, 0, 0, 0, 0, 0, 0, 0, 0, 0, 0, 0, 0, 0,\n",
       "       0, 0, 0, 0, 0, 0, 0, 0, 1, 0, 0, 0, 0, 1, 0, 1, 0, 0, 0, 0, 0, 0,\n",
       "       0, 1, 0, 0, 0, 0, 0, 0, 0, 0, 0, 0, 0, 0, 0, 1, 0, 0, 0, 0, 0, 0,\n",
       "       0, 0, 0, 0, 0, 0, 0, 0, 0, 0, 0, 0, 1, 0, 0, 0, 0, 0, 0, 0, 0, 1,\n",
       "       0, 0, 0, 0, 0, 1, 0, 0, 1, 0, 0, 0, 0, 0, 0, 0, 0, 0, 0, 0, 0, 0,\n",
       "       0, 0, 0, 0, 0, 0, 0, 0, 0, 0, 0, 0, 0, 1, 0, 0, 0, 0, 0, 0, 0, 0,\n",
       "       0, 0, 0, 0, 0, 0, 0, 0, 0, 0, 0, 0, 0, 0, 0, 0, 0, 0, 1, 0, 0, 0,\n",
       "       0, 0, 0, 0, 0, 0, 0, 0, 0, 0, 0, 0, 1, 1, 0, 0, 0, 0, 0, 0, 0, 0,\n",
       "       0, 0, 0, 0, 0, 0, 0, 0, 0, 0, 0, 0, 0, 0, 0, 0, 0, 0, 0, 0, 0, 1,\n",
       "       0, 0, 0, 0, 0, 0, 0, 0, 0, 0, 0, 0, 0, 0, 0, 0, 1, 0, 0, 0, 0, 0,\n",
       "       0, 0, 0, 0, 0, 1, 0, 1, 0])"
      ]
     },
     "execution_count": 74,
     "metadata": {},
     "output_type": "execute_result"
    }
   ],
   "source": [
    "y_pred = RandomForest.predict(x_test)\n",
    "y_pred"
   ]
  },
  {
   "cell_type": "code",
   "execution_count": 75,
   "id": "bff211f4",
   "metadata": {
    "execution": {
     "iopub.execute_input": "2024-05-04T21:04:22.117333Z",
     "iopub.status.busy": "2024-05-04T21:04:22.116648Z",
     "iopub.status.idle": "2024-05-04T21:04:22.128910Z",
     "shell.execute_reply": "2024-05-04T21:04:22.127825Z"
    },
    "papermill": {
     "duration": 0.056788,
     "end_time": "2024-05-04T21:04:22.131204",
     "exception": false,
     "start_time": "2024-05-04T21:04:22.074416",
     "status": "completed"
    },
    "tags": []
   },
   "outputs": [
    {
     "name": "stdout",
     "output_type": "stream",
     "text": [
      "              precision    recall  f1-score   support\n",
      "\n",
      "           0       0.78      0.93      0.85       259\n",
      "           1       0.43      0.16      0.24        80\n",
      "\n",
      "    accuracy                           0.75       339\n",
      "   macro avg       0.61      0.55      0.54       339\n",
      "weighted avg       0.70      0.75      0.71       339\n",
      "\n"
     ]
    }
   ],
   "source": [
    "print(classification_report(y_test, y_pred))"
   ]
  },
  {
   "cell_type": "markdown",
   "id": "b7dbea81",
   "metadata": {
    "papermill": {
     "duration": 0.039666,
     "end_time": "2024-05-04T21:04:22.211307",
     "exception": false,
     "start_time": "2024-05-04T21:04:22.171641",
     "status": "completed"
    },
    "tags": []
   },
   "source": [
    "<h2>SVM(SVC)<h2>"
   ]
  },
  {
   "cell_type": "code",
   "execution_count": 76,
   "id": "0a6ea1b5",
   "metadata": {
    "execution": {
     "iopub.execute_input": "2024-05-04T21:04:22.293805Z",
     "iopub.status.busy": "2024-05-04T21:04:22.293410Z",
     "iopub.status.idle": "2024-05-04T21:04:22.297901Z",
     "shell.execute_reply": "2024-05-04T21:04:22.297004Z"
    },
    "papermill": {
     "duration": 0.047895,
     "end_time": "2024-05-04T21:04:22.299927",
     "exception": false,
     "start_time": "2024-05-04T21:04:22.252032",
     "status": "completed"
    },
    "tags": []
   },
   "outputs": [],
   "source": [
    "svc = SVC()"
   ]
  },
  {
   "cell_type": "code",
   "execution_count": 77,
   "id": "022b4067",
   "metadata": {
    "execution": {
     "iopub.execute_input": "2024-05-04T21:04:22.382540Z",
     "iopub.status.busy": "2024-05-04T21:04:22.381844Z",
     "iopub.status.idle": "2024-05-04T21:04:22.448569Z",
     "shell.execute_reply": "2024-05-04T21:04:22.447499Z"
    },
    "papermill": {
     "duration": 0.110863,
     "end_time": "2024-05-04T21:04:22.450912",
     "exception": false,
     "start_time": "2024-05-04T21:04:22.340049",
     "status": "completed"
    },
    "tags": []
   },
   "outputs": [
    {
     "data": {
      "text/html": [
       "<style>#sk-container-id-4 {color: black;background-color: white;}#sk-container-id-4 pre{padding: 0;}#sk-container-id-4 div.sk-toggleable {background-color: white;}#sk-container-id-4 label.sk-toggleable__label {cursor: pointer;display: block;width: 100%;margin-bottom: 0;padding: 0.3em;box-sizing: border-box;text-align: center;}#sk-container-id-4 label.sk-toggleable__label-arrow:before {content: \"▸\";float: left;margin-right: 0.25em;color: #696969;}#sk-container-id-4 label.sk-toggleable__label-arrow:hover:before {color: black;}#sk-container-id-4 div.sk-estimator:hover label.sk-toggleable__label-arrow:before {color: black;}#sk-container-id-4 div.sk-toggleable__content {max-height: 0;max-width: 0;overflow: hidden;text-align: left;background-color: #f0f8ff;}#sk-container-id-4 div.sk-toggleable__content pre {margin: 0.2em;color: black;border-radius: 0.25em;background-color: #f0f8ff;}#sk-container-id-4 input.sk-toggleable__control:checked~div.sk-toggleable__content {max-height: 200px;max-width: 100%;overflow: auto;}#sk-container-id-4 input.sk-toggleable__control:checked~label.sk-toggleable__label-arrow:before {content: \"▾\";}#sk-container-id-4 div.sk-estimator input.sk-toggleable__control:checked~label.sk-toggleable__label {background-color: #d4ebff;}#sk-container-id-4 div.sk-label input.sk-toggleable__control:checked~label.sk-toggleable__label {background-color: #d4ebff;}#sk-container-id-4 input.sk-hidden--visually {border: 0;clip: rect(1px 1px 1px 1px);clip: rect(1px, 1px, 1px, 1px);height: 1px;margin: -1px;overflow: hidden;padding: 0;position: absolute;width: 1px;}#sk-container-id-4 div.sk-estimator {font-family: monospace;background-color: #f0f8ff;border: 1px dotted black;border-radius: 0.25em;box-sizing: border-box;margin-bottom: 0.5em;}#sk-container-id-4 div.sk-estimator:hover {background-color: #d4ebff;}#sk-container-id-4 div.sk-parallel-item::after {content: \"\";width: 100%;border-bottom: 1px solid gray;flex-grow: 1;}#sk-container-id-4 div.sk-label:hover label.sk-toggleable__label {background-color: #d4ebff;}#sk-container-id-4 div.sk-serial::before {content: \"\";position: absolute;border-left: 1px solid gray;box-sizing: border-box;top: 0;bottom: 0;left: 50%;z-index: 0;}#sk-container-id-4 div.sk-serial {display: flex;flex-direction: column;align-items: center;background-color: white;padding-right: 0.2em;padding-left: 0.2em;position: relative;}#sk-container-id-4 div.sk-item {position: relative;z-index: 1;}#sk-container-id-4 div.sk-parallel {display: flex;align-items: stretch;justify-content: center;background-color: white;position: relative;}#sk-container-id-4 div.sk-item::before, #sk-container-id-4 div.sk-parallel-item::before {content: \"\";position: absolute;border-left: 1px solid gray;box-sizing: border-box;top: 0;bottom: 0;left: 50%;z-index: -1;}#sk-container-id-4 div.sk-parallel-item {display: flex;flex-direction: column;z-index: 1;position: relative;background-color: white;}#sk-container-id-4 div.sk-parallel-item:first-child::after {align-self: flex-end;width: 50%;}#sk-container-id-4 div.sk-parallel-item:last-child::after {align-self: flex-start;width: 50%;}#sk-container-id-4 div.sk-parallel-item:only-child::after {width: 0;}#sk-container-id-4 div.sk-dashed-wrapped {border: 1px dashed gray;margin: 0 0.4em 0.5em 0.4em;box-sizing: border-box;padding-bottom: 0.4em;background-color: white;}#sk-container-id-4 div.sk-label label {font-family: monospace;font-weight: bold;display: inline-block;line-height: 1.2em;}#sk-container-id-4 div.sk-label-container {text-align: center;}#sk-container-id-4 div.sk-container {/* jupyter's `normalize.less` sets `[hidden] { display: none; }` but bootstrap.min.css set `[hidden] { display: none !important; }` so we also need the `!important` here to be able to override the default hidden behavior on the sphinx rendered scikit-learn.org. See: https://github.com/scikit-learn/scikit-learn/issues/21755 */display: inline-block !important;position: relative;}#sk-container-id-4 div.sk-text-repr-fallback {display: none;}</style><div id=\"sk-container-id-4\" class=\"sk-top-container\"><div class=\"sk-text-repr-fallback\"><pre>SVC()</pre><b>In a Jupyter environment, please rerun this cell to show the HTML representation or trust the notebook. <br />On GitHub, the HTML representation is unable to render, please try loading this page with nbviewer.org.</b></div><div class=\"sk-container\" hidden><div class=\"sk-item\"><div class=\"sk-estimator sk-toggleable\"><input class=\"sk-toggleable__control sk-hidden--visually\" id=\"sk-estimator-id-4\" type=\"checkbox\" checked><label for=\"sk-estimator-id-4\" class=\"sk-toggleable__label sk-toggleable__label-arrow\">SVC</label><div class=\"sk-toggleable__content\"><pre>SVC()</pre></div></div></div></div></div>"
      ],
      "text/plain": [
       "SVC()"
      ]
     },
     "execution_count": 77,
     "metadata": {},
     "output_type": "execute_result"
    }
   ],
   "source": [
    "svc.fit(X_train,Y_train)"
   ]
  },
  {
   "cell_type": "code",
   "execution_count": 78,
   "id": "446ae601",
   "metadata": {
    "execution": {
     "iopub.execute_input": "2024-05-04T21:04:22.534009Z",
     "iopub.status.busy": "2024-05-04T21:04:22.533264Z",
     "iopub.status.idle": "2024-05-04T21:04:22.606634Z",
     "shell.execute_reply": "2024-05-04T21:04:22.605416Z"
    },
    "papermill": {
     "duration": 0.117914,
     "end_time": "2024-05-04T21:04:22.609333",
     "exception": false,
     "start_time": "2024-05-04T21:04:22.491419",
     "status": "completed"
    },
    "tags": []
   },
   "outputs": [
    {
     "data": {
      "text/plain": [
       "0.7477810650887574"
      ]
     },
     "execution_count": 78,
     "metadata": {},
     "output_type": "execute_result"
    }
   ],
   "source": [
    "svc.score(X_train,Y_train)"
   ]
  },
  {
   "cell_type": "code",
   "execution_count": 79,
   "id": "91bc41c5",
   "metadata": {
    "execution": {
     "iopub.execute_input": "2024-05-04T21:04:22.691738Z",
     "iopub.status.busy": "2024-05-04T21:04:22.691340Z",
     "iopub.status.idle": "2024-05-04T21:04:22.717039Z",
     "shell.execute_reply": "2024-05-04T21:04:22.715914Z"
    },
    "papermill": {
     "duration": 0.070422,
     "end_time": "2024-05-04T21:04:22.719673",
     "exception": false,
     "start_time": "2024-05-04T21:04:22.649251",
     "status": "completed"
    },
    "tags": []
   },
   "outputs": [
    {
     "data": {
      "text/plain": [
       "0.7640117994100295"
      ]
     },
     "execution_count": 79,
     "metadata": {},
     "output_type": "execute_result"
    }
   ],
   "source": [
    "svc.score(x_test,y_test)"
   ]
  },
  {
   "cell_type": "code",
   "execution_count": 80,
   "id": "ad73ff99",
   "metadata": {
    "execution": {
     "iopub.execute_input": "2024-05-04T21:04:22.803284Z",
     "iopub.status.busy": "2024-05-04T21:04:22.802860Z",
     "iopub.status.idle": "2024-05-04T21:04:22.828841Z",
     "shell.execute_reply": "2024-05-04T21:04:22.827907Z"
    },
    "papermill": {
     "duration": 0.070541,
     "end_time": "2024-05-04T21:04:22.830887",
     "exception": false,
     "start_time": "2024-05-04T21:04:22.760346",
     "status": "completed"
    },
    "tags": []
   },
   "outputs": [
    {
     "data": {
      "text/plain": [
       "array([0, 0, 0, 0, 0, 0, 0, 0, 0, 0, 0, 0, 0, 0, 0, 0, 0, 0, 0, 0, 0, 0,\n",
       "       0, 0, 0, 0, 0, 0, 0, 0, 0, 0, 0, 0, 0, 0, 0, 0, 0, 0, 0, 0, 0, 0,\n",
       "       0, 0, 0, 0, 0, 0, 0, 0, 0, 0, 0, 0, 0, 0, 0, 0, 0, 0, 0, 0, 0, 0,\n",
       "       0, 0, 0, 0, 0, 0, 0, 0, 0, 0, 0, 0, 0, 0, 0, 0, 0, 0, 0, 0, 0, 0,\n",
       "       0, 0, 0, 0, 0, 0, 0, 0, 0, 0, 0, 0, 0, 0, 0, 0, 0, 0, 0, 0, 0, 0,\n",
       "       0, 0, 0, 0, 0, 0, 0, 0, 0, 0, 0, 0, 0, 0, 0, 0, 0, 0, 0, 0, 0, 0,\n",
       "       0, 0, 0, 0, 0, 0, 0, 0, 0, 0, 0, 0, 0, 0, 0, 0, 0, 0, 0, 0, 0, 0,\n",
       "       0, 0, 0, 0, 0, 0, 0, 0, 0, 0, 0, 0, 0, 0, 0, 0, 0, 0, 0, 0, 0, 0,\n",
       "       0, 0, 0, 0, 0, 0, 0, 0, 0, 0, 0, 0, 0, 0, 0, 0, 0, 0, 0, 0, 0, 0,\n",
       "       0, 0, 0, 0, 0, 0, 0, 0, 0, 0, 0, 0, 0, 0, 0, 0, 0, 0, 0, 0, 0, 0,\n",
       "       0, 0, 0, 0, 0, 0, 0, 0, 0, 0, 0, 0, 0, 0, 0, 0, 0, 0, 0, 0, 0, 0,\n",
       "       0, 0, 0, 0, 0, 0, 0, 0, 0, 0, 0, 0, 0, 0, 0, 0, 0, 0, 0, 0, 0, 0,\n",
       "       0, 0, 0, 0, 0, 0, 0, 0, 0, 0, 0, 0, 0, 0, 0, 0, 0, 0, 0, 0, 0, 0,\n",
       "       0, 0, 0, 0, 0, 0, 0, 0, 0, 0, 0, 0, 0, 0, 0, 0, 0, 0, 0, 0, 0, 0,\n",
       "       0, 0, 0, 0, 0, 0, 0, 0, 0, 0, 0, 0, 0, 0, 0, 0, 0, 0, 0, 0, 0, 0,\n",
       "       0, 0, 0, 0, 0, 0, 0, 0, 0])"
      ]
     },
     "execution_count": 80,
     "metadata": {},
     "output_type": "execute_result"
    }
   ],
   "source": [
    "y_pred = svc.predict(x_test)\n",
    "y_pred"
   ]
  },
  {
   "cell_type": "code",
   "execution_count": 81,
   "id": "a4c2fd64",
   "metadata": {
    "execution": {
     "iopub.execute_input": "2024-05-04T21:04:22.915048Z",
     "iopub.status.busy": "2024-05-04T21:04:22.914353Z",
     "iopub.status.idle": "2024-05-04T21:04:22.930487Z",
     "shell.execute_reply": "2024-05-04T21:04:22.929075Z"
    },
    "papermill": {
     "duration": 0.06153,
     "end_time": "2024-05-04T21:04:22.932880",
     "exception": false,
     "start_time": "2024-05-04T21:04:22.871350",
     "status": "completed"
    },
    "tags": []
   },
   "outputs": [
    {
     "name": "stdout",
     "output_type": "stream",
     "text": [
      "              precision    recall  f1-score   support\n",
      "\n",
      "           0       0.76      1.00      0.87       259\n",
      "           1       0.00      0.00      0.00        80\n",
      "\n",
      "    accuracy                           0.76       339\n",
      "   macro avg       0.38      0.50      0.43       339\n",
      "weighted avg       0.58      0.76      0.66       339\n",
      "\n"
     ]
    },
    {
     "name": "stderr",
     "output_type": "stream",
     "text": [
      "/opt/conda/lib/python3.10/site-packages/sklearn/metrics/_classification.py:1344: UndefinedMetricWarning:\n",
      "\n",
      "Precision and F-score are ill-defined and being set to 0.0 in labels with no predicted samples. Use `zero_division` parameter to control this behavior.\n",
      "\n",
      "/opt/conda/lib/python3.10/site-packages/sklearn/metrics/_classification.py:1344: UndefinedMetricWarning:\n",
      "\n",
      "Precision and F-score are ill-defined and being set to 0.0 in labels with no predicted samples. Use `zero_division` parameter to control this behavior.\n",
      "\n",
      "/opt/conda/lib/python3.10/site-packages/sklearn/metrics/_classification.py:1344: UndefinedMetricWarning:\n",
      "\n",
      "Precision and F-score are ill-defined and being set to 0.0 in labels with no predicted samples. Use `zero_division` parameter to control this behavior.\n",
      "\n"
     ]
    }
   ],
   "source": [
    "print(classification_report(y_test, y_pred))"
   ]
  },
  {
   "cell_type": "markdown",
   "id": "ca1f9cf2",
   "metadata": {
    "papermill": {
     "duration": 0.0405,
     "end_time": "2024-05-04T21:04:23.014039",
     "exception": false,
     "start_time": "2024-05-04T21:04:22.973539",
     "status": "completed"
    },
    "tags": []
   },
   "source": [
    "**Using kfold Cross Validation for model svm to improve accuracy**"
   ]
  },
  {
   "cell_type": "code",
   "execution_count": 82,
   "id": "7f68dd6a",
   "metadata": {
    "execution": {
     "iopub.execute_input": "2024-05-04T21:04:23.098872Z",
     "iopub.status.busy": "2024-05-04T21:04:23.098496Z",
     "iopub.status.idle": "2024-05-04T21:04:23.480173Z",
     "shell.execute_reply": "2024-05-04T21:04:23.479124Z"
    },
    "papermill": {
     "duration": 0.427422,
     "end_time": "2024-05-04T21:04:23.482462",
     "exception": false,
     "start_time": "2024-05-04T21:04:23.055040",
     "status": "completed"
    },
    "tags": []
   },
   "outputs": [
    {
     "data": {
      "text/plain": [
       "0.751035939327294"
      ]
     },
     "execution_count": 82,
     "metadata": {},
     "output_type": "execute_result"
    }
   ],
   "source": [
    "cross_val_score(SVC(),X,Y,cv=5).mean()"
   ]
  },
  {
   "cell_type": "code",
   "execution_count": 83,
   "id": "9bed4a83",
   "metadata": {
    "execution": {
     "iopub.execute_input": "2024-05-04T21:04:23.567467Z",
     "iopub.status.busy": "2024-05-04T21:04:23.566700Z",
     "iopub.status.idle": "2024-05-04T21:04:23.620270Z",
     "shell.execute_reply": "2024-05-04T21:04:23.619373Z"
    },
    "papermill": {
     "duration": 0.098377,
     "end_time": "2024-05-04T21:04:23.622218",
     "exception": false,
     "start_time": "2024-05-04T21:04:23.523841",
     "status": "completed"
    },
    "tags": []
   },
   "outputs": [
    {
     "data": {
      "text/plain": [
       "0.6552250789827372"
      ]
     },
     "execution_count": 83,
     "metadata": {},
     "output_type": "execute_result"
    }
   ],
   "source": [
    "cross_val_score(DecisionTreeClassifier(),X,Y,cv=5).mean()"
   ]
  },
  {
   "cell_type": "code",
   "execution_count": 84,
   "id": "dabb4dce",
   "metadata": {
    "execution": {
     "iopub.execute_input": "2024-05-04T21:04:23.706256Z",
     "iopub.status.busy": "2024-05-04T21:04:23.705614Z",
     "iopub.status.idle": "2024-05-04T21:04:23.924511Z",
     "shell.execute_reply": "2024-05-04T21:04:23.923385Z"
    },
    "papermill": {
     "duration": 0.265189,
     "end_time": "2024-05-04T21:04:23.927787",
     "exception": false,
     "start_time": "2024-05-04T21:04:23.662598",
     "status": "completed"
    },
    "tags": []
   },
   "outputs": [
    {
     "name": "stderr",
     "output_type": "stream",
     "text": [
      "/opt/conda/lib/python3.10/site-packages/sklearn/linear_model/_logistic.py:458: ConvergenceWarning:\n",
      "\n",
      "lbfgs failed to converge (status=1):\n",
      "STOP: TOTAL NO. of ITERATIONS REACHED LIMIT.\n",
      "\n",
      "Increase the number of iterations (max_iter) or scale the data as shown in:\n",
      "    https://scikit-learn.org/stable/modules/preprocessing.html\n",
      "Please also refer to the documentation for alternative solver options:\n",
      "    https://scikit-learn.org/stable/modules/linear_model.html#logistic-regression\n",
      "\n"
     ]
    },
    {
     "data": {
      "text/plain": [
       "0.7451135431394111"
      ]
     },
     "execution_count": 84,
     "metadata": {},
     "output_type": "execute_result"
    }
   ],
   "source": [
    "cross_val_score(LogisticRegression(),X,Y,cv=5).mean()"
   ]
  },
  {
   "cell_type": "code",
   "execution_count": 85,
   "id": "45e7770d",
   "metadata": {
    "execution": {
     "iopub.execute_input": "2024-05-04T21:04:24.055402Z",
     "iopub.status.busy": "2024-05-04T21:04:24.055001Z",
     "iopub.status.idle": "2024-05-04T21:04:24.435700Z",
     "shell.execute_reply": "2024-05-04T21:04:24.434649Z"
    },
    "papermill": {
     "duration": 0.438712,
     "end_time": "2024-05-04T21:04:24.438067",
     "exception": false,
     "start_time": "2024-05-04T21:04:23.999355",
     "status": "completed"
    },
    "tags": []
   },
   "outputs": [
    {
     "data": {
      "text/plain": [
       "0.7232183065402943"
      ]
     },
     "execution_count": 85,
     "metadata": {},
     "output_type": "execute_result"
    }
   ],
   "source": [
    "cross_val_score(RandomForestClassifier(n_estimators=25),X,Y,cv=5).mean()"
   ]
  }
 ],
 "metadata": {
  "kaggle": {
   "accelerator": "none",
   "dataSources": [
    {
     "datasetId": 3248690,
     "sourceId": 5651804,
     "sourceType": "datasetVersion"
    }
   ],
   "dockerImageVersionId": 30698,
   "isGpuEnabled": false,
   "isInternetEnabled": true,
   "language": "python",
   "sourceType": "notebook"
  },
  "kernelspec": {
   "display_name": "Python 3",
   "language": "python",
   "name": "python3"
  },
  "language_info": {
   "codemirror_mode": {
    "name": "ipython",
    "version": 3
   },
   "file_extension": ".py",
   "mimetype": "text/x-python",
   "name": "python",
   "nbconvert_exporter": "python",
   "pygments_lexer": "ipython3",
   "version": "3.10.13"
  },
  "papermill": {
   "default_parameters": {},
   "duration": 24.39458,
   "end_time": "2024-05-04T21:04:25.201708",
   "environment_variables": {},
   "exception": null,
   "input_path": "__notebook__.ipynb",
   "output_path": "__notebook__.ipynb",
   "parameters": {},
   "start_time": "2024-05-04T21:04:00.807128",
   "version": "2.5.0"
  }
 },
 "nbformat": 4,
 "nbformat_minor": 5
}
